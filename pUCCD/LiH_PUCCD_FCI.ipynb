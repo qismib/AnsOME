{
 "cells": [
  {
   "cell_type": "markdown",
   "metadata": {},
   "source": [
    "# LiH: Confronto FCI e VQE con PUCCD"
   ]
  },
  {
   "cell_type": "code",
   "execution_count": 188,
   "metadata": {},
   "outputs": [],
   "source": [
    "import numpy as np\n",
    "import matplotlib.pyplot as plt"
   ]
  },
  {
   "cell_type": "code",
   "execution_count": 189,
   "metadata": {},
   "outputs": [],
   "source": [
    "# from subroutines import *\n",
    "\n",
    "# Array distanze e energie\n",
    "arr_distance = np.arange(0.75, 4.2, 0.05) # (0.75, 4.2, 0.15) 4m 17s senza riduzione problema\n",
    "arr_ground_energy = {\n",
    "    'FCI': [],\n",
    "    'pUCCD': []\n",
    "}\n"
   ]
  },
  {
   "cell_type": "markdown",
   "metadata": {},
   "source": [
    "## 1 - Algoritmo classico"
   ]
  },
  {
   "cell_type": "markdown",
   "metadata": {},
   "source": [
    "### 1.1 - FCI"
   ]
  },
  {
   "cell_type": "markdown",
   "metadata": {},
   "source": [
    "FCI per comparazione"
   ]
  },
  {
   "cell_type": "code",
   "execution_count": 190,
   "metadata": {},
   "outputs": [],
   "source": [
    "from pyscf import gto, scf, fci\n",
    "\n",
    "basis = 'sto-3g'\n",
    "\n",
    "for distance in arr_distance:\n",
    "    geometry = \"Li .0 .0 .0; H .0 .0 \" + str(distance)\n",
    "    \n",
    "    mol = gto.M(\n",
    "        atom=geometry,\n",
    "        charge=0,\n",
    "        spin=0,\n",
    "        basis=basis,\n",
    "        symmetry=True,\n",
    "        verbose=0\n",
    "    )\n",
    "    # per ciascuna molecola calcolo il campo medio con restricted HF \n",
    "    cm  = scf.RHF(mol) # campo medio\n",
    "    e_HF = cm.kernel() # questo va runnato a prescindere\n",
    "    \n",
    "    # per ciascuna molecola calcolo FCI\n",
    "    fci_calc = fci.FCI(cm) # <- nei metodi correlati passiamo come argomento un conto di campo medio, HF\n",
    "    e_FCI = fci_calc.kernel()[0]\n",
    "    arr_ground_energy['FCI'].append(e_FCI)"
   ]
  },
  {
   "cell_type": "markdown",
   "metadata": {},
   "source": [
    "## 2 - VQE: pUCCD"
   ]
  },
  {
   "cell_type": "markdown",
   "metadata": {},
   "source": [
    "Spezzetto il problema:\n",
    "1. dichiarazione del problema\n",
    "1. costruzione dell'ansatz\n",
    "1. risoluzione"
   ]
  },
  {
   "cell_type": "code",
   "execution_count": 191,
   "metadata": {},
   "outputs": [],
   "source": [
    "from qiskit_nature.units import DistanceUnit\n",
    "from qiskit_nature.second_q.drivers import PySCFDriver\n",
    "from qiskit_nature.second_q.transformers import ActiveSpaceTransformer\n",
    "\n",
    "# dichiarazione del problema\n",
    "def generate_LiH_problem (distance: float = .0, basis: str = 'sto-3g', reduce: bool = False):\n",
    "    \n",
    "    LiH = \"Li .0 .0 .0; H .0 .0 \" + str(distance)\n",
    "\n",
    "    driver = PySCFDriver(\n",
    "        atom=LiH,\n",
    "        basis=basis, \n",
    "        charge=0,\n",
    "        spin=0,\n",
    "        unit=DistanceUnit.ANGSTROM,\n",
    "    )    \n",
    "    \n",
    "    problem = driver.run()\n",
    "    \n",
    "    \n",
    "    if reduce:\n",
    "        # riduco il problema, estraendo uno stato iniziale HF dal problema ridotto da usare come initial_state\n",
    "        # 1s (2e-) di Li in freeze. Restano 2 e- in 1σ e il 1σ* appena sopra, provo a costruirla così:\n",
    "        transformer = ActiveSpaceTransformer(num_electrons=(1,1), num_spatial_orbitals=2, active_orbitals=[1,2]) \n",
    "        problem = transformer.transform(problem)\n",
    "        \n",
    "    return problem"
   ]
  },
  {
   "cell_type": "code",
   "execution_count": 192,
   "metadata": {},
   "outputs": [],
   "source": [
    "from qiskit_nature.second_q.circuit.library import HartreeFock, PUCCD\n",
    "from qiskit_nature.second_q.mappers import JordanWignerMapper, ParityMapper\n",
    "\n",
    "#mapper = JordanWignerMapper()\n",
    "mapper = ParityMapper()\n",
    "\n",
    "# costruzione dell'ansatz\n",
    "def generate_ansatz ( problem, mapper = mapper ):\n",
    "    \n",
    "    ansatz = PUCCD(\n",
    "        problem.num_spatial_orbitals,\n",
    "        problem.num_particles,\n",
    "        mapper,\n",
    "        initial_state=HartreeFock(\n",
    "            problem.num_spatial_orbitals,\n",
    "            problem.num_particles,\n",
    "            mapper,\n",
    "        ),\n",
    "    )\n",
    "    \n",
    "    return ansatz"
   ]
  },
  {
   "cell_type": "code",
   "execution_count": 193,
   "metadata": {},
   "outputs": [],
   "source": [
    "from qiskit_algorithms import VQE\n",
    "from qiskit_algorithms.optimizers import SLSQP\n",
    "from qiskit.primitives import Estimator \n",
    "# Estimator was deprecated, warnings suggest to use StatevectorEstimator instead\n",
    "\n",
    "from qiskit_nature.second_q.algorithms import GroundStateEigensolver\n",
    "    \n",
    "# risoluzione\n",
    "def solve_problem (problem, ansatz, mapper = mapper):\n",
    "\n",
    "    vqe_solver = VQE( Estimator(), ansatz, SLSQP() ) #, callback=store_intermediate_result)\n",
    "    vqe_solver.initial_point = [0.0] * ansatz.num_parameters\n",
    "    \n",
    "    calc = GroundStateEigensolver(mapper, vqe_solver)\n",
    "\n",
    "    res = calc.solve(problem)\n",
    "    \n",
    "    return res"
   ]
  },
  {
   "cell_type": "markdown",
   "metadata": {},
   "source": [
    "Metto tutto insieme"
   ]
  },
  {
   "cell_type": "code",
   "execution_count": 194,
   "metadata": {},
   "outputs": [
    {
     "name": "stderr",
     "output_type": "stream",
     "text": [
      "/var/folders/88/gfgbzsfs2m759nlsp4wspv400000gp/T/ipykernel_15999/3486939009.py:11: DeprecationWarning: The class ``qiskit.primitives.estimator.Estimator`` is deprecated as of qiskit 1.2. It will be removed no earlier than 3 months after the release date. All implementations of the `BaseEstimatorV1` interface have been deprecated in favor of their V2 counterparts. The V2 alternative for the `Estimator` class is `StatevectorEstimator`.\n",
      "  vqe_solver = VQE( Estimator(), ansatz, SLSQP() ) #, callback=store_intermediate_result)\n"
     ]
    }
   ],
   "source": [
    "from qiskit_algorithms import NumPyMinimumEigensolver\n",
    "\n",
    "# Esecuzione algoritmo\n",
    "\n",
    "for distance in arr_distance:\n",
    "    \n",
    "    # Problema da Driver della molecola \n",
    "    problem = generate_LiH_problem (distance, reduce=True)\n",
    "    # Ansatz da problema con mapper default (JW)\n",
    "    ansatz = generate_ansatz (problem)\n",
    "    \n",
    "    # Soluzione con VQE\n",
    "    result = solve_problem (problem, ansatz)\n",
    "    \n",
    "    # Estraggo l'energia del sistema\n",
    "    computed_part = result.groundenergy\n",
    "    active_space_energy_part = result.extracted_transformer_energies.get(\"ActiveSpaceTransformer\", 0)\n",
    "    nuclear_repulsion_energy = result.nuclear_repulsion_energy\n",
    "    total_ground_energy = computed_part + active_space_energy_part + nuclear_repulsion_energy\n",
    "    \n",
    "    arr_ground_energy['pUCCD'].append(total_ground_energy)"
   ]
  },
  {
   "cell_type": "code",
   "execution_count": 195,
   "metadata": {},
   "outputs": [],
   "source": [
    "# CONSTANT ENERGY SHIFT: −0.0762 Hartree\n",
    "shifted_ground_energy = []\n",
    "\n",
    "for energy in arr_ground_energy['pUCCD']:\n",
    "    shifted_ground_energy.append(energy-0.0762)"
   ]
  },
  {
   "cell_type": "code",
   "execution_count": 196,
   "metadata": {},
   "outputs": [
    {
     "data": {
      "image/png": "[encoded data removed]",
      "text/plain": [
       "<Figure size 640x480 with 1 Axes>"
      ]
     },
     "metadata": {},
     "output_type": "display_data"
    }
   ],
   "source": [
    "# Plot\n",
    "method = ['FCI', 'pUCCD']\n",
    "\n",
    "for met in method:  \n",
    "    plt.plot(arr_distance, arr_ground_energy[met], label=met)\n",
    "\n",
    "plt.title(\"LiH Ground-State Energy\")\n",
    "plt.xlabel(r\"$d$ $[\\AA]$\")\n",
    "plt.ylabel(r\"Energy $[Ha]$\")\n",
    "plt.legend()\n",
    "plt.show()"
   ]
  },
  {
   "cell_type": "markdown",
   "metadata": {},
   "source": []
  }
 ],
 "metadata": {
  "kernelspec": {
   "display_name": "cwq",
   "language": "python",
   "name": "python3"
  },
  "language_info": {
   "codemirror_mode": {
    "name": "ipython",
    "version": 3
   },
   "file_extension": ".py",
   "mimetype": "text/x-python",
   "name": "python",
   "nbconvert_exporter": "python",
   "pygments_lexer": "ipython3",
   "version": "3.12.5"
  }
 },
 "nbformat": 4,
 "nbformat_minor": 2
}
