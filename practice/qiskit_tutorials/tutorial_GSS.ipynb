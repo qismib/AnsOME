{
 "cells": [
  {
   "cell_type": "markdown",
   "metadata": {},
   "source": [
    "# Tutorial Qiskit Nature [0.7.2] - GSS: Ground State Solvers"
   ]
  },
  {
   "cell_type": "markdown",
   "metadata": {},
   "source": [
    "Qiskit Nature 0.7.2\n",
    "Tutorial URL: https://qiskit-community.github.io/qiskit-nature/tutorials/01_electronic_structure.html\n",
    "\n"
   ]
  },
  {
   "cell_type": "markdown",
   "metadata": {},
   "source": [
    "## 1 - Struttura Elettronica"
   ]
  },
  {
   "cell_type": "markdown",
   "metadata": {},
   "source": [
    "### 1.1 - Intro"
   ]
  },
  {
   "cell_type": "markdown",
   "metadata": {},
   "source": [
    "Solito discorso: hamiltoniana del sistema scomponibile in elettronica e nucleare perché dinamica degli elettroni si esaurisce prima di quella dei nuclei -> Born-Oppenheimer. Le energie elettroniche si trovano risolvendo l'equazione di Schrödinger stazionaria $H_{el} \\ket{\\psi_{n}} = E_n \\ket{\\psi_{n}}$.\n",
    "\n",
    "L'energia di stato fondamentale è data da:\n",
    "$$\n",
    "    E_0 = \\frac{\\bra{\\psi_0} H \\ket{\\psi_0}}{\\braket{\\psi_0|\\psi_0}}\n",
    "$$"
   ]
  },
  {
   "cell_type": "markdown",
   "metadata": {},
   "source": [
    "### 1.2 - Dichiarare un **ElectronicStructureProblem**"
   ]
  },
  {
   "cell_type": "markdown",
   "metadata": {},
   "source": [
    "Il punto di partenza è una soluzione di Hartree-Fock. Qiskit accede alla libreria Python di metodi classici PySCF tramite PySCFDriver. In questo primo esempio si dichiara una molecola di H2 con la distanza di equilibrio di 0.735 angstrom in stato di singoletto e con carica nulla. Qiskit Nature rappresenta il problema elettronico attraverso un oggetto ElectronicStructureProblem, che si produce con il seguente codice:"
   ]
  },
  {
   "cell_type": "code",
   "execution_count": 1,
   "metadata": {},
   "outputs": [
    {
     "name": "stdout",
     "output_type": "stream",
     "text": [
      "<qiskit_nature.second_q.problems.electronic_structure_problem.ElectronicStructureProblem object at 0x11df50920>\n"
     ]
    }
   ],
   "source": [
    "\n",
    "from qiskit_nature.units import DistanceUnit\n",
    "from qiskit_nature.second_q.drivers import PySCFDriver\n",
    "\n",
    "# Per specificare la geometria molecolare si fornice ogni atomo separatamente, divisi da ;\n",
    "# La lettera indica l'elemento, la posizione è data con coordinate cartesiane\n",
    "geometry = \"H 0 0 0; H 0 0 0.735\" \n",
    "\n",
    "driver = PySCFDriver(\n",
    "    atom=geometry,\n",
    "    basis=\"sto3g\", # 3 gaussiane per approssimare una funzione di Slater\n",
    "    charge=0,\n",
    "    spin=0,\n",
    "    unit=DistanceUnit.ANGSTROM,\n",
    ")\n",
    "\n",
    "problem = driver.run()\n",
    "print(problem)"
   ]
  },
  {
   "cell_type": "markdown",
   "metadata": {},
   "source": [
    "#### Più dettagli su **ElectronicStructureProblem** "
   ]
  },
  {
   "cell_type": "markdown",
   "metadata": {},
   "source": [
    "L'aspetto più rilevante è l'hamiltoniana interna, in questo caso elettronica: **ElectronicEnergy**. Questa classe è capace di generare l'hamiltoniana di seconda quantizzazione per gli integrali a 1 e 2 corpi, calcolata in precedenza dal codice classico e membro dell'oggetto **problem**. "
   ]
  },
  {
   "cell_type": "code",
   "execution_count": 2,
   "metadata": {},
   "outputs": [
    {
     "name": "stdout",
     "output_type": "stream",
     "text": [
      "Polynomial Tensor\n",
      " \"+-\":\n",
      "array([[-1.25633907e+00,  3.47700168e-17],\n",
      "       [ 4.93572504e-17, -4.71896007e-01]])\n",
      " \"++--\":\n",
      "array([ 6.75710155e-01, -1.00856435e-16,  1.80931200e-01,  6.64581730e-01,\n",
      "       -3.25210285e-19,  6.98573723e-01])\n"
     ]
    }
   ],
   "source": [
    "hamiltonian = problem.hamiltonian\n",
    "\n",
    "coefficients = hamiltonian.electronic_integrals\n",
    "print(coefficients.alpha)"
   ]
  },
  {
   "cell_type": "code",
   "execution_count": 3,
   "metadata": {},
   "outputs": [
    {
     "name": "stdout",
     "output_type": "stream",
     "text": [
      "Fermionic Operator\n",
      "number spin orbitals=4, number terms=36\n",
      "  -1.25633907300325 * ( +_0 -_0 )\n",
      "+ -0.471896007281142 * ( +_1 -_1 )\n",
      "+ -1.25633907300325 * ( +_2 -_2 )\n",
      "+ -0.471896007281142 * ( +_3 -_3 )\n",
      "+ 0.3378550774017582 * ( +_0 +_0 -_0 -_0 )\n",
      "+ 0.3322908651276483 * ( +_0 +_1 -_1 -_0 )\n",
      "+ 0.3378550774017582 * ( +_0 +_2 -_2 -_0 )\n",
      "+ 0.3322908651276483 * ( +_0 +_3 -_3 -_0 )\n",
      "+ 0.09046559989211571 * ( +_0 +_0 -_1 -_1 )\n",
      "+ 0.09046559989211571 * ( +_0 +_1 -_0 -_1 )\n",
      "+ 0.09046559989211571 * ( +_0 +_2 -_3 -_1 )\n",
      "+ 0.09046559989211571 * ( +_0 +_3 -_2 -_1 )\n",
      "+ 0.09046559989211571 * ( +_1 +_0 -_1 -_0 )\n",
      "+ 0.09046559989211571 * ( +_1 +_1 -_0 -_0 )\n",
      "+ 0.09046559989211571 * ( +_1 +_2 -_3 -_0 )\n",
      "+ 0.09046559989211571 * ( +_1 +_3 -_2 -_0 )\n",
      "+ 0.3322908651276483 * ( +_1 +_0 -_0 -_1 )\n",
      "+ 0.3492868613660083 * ( +_1 +_1 -_1 -_1 )\n",
      "+ 0.3322908651276483 * ( +_1 +_2 -_2 -_1 )\n",
      "+ 0.3492868613660083 * ( +_1 +_3 -_3 -_1 )\n",
      "+ 0.3378550774017582 * ( +_2 +_0 -_0 -_2 )\n",
      "+ 0.3322908651276483 * ( +_2 +_1 -_1 -_2 )\n",
      "+ 0.3378550774017582 * ( +_2 +_2 -_2 -_2 )\n",
      "+ 0.3322908651276483 * ( +_2 +_3 -_3 -_2 )\n",
      "+ 0.09046559989211571 * ( +_2 +_0 -_1 -_3 )\n",
      "+ 0.09046559989211571 * ( +_2 +_1 -_0 -_3 )\n",
      "+ 0.09046559989211571 * ( +_2 +_2 -_3 -_3 )\n",
      "+ 0.09046559989211571 * ( +_2 +_3 -_2 -_3 )\n",
      "+ 0.09046559989211571 * ( +_3 +_0 -_1 -_2 )\n",
      "+ 0.09046559989211571 * ( +_3 +_1 -_0 -_2 )\n",
      "+ 0.09046559989211571 * ( +_3 +_2 -_3 -_2 )\n",
      "+ 0.09046559989211571 * ( +_3 +_3 -_2 -_2 )\n",
      "+ 0.3322908651276483 * ( +_3 +_0 -_0 -_3 )\n",
      "+ 0.3492868613660083 * ( +_3 +_1 -_1 -_3 )\n",
      "+ 0.3322908651276483 * ( +_3 +_2 -_2 -_3 )\n",
      "+ 0.3492868613660083 * ( +_3 +_3 -_3 -_3 )\n"
     ]
    }
   ],
   "source": [
    "second_q_op = hamiltonian.second_q_op() # applico il metodo second_q_op() per estrarre l'hamiltoniana di II quantizzazione\n",
    "print(second_q_op)"
   ]
  },
  {
   "cell_type": "markdown",
   "metadata": {},
   "source": [
    "L'energia di repulsione nucleare non è inclusa in **second_q_op**, ma è un membro di **hamiltonian** e si richiama facilmente con:"
   ]
  },
  {
   "cell_type": "code",
   "execution_count": 4,
   "metadata": {},
   "outputs": [
    {
     "name": "stdout",
     "output_type": "stream",
     "text": [
      "0.7199689944489797\n"
     ]
    }
   ],
   "source": [
    "print(hamiltonian.nuclear_repulsion_energy)"
   ]
  },
  {
   "cell_type": "markdown",
   "metadata": {},
   "source": [
    "#### Ulteriori attributi di **ElectronicStructureProblem**"
   ]
  },
  {
   "cell_type": "code",
   "execution_count": 5,
   "metadata": {},
   "outputs": [
    {
     "name": "stdout",
     "output_type": "stream",
     "text": [
      "Molecule:\n",
      "\tMultiplicity: 1\n",
      "\tCharge: 0\n",
      "\tUnit: Bohr\n",
      "\tGeometry:\n",
      "\t\tH\t(0.0, 0.0, 0.0)\n",
      "\t\tH\t(0.0, 0.0, 1.3889487015553204)\n",
      "\tMasses:\n",
      "\t\tH\t1\n",
      "\t\tH\t1\n",
      "-----------------------------------------\n",
      "-1.1169989967540044\n",
      "-----------------------------------------\n",
      "(1, 1)\n",
      "-----------------------------------------\n",
      "2\n",
      "-----------------------------------------\n",
      "ElectronicBasis.MO\n"
     ]
    }
   ],
   "source": [
    "print(problem.molecule) # le informazioni sulla geometria molecolare fornite all'inizio\n",
    "print('-----------------------------------------')\n",
    "\n",
    "print(problem.reference_energy)\n",
    "print('-----------------------------------------')\n",
    "\n",
    "print(problem.num_particles)\n",
    "print('-----------------------------------------')\n",
    "\n",
    "print(problem.num_spatial_orbitals)\n",
    "\n",
    "print('-----------------------------------------')\n",
    "print(problem.basis)"
   ]
  },
  {
   "cell_type": "markdown",
   "metadata": {},
   "source": [
    "**ElectronicStructureProblem** contiene anche operatori utili per generare osservabili da valutare sui vari stati della molecola. "
   ]
  },
  {
   "cell_type": "markdown",
   "metadata": {},
   "source": [
    "### 1.3 - Risolvere il problema elettronico"
   ]
  },
  {
   "cell_type": "markdown",
   "metadata": {},
   "source": [
    "Per calcolare lo stato fondamentale del problema si utilizza la funzione **GroundStateEigensolver**, maggiori informazioni qui: https://qiskit-community.github.io/qiskit-nature/tutorials/03_ground_state_solvers.html"
   ]
  },
  {
   "cell_type": "code",
   "execution_count": 6,
   "metadata": {},
   "outputs": [],
   "source": [
    "# Creo un oggetto solver\n",
    "from qiskit_algorithms import NumPyMinimumEigensolver\n",
    "from qiskit_nature.second_q.algorithms import GroundStateEigensolver\n",
    "from qiskit_nature.second_q.mappers import JordanWignerMapper\n",
    "\n",
    "solver = GroundStateEigensolver(\n",
    "    JordanWignerMapper(),\n",
    "    NumPyMinimumEigensolver(),\n",
    ")"
   ]
  },
  {
   "cell_type": "code",
   "execution_count": 7,
   "metadata": {},
   "outputs": [
    {
     "name": "stdout",
     "output_type": "stream",
     "text": [
      "=== GROUND STATE ENERGY ===\n",
      " \n",
      "* Electronic ground state energy (Hartree): -1.857275030202\n",
      "  - computed part:      -1.857275030202\n",
      "~ Nuclear repulsion energy (Hartree): 0.719968994449\n",
      "> Total ground state energy (Hartree): -1.137306035753\n",
      " \n",
      "=== MEASURED OBSERVABLES ===\n",
      " \n",
      "  0:  # Particles: 2.000 S: 0.000 S^2: 0.000 M: 0.000\n",
      " \n",
      "=== DIPOLE MOMENTS ===\n",
      " \n",
      "~ Nuclear dipole moment (a.u.): [0.0  0.0  1.3889487]\n",
      " \n",
      "  0: \n",
      "  * Electronic dipole moment (a.u.): [0.0  0.0  1.388948701555]\n",
      "    - computed part:      [0.0  0.0  1.388948701555]\n",
      "  > Dipole moment (a.u.): [0.0  0.0  -0.000000001555]  Total: 0.000000001555\n",
      "                 (debye): [0.0  0.0  -0.000000003953]  Total: 0.000000003953\n",
      " \n"
     ]
    }
   ],
   "source": [
    "# Do in pasto al solver il problema \n",
    "result = solver.solve(problem)\n",
    "print(result)\n",
    "\n",
    " # da scypy 1.14.0 csr_matrix NON contiene più un membro .H\n",
    " # per eseguire il codice occorre sostituire .H con .conjugate().T nella riga 155 di numpy_eigensolver.py\n"
   ]
  },
  {
   "cell_type": "markdown",
   "metadata": {},
   "source": [
    "## 2 - Problema Nucleare"
   ]
  },
  {
   "cell_type": "markdown",
   "metadata": {},
   "source": [
    "Sostanzialmente analogo al problema elettronico. Si creano un oggetto **VibrationalStructureProblem** e un Vibrational operator; si danno in pasto al GroundStateEigensolver, colle opzioni di qubit mapping e solver (NumPyMinimumEigensolver). Lo farò più avanti."
   ]
  },
  {
   "cell_type": "markdown",
   "metadata": {},
   "source": [
    "## 3 - Ground-State Solvers"
   ]
  },
  {
   "cell_type": "markdown",
   "metadata": {},
   "source": [
    "Ripartiamo da capo: bisogna definire una molecola con PySCFDriver, quindi scegliere un modo per mappare il problema. \n",
    "\n",
    "Per approfondire la questione mapping: https://qiskit-community.github.io/qiskit-nature/tutorials/06_qubit_mappers.html"
   ]
  },
  {
   "cell_type": "code",
   "execution_count": 8,
   "metadata": {},
   "outputs": [],
   "source": [
    "from qiskit_nature.units import DistanceUnit\n",
    "from qiskit_nature.second_q.drivers import PySCFDriver\n",
    "\n",
    "driver = PySCFDriver(\n",
    "    atom=\"H 0 0 0; H 0 0 0.735\", # stesso problema di prima\n",
    "    basis=\"sto3g\",\n",
    "    charge=0,\n",
    "    spin=0,\n",
    "    unit=DistanceUnit.ANGSTROM,\n",
    ")\n",
    "\n",
    "es_problem = driver.run()\n",
    "\n",
    "# di nuovo mappo con Jordan-Wigner\n",
    "\n",
    "from qiskit_nature.second_q.mappers import JordanWignerMapper\n",
    "\n",
    "mapper = JordanWignerMapper()"
   ]
  },
  {
   "cell_type": "markdown",
   "metadata": {},
   "source": [
    "### 3.1 - Solver classico"
   ]
  },
  {
   "cell_type": "markdown",
   "metadata": {},
   "source": [
    "Bisogna definire il solver che si vuole utilizzare; **NumPyMinimumEigensolver** è un algoritmo classico che diagonalizza l'hamiltoniana. Funziona bene per piccoli sistemi, per cui può essere usato come confronto."
   ]
  },
  {
   "cell_type": "code",
   "execution_count": 9,
   "metadata": {},
   "outputs": [],
   "source": [
    "from qiskit_algorithms import NumPyMinimumEigensolver\n",
    "\n",
    "numpy_solver = NumPyMinimumEigensolver()"
   ]
  },
  {
   "cell_type": "markdown",
   "metadata": {},
   "source": [
    "### 3.2 - Solver quantistico (VQE)"
   ]
  },
  {
   "cell_type": "markdown",
   "metadata": {},
   "source": [
    "Per definire il solver servono tre elementi:\n",
    "1. Un Estimator primitive (Qiskit Terra) [ep4_primitives] {https://docs.quantum.ibm.com/api/qiskit/primitives}\n",
    "1. Un ansatz (qui usa UCC, già implementato in Qiskit) [il tipo di eccitazioni è personalizzabile (S, D, SD)]\n",
    "1. Un ottimizzatore: codice classico che ottimizza i parametri nella forma variazionale {https://qiskit-community.github.io/qiskit-algorithms/apidocs/qiskit_algorithms.optimizers.html}"
   ]
  },
  {
   "cell_type": "code",
   "execution_count": 10,
   "metadata": {},
   "outputs": [
    {
     "name": "stderr",
     "output_type": "stream",
     "text": [
      "/var/folders/88/gfgbzsfs2m759nlsp4wspv400000gp/T/ipykernel_69712/222947040.py:18: DeprecationWarning: The class ``qiskit.primitives.estimator.Estimator`` is deprecated as of qiskit 1.2. It will be removed no earlier than 3 months after the release date. All implementations of the `BaseEstimatorV1` interface have been deprecated in favor of their V2 counterparts. The V2 alternative for the `Estimator` class is `StatevectorEstimator`.\n",
      "  vqe_solver = VQE(Estimator(), ansatz, SLSQP())\n"
     ]
    }
   ],
   "source": [
    "from qiskit_algorithms import VQE\n",
    "from qiskit_algorithms.optimizers import SLSQP\n",
    "from qiskit.primitives import Estimator # capire differenza tra Estimator e EstimatorV2\n",
    "from qiskit_nature.second_q.circuit.library import HartreeFock, UCCSD \n",
    "\n",
    "# chiaramente l'ansatz prende come argomenti le caratteristiche della molecola\n",
    "ansatz = UCCSD(\n",
    "    es_problem.num_spatial_orbitals, \n",
    "    es_problem.num_particles,\n",
    "    mapper,\n",
    "    initial_state=HartreeFock(\n",
    "        es_problem.num_spatial_orbitals,\n",
    "        es_problem.num_particles,\n",
    "        mapper,\n",
    "    ),\n",
    ")\n",
    "\n",
    "vqe_solver = VQE(Estimator(), ansatz, SLSQP()) # Estimator, forma variazionale, ottimizzatore\n",
    "vqe_solver.initial_point = [0.0] * ansatz.num_parameters\n"
   ]
  },
  {
   "cell_type": "markdown",
   "metadata": {},
   "source": [
    "### 3.3 - Calcoli e risultati"
   ]
  },
  {
   "cell_type": "markdown",
   "metadata": {},
   "source": [
    "1. Crea l'operatore di seconda quantizzazione\n",
    "1. Mappa \n",
    "1. Esegue l'algoritmo\n",
    "1. Quando termina (converge) valuta ulteriori osservabili sullo stato determinato"
   ]
  },
  {
   "cell_type": "code",
   "execution_count": 13,
   "metadata": {},
   "outputs": [
    {
     "name": "stdout",
     "output_type": "stream",
     "text": [
      "=== GROUND STATE ENERGY ===\n",
      " \n",
      "* Electronic ground state energy (Hartree): -1.857275030144\n",
      "  - computed part:      -1.857275030144\n",
      "~ Nuclear repulsion energy (Hartree): 0.719968994449\n",
      "> Total ground state energy (Hartree): -1.137306035695\n",
      " \n",
      "=== MEASURED OBSERVABLES ===\n",
      " \n",
      "  0:  # Particles: 2.000 S: 0.000 S^2: 0.000 M: 0.000\n",
      " \n",
      "=== DIPOLE MOMENTS ===\n",
      " \n",
      "~ Nuclear dipole moment (a.u.): [0.0  0.0  1.3889487]\n",
      " \n",
      "  0: \n",
      "  * Electronic dipole moment (a.u.): [0.0  0.0  1.388949033206]\n",
      "    - computed part:      [0.0  0.0  1.388949033206]\n",
      "  > Dipole moment (a.u.): [0.0  0.0  -0.000000333206]  Total: 0.000000333206\n",
      "                 (debye): [0.0  0.0  -0.000000846926]  Total: 0.000000846926\n",
      " \n"
     ]
    }
   ],
   "source": [
    "# come prima, creo un oggetto GroundStateEigensolver che contenga il mapper e il solver\n",
    "from qiskit_nature.second_q.algorithms import GroundStateEigensolver\n",
    "\n",
    "calc = GroundStateEigensolver (mapper, vqe_solver)\n",
    "\n",
    "res = calc.solve(es_problem) \n",
    "print(res) # -1.857275030144"
   ]
  },
  {
   "cell_type": "code",
   "execution_count": 15,
   "metadata": {},
   "outputs": [
    {
     "name": "stdout",
     "output_type": "stream",
     "text": [
      "=== GROUND STATE ENERGY ===\n",
      " \n",
      "* Electronic ground state energy (Hartree): -1.857275030202\n",
      "  - computed part:      -1.857275030202\n",
      "~ Nuclear repulsion energy (Hartree): 0.719968994449\n",
      "> Total ground state energy (Hartree): -1.137306035753\n",
      " \n",
      "=== MEASURED OBSERVABLES ===\n",
      " \n",
      "  0:  # Particles: 2.000 S: 0.000 S^2: 0.000 M: 0.000\n",
      " \n",
      "=== DIPOLE MOMENTS ===\n",
      " \n",
      "~ Nuclear dipole moment (a.u.): [0.0  0.0  1.3889487]\n",
      " \n",
      "  0: \n",
      "  * Electronic dipole moment (a.u.): [0.0  0.0  1.388948701555]\n",
      "    - computed part:      [0.0  0.0  1.388948701555]\n",
      "  > Dipole moment (a.u.): [0.0  0.0  -0.000000001555]  Total: 0.000000001555\n",
      "                 (debye): [0.0  0.0  -0.000000003953]  Total: 0.000000003953\n",
      " \n"
     ]
    }
   ],
   "source": [
    "# comparo con il risultato dell'algoritmo classico\n",
    "\n",
    "calc = GroundStateEigensolver(mapper, numpy_solver)\n",
    "res = calc.solve(es_problem) \n",
    "print(res) # -1.857275030202 molto molto simili"
   ]
  },
  {
   "cell_type": "markdown",
   "metadata": {},
   "source": [
    "### 3.4 - Funzioni di Filtering"
   ]
  },
  {
   "cell_type": "markdown",
   "metadata": {},
   "source": [
    "Of particular importance in the case of vibrational structure calculations."
   ]
  }
 ],
 "metadata": {
  "kernelspec": {
   "display_name": "cwq",
   "language": "python",
   "name": "python3"
  },
  "language_info": {
   "codemirror_mode": {
    "name": "ipython",
    "version": 3
   },
   "file_extension": ".py",
   "mimetype": "text/x-python",
   "name": "python",
   "nbconvert_exporter": "python",
   "pygments_lexer": "ipython3",
   "version": "3.12.5"
  }
 },
 "nbformat": 4,
 "nbformat_minor": 2
}
