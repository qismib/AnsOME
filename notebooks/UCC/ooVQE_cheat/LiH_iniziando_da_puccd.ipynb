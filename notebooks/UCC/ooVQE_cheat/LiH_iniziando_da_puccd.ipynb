{
 "cells": [
  {
   "cell_type": "markdown",
   "metadata": {},
   "source": [
    "Creo l'ansatz $\\ket{\\text{oo-pUCCD}} = e^K e^{T^{\\dagger}_{2}-T_2} \\ket{\\text{HF}}$ concatenando l'operatore $e^K$ con il circuito $\\ket{\\text{pUCCD}}=e^{T^{\\dagger}_{2}-T_2} \\ket{\\text{HF}}$. \n",
    "L'obiettivo è definire, come cost function, il valore di aspettazione di $H$ con coefficienti modificati da $e^K$. "
   ]
  },
  {
   "cell_type": "markdown",
   "metadata": {},
   "source": [
    "## 0 - $\\ket{\\text{pUCCD}}$"
   ]
  },
  {
   "cell_type": "code",
   "execution_count": 90,
   "metadata": {},
   "outputs": [],
   "source": [
    "''' ElectronicStructureProblem '''\n",
    "import numpy as np\n",
    "from scipy.linalg import expm\n",
    "from qiskit_nature.units import DistanceUnit\n",
    "from qiskit_nature.second_q.drivers   import PySCFDriver\n",
    "from typing import Tuple, Sequence, Union, List\n",
    "from qiskit_nature.second_q.operators import FermionicOp, SparseLabelOp\n",
    "from qiskit_nature.second_q.problems  import ElectronicBasis\n",
    "from time import time\n",
    "\n",
    "LiH = \"Li 0 0 0; H 0 0 0.8\" \n",
    "\n",
    "driver = PySCFDriver(\n",
    "    atom=LiH,\n",
    "    basis=\"sto3g\", # 3 gaussiane per approssimare una funzione di Slater\n",
    "    charge=0,\n",
    "    spin=0,\n",
    "    unit=DistanceUnit.ANGSTROM,\n",
    ")\n",
    "\n",
    "mo_problem = driver.run()\n",
    "\n",
    "''' Mapper '''\n",
    "from qiskit_nature.second_q.mappers import JordanWignerMapper\n",
    "\n",
    "mapper = JordanWignerMapper()"
   ]
  },
  {
   "cell_type": "markdown",
   "metadata": {},
   "source": [
    "$$\n",
    "   \\ket{\\text{pUCCD}} = e^{T^{\\dagger}_{2}-T_2} \\ket{\\text{HF}}\n",
    "$$"
   ]
  },
  {
   "cell_type": "code",
   "execution_count": 91,
   "metadata": {},
   "outputs": [],
   "source": [
    "''' Ansatz '''\n",
    "from qiskit_nature.second_q.circuit.library import HartreeFock, PUCCD\n",
    "\n",
    "puccd = PUCCD(\n",
    "    mo_problem.num_spatial_orbitals,\n",
    "    mo_problem.num_particles,\n",
    "    mapper,\n",
    "    initial_state=HartreeFock(\n",
    "        mo_problem.num_spatial_orbitals,\n",
    "        mo_problem.num_particles,\n",
    "        mapper,\n",
    "    ),\n",
    ")\n",
    "\n",
    "''' Operators '''\n",
    "problem_ops = mo_problem.second_q_ops()\n",
    "main_op = mapper.map(problem_ops[0])\n",
    "aux_ops = mapper.map(problem_ops[1])\n"
   ]
  },
  {
   "cell_type": "markdown",
   "metadata": {},
   "source": [
    "Determino l'initial point dei primi (8) parametri del circuito $\\ket{\\text{pUCCD}}$ eseguendo una prima volta VQE. \n",
    "Dopodiché le alternative sono due:\n",
    "- fissare i primi parametri e ottimizzare solo i (15) $k$ orbitali\n",
    "- ottimizzare ogni volta tutti i parametri\n",
    "\n",
    "in questo programma si adotta la seconda strategia."
   ]
  },
  {
   "cell_type": "code",
   "execution_count": 92,
   "metadata": {},
   "outputs": [
    {
     "name": "stderr",
     "output_type": "stream",
     "text": [
      "/var/folders/88/gfgbzsfs2m759nlsp4wspv400000gp/T/ipykernel_30437/3687483880.py:5: DeprecationWarning: The class ``qiskit.primitives.estimator.Estimator`` is deprecated as of qiskit 1.2. It will be removed no earlier than 3 months after the release date. All implementations of the `BaseEstimatorV1` interface have been deprecated in favor of their V2 counterparts. The V2 alternative for the `Estimator` class is `StatevectorEstimator`.\n",
      "  estimator = Estimator()\n"
     ]
    }
   ],
   "source": [
    "from qiskit_algorithms import VQE, VQEResult\n",
    "from qiskit_algorithms.optimizers import SLSQP\n",
    "from qiskit.primitives import Estimator # Estimator deprecated \n",
    "\n",
    "estimator = Estimator()\n",
    "ini_solver = VQE(estimator, puccd, SLSQP())\n",
    "ini_result = ini_solver.compute_minimum_eigenvalue(operator=main_op, aux_operators=aux_ops)\n",
    "ini_point = ini_result.optimal_point"
   ]
  },
  {
   "cell_type": "code",
   "execution_count": 93,
   "metadata": {},
   "outputs": [
    {
     "name": "stdout",
     "output_type": "stream",
     "text": [
      "-7.63118682891578\n"
     ]
    }
   ],
   "source": [
    "# energia puccd: -7.316485492334664\n",
    "interpreted = mo_problem.interpret(ini_result)\n",
    "energy = interpreted.groundenergy + interpreted.nuclear_repulsion_energy\n",
    "print(energy)"
   ]
  },
  {
   "cell_type": "markdown",
   "metadata": {},
   "source": [
    "# 1 - $\\ket{\\text{oo-pUCCD}}$"
   ]
  },
  {
   "cell_type": "markdown",
   "metadata": {},
   "source": [
    "### 1.1 - Excitations"
   ]
  },
  {
   "cell_type": "markdown",
   "metadata": {},
   "source": [
    "$$\n",
    "    K = \\sum_{p<q}\\sum_{\\sigma} k_{pq} \n",
    "    \\left(\n",
    "        a^{\\dagger}_{p\\sigma}a^{}_{q\\sigma} - a^{\\dagger}_{q\\sigma}a^{}_{p\\sigma}\n",
    "    \\right)\n",
    "$$"
   ]
  },
  {
   "cell_type": "code",
   "execution_count": 94,
   "metadata": {},
   "outputs": [],
   "source": [
    "def create_orbital_rotation_list(ansatz) -> list:\n",
    "    \"\"\" Creates a list of indices of matrix kappa that denote the pairs of orbitals that\n",
    "    will be rotated. For instance, a list of pairs of orbital such as [[0,1], [0,2]]. \"\"\"\n",
    "    \n",
    "    half_as = int(ansatz.num_qubits / 2)\n",
    "    \n",
    "    orbital_rotations = []\n",
    "    \n",
    "    # TODO: \n",
    "    '''\n",
    "    # list is built according to frozen orbitals\n",
    "    if self._frozen_list:\n",
    "        for i in range(half_as):\n",
    "            if i in self._frozen_list:\n",
    "                continue\n",
    "            for j in range(half_as):\n",
    "                if j in self._frozen_list:\n",
    "                    continue\n",
    "                if i < j:\n",
    "                    self._orbital_rotations.append([i, j])\n",
    "    else:\n",
    "        for i in range(half_as):\n",
    "            for j in range(half_as):\n",
    "                if i < j:\n",
    "                    self._orbital_rotations.append([i, j])\n",
    "    '''\n",
    "    \n",
    "    for i in range(half_as):\n",
    "            for j in range(half_as):\n",
    "                if i < j:\n",
    "                    orbital_rotations.append([i, j])\n",
    "                    \n",
    "    return orbital_rotations\n",
    "\n",
    "        "
   ]
  },
  {
   "cell_type": "code",
   "execution_count": 95,
   "metadata": {},
   "outputs": [
    {
     "name": "stdout",
     "output_type": "stream",
     "text": [
      "[[0, 1], [0, 2], [0, 3], [0, 4], [0, 5], [1, 2], [1, 3], [1, 4], [1, 5], [2, 3], [2, 4], [2, 5], [3, 4], [3, 5], [4, 5]]\n",
      "[([0], [1]), ([0], [2]), ([0], [3]), ([0], [4]), ([0], [5]), ([1], [2]), ([1], [3]), ([1], [4]), ([1], [5]), ([2], [3]), ([2], [4]), ([2], [5]), ([3], [4]), ([3], [5]), ([4], [5])]\n"
     ]
    }
   ],
   "source": [
    "from qiskit.circuit.library import EvolvedOperatorAnsatz\n",
    "\n",
    "rotations = create_orbital_rotation_list(ansatz=puccd)\n",
    "print (rotations)\n",
    "\n",
    "excitations = [([i], [j]) for i, j in rotations]\n",
    "print(excitations)"
   ]
  },
  {
   "cell_type": "markdown",
   "metadata": {},
   "source": [
    "### 1.2 - Excitation operator $K$"
   ]
  },
  {
   "cell_type": "markdown",
   "metadata": {},
   "source": [
    "La funzione **build_fermionic_excitation_ops** è quella definita in qiskit.circuit.ansatzes.UCC"
   ]
  },
  {
   "cell_type": "code",
   "execution_count": 96,
   "metadata": {},
   "outputs": [],
   "source": [
    "def build_fermionic_excitation_ops(excitations: Sequence) -> list[FermionicOp]:\n",
    "    \"\"\"Builds all possible excitation operators with the given number of excitations for the\n",
    "    specified number of particles distributed in the number of orbitals.\n",
    "\n",
    "    Args:\n",
    "        excitations: the list of excitations.\n",
    "\n",
    "    Returns:\n",
    "        The list of excitation operators in the second quantized formalism.\n",
    "    \"\"\"\n",
    "    num_spin_orbitals = 2 * mo_problem.num_spatial_orbitals\n",
    "    operators = []\n",
    "\n",
    "    for exc in excitations:\n",
    "        label = []\n",
    "        for occ in exc[0]:\n",
    "            label.append(f\"+_{occ}\")\n",
    "        for unocc in exc[1]:\n",
    "            label.append(f\"-_{unocc}\")\n",
    "        op = FermionicOp({\" \".join(label): 1}, num_spin_orbitals=num_spin_orbitals)\n",
    "        op_adj = op.adjoint()\n",
    "        # we need to account for an additional imaginary phase in the exponent accumulated from\n",
    "        # the first-order trotterization routine implemented in Qiskit\n",
    "        op_minus = 1j * (op - op_adj)\n",
    "        operators.append(op_minus)\n",
    "\n",
    "    return operators"
   ]
  },
  {
   "cell_type": "code",
   "execution_count": 97,
   "metadata": {},
   "outputs": [
    {
     "name": "stdout",
     "output_type": "stream",
     "text": [
      "[FermionicOp({'+_0 -_1': 1j, '+_1 -_0': np.complex128(-0-1j)}, num_spin_orbitals=12, ), FermionicOp({'+_0 -_2': 1j, '+_2 -_0': np.complex128(-0-1j)}, num_spin_orbitals=12, ), FermionicOp({'+_0 -_3': 1j, '+_3 -_0': np.complex128(-0-1j)}, num_spin_orbitals=12, ), FermionicOp({'+_0 -_4': 1j, '+_4 -_0': np.complex128(-0-1j)}, num_spin_orbitals=12, ), FermionicOp({'+_0 -_5': 1j, '+_5 -_0': np.complex128(-0-1j)}, num_spin_orbitals=12, ), FermionicOp({'+_1 -_2': 1j, '+_2 -_1': np.complex128(-0-1j)}, num_spin_orbitals=12, ), FermionicOp({'+_1 -_3': 1j, '+_3 -_1': np.complex128(-0-1j)}, num_spin_orbitals=12, ), FermionicOp({'+_1 -_4': 1j, '+_4 -_1': np.complex128(-0-1j)}, num_spin_orbitals=12, ), FermionicOp({'+_1 -_5': 1j, '+_5 -_1': np.complex128(-0-1j)}, num_spin_orbitals=12, ), FermionicOp({'+_2 -_3': 1j, '+_3 -_2': np.complex128(-0-1j)}, num_spin_orbitals=12, ), FermionicOp({'+_2 -_4': 1j, '+_4 -_2': np.complex128(-0-1j)}, num_spin_orbitals=12, ), FermionicOp({'+_2 -_5': 1j, '+_5 -_2': np.complex128(-0-1j)}, num_spin_orbitals=12, ), FermionicOp({'+_3 -_4': 1j, '+_4 -_3': np.complex128(-0-1j)}, num_spin_orbitals=12, ), FermionicOp({'+_3 -_5': 1j, '+_5 -_3': np.complex128(-0-1j)}, num_spin_orbitals=12, ), FermionicOp({'+_4 -_5': 1j, '+_5 -_4': np.complex128(-0-1j)}, num_spin_orbitals=12, )]\n"
     ]
    }
   ],
   "source": [
    "ops = build_fermionic_excitation_ops(excitations=excitations)\n",
    "print (ops)\n",
    "\n",
    "qubit_ops = mapper.map(ops)"
   ]
  },
  {
   "cell_type": "markdown",
   "metadata": {},
   "source": [
    "### 1.3 - oo-pUCCD circuit"
   ]
  },
  {
   "cell_type": "markdown",
   "metadata": {},
   "source": [
    "$$\n",
    "   \\ket{\\text{oo-pUCCD}} = e^K e^{T^{\\dagger}_{2}-T_2} \\ket{\\text{HF}}\n",
    "$$"
   ]
  },
  {
   "cell_type": "code",
   "execution_count": 98,
   "metadata": {},
   "outputs": [],
   "source": [
    "# concateno e^K a |pUCCD>\n",
    "oo_puccd = EvolvedOperatorAnsatz(\n",
    "    operators=qubit_ops,\n",
    "    initial_state=puccd,\n",
    "    parameter_prefix='k'\n",
    ")"
   ]
  },
  {
   "cell_type": "code",
   "execution_count": 99,
   "metadata": {},
   "outputs": [
    {
     "name": "stdout",
     "output_type": "stream",
     "text": [
      "qubits:  12\n",
      "params:  23\n",
      "bounds:  None\n"
     ]
    }
   ],
   "source": [
    "print('qubits: ', oo_puccd.num_qubits)\n",
    "print('params: ', oo_puccd.num_parameters)\n",
    "print('bounds: ', oo_puccd.parameter_bounds)"
   ]
  },
  {
   "cell_type": "markdown",
   "metadata": {},
   "source": [
    "## 2 - Orbital Rotations"
   ]
  },
  {
   "cell_type": "markdown",
   "metadata": {},
   "source": [
    "### 2.1 - Orbital rotation matrix"
   ]
  },
  {
   "cell_type": "markdown",
   "metadata": {},
   "source": [
    "$$\n",
    "    e^K\n",
    "$$"
   ]
  },
  {
   "cell_type": "code",
   "execution_count": 100,
   "metadata": {},
   "outputs": [],
   "source": [
    "rotation_parameters = oo_puccd.parameters[puccd.num_parameters:]\n",
    "dim_kappa_matrix = mo_problem.num_spatial_orbitals\n",
    "\n",
    "def orbital_rotation_matrix(parameters: np.ndarray, rotations: list) -> Tuple[np.ndarray, np.ndarray]:\n",
    "    \"\"\" Creates 2 matrices K_alpha, K_beta that rotate the orbitals through MO coefficient\n",
    "    C_alpha = C_RHF * U_alpha where U = e^(K_alpha), similarly for beta orbitals. \"\"\"\n",
    "\n",
    "    k_matrix_alpha = np.zeros((dim_kappa_matrix, dim_kappa_matrix))\n",
    "    k_matrix_beta  = np.zeros((dim_kappa_matrix, dim_kappa_matrix))\n",
    "    \n",
    "    for i, exc in enumerate(rotations):\n",
    "        k_matrix_alpha[exc[0]][exc[1]] =  parameters[i]\n",
    "        k_matrix_alpha[exc[1]][exc[0]] = -parameters[i]\n",
    "        k_matrix_beta[exc[0]][exc[1]]  =  parameters[i]\n",
    "        k_matrix_beta[exc[1]][exc[0]]  = -parameters[i]\n",
    "\n",
    "    matrix_a = expm(k_matrix_alpha)\n",
    "    matrix_b = expm(k_matrix_beta)\n",
    "    \n",
    "    return matrix_a, matrix_b"
   ]
  },
  {
   "cell_type": "markdown",
   "metadata": {},
   "source": [
    "### 2.2 - Integrals"
   ]
  },
  {
   "cell_type": "markdown",
   "metadata": {},
   "source": [
    "Prendo gli integrali da PySCF"
   ]
  },
  {
   "cell_type": "code",
   "execution_count": 101,
   "metadata": {},
   "outputs": [],
   "source": [
    "from pyscf import gto\n",
    "\n",
    "# Molecola idruro di litio\n",
    "LiH = \"Li .0 .0 .0; H .0 .0 0.600\"\n",
    "mol = gto.M(atom=LiH, basis='sto3g')\n",
    "two_electron_integrals = mol.intor('int2e') # , aosym='s8') opzioni di simmetria\n",
    "one_electron_integrals = mol.intor(\"int1e_kin\") + mol.intor(\"int1e_nuc\")"
   ]
  },
  {
   "cell_type": "markdown",
   "metadata": {},
   "source": [
    "Modifico gli integrali con $e^K$: \n",
    "\n",
    "$$\n",
    "    \\tilde{h}_{pq} = \\sum_{uv} C_{up} h_{uv} C_{vq}\\quad\n",
    "    \\land\\quad\n",
    "\t(\\tilde{p}\\tilde{q}|\\tilde{r}\\tilde{s})=\\sum_{uvxy} C_{up}C_{vq}(pq|rs)C_{xr}C_{ys}\n",
    "$$\n",
    "\n",
    "con $C_{pq} = \\left\\{e^K\\right\\}_{pq}$"
   ]
  },
  {
   "cell_type": "code",
   "execution_count": 102,
   "metadata": {},
   "outputs": [],
   "source": [
    "from qiskit_nature.second_q.operators import ElectronicIntegrals\n",
    "\n",
    "def rotate_orbitals(mo_problem, matrix_a, matrix_b): \n",
    "    \"\"\"Doctstring\"\"\"\n",
    "    \n",
    "    # Matrice C (6x6) e integrali a un corpo (6x6)\n",
    "    C = matrix_a  \n",
    "    h = one_electron_integrals\n",
    "    \n",
    "    N = len(C)\n",
    "\n",
    "    # Inizializzo matrice per gli integrali trasformati\n",
    "    h_transformed = np.zeros((N, N))\n",
    "\n",
    "    # Trasformazione degli integrali a un corpo\n",
    "    for p in range(N):\n",
    "        for q in range(N):\n",
    "            sum_value = 0\n",
    "            for u in range(N):\n",
    "                for v in range(N):\n",
    "                    sum_value += C[u, p] * h[u, v] * C[v, q]\n",
    "            h_transformed[p, q] = sum_value\n",
    "            \n",
    "    # Trasformazione degli integrali a due corpi (si potrebbe evitare di ri-ciclare su p e q)\n",
    "    eri_transformed = np.zeros((N, N, N, N))\n",
    "\n",
    "    for p in range(N):\n",
    "        for q in range(N):\n",
    "            for r in range(N):\n",
    "                for s in range(N):\n",
    "                    sum_value = 0\n",
    "                    for u in range(N):\n",
    "                        for v in range(N):\n",
    "                            for x in range(N):\n",
    "                                for y in range(N):\n",
    "                                    sum_value += C[u, p] * C[v, q] * two_electron_integrals[u, v, x, y] * C[x, r] * C[y, s]\n",
    "                    eri_transformed[p, q, r, s] = sum_value\n",
    "    \n",
    "    # definisco un oggetto ElectronicIntegrals per modificare quello contenuto in mo_problem\n",
    "    e_int = ElectronicIntegrals.from_raw_integrals(h_transformed, eri_transformed)\n",
    "\n",
    "    mo_problem.hamiltonian.ElectronicIntegrals = e_int\n",
    "    \n",
    "    # extract rotated operator\n",
    "    rotated_operator = mo_problem.hamiltonian.second_q_op()\n",
    "    rotated_operator = mapper.map(rotated_operator)\n",
    "    \n",
    "    return rotated_operator"
   ]
  },
  {
   "cell_type": "markdown",
   "metadata": {},
   "source": [
    "# 3 - VQE"
   ]
  },
  {
   "cell_type": "markdown",
   "metadata": {},
   "source": [
    "VQE sul circuito restituisce 23 parametri ottimizzati. I primi 8 sono i parametri $t$ di **puccd**, gli altri 15 $k$ sono usati per modificare i coefficienti orbitali. Ad ogni fase intermedia dell'ottimizzazione gli operatori vengono ricalcolati."
   ]
  },
  {
   "cell_type": "markdown",
   "metadata": {},
   "source": [
    "Creo istanza vqe e estraggo il primo optimal point per i parametri puccd"
   ]
  },
  {
   "cell_type": "code",
   "execution_count": 103,
   "metadata": {},
   "outputs": [],
   "source": [
    "''' VQE instantiation '''\n",
    "#vqe_solver = VQE(estimator, oo_puccd, SLSQP(), gradient=gradient)\n",
    "vqe_solver = VQE(estimator, oo_puccd, SLSQP())\n",
    "# inizializzo i parametri, devo solo vedere se funziona\n",
    "vqe_solver.initial_point = [0.0] * oo_puccd.num_parameters\n",
    "vqe_solver.initial_point[:puccd.num_parameters] = ini_point"
   ]
  },
  {
   "cell_type": "code",
   "execution_count": 104,
   "metadata": {},
   "outputs": [],
   "source": [
    "interpreted = mo_problem.interpret(ini_result)"
   ]
  },
  {
   "cell_type": "code",
   "execution_count": 105,
   "metadata": {},
   "outputs": [
    {
     "data": {
      "text/plain": [
       "np.float64(-7.63118682891578)"
      ]
     },
     "execution_count": 105,
     "metadata": {},
     "output_type": "execute_result"
    }
   ],
   "source": [
    "interpreted.groundenergy+interpreted.nuclear_repulsion_energy\n",
    "# VQE su pUCCD: -7.316485491073372"
   ]
  },
  {
   "cell_type": "markdown",
   "metadata": {},
   "source": [
    "L'idea del codice è minimizzare **energy_evaluation_oo**, che ruota l'operatore e calcola il valore di aspettazione."
   ]
  },
  {
   "cell_type": "code",
   "execution_count": 106,
   "metadata": {},
   "outputs": [],
   "source": [
    "def energy_evaluation_oo(\n",
    "    solver, \n",
    "    rotations,\n",
    "    num_parameters_puccd: int,\n",
    "    parameters: np.ndarray\n",
    ") -> Union[float, List[float]]:\n",
    "    \"\"\"Doctstring\"\"\"\n",
    "    \n",
    "    # splicing\n",
    "    puccd_parameter_values    = parameters[:num_parameters_puccd ] \n",
    "    rotation_parameter_values = parameters[ num_parameters_puccd:] \n",
    "\n",
    "    # CALCULATE COEFFICIENTS OF ROTATION MATRIX HERE:\n",
    "    matrix_a, matrix_b = orbital_rotation_matrix(rotation_parameter_values, rotations)\n",
    "    \n",
    "    #print('pUCCD parameters:\\n', puccd_parameter_values)\n",
    "    #print('Rotation parameters:\\n', rotation_parameter_values)\n",
    "    #print(\"Nature matrix a:\\n\", matrix_a)\n",
    "    #print(\"Nature matrix b:\\n\", matrix_b)\n",
    "    \n",
    "    # ROTATE AND RECOMPUTE OPERATOR HERE:\n",
    "    rotated_operator = rotate_orbitals(mo_problem, matrix_a, matrix_b)\n",
    "        \n",
    "    try:\n",
    "        job = solver.estimator.run(solver.ansatz, rotated_operator, parameters)\n",
    "        estimator_result = job.result()\n",
    "    except Exception as exc:\n",
    "        raise KeyError(\"The primitive job to evaluate the energy failed!\") from exc\n",
    "\n",
    "    values = estimator_result.values\n",
    "    \n",
    "    energy = values[0] if len(values) == 1 else values\n",
    "\n",
    "    # the rest of the energy evaluation code only involves the ansatz parameters\n",
    "\n",
    "    return energy"
   ]
  },
  {
   "cell_type": "markdown",
   "metadata": {},
   "source": [
    "Minimizzo"
   ]
  },
  {
   "cell_type": "code",
   "execution_count": 107,
   "metadata": {},
   "outputs": [],
   "source": [
    "from functools import partial \n",
    "\n",
    "energy_evaluation = partial(energy_evaluation_oo, vqe_solver, rotations, puccd.num_parameters)\n",
    "\n",
    "# setto bounds default\n",
    "bounds = [[-2*np.pi,2*np.pi] for _ in range(oo_puccd.num_parameters)]\n",
    "# setto un initial point più vicino al risultato finale\n",
    "vqe_solver.initial_point = \\\n",
    "[-3.10790974e+00, -3.88783726e-04, -6.28318531e+00, -6.28318531e+00,\n",
    " -3.14240338e+00,  4.14092583e-02,  3.14159779e+00, -1.14763784e-04,\n",
    "  1.37528292e-02,  1.74358163e-03,  2.29391354e-03, -3.88335215e-01,\n",
    " -6.39069234e-05,  2.01296231e-03,  2.72899940e-03, -2.70109444e-03,\n",
    "  1.09881611e-03, -1.10917682e-03,  1.00909373e-02,  6.82633545e-03,\n",
    "  7.23208646e-02, -7.25136257e-02,  1.01475338e-01]\n",
    "\n",
    "\n",
    "start_time = time()\n",
    "\n",
    "# minimization\n",
    "opt_result = vqe_solver.optimizer.minimize(\n",
    "    fun=energy_evaluation, x0=vqe_solver.initial_point, bounds=bounds\n",
    ")\n",
    "    \n",
    "eval_time = time() - start_time\n"
   ]
  },
  {
   "cell_type": "markdown",
   "metadata": {},
   "source": [
    "Per manipolare il risultato serve estrarre i dati dal raw_result"
   ]
  },
  {
   "cell_type": "code",
   "execution_count": 108,
   "metadata": {},
   "outputs": [],
   "source": [
    "result = VQEResult()\n",
    "result.optimal_point = opt_result.x\n",
    "result.optimal_parameters = dict(zip(vqe_solver.ansatz.parameters, opt_result.x))\n",
    "result.optimal_value = opt_result.fun\n",
    "result.cost_function_evals = opt_result.nfev\n",
    "result.optimizer_time = eval_time\n",
    "result.eigenvalue = opt_result.fun + 0j"
   ]
  },
  {
   "cell_type": "code",
   "execution_count": 109,
   "metadata": {},
   "outputs": [
    {
     "name": "stdout",
     "output_type": "stream",
     "text": [
      "{   'aux_operators_evaluated': None,\n",
      "    'cost_function_evals': 272,\n",
      "    'eigenvalue': np.complex128(-9.616853072690386+0j),\n",
      "    'optimal_circuit': None,\n",
      "    'optimal_parameters': {   ParameterVectorElement(k[5]): np.float64(0.026062103156729372),\n",
      "                              ParameterVectorElement(k[3]): np.float64(-6.283182545808763),\n",
      "                              ParameterVectorElement(k[4]): np.float64(-3.1411897068845267),\n",
      "                              ParameterVectorElement(t[0]): np.float64(-0.003749305887797703),\n",
      "                              ParameterVectorElement(t[5]): np.float64(0.04662442633747548),\n",
      "                              ParameterVectorElement(t[1]): np.float64(0.0013898785195582746),\n",
      "                              ParameterVectorElement(t[3]): np.float64(0.0026535866508661868),\n",
      "                              ParameterVectorElement(t[7]): np.float64(0.1098649230263283),\n",
      "                              ParameterVectorElement(t[6]): np.float64(-0.04667921563599227),\n",
      "                              ParameterVectorElement(t[2]): np.float64(-0.0014147846626807133),\n",
      "                              ParameterVectorElement(t[4]): np.float64(0.004456043398888035),\n",
      "                              ParameterVectorElement(k[2]): np.float64(-6.283185307179586),\n",
      "                              ParameterVectorElement(k[1]): np.float64(-0.00023331555229625468),\n",
      "                              ParameterVectorElement(k[0]): np.float64(-3.094723912669525),\n",
      "                              ParameterVectorElement(k[8]): np.float64(0.012128325576477505),\n",
      "                              ParameterVectorElement(k[14]): np.float64(0.0023166826026595343),\n",
      "                              ParameterVectorElement(k[11]): np.float64(-0.39101266185830796),\n",
      "                              ParameterVectorElement(k[12]): np.float64(-6.191110556426039e-05),\n",
      "                              ParameterVectorElement(k[13]): np.float64(0.0017149480864533354),\n",
      "                              ParameterVectorElement(k[10]): np.float64(0.002277826423068706),\n",
      "                              ParameterVectorElement(k[7]): np.float64(9.579824511631903e-05),\n",
      "                              ParameterVectorElement(k[9]): np.float64(0.001727937403032271),\n",
      "                              ParameterVectorElement(k[6]): np.float64(3.1416507369893725)},\n",
      "    'optimal_point': array([-3.09472391e+00, -2.33315552e-04, -6.28318531e+00, -6.28318255e+00,\n",
      "       -3.14118971e+00,  2.60621032e-02,  3.14165074e+00,  9.57982451e-05,\n",
      "        1.21283256e-02,  1.72793740e-03,  2.27782642e-03, -3.91012662e-01,\n",
      "       -6.19111056e-05,  1.71494809e-03,  2.31668260e-03, -3.74930589e-03,\n",
      "        1.38987852e-03, -1.41478466e-03,  2.65358665e-03,  4.45604340e-03,\n",
      "        4.66244263e-02, -4.66792156e-02,  1.09864923e-01]),\n",
      "    'optimal_value': np.float64(-9.616853072690386),\n",
      "    'optimizer_evals': None,\n",
      "    'optimizer_result': None,\n",
      "    'optimizer_time': 474.95086002349854}\n"
     ]
    }
   ],
   "source": [
    "print(result)"
   ]
  },
  {
   "cell_type": "code",
   "execution_count": 110,
   "metadata": {},
   "outputs": [
    {
     "name": "stdout",
     "output_type": "stream",
     "text": [
      "-7.632438531740386\n"
     ]
    }
   ],
   "source": [
    "oo_interpreted = mo_problem.interpret(result)\n",
    "energy = oo_interpreted.groundenergy + oo_interpreted.nuclear_repulsion_energy\n",
    "print(energy)"
   ]
  },
  {
   "cell_type": "markdown",
   "metadata": {},
   "source": [
    "Energie \n",
    "- puccd -7.63118682891578\n",
    "- oo_puccd -7.632438531740386"
   ]
  },
  {
   "cell_type": "markdown",
   "metadata": {},
   "source": []
  }
 ],
 "metadata": {
  "kernelspec": {
   "display_name": "cwq",
   "language": "python",
   "name": "python3"
  },
  "language_info": {
   "codemirror_mode": {
    "name": "ipython",
    "version": 3
   },
   "file_extension": ".py",
   "mimetype": "text/x-python",
   "name": "python",
   "nbconvert_exporter": "python",
   "pygments_lexer": "ipython3",
   "version": "3.12.5"
  }
 },
 "nbformat": 4,
 "nbformat_minor": 2
}
