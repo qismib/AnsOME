{
 "cells": [
  {
   "cell_type": "markdown",
   "metadata": {},
   "source": [
    "# Energie di stato fondamentale con algoritmi classici"
   ]
  },
  {
   "cell_type": "markdown",
   "metadata": {},
   "source": [
    "Seguo l'esempio di Rodolfo in example_classic_script.py, facendo qualche variazione per prendere la mano."
   ]
  },
  {
   "cell_type": "markdown",
   "metadata": {},
   "source": [
    "Uso gli algoritmi implementati nella libreria pyscf."
   ]
  },
  {
   "cell_type": "code",
   "execution_count": 15,
   "metadata": {},
   "outputs": [],
   "source": [
    "import numpy as np\n",
    "from pyscf import gto,scf,ao2mo,mp,cc,fci,tools \n",
    "import matplotlib.pyplot as plt "
   ]
  },
  {
   "cell_type": "markdown",
   "metadata": {},
   "source": [
    "## 1 - Implementare una molecola"
   ]
  },
  {
   "cell_type": "markdown",
   "metadata": {},
   "source": [
    "Servono:\n",
    "- elemento (lettera)\n",
    "- posizione (coordinate cartesiane)\n",
    "- carica complessiva \n",
    "- spin totale degli elettroni\n",
    "- base\n",
    "\n",
    "L'idea è trovare la _distanza di legame_, quindi quella distanza interatomica $d$ che minimizza l'energia di stato fondamentale. Per farlo si calcola l'energia (con diversi algoritmi) a molteplici distanze (bisogna dichiarare una molecola per ogni distanza), quindi si plottano i risultati.\n",
    "\n",
    "Magari poi lo eseguo con basi diverse."
   ]
  },
  {
   "cell_type": "code",
   "execution_count": 16,
   "metadata": {},
   "outputs": [],
   "source": [
    "# dichiaro l'array delle distanze\n",
    "arr_d = np.arange(0.3, 4, .05) # da 0.3 a 3.95 (Angstrom) con passo 0.05\n",
    "# array con le altezze (triangolo equilatero)\n",
    "arr_h = np.sqrt(arr_d**2 - (arr_d/2)**2) # **2 = al quadrato\n"
   ]
  },
  {
   "cell_type": "code",
   "execution_count": 17,
   "metadata": {},
   "outputs": [],
   "source": [
    "# Sarebbe bello fare un'iterazione che esegue tutti i metodi diversi per delle basi\n",
    "arr_basis = ['6-31g', 'sto-6g', '6-31g', 'cc-pvdz', 'aug-cc-pvdz']"
   ]
  },
  {
   "cell_type": "markdown",
   "metadata": {},
   "source": [
    "D'ora in poi devo fare tutto in un blocco codice, altrimenti ogni volta ripeto la formula «for basis in arr_basis:»\n",
    "\n",
    "Non so quale sia la cosa più 'pythonica', ma forse più la seconda"
   ]
  },
  {
   "cell_type": "code",
   "execution_count": 18,
   "metadata": {},
   "outputs": [],
   "source": [
    "# Creo un array per i dizionari\n",
    "arr_energies = []\n",
    "\n",
    "# Per ciascuna base\n",
    "for basis in arr_basis:\n",
    "    # Creo il dizionario con le energie\n",
    "    energies = {\n",
    "    \"Basis\": basis,\n",
    "    \"HF\": [],\n",
    "    \"FCI\": [],\n",
    "    \"MP2\": [],\n",
    "    \"CCSD\": []\n",
    "    }\n",
    "    # Aggiungo il dizionario all'array\n",
    "    arr_energies.append(energies)"
   ]
  },
  {
   "cell_type": "markdown",
   "metadata": {},
   "source": [
    "Poi sarà interessante provare con molecole diverse. Per ora provo un ossigeno biatomico."
   ]
  },
  {
   "cell_type": "code",
   "execution_count": 19,
   "metadata": {},
   "outputs": [],
   "source": [
    "# Devo fare un array pure di mol altrimenti non posso richiamarlo dopo\n",
    "# Questi notebook hanno dei limiti   \n",
    "\n",
    "arr_molecules = []\n",
    "\n",
    "# Per ciascuna base\n",
    "for basis in arr_basis:\n",
    "\n",
    "    molecules = {\n",
    "    'Basis': basis,\n",
    "    'Mols': [],\n",
    "    \"CampoMedio\": []\n",
    "    }\n",
    "\n",
    "    # Per ciascuna distanza\n",
    "    for d in arr_d:\n",
    "        # Inizializzo la molecola (per ora O_2 lineare a distanza d)\n",
    "        geometry = \"O .0 .0 .0; O .0 .0 \" + str(d)\n",
    "\n",
    "        mol = gto.M(\n",
    "            atom=geometry,\n",
    "            charge=0,\n",
    "            spin=0,\n",
    "            basis=basis,\n",
    "            symmetry=True, # (?) da approfondire\n",
    "            verbose=0 # (?)\n",
    "        )\n",
    "    \n",
    "        molecules['Mols'].append(mol)\n",
    "    arr_molecules.append(molecules)"
   ]
  },
  {
   "cell_type": "markdown",
   "metadata": {},
   "source": [
    "### 1.1 Campo medio (Hartree-Fock)\n",
    "Se gli elettroni con spin up sono tanti quanti gli elettroni con spin down (spin totale 0) si fa un Restricted Hartree Fock. I metodi successivi prenderanno come argomento il campo medio di HF\n",
    "\n",
    "Fonti consigliate su RHF, ROHF, UHF \n",
    "\n",
    "- Szabo, Ostlund - Modern Quantum Chemistry \n",
    "- https://en.wikipedia.org/wiki/Hartree%E2%80%93Fock_method\n",
    "- https://en.wikipedia.org/wiki/Restricted_open-shell_Hartree%E2%80%93Fock\n",
    "- https://en.wikipedia.org/wiki/Unrestricted_Hartree%E2%80%93Fock"
   ]
  },
  {
   "cell_type": "code",
   "execution_count": 20,
   "metadata": {},
   "outputs": [],
   "source": [
    "# Per ciascuna base\n",
    "for i in range (len(arr_basis)):\n",
    "    # Per ciascuna distanza\n",
    "    for j in range (len(arr_d)):\n",
    "        # campo medio con restricted HF\n",
    "        cm  = scf.RHF(arr_molecules[i]['Mols'][j])\n",
    "        e_HF = cm.kernel() # chiamando il kernel otteniamo l'energia calcolata dal metodo\n",
    "        \n",
    "        arr_energies[i]['HF'].append(e_HF)\n",
    "        arr_molecules[i]['CampoMedio'].append(cm)\n",
    "\t    "
   ]
  },
  {
   "cell_type": "markdown",
   "metadata": {},
   "source": [
    "### 1.2 FCI \n",
    "Quando il sistema ha pochi elettroni, possiamo permetterci di diagonalizzare esattamente l' Hamiltoniano del sistema nella base degli orbitali scelta."
   ]
  },
  {
   "cell_type": "code",
   "execution_count": 21,
   "metadata": {},
   "outputs": [],
   "source": [
    "# Supera ampiamente i 6 minuti di esecuzione\n",
    "# Probabilmente con alcune basi diventa estremamente impegnativo\n",
    "\n",
    "# Per ciascuna base\n",
    "for i in range (len(arr_basis)):\n",
    "    # Per ciascuna distanza\n",
    "    for j in range (len(arr_d)):\n",
    "        cm = arr_molecules[i]['CampoMedio'][j]\n",
    "        fci_calc = fci.FCI(cm) # <- nei metodi correlati passiamo come argomento un conto di campo medio, HF\n",
    "        e_fci = fci_calc.kernel()[0]\n",
    "\n",
    "        arr_energies[i]['FCI'].append(e_fci)\n",
    "\n",
    "# questo pezzo di codice non può essere eseguito su tutte le basi"
   ]
  },
  {
   "cell_type": "markdown",
   "metadata": {},
   "source": [
    "FCI diventa particolarmente oneroso quando incrementiamo la taglia della base o il numero di elettroni, perciò si ricorre a approssimazioni.\n"
   ]
  },
  {
   "cell_type": "markdown",
   "metadata": {},
   "source": [
    "### 1.3 MP2 "
   ]
  },
  {
   "cell_type": "markdown",
   "metadata": {},
   "source": [
    "Possiamo ad esempio aggiungere perturbativamente le interazioni tra gli elettroni. Questa tecnica prende il nome di Møller-Plesset. Nel nostro caso consideriamo una perturbazione al secondo ordine.\n"
   ]
  },
  {
   "cell_type": "code",
   "execution_count": 2,
   "metadata": {},
   "outputs": [
    {
     "ename": "TabError",
     "evalue": "inconsistent use of tabs and spaces in indentation (<string>, line 5)",
     "output_type": "error",
     "traceback": [
      "\u001b[0;36m  File \u001b[0;32m<string>:5\u001b[0;36m\u001b[0m\n\u001b[0;31m    cm = arr_molecules[i]['CampoMedio'][j]\u001b[0m\n\u001b[0m                                          ^\u001b[0m\n\u001b[0;31mTabError\u001b[0m\u001b[0;31m:\u001b[0m inconsistent use of tabs and spaces in indentation\n"
     ]
    }
   ],
   "source": [
    "# Per ciascuna base\n",
    "for i in range (len(arr_basis)):\n",
    "    # Per ciascuna distanza\n",
    "    for j in range (len(arr_d)): # è impazzito il notebook: non li uso mai più\n",
    "\t\tcm = arr_molecules[i]['CampoMedio'][j]\n",
    "\t\tmp2   = mp.MP2(cm)\n",
    "\t\te_mp2 = mp2.kernel()[0]\n",
    "\t\te_mp2 += Ehf # <- questa linea è necessaria perché MP2 generalmente mostra l'energia di differenza con HF\n",
    "\t\tarr_energies[i]['MP2'].append(e_mp2)"
   ]
  },
  {
   "cell_type": "code",
   "execution_count": null,
   "metadata": {},
   "outputs": [],
   "source": []
  }
 ],
 "metadata": {
  "kernelspec": {
   "display_name": "cwq",
   "language": "python",
   "name": "python3"
  },
  "language_info": {
   "codemirror_mode": {
    "name": "ipython",
    "version": 3
   },
   "file_extension": ".py",
   "mimetype": "text/x-python",
   "name": "python",
   "nbconvert_exporter": "python",
   "pygments_lexer": "ipython3",
   "version": "3.12.5"
  }
 },
 "nbformat": 4,
 "nbformat_minor": 2
}
