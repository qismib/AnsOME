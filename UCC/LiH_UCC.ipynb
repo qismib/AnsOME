{
 "cells": [
  {
   "cell_type": "markdown",
   "metadata": {},
   "source": [
    "# LiH - Confronti tra metodi UCC ~ 666 min"
   ]
  },
  {
   "cell_type": "code",
   "execution_count": 55,
   "metadata": {},
   "outputs": [],
   "source": [
    "import numpy as np\n",
    "import matplotlib.pyplot as plt"
   ]
  },
  {
   "cell_type": "code",
   "execution_count": 56,
   "metadata": {},
   "outputs": [],
   "source": [
    "# Array distanze e energie\n",
    "arr_distance = np.arange(0.75, 4., 0.25) # 13 punti \n",
    "arr_ground_energy = {}\n",
    "arr_intermediate  = {}\n",
    "arr_results = {}\n",
    "arr_methods = []\n",
    "times = {}"
   ]
  },
  {
   "cell_type": "markdown",
   "metadata": {},
   "source": [
    "## 0 - LiH"
   ]
  },
  {
   "cell_type": "code",
   "execution_count": 57,
   "metadata": {},
   "outputs": [],
   "source": [
    "from pyscf import gto, scf, fci\n",
    "from qiskit_nature.units import DistanceUnit\n",
    "from qiskit_nature.second_q.drivers  import PySCFDriver\n",
    "from qiskit_nature.second_q.problems import ElectronicStructureProblem"
   ]
  },
  {
   "cell_type": "code",
   "execution_count": 58,
   "metadata": {},
   "outputs": [],
   "source": [
    "def generate_LiH_mol (distance: float = 0.1, basis: str = 'sto3g'):\n",
    "    LiH = \"Li .0 .0 .0; H .0 .0 \" + str(distance)\n",
    "    \n",
    "    mol = gto.M(\n",
    "        atom=LiH,\n",
    "        charge=0,\n",
    "        spin=0,\n",
    "        basis=basis,\n",
    "        symmetry=True,\n",
    "        verbose=0\n",
    "    )\n",
    "    \n",
    "    driver = PySCFDriver(\n",
    "        atom=LiH,\n",
    "        basis=basis, \n",
    "        charge=0,\n",
    "        spin=0,\n",
    "        unit=DistanceUnit.ANGSTROM,\n",
    "    )    \n",
    "    \n",
    "    problem = driver.run()\n",
    "    \n",
    "    return mol, problem\n",
    "    \n",
    "    "
   ]
  },
  {
   "cell_type": "markdown",
   "metadata": {},
   "source": [
    "### 0.1 - FCI"
   ]
  },
  {
   "cell_type": "code",
   "execution_count": 59,
   "metadata": {},
   "outputs": [],
   "source": [
    "arr_ground_energy['FCI'] = []\n",
    "arr_results['FCI'] = []\n",
    "arr_methods.append('FCI')\n",
    "\n",
    "def compute_fci_energy (mol):\n",
    "    # per ciascuna molecola calcolo il campo medio con restricted HF \n",
    "    cm  = scf.RHF(mol) # campo medio\n",
    "    cm.kernel() # questo va runnato a prescindere\n",
    "    \n",
    "    # per ciascuna molecola calcolo FCI\n",
    "    fci_calc = fci.FCI(cm) # <- nei metodi correlati passiamo come argomento un conto di campo medio, HF\n",
    "    e_FCI = fci_calc.kernel()[0]\n",
    "\n",
    "    return e_FCI"
   ]
  },
  {
   "cell_type": "markdown",
   "metadata": {},
   "source": [
    "## 1- UCC Methods"
   ]
  },
  {
   "cell_type": "code",
   "execution_count": 60,
   "metadata": {},
   "outputs": [],
   "source": [
    "from qiskit_nature.second_q.circuit.library import HartreeFock, UCC, PUCCD\n",
    "from qiskit_nature.second_q.mappers import QubitMapper, JordanWignerMapper, ParityMapper"
   ]
  },
  {
   "cell_type": "markdown",
   "metadata": {},
   "source": [
    "### 1.1 - UCCS"
   ]
  },
  {
   "cell_type": "code",
   "execution_count": 61,
   "metadata": {},
   "outputs": [],
   "source": [
    "arr_ground_energy['UCCS'] = []\n",
    "arr_intermediate ['UCCS'] = []\n",
    "arr_results['UCCS'] = []\n",
    "arr_methods.append('UCCS')\n",
    "ini_uccs = None\n",
    "times['UCCS'] = None\n",
    "\n",
    "def generate_uccs_ansatz (problem: ElectronicStructureProblem, mapper: QubitMapper = JordanWignerMapper()):\n",
    "    uccs = UCC(\n",
    "        num_spatial_orbitals=problem.num_spatial_orbitals,\n",
    "        num_particles=problem.num_particles,\n",
    "        excitations='s',\n",
    "        qubit_mapper=mapper,\n",
    "        initial_state=HartreeFock(\n",
    "            problem.num_spatial_orbitals,\n",
    "            problem.num_particles,\n",
    "            mapper,\n",
    "        ),\n",
    "    )\n",
    "    \n",
    "    ini_uccs = [0. for _ in range(uccs.num_parameters)]\n",
    "    \n",
    "    return uccs"
   ]
  },
  {
   "cell_type": "markdown",
   "metadata": {},
   "source": [
    "### 1.2 - UCCD "
   ]
  },
  {
   "cell_type": "code",
   "execution_count": 62,
   "metadata": {},
   "outputs": [],
   "source": [
    "arr_ground_energy['UCCD'] = []\n",
    "arr_intermediate ['UCCD'] = []\n",
    "arr_results['UCCD'] = []\n",
    "arr_methods.append('UCCD')\n",
    "ini_uccd = None\n",
    "times['UCCD'] = None\n",
    "\n",
    "def generate_uccd_ansatz (problem: ElectronicStructureProblem, mapper: QubitMapper = JordanWignerMapper()):\n",
    "    uccd = UCC(\n",
    "        num_spatial_orbitals=problem.num_spatial_orbitals,\n",
    "        num_particles=problem.num_particles,\n",
    "        excitations='d',\n",
    "        qubit_mapper=mapper,\n",
    "        initial_state=HartreeFock(\n",
    "            problem.num_spatial_orbitals,\n",
    "            problem.num_particles,\n",
    "            mapper,\n",
    "        ),\n",
    "    )\n",
    "    \n",
    "    ini_uccd = [0. for _ in range(uccd.num_parameters)]\n",
    "    \n",
    "    return uccd"
   ]
  },
  {
   "cell_type": "markdown",
   "metadata": {},
   "source": [
    "### 1.3 - UCCSD"
   ]
  },
  {
   "cell_type": "code",
   "execution_count": 63,
   "metadata": {},
   "outputs": [],
   "source": [
    "arr_ground_energy['UCCSD'] = []\n",
    "arr_intermediate ['UCCSD'] = []\n",
    "arr_results['UCCSD'] = []\n",
    "arr_methods.append('UCCSD')\n",
    "ini_uccsd = None\n",
    "times['UCCSD'] = None\n",
    "\n",
    "def generate_uccsd_ansatz (problem: ElectronicStructureProblem, mapper: QubitMapper = JordanWignerMapper()):\n",
    "    uccsd = UCC(\n",
    "        num_spatial_orbitals=problem.num_spatial_orbitals,\n",
    "        num_particles=problem.num_particles,\n",
    "        excitations='sd',\n",
    "        qubit_mapper=mapper,\n",
    "        initial_state=HartreeFock(\n",
    "            problem.num_spatial_orbitals,\n",
    "            problem.num_particles,\n",
    "            mapper,\n",
    "        ),\n",
    "    )\n",
    "    \n",
    "    ini_uccsd = [0. for _ in range(uccsd.num_parameters)]\n",
    "    \n",
    "    return uccsd"
   ]
  },
  {
   "cell_type": "markdown",
   "metadata": {},
   "source": [
    "### 1.4 - pUCCD"
   ]
  },
  {
   "cell_type": "code",
   "execution_count": 64,
   "metadata": {},
   "outputs": [],
   "source": [
    "arr_ground_energy['pUCCD'] = []\n",
    "arr_intermediate ['pUCCD'] = []\n",
    "arr_results['pUCCD'] = []\n",
    "arr_methods.append('pUCCD')\n",
    "ini_puccd = None\n",
    "times['pUCCD'] = None\n",
    "\n",
    "def generate_puccd_ansatz (problem: ElectronicStructureProblem, mapper: QubitMapper = JordanWignerMapper()):\n",
    "    \n",
    "    puccd = PUCCD(\n",
    "        problem.num_spatial_orbitals,\n",
    "        problem.num_particles,\n",
    "        mapper,\n",
    "        initial_state=HartreeFock(\n",
    "            problem.num_spatial_orbitals,\n",
    "            problem.num_particles,\n",
    "            mapper,\n",
    "        ),\n",
    "    )\n",
    "    \n",
    "    ini_puccd = [0. for _ in range(puccd.num_parameters)]\n",
    "    \n",
    "    return puccd"
   ]
  },
  {
   "cell_type": "markdown",
   "metadata": {},
   "source": [
    "## 2 - Solver"
   ]
  },
  {
   "cell_type": "code",
   "execution_count": 65,
   "metadata": {},
   "outputs": [],
   "source": [
    "from qiskit_algorithms import VQE\n",
    "from qiskit_algorithms.optimizers import COBYLA, SLSQP, NFT, L_BFGS_B\n",
    "from qiskit.primitives import Estimator \n",
    "from qiskit_nature.second_q.algorithms import GroundStateEigensolver"
   ]
  },
  {
   "cell_type": "code",
   "execution_count": 66,
   "metadata": {},
   "outputs": [],
   "source": [
    "# vettori che andranno a raccogliere i risultati delle varie iterazioni dell'algoritmo\n",
    "counts = []\n",
    "values = []\n",
    "\n",
    "def store_intermediate_result(eval_count, parameters, mean, std):\n",
    "    counts.append(eval_count)\n",
    "    values.append(mean)"
   ]
  },
  {
   "cell_type": "code",
   "execution_count": 67,
   "metadata": {},
   "outputs": [],
   "source": [
    "def solve_problem (problem: ElectronicStructureProblem, \n",
    "                   ansatz: UCC, \n",
    "                   intermediate: list = None,\n",
    "                   ini: np.ndarray = None, \n",
    "                   opt=SLSQP(maxiter=1000), \n",
    "                   mapper: QubitMapper = JordanWignerMapper()):\n",
    "    \n",
    "    counts = []\n",
    "    values = []\n",
    "\n",
    "    def store_intermediate_result(eval_count, parameters, mean, std):\n",
    "        counts.append(eval_count)\n",
    "        values.append(mean)\n",
    "\n",
    "    vqe_solver = VQE( Estimator(), ansatz, opt, callback=store_intermediate_result)\n",
    "    \n",
    "    if ini is None:\n",
    "        ini = [0.0] * ansatz.num_parameters\n",
    "    else:\n",
    "        vqe_solver.initial_point = ini\n",
    "    \n",
    "    calc = GroundStateEigensolver(mapper, vqe_solver)\n",
    "\n",
    "    res = calc.solve(problem)\n",
    "    \n",
    "    # conservo i valori intermedi\n",
    "    if intermediate is not None:\n",
    "        intermediate = [counts,values]\n",
    "    \n",
    "    \n",
    "    return res"
   ]
  },
  {
   "cell_type": "markdown",
   "metadata": {},
   "source": [
    "## 3 - Ex"
   ]
  },
  {
   "cell_type": "code",
   "execution_count": 68,
   "metadata": {},
   "outputs": [],
   "source": [
    "# Parametri per la risoluzione\n",
    "opt    = SLSQP(ftol=1E-06, tol=1E-06, eps=1.5E-06)\n",
    "mapper = JordanWignerMapper()\n",
    "basis  = 'sto3g'\n",
    "\n",
    "# Per conservare i tempi di esecuzione\n",
    "from time import time"
   ]
  },
  {
   "cell_type": "code",
   "execution_count": 69,
   "metadata": {},
   "outputs": [
    {
     "name": "stdout",
     "output_type": "stream",
     "text": [
      "FCI:  -7.575486719855826\n"
     ]
    },
    {
     "name": "stderr",
     "output_type": "stream",
     "text": [
      "/var/folders/88/gfgbzsfs2m759nlsp4wspv400000gp/T/ipykernel_23050/2123327750.py:15: DeprecationWarning: The class ``qiskit.primitives.estimator.Estimator`` is deprecated as of qiskit 1.2. It will be removed no earlier than 3 months after the release date. All implementations of the `BaseEstimatorV1` interface have been deprecated in favor of their V2 counterparts. The V2 alternative for the `Estimator` class is `StatevectorEstimator`.\n",
      "  vqe_solver = VQE( Estimator(), ansatz, opt, callback=store_intermediate_result)\n"
     ]
    },
    {
     "name": "stdout",
     "output_type": "stream",
     "text": [
      "UCCS:  -7.5567208252177505  | time:  38.50250768661499\n"
     ]
    },
    {
     "name": "stderr",
     "output_type": "stream",
     "text": [
      "/var/folders/88/gfgbzsfs2m759nlsp4wspv400000gp/T/ipykernel_23050/2123327750.py:15: DeprecationWarning: The class ``qiskit.primitives.estimator.Estimator`` is deprecated as of qiskit 1.2. It will be removed no earlier than 3 months after the release date. All implementations of the `BaseEstimatorV1` interface have been deprecated in favor of their V2 counterparts. The V2 alternative for the `Estimator` class is `StatevectorEstimator`.\n",
      "  vqe_solver = VQE( Estimator(), ansatz, opt, callback=store_intermediate_result)\n"
     ]
    },
    {
     "name": "stdout",
     "output_type": "stream",
     "text": [
      "UCCD:  -5.144865111682625  | time:  2623.8296461105347\n"
     ]
    },
    {
     "name": "stderr",
     "output_type": "stream",
     "text": [
      "/var/folders/88/gfgbzsfs2m759nlsp4wspv400000gp/T/ipykernel_23050/2123327750.py:15: DeprecationWarning: The class ``qiskit.primitives.estimator.Estimator`` is deprecated as of qiskit 1.2. It will be removed no earlier than 3 months after the release date. All implementations of the `BaseEstimatorV1` interface have been deprecated in favor of their V2 counterparts. The V2 alternative for the `Estimator` class is `StatevectorEstimator`.\n",
      "  vqe_solver = VQE( Estimator(), ansatz, opt, callback=store_intermediate_result)\n"
     ]
    },
    {
     "name": "stdout",
     "output_type": "stream",
     "text": [
      "pUCCD:  -7.572531653208312  | time:  27.154958963394165\n",
      "FCI:  -7.784460280031202\n"
     ]
    },
    {
     "name": "stderr",
     "output_type": "stream",
     "text": [
      "/var/folders/88/gfgbzsfs2m759nlsp4wspv400000gp/T/ipykernel_23050/2123327750.py:15: DeprecationWarning: The class ``qiskit.primitives.estimator.Estimator`` is deprecated as of qiskit 1.2. It will be removed no earlier than 3 months after the release date. All implementations of the `BaseEstimatorV1` interface have been deprecated in favor of their V2 counterparts. The V2 alternative for the `Estimator` class is `StatevectorEstimator`.\n",
      "  vqe_solver = VQE( Estimator(), ansatz, opt, callback=store_intermediate_result)\n"
     ]
    },
    {
     "name": "stdout",
     "output_type": "stream",
     "text": [
      "UCCS:  -7.7673615526779765  | time:  39.84847283363342\n"
     ]
    },
    {
     "name": "stderr",
     "output_type": "stream",
     "text": [
      "/var/folders/88/gfgbzsfs2m759nlsp4wspv400000gp/T/ipykernel_23050/2123327750.py:15: DeprecationWarning: The class ``qiskit.primitives.estimator.Estimator`` is deprecated as of qiskit 1.2. It will be removed no earlier than 3 months after the release date. All implementations of the `BaseEstimatorV1` interface have been deprecated in favor of their V2 counterparts. The V2 alternative for the `Estimator` class is `StatevectorEstimator`.\n",
      "  vqe_solver = VQE( Estimator(), ansatz, opt, callback=store_intermediate_result)\n"
     ]
    },
    {
     "name": "stdout",
     "output_type": "stream",
     "text": [
      "UCCD:  -5.439296780287164  | time:  1628.9110577106476\n"
     ]
    },
    {
     "name": "stderr",
     "output_type": "stream",
     "text": [
      "/var/folders/88/gfgbzsfs2m759nlsp4wspv400000gp/T/ipykernel_23050/2123327750.py:15: DeprecationWarning: The class ``qiskit.primitives.estimator.Estimator`` is deprecated as of qiskit 1.2. It will be removed no earlier than 3 months after the release date. All implementations of the `BaseEstimatorV1` interface have been deprecated in favor of their V2 counterparts. The V2 alternative for the `Estimator` class is `StatevectorEstimator`.\n",
      "  vqe_solver = VQE( Estimator(), ansatz, opt, callback=store_intermediate_result)\n"
     ]
    },
    {
     "name": "stdout",
     "output_type": "stream",
     "text": [
      "pUCCD:  -7.78148947253342  | time:  40.991652965545654\n",
      "FCI:  -7.861861440547585\n"
     ]
    },
    {
     "name": "stderr",
     "output_type": "stream",
     "text": [
      "/var/folders/88/gfgbzsfs2m759nlsp4wspv400000gp/T/ipykernel_23050/2123327750.py:15: DeprecationWarning: The class ``qiskit.primitives.estimator.Estimator`` is deprecated as of qiskit 1.2. It will be removed no earlier than 3 months after the release date. All implementations of the `BaseEstimatorV1` interface have been deprecated in favor of their V2 counterparts. The V2 alternative for the `Estimator` class is `StatevectorEstimator`.\n",
      "  vqe_solver = VQE( Estimator(), ansatz, opt, callback=store_intermediate_result)\n"
     ]
    },
    {
     "name": "stdout",
     "output_type": "stream",
     "text": [
      "UCCS:  -7.71982612362782  | time:  27.77035093307495\n"
     ]
    },
    {
     "name": "stderr",
     "output_type": "stream",
     "text": [
      "/var/folders/88/gfgbzsfs2m759nlsp4wspv400000gp/T/ipykernel_23050/2123327750.py:15: DeprecationWarning: The class ``qiskit.primitives.estimator.Estimator`` is deprecated as of qiskit 1.2. It will be removed no earlier than 3 months after the release date. All implementations of the `BaseEstimatorV1` interface have been deprecated in favor of their V2 counterparts. The V2 alternative for the `Estimator` class is `StatevectorEstimator`.\n",
      "  vqe_solver = VQE( Estimator(), ansatz, opt, callback=store_intermediate_result)\n"
     ]
    },
    {
     "name": "stdout",
     "output_type": "stream",
     "text": [
      "UCCD:  -5.55524078540466  | time:  1884.601145029068\n"
     ]
    },
    {
     "name": "stderr",
     "output_type": "stream",
     "text": [
      "/var/folders/88/gfgbzsfs2m759nlsp4wspv400000gp/T/ipykernel_23050/2123327750.py:15: DeprecationWarning: The class ``qiskit.primitives.estimator.Estimator`` is deprecated as of qiskit 1.2. It will be removed no earlier than 3 months after the release date. All implementations of the `BaseEstimatorV1` interface have been deprecated in favor of their V2 counterparts. The V2 alternative for the `Estimator` class is `StatevectorEstimator`.\n",
      "  vqe_solver = VQE( Estimator(), ansatz, opt, callback=store_intermediate_result)\n"
     ]
    },
    {
     "name": "stdout",
     "output_type": "stream",
     "text": [
      "pUCCD:  -7.858675360446979  | time:  57.9260151386261\n",
      "FCI:  -7.882362286798695\n"
     ]
    },
    {
     "name": "stderr",
     "output_type": "stream",
     "text": [
      "/var/folders/88/gfgbzsfs2m759nlsp4wspv400000gp/T/ipykernel_23050/2123327750.py:15: DeprecationWarning: The class ``qiskit.primitives.estimator.Estimator`` is deprecated as of qiskit 1.2. It will be removed no earlier than 3 months after the release date. All implementations of the `BaseEstimatorV1` interface have been deprecated in favor of their V2 counterparts. The V2 alternative for the `Estimator` class is `StatevectorEstimator`.\n",
      "  vqe_solver = VQE( Estimator(), ansatz, opt, callback=store_intermediate_result)\n"
     ]
    },
    {
     "name": "stdout",
     "output_type": "stream",
     "text": [
      "UCCS:  -7.748105570739249  | time:  30.237790822982788\n"
     ]
    },
    {
     "name": "stderr",
     "output_type": "stream",
     "text": [
      "/var/folders/88/gfgbzsfs2m759nlsp4wspv400000gp/T/ipykernel_23050/2123327750.py:15: DeprecationWarning: The class ``qiskit.primitives.estimator.Estimator`` is deprecated as of qiskit 1.2. It will be removed no earlier than 3 months after the release date. All implementations of the `BaseEstimatorV1` interface have been deprecated in favor of their V2 counterparts. The V2 alternative for the `Estimator` class is `StatevectorEstimator`.\n",
      "  vqe_solver = VQE( Estimator(), ansatz, opt, callback=store_intermediate_result)\n"
     ]
    },
    {
     "name": "stdout",
     "output_type": "stream",
     "text": [
      "UCCD:  -5.601128974687714  | time:  3384.5792310237885\n"
     ]
    },
    {
     "name": "stderr",
     "output_type": "stream",
     "text": [
      "/var/folders/88/gfgbzsfs2m759nlsp4wspv400000gp/T/ipykernel_23050/2123327750.py:15: DeprecationWarning: The class ``qiskit.primitives.estimator.Estimator`` is deprecated as of qiskit 1.2. It will be removed no earlier than 3 months after the release date. All implementations of the `BaseEstimatorV1` interface have been deprecated in favor of their V2 counterparts. The V2 alternative for the `Estimator` class is `StatevectorEstimator`.\n",
      "  vqe_solver = VQE( Estimator(), ansatz, opt, callback=store_intermediate_result)\n"
     ]
    },
    {
     "name": "stdout",
     "output_type": "stream",
     "text": [
      "pUCCD:  -7.8784302806431254  | time:  33.35940098762512\n",
      "FCI:  -7.8771870023045025\n"
     ]
    },
    {
     "name": "stderr",
     "output_type": "stream",
     "text": [
      "/var/folders/88/gfgbzsfs2m759nlsp4wspv400000gp/T/ipykernel_23050/2123327750.py:15: DeprecationWarning: The class ``qiskit.primitives.estimator.Estimator`` is deprecated as of qiskit 1.2. It will be removed no earlier than 3 months after the release date. All implementations of the `BaseEstimatorV1` interface have been deprecated in favor of their V2 counterparts. The V2 alternative for the `Estimator` class is `StatevectorEstimator`.\n",
      "  vqe_solver = VQE( Estimator(), ansatz, opt, callback=store_intermediate_result)\n"
     ]
    },
    {
     "name": "stdout",
     "output_type": "stream",
     "text": [
      "UCCS:  -7.757241697620339  | time:  26.85959005355835\n"
     ]
    },
    {
     "name": "stderr",
     "output_type": "stream",
     "text": [
      "/var/folders/88/gfgbzsfs2m759nlsp4wspv400000gp/T/ipykernel_23050/2123327750.py:15: DeprecationWarning: The class ``qiskit.primitives.estimator.Estimator`` is deprecated as of qiskit 1.2. It will be removed no earlier than 3 months after the release date. All implementations of the `BaseEstimatorV1` interface have been deprecated in favor of their V2 counterparts. The V2 alternative for the `Estimator` class is `StatevectorEstimator`.\n",
      "  vqe_solver = VQE( Estimator(), ansatz, opt, callback=store_intermediate_result)\n"
     ]
    },
    {
     "name": "stdout",
     "output_type": "stream",
     "text": [
      "UCCD:  -5.615029809136499  | time:  1631.2176840305328\n"
     ]
    },
    {
     "name": "stderr",
     "output_type": "stream",
     "text": [
      "/var/folders/88/gfgbzsfs2m759nlsp4wspv400000gp/T/ipykernel_23050/2123327750.py:15: DeprecationWarning: The class ``qiskit.primitives.estimator.Estimator`` is deprecated as of qiskit 1.2. It will be removed no earlier than 3 months after the release date. All implementations of the `BaseEstimatorV1` interface have been deprecated in favor of their V2 counterparts. The V2 alternative for the `Estimator` class is `StatevectorEstimator`.\n",
      "  vqe_solver = VQE( Estimator(), ansatz, opt, callback=store_intermediate_result)\n"
     ]
    },
    {
     "name": "stdout",
     "output_type": "stream",
     "text": [
      "pUCCD:  -7.8717499605949985  | time:  30.746669054031372\n",
      "FCI:  -7.861087772481412\n"
     ]
    },
    {
     "name": "stderr",
     "output_type": "stream",
     "text": [
      "/var/folders/88/gfgbzsfs2m759nlsp4wspv400000gp/T/ipykernel_23050/2123327750.py:15: DeprecationWarning: The class ``qiskit.primitives.estimator.Estimator`` is deprecated as of qiskit 1.2. It will be removed no earlier than 3 months after the release date. All implementations of the `BaseEstimatorV1` interface have been deprecated in favor of their V2 counterparts. The V2 alternative for the `Estimator` class is `StatevectorEstimator`.\n",
      "  vqe_solver = VQE( Estimator(), ansatz, opt, callback=store_intermediate_result)\n"
     ]
    },
    {
     "name": "stdout",
     "output_type": "stream",
     "text": [
      "UCCS:  -7.830904875416687  | time:  56.96859908103943\n"
     ]
    },
    {
     "name": "stderr",
     "output_type": "stream",
     "text": [
      "/var/folders/88/gfgbzsfs2m759nlsp4wspv400000gp/T/ipykernel_23050/2123327750.py:15: DeprecationWarning: The class ``qiskit.primitives.estimator.Estimator`` is deprecated as of qiskit 1.2. It will be removed no earlier than 3 months after the release date. All implementations of the `BaseEstimatorV1` interface have been deprecated in favor of their V2 counterparts. The V2 alternative for the `Estimator` class is `StatevectorEstimator`.\n",
      "  vqe_solver = VQE( Estimator(), ansatz, opt, callback=store_intermediate_result)\n"
     ]
    },
    {
     "name": "stdout",
     "output_type": "stream",
     "text": [
      "UCCD:  -5.612854305444452  | time:  2069.5927698612213\n"
     ]
    },
    {
     "name": "stderr",
     "output_type": "stream",
     "text": [
      "/var/folders/88/gfgbzsfs2m759nlsp4wspv400000gp/T/ipykernel_23050/2123327750.py:15: DeprecationWarning: The class ``qiskit.primitives.estimator.Estimator`` is deprecated as of qiskit 1.2. It will be removed no earlier than 3 months after the release date. All implementations of the `BaseEstimatorV1` interface have been deprecated in favor of their V2 counterparts. The V2 alternative for the `Estimator` class is `StatevectorEstimator`.\n",
      "  vqe_solver = VQE( Estimator(), ansatz, opt, callback=store_intermediate_result)\n"
     ]
    },
    {
     "name": "stdout",
     "output_type": "stream",
     "text": [
      "pUCCD:  -7.852921994300122  | time:  71.40553903579712\n",
      "FCI:  -7.841817859457468\n"
     ]
    },
    {
     "name": "stderr",
     "output_type": "stream",
     "text": [
      "/var/folders/88/gfgbzsfs2m759nlsp4wspv400000gp/T/ipykernel_23050/2123327750.py:15: DeprecationWarning: The class ``qiskit.primitives.estimator.Estimator`` is deprecated as of qiskit 1.2. It will be removed no earlier than 3 months after the release date. All implementations of the `BaseEstimatorV1` interface have been deprecated in favor of their V2 counterparts. The V2 alternative for the `Estimator` class is `StatevectorEstimator`.\n",
      "  vqe_solver = VQE( Estimator(), ansatz, opt, callback=store_intermediate_result)\n"
     ]
    },
    {
     "name": "stdout",
     "output_type": "stream",
     "text": [
      "UCCS:  -7.7526849667103335  | time:  31.691619157791138\n"
     ]
    },
    {
     "name": "stderr",
     "output_type": "stream",
     "text": [
      "/var/folders/88/gfgbzsfs2m759nlsp4wspv400000gp/T/ipykernel_23050/2123327750.py:15: DeprecationWarning: The class ``qiskit.primitives.estimator.Estimator`` is deprecated as of qiskit 1.2. It will be removed no earlier than 3 months after the release date. All implementations of the `BaseEstimatorV1` interface have been deprecated in favor of their V2 counterparts. The V2 alternative for the `Estimator` class is `StatevectorEstimator`.\n",
      "  vqe_solver = VQE( Estimator(), ansatz, opt, callback=store_intermediate_result)\n"
     ]
    },
    {
     "name": "stdout",
     "output_type": "stream",
     "text": [
      "UCCD:  -5.602267284413702  | time:  1711.4583489894867\n"
     ]
    },
    {
     "name": "stderr",
     "output_type": "stream",
     "text": [
      "/var/folders/88/gfgbzsfs2m759nlsp4wspv400000gp/T/ipykernel_23050/2123327750.py:15: DeprecationWarning: The class ``qiskit.primitives.estimator.Estimator`` is deprecated as of qiskit 1.2. It will be removed no earlier than 3 months after the release date. All implementations of the `BaseEstimatorV1` interface have been deprecated in favor of their V2 counterparts. The V2 alternative for the `Estimator` class is `StatevectorEstimator`.\n",
      "  vqe_solver = VQE( Estimator(), ansatz, opt, callback=store_intermediate_result)\n"
     ]
    },
    {
     "name": "stdout",
     "output_type": "stream",
     "text": [
      "pUCCD:  -7.828908635167847  | time:  31.126244068145752\n",
      "FCI:  -7.823723883467548\n"
     ]
    },
    {
     "name": "stderr",
     "output_type": "stream",
     "text": [
      "/var/folders/88/gfgbzsfs2m759nlsp4wspv400000gp/T/ipykernel_23050/2123327750.py:15: DeprecationWarning: The class ``qiskit.primitives.estimator.Estimator`` is deprecated as of qiskit 1.2. It will be removed no earlier than 3 months after the release date. All implementations of the `BaseEstimatorV1` interface have been deprecated in favor of their V2 counterparts. The V2 alternative for the `Estimator` class is `StatevectorEstimator`.\n",
      "  vqe_solver = VQE( Estimator(), ansatz, opt, callback=store_intermediate_result)\n"
     ]
    },
    {
     "name": "stdout",
     "output_type": "stream",
     "text": [
      "UCCS:  -7.798581019541136  | time:  57.426745891571045\n"
     ]
    },
    {
     "name": "stderr",
     "output_type": "stream",
     "text": [
      "/var/folders/88/gfgbzsfs2m759nlsp4wspv400000gp/T/ipykernel_23050/2123327750.py:15: DeprecationWarning: The class ``qiskit.primitives.estimator.Estimator`` is deprecated as of qiskit 1.2. It will be removed no earlier than 3 months after the release date. All implementations of the `BaseEstimatorV1` interface have been deprecated in favor of their V2 counterparts. The V2 alternative for the `Estimator` class is `StatevectorEstimator`.\n",
      "  vqe_solver = VQE( Estimator(), ansatz, opt, callback=store_intermediate_result)\n"
     ]
    },
    {
     "name": "stdout",
     "output_type": "stream",
     "text": [
      "UCCD:  -5.587104303322935  | time:  2456.2384510040283\n"
     ]
    },
    {
     "name": "stderr",
     "output_type": "stream",
     "text": [
      "/var/folders/88/gfgbzsfs2m759nlsp4wspv400000gp/T/ipykernel_23050/2123327750.py:15: DeprecationWarning: The class ``qiskit.primitives.estimator.Estimator`` is deprecated as of qiskit 1.2. It will be removed no earlier than 3 months after the release date. All implementations of the `BaseEstimatorV1` interface have been deprecated in favor of their V2 counterparts. The V2 alternative for the `Estimator` class is `StatevectorEstimator`.\n",
      "  vqe_solver = VQE( Estimator(), ansatz, opt, callback=store_intermediate_result)\n"
     ]
    },
    {
     "name": "stdout",
     "output_type": "stream",
     "text": [
      "pUCCD:  -7.80291863328535  | time:  26.335015296936035\n",
      "FCI:  -7.809162297674551\n"
     ]
    },
    {
     "name": "stderr",
     "output_type": "stream",
     "text": [
      "/var/folders/88/gfgbzsfs2m759nlsp4wspv400000gp/T/ipykernel_23050/2123327750.py:15: DeprecationWarning: The class ``qiskit.primitives.estimator.Estimator`` is deprecated as of qiskit 1.2. It will be removed no earlier than 3 months after the release date. All implementations of the `BaseEstimatorV1` interface have been deprecated in favor of their V2 counterparts. The V2 alternative for the `Estimator` class is `StatevectorEstimator`.\n",
      "  vqe_solver = VQE( Estimator(), ansatz, opt, callback=store_intermediate_result)\n"
     ]
    },
    {
     "name": "stdout",
     "output_type": "stream",
     "text": [
      "UCCS:  -7.792019630414791  | time:  42.099534034729004\n"
     ]
    },
    {
     "name": "stderr",
     "output_type": "stream",
     "text": [
      "/var/folders/88/gfgbzsfs2m759nlsp4wspv400000gp/T/ipykernel_23050/2123327750.py:15: DeprecationWarning: The class ``qiskit.primitives.estimator.Estimator`` is deprecated as of qiskit 1.2. It will be removed no earlier than 3 months after the release date. All implementations of the `BaseEstimatorV1` interface have been deprecated in favor of their V2 counterparts. The V2 alternative for the `Estimator` class is `StatevectorEstimator`.\n",
      "  vqe_solver = VQE( Estimator(), ansatz, opt, callback=store_intermediate_result)\n"
     ]
    },
    {
     "name": "stdout",
     "output_type": "stream",
     "text": [
      "UCCD:  -5.569282099208283  | time:  6526.438143253326\n"
     ]
    },
    {
     "name": "stderr",
     "output_type": "stream",
     "text": [
      "/var/folders/88/gfgbzsfs2m759nlsp4wspv400000gp/T/ipykernel_23050/2123327750.py:15: DeprecationWarning: The class ``qiskit.primitives.estimator.Estimator`` is deprecated as of qiskit 1.2. It will be removed no earlier than 3 months after the release date. All implementations of the `BaseEstimatorV1` interface have been deprecated in favor of their V2 counterparts. The V2 alternative for the `Estimator` class is `StatevectorEstimator`.\n",
      "  vqe_solver = VQE( Estimator(), ansatz, opt, callback=store_intermediate_result)\n"
     ]
    },
    {
     "name": "stdout",
     "output_type": "stream",
     "text": [
      "pUCCD:  -7.7762001065946  | time:  20.85828995704651\n",
      "FCI:  -7.798843159502388\n"
     ]
    },
    {
     "name": "stderr",
     "output_type": "stream",
     "text": [
      "/var/folders/88/gfgbzsfs2m759nlsp4wspv400000gp/T/ipykernel_23050/2123327750.py:15: DeprecationWarning: The class ``qiskit.primitives.estimator.Estimator`` is deprecated as of qiskit 1.2. It will be removed no earlier than 3 months after the release date. All implementations of the `BaseEstimatorV1` interface have been deprecated in favor of their V2 counterparts. The V2 alternative for the `Estimator` class is `StatevectorEstimator`.\n",
      "  vqe_solver = VQE( Estimator(), ansatz, opt, callback=store_intermediate_result)\n"
     ]
    },
    {
     "name": "stdout",
     "output_type": "stream",
     "text": [
      "UCCS:  -5.726130044081616  | time:  32.826074838638306\n"
     ]
    },
    {
     "name": "stderr",
     "output_type": "stream",
     "text": [
      "/var/folders/88/gfgbzsfs2m759nlsp4wspv400000gp/T/ipykernel_23050/2123327750.py:15: DeprecationWarning: The class ``qiskit.primitives.estimator.Estimator`` is deprecated as of qiskit 1.2. It will be removed no earlier than 3 months after the release date. All implementations of the `BaseEstimatorV1` interface have been deprecated in favor of their V2 counterparts. The V2 alternative for the `Estimator` class is `StatevectorEstimator`.\n",
      "  vqe_solver = VQE( Estimator(), ansatz, opt, callback=store_intermediate_result)\n"
     ]
    },
    {
     "name": "stdout",
     "output_type": "stream",
     "text": [
      "UCCD:  -5.549964712257284  | time:  2349.0127539634705\n"
     ]
    },
    {
     "name": "stderr",
     "output_type": "stream",
     "text": [
      "/var/folders/88/gfgbzsfs2m759nlsp4wspv400000gp/T/ipykernel_23050/2123327750.py:15: DeprecationWarning: The class ``qiskit.primitives.estimator.Estimator`` is deprecated as of qiskit 1.2. It will be removed no earlier than 3 months after the release date. All implementations of the `BaseEstimatorV1` interface have been deprecated in favor of their V2 counterparts. The V2 alternative for the `Estimator` class is `StatevectorEstimator`.\n",
      "  vqe_solver = VQE( Estimator(), ansatz, opt, callback=store_intermediate_result)\n"
     ]
    },
    {
     "name": "stdout",
     "output_type": "stream",
     "text": [
      "pUCCD:  -7.749589772271493  | time:  22.99659299850464\n",
      "FCI:  -7.792184472005113\n"
     ]
    },
    {
     "name": "stderr",
     "output_type": "stream",
     "text": [
      "/var/folders/88/gfgbzsfs2m759nlsp4wspv400000gp/T/ipykernel_23050/2123327750.py:15: DeprecationWarning: The class ``qiskit.primitives.estimator.Estimator`` is deprecated as of qiskit 1.2. It will be removed no earlier than 3 months after the release date. All implementations of the `BaseEstimatorV1` interface have been deprecated in favor of their V2 counterparts. The V2 alternative for the `Estimator` class is `StatevectorEstimator`.\n",
      "  vqe_solver = VQE( Estimator(), ansatz, opt, callback=store_intermediate_result)\n"
     ]
    },
    {
     "name": "stdout",
     "output_type": "stream",
     "text": [
      "UCCS:  -7.7856715033928605  | time:  60.41572284698486\n"
     ]
    },
    {
     "name": "stderr",
     "output_type": "stream",
     "text": [
      "/var/folders/88/gfgbzsfs2m759nlsp4wspv400000gp/T/ipykernel_23050/2123327750.py:15: DeprecationWarning: The class ``qiskit.primitives.estimator.Estimator`` is deprecated as of qiskit 1.2. It will be removed no earlier than 3 months after the release date. All implementations of the `BaseEstimatorV1` interface have been deprecated in favor of their V2 counterparts. The V2 alternative for the `Estimator` class is `StatevectorEstimator`.\n",
      "  vqe_solver = VQE( Estimator(), ansatz, opt, callback=store_intermediate_result)\n"
     ]
    },
    {
     "name": "stdout",
     "output_type": "stream",
     "text": [
      "UCCD:  -5.530239497037693  | time:  4759.962714910507\n"
     ]
    },
    {
     "name": "stderr",
     "output_type": "stream",
     "text": [
      "/var/folders/88/gfgbzsfs2m759nlsp4wspv400000gp/T/ipykernel_23050/2123327750.py:15: DeprecationWarning: The class ``qiskit.primitives.estimator.Estimator`` is deprecated as of qiskit 1.2. It will be removed no earlier than 3 months after the release date. All implementations of the `BaseEstimatorV1` interface have been deprecated in favor of their V2 counterparts. The V2 alternative for the `Estimator` class is `StatevectorEstimator`.\n",
      "  vqe_solver = VQE( Estimator(), ansatz, opt, callback=store_intermediate_result)\n"
     ]
    },
    {
     "name": "stdout",
     "output_type": "stream",
     "text": [
      "pUCCD:  -7.7260599739709  | time:  54.52152991294861\n",
      "FCI:  -7.788115123279003\n"
     ]
    },
    {
     "name": "stderr",
     "output_type": "stream",
     "text": [
      "/var/folders/88/gfgbzsfs2m759nlsp4wspv400000gp/T/ipykernel_23050/2123327750.py:15: DeprecationWarning: The class ``qiskit.primitives.estimator.Estimator`` is deprecated as of qiskit 1.2. It will be removed no earlier than 3 months after the release date. All implementations of the `BaseEstimatorV1` interface have been deprecated in favor of their V2 counterparts. The V2 alternative for the `Estimator` class is `StatevectorEstimator`.\n",
      "  vqe_solver = VQE( Estimator(), ansatz, opt, callback=store_intermediate_result)\n"
     ]
    },
    {
     "name": "stdout",
     "output_type": "stream",
     "text": [
      "UCCS:  -7.784223039615287  | time:  49.89546489715576\n"
     ]
    },
    {
     "name": "stderr",
     "output_type": "stream",
     "text": [
      "/var/folders/88/gfgbzsfs2m759nlsp4wspv400000gp/T/ipykernel_23050/2123327750.py:15: DeprecationWarning: The class ``qiskit.primitives.estimator.Estimator`` is deprecated as of qiskit 1.2. It will be removed no earlier than 3 months after the release date. All implementations of the `BaseEstimatorV1` interface have been deprecated in favor of their V2 counterparts. The V2 alternative for the `Estimator` class is `StatevectorEstimator`.\n",
      "  vqe_solver = VQE( Estimator(), ansatz, opt, callback=store_intermediate_result)\n"
     ]
    },
    {
     "name": "stdout",
     "output_type": "stream",
     "text": [
      "UCCD:  -5.511368868935606  | time:  5375.176586866379\n"
     ]
    },
    {
     "name": "stderr",
     "output_type": "stream",
     "text": [
      "/var/folders/88/gfgbzsfs2m759nlsp4wspv400000gp/T/ipykernel_23050/2123327750.py:15: DeprecationWarning: The class ``qiskit.primitives.estimator.Estimator`` is deprecated as of qiskit 1.2. It will be removed no earlier than 3 months after the release date. All implementations of the `BaseEstimatorV1` interface have been deprecated in favor of their V2 counterparts. The V2 alternative for the `Estimator` class is `StatevectorEstimator`.\n",
      "  vqe_solver = VQE( Estimator(), ansatz, opt, callback=store_intermediate_result)\n"
     ]
    },
    {
     "name": "stdout",
     "output_type": "stream",
     "text": [
      "pUCCD:  -7.7131773624777855  | time:  25.98714590072632\n",
      "FCI:  -7.785695170102024\n"
     ]
    },
    {
     "name": "stderr",
     "output_type": "stream",
     "text": [
      "/var/folders/88/gfgbzsfs2m759nlsp4wspv400000gp/T/ipykernel_23050/2123327750.py:15: DeprecationWarning: The class ``qiskit.primitives.estimator.Estimator`` is deprecated as of qiskit 1.2. It will be removed no earlier than 3 months after the release date. All implementations of the `BaseEstimatorV1` interface have been deprecated in favor of their V2 counterparts. The V2 alternative for the `Estimator` class is `StatevectorEstimator`.\n",
      "  vqe_solver = VQE( Estimator(), ansatz, opt, callback=store_intermediate_result)\n"
     ]
    },
    {
     "name": "stdout",
     "output_type": "stream",
     "text": [
      "UCCS:  -5.720136636245858  | time:  30.73790407180786\n"
     ]
    },
    {
     "name": "stderr",
     "output_type": "stream",
     "text": [
      "/var/folders/88/gfgbzsfs2m759nlsp4wspv400000gp/T/ipykernel_23050/2123327750.py:15: DeprecationWarning: The class ``qiskit.primitives.estimator.Estimator`` is deprecated as of qiskit 1.2. It will be removed no earlier than 3 months after the release date. All implementations of the `BaseEstimatorV1` interface have been deprecated in favor of their V2 counterparts. The V2 alternative for the `Estimator` class is `StatevectorEstimator`.\n",
      "  vqe_solver = VQE( Estimator(), ansatz, opt, callback=store_intermediate_result)\n"
     ]
    },
    {
     "name": "stdout",
     "output_type": "stream",
     "text": [
      "UCCD:  -5.494667951705363  | time:  2564.1065118312836\n"
     ]
    },
    {
     "name": "stderr",
     "output_type": "stream",
     "text": [
      "/var/folders/88/gfgbzsfs2m759nlsp4wspv400000gp/T/ipykernel_23050/2123327750.py:15: DeprecationWarning: The class ``qiskit.primitives.estimator.Estimator`` is deprecated as of qiskit 1.2. It will be removed no earlier than 3 months after the release date. All implementations of the `BaseEstimatorV1` interface have been deprecated in favor of their V2 counterparts. The V2 alternative for the `Estimator` class is `StatevectorEstimator`.\n",
      "  vqe_solver = VQE( Estimator(), ansatz, opt, callback=store_intermediate_result)\n"
     ]
    },
    {
     "name": "stdout",
     "output_type": "stream",
     "text": [
      "pUCCD:  -7.472981762942466  | time:  31.45937728881836\n"
     ]
    }
   ],
   "source": [
    "for distance in arr_distance:\n",
    "    print('------------------', distance, '------------------')\n",
    "    mol, problem = generate_LiH_mol(distance=distance, basis=basis)\n",
    "    \n",
    "    # 0 - FCI\n",
    "    e_FCI = compute_fci_energy(mol=mol)\n",
    "    arr_ground_energy['FCI'].append(e_FCI)\n",
    "    \n",
    "    print('FCI: ', e_FCI)\n",
    "    \n",
    "    # 1 - UCCS \n",
    "    start_time = time()\n",
    "    uccs  = generate_uccs_ansatz (problem=problem, mapper=mapper)\n",
    "    uccs_res = solve_problem(problem=problem,\n",
    "                             ansatz=uccs, \n",
    "                             intermediate=arr_intermediate['UCCS'],\n",
    "                             ini=ini_uccs,\n",
    "                             opt=opt,\n",
    "                             mapper=mapper\n",
    "                            )\n",
    "    # conservo il result\n",
    "    arr_results['UCCS'].append(uccs_res)\n",
    "    # conservo l'energia\n",
    "    e_uccs = uccs_res.groundenergy + uccs_res.nuclear_repulsion_energy\n",
    "    arr_ground_energy['UCCS'].append(e_uccs)\n",
    "    \n",
    "    uccs_time = time() - start_time\n",
    "    print('UCCS: ', e_uccs, ' | time: ', uccs_time)\n",
    "    \n",
    "    # 2 - UCCD\n",
    "    start_time = time()\n",
    "    uccd  = generate_uccd_ansatz (problem=problem, mapper=mapper)\n",
    "    uccd_res = solve_problem(problem=problem,\n",
    "                             ansatz=uccd, \n",
    "                             intermediate=arr_intermediate['UCCD'],\n",
    "                             ini=ini_uccd,\n",
    "                             opt=opt,\n",
    "                             mapper=mapper\n",
    "                            )\n",
    "    # conservo il result\n",
    "    arr_results['UCCD'].append(uccd_res)\n",
    "    # conservo l'energia\n",
    "    e_uccd = uccd_res.groundenergy + uccd_res.nuclear_repulsion_energy\n",
    "    arr_ground_energy['UCCD'].append(e_uccd)\n",
    "    \n",
    "    uccd_time = time() - start_time\n",
    "    print('UCCD: ', e_uccd, ' | time: ', uccd_time)\n",
    "    \n",
    "    ''' FORSE QUESTO È TROPPO IMPEGNATIVO\n",
    "    # 3 - UCCSD  \n",
    "    start_time = time()\n",
    "    uccsd = generate_uccsd_ansatz(problem=problem, mapper=mapper)\n",
    "    uccsd_res = solve_problem(problem=problem,\n",
    "                              ansatz=uccsd, \n",
    "                              intermediate=arr_intermediate['UCCSD'],\n",
    "                              ini=ini_uccsd,\n",
    "                              opt=opt,\n",
    "                              mapper=mapper\n",
    "                             )\n",
    "    # conservo il result\n",
    "    arr_results['UCCSD'].append(uccsd_res)\n",
    "    # conservo l'energia\n",
    "    e_uccsd = uccsd_res.groundenergy + uccsd_res.nuclear_repulsion_energy\n",
    "    arr_ground_energy['UCCSD'].append(e_uccsd)\n",
    "    \n",
    "    uccsd_time = time() - start_time\n",
    "    print('UCCSD: ', e_uccsd, ' | time: ', uccsd_time)\n",
    "    '''\n",
    "    \n",
    "    # 4 - pUCCD\n",
    "    start_time = time()\n",
    "    puccd = generate_puccd_ansatz(problem=problem, mapper=mapper)\n",
    "    puccd_res = solve_problem(problem=problem,\n",
    "                              ansatz=puccd, \n",
    "                              intermediate=arr_intermediate['pUCCD'],\n",
    "                              ini=ini_puccd,\n",
    "                              opt=opt,\n",
    "                              mapper=mapper\n",
    "                             )\n",
    "    # conservo il result\n",
    "    arr_results['pUCCD'].append(puccd_res)\n",
    "    # conservo l'energia\n",
    "    e_puccd = puccd_res.groundenergy + puccd_res.nuclear_repulsion_energy\n",
    "    arr_ground_energy['pUCCD'].append(e_puccd)\n",
    "    \n",
    "    puccd_time = time() - start_time\n",
    "    print('pUCCD: ', e_puccd, ' | time: ', puccd_time)"
   ]
  },
  {
   "cell_type": "markdown",
   "metadata": {},
   "source": [
    "## 4 - Post-process & plotting"
   ]
  },
  {
   "cell_type": "markdown",
   "metadata": {},
   "source": [
    "### 4.1 - Qubits, gates, CNOT"
   ]
  },
  {
   "cell_type": "code",
   "execution_count": 70,
   "metadata": {},
   "outputs": [
    {
     "name": "stdout",
     "output_type": "stream",
     "text": [
      "Num Qubits:\n",
      "\n",
      "- uccs:  12\n",
      "- uccd:  12\n",
      "- uccsd:  12\n",
      "- puccd:  12\n"
     ]
    }
   ],
   "source": [
    "# Num qubits\n",
    "print('Num Qubits:\\n')\n",
    "print('- uccs: ', uccs.num_qubits)\n",
    "print('- uccd: ', uccd.num_qubits)\n",
    "print('- uccsd: ', uccsd.num_qubits)\n",
    "print('- puccd: ', puccd.num_qubits)"
   ]
  },
  {
   "cell_type": "code",
   "execution_count": 1,
   "metadata": {},
   "outputs": [
    {
     "ename": "NameError",
     "evalue": "name 'uccs' is not defined",
     "output_type": "error",
     "traceback": [
      "\u001b[0;31m---------------------------------------------------------------------------\u001b[0m",
      "\u001b[0;31mNameError\u001b[0m                                 Traceback (most recent call last)",
      "Cell \u001b[0;32mIn[1], line 2\u001b[0m\n\u001b[1;32m      1\u001b[0m \u001b[38;5;66;03m# Circuit\u001b[39;00m\n\u001b[0;32m----> 2\u001b[0m uccs\u001b[38;5;241m=\u001b[39m\u001b[43muccs\u001b[49m\u001b[38;5;241m.\u001b[39mdecompose()\n\u001b[1;32m      3\u001b[0m uccs\u001b[38;5;241m.\u001b[39mdraw(\u001b[38;5;124m'\u001b[39m\u001b[38;5;124mmpl\u001b[39m\u001b[38;5;124m'\u001b[39m)\n",
      "\u001b[0;31mNameError\u001b[0m: name 'uccs' is not defined"
     ]
    }
   ],
   "source": [
    "# Circuit\n",
    "uccs=uccs.decompose()\n",
    "uccs.draw('mpl')"
   ]
  },
  {
   "cell_type": "markdown",
   "metadata": {},
   "source": [
    "### 4.2 - Plot"
   ]
  },
  {
   "cell_type": "code",
   "execution_count": 89,
   "metadata": {},
   "outputs": [
    {
     "data": {
      "image/png": "[encoded data removed]",
      "text/plain": [
       "<Figure size 800x700 with 2 Axes>"
      ]
     },
     "metadata": {},
     "output_type": "display_data"
    }
   ],
   "source": [
    "# Zoom sul minimo 1.25<x<1.8 e -7.9<y<-7.85\n",
    "fig, ax = plt.subplots(figsize=[8, 7])\n",
    "                       \n",
    "for met in arr_methods:  \n",
    "    plt.plot(arr_distance, arr_ground_energy[met], label=met)\n",
    "\n",
    "plt.title(\"LiH Ground-State Energy\")\n",
    "plt.xlabel(r\"$d$ $[\\AA]$\")\n",
    "plt.ylabel(r\"Energy $[Ha]$\")\n",
    "plt.grid(linestyle='--')\n",
    "plt.legend()\n",
    "\n",
    "# Aggiungi un inset con zoom\n",
    "# [x0, y0, width, height] specifica la posizione e dimensione del riquadro\n",
    "ax_inset = plt.axes([.34, .4, .25, .25]) \n",
    "\n",
    "\n",
    "# Grafico dentro il grafico (zoom)\n",
    "'''\n",
    "for met in method:  \n",
    "    ax_inset.plot(arr_distance, arr_ground_energy[met])\n",
    "'''\n",
    "\n",
    "# Imposta i limiti di zoom\n",
    "ax_inset.axis(xmin=1.95,xmax=2.8)\n",
    "ax_inset.axis(ymin=-7.875,ymax=-7.745)\n",
    "\n",
    "for met in arr_methods:  \n",
    "    ax_inset.plot(arr_distance, arr_ground_energy[met], label=met)\n",
    "\n",
    "\n",
    "# Aggiungi griglia nel grafico piccolo\n",
    "ax_inset.grid(linestyle='--')\n",
    "ax.indicate_inset_zoom(ax_inset)\n",
    "\n",
    "plt.show()"
   ]
  },
  {
   "cell_type": "code",
   "execution_count": null,
   "metadata": {},
   "outputs": [],
   "source": []
  }
 ],
 "metadata": {
  "kernelspec": {
   "display_name": "cwq",
   "language": "python",
   "name": "python3"
  },
  "language_info": {
   "codemirror_mode": {
    "name": "ipython",
    "version": 3
   },
   "file_extension": ".py",
   "mimetype": "text/x-python",
   "name": "python",
   "nbconvert_exporter": "python",
   "pygments_lexer": "ipython3",
   "version": "3.12.5"
  }
 },
 "nbformat": 4,
 "nbformat_minor": 2
}
