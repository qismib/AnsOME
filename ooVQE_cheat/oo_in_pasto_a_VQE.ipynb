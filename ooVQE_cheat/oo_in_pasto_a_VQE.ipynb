{
 "cells": [
  {
   "cell_type": "code",
   "execution_count": 1,
   "metadata": {},
   "outputs": [
    {
     "name": "stdout",
     "output_type": "stream",
     "text": [
      "<qiskit_nature.second_q.problems.electronic_structure_problem.ElectronicStructureProblem object at 0x11202c560>\n"
     ]
    }
   ],
   "source": [
    "# Prima prova VQE con oo-PUCCD\n",
    "\n",
    "''' ElectronicStructureProblem '''\n",
    "\n",
    "from qiskit_nature.units import DistanceUnit\n",
    "from qiskit_nature.second_q.drivers import PySCFDriver\n",
    "\n",
    "LiH = \"Li 0 0 0; H 0 0 0.6\" \n",
    "\n",
    "driver = PySCFDriver(\n",
    "    atom=LiH,\n",
    "    basis=\"sto3g\", # 3 gaussiane per approssimare una funzione di Slater\n",
    "    charge=0,\n",
    "    spin=0,\n",
    "    unit=DistanceUnit.ANGSTROM,\n",
    ")\n",
    "\n",
    "problem = driver.run()\n",
    "print(problem)\n"
   ]
  },
  {
   "cell_type": "code",
   "execution_count": 3,
   "metadata": {},
   "outputs": [],
   "source": [
    "''' Mapper '''\n",
    "\n",
    "from qiskit_nature.second_q.mappers import JordanWignerMapper\n",
    "from qiskit_nature.second_q.mappers import ParityMapper\n",
    "\n",
    "mapper = JordanWignerMapper()\n",
    "#mapper = ParityMapper() # --> occhio che ansatz e operators devono essere mappati con lo stesso mapper\n",
    "\n",
    "''' Ansatz '''\n",
    "\n",
    "from qiskit_algorithms import VQE\n",
    "from qiskit_algorithms.optimizers import SLSQP\n",
    "from qiskit.primitives import Estimator # Estimator deprecated \n",
    "from qiskit_nature.second_q.circuit.library import HartreeFock, PUCCD\n",
    "\n",
    "# Pair unitary cluster couple double\n",
    "ansatz = PUCCD(\n",
    "    problem.num_spatial_orbitals,\n",
    "    problem.num_particles,\n",
    "    mapper,\n",
    "    initial_state=HartreeFock(\n",
    "        problem.num_spatial_orbitals,\n",
    "        problem.num_particles,\n",
    "        mapper,\n",
    "    ),\n",
    ")"
   ]
  },
  {
   "cell_type": "code",
   "execution_count": 4,
   "metadata": {},
   "outputs": [
    {
     "name": "stderr",
     "output_type": "stream",
     "text": [
      "/var/folders/88/gfgbzsfs2m759nlsp4wspv400000gp/T/ipykernel_7656/80257411.py:3: DeprecationWarning: The class ``qiskit.primitives.estimator.Estimator`` is deprecated as of qiskit 1.2. It will be removed no earlier than 3 months after the release date. All implementations of the `BaseEstimatorV1` interface have been deprecated in favor of their V2 counterparts. The V2 alternative for the `Estimator` class is `StatevectorEstimator`.\n",
      "  estimator = Estimator()\n"
     ]
    }
   ],
   "source": [
    "from qiskit_algorithms.gradients import LinCombEstimatorGradient\n",
    "\n",
    "estimator = Estimator()\n",
    "gradient = LinCombEstimatorGradient(estimator) \n",
    "\n",
    "\n",
    "vqe_solver = VQE(estimator, ansatz, SLSQP())\n",
    "vqe_solver.initial_point = [0.0] * ansatz.num_parameters\n",
    "\n",
    "vqe_solver\n",
    "''' Calculation and results '''\n",
    "\n",
    "from qiskit_nature.second_q.algorithms import GroundStateEigensolver\n",
    "\n",
    "calc = GroundStateEigensolver(mapper, vqe_solver)\n",
    "\n",
    "# mi fa solo buttare 10s ogni volta\n",
    "res = calc.solve(problem) \n",
    "# print(res)\n",
    "\n",
    "initial_point = res.raw_result.optimal_point\n",
    "vqe_solver.initial_point = initial_point"
   ]
  },
  {
   "cell_type": "code",
   "execution_count": 5,
   "metadata": {},
   "outputs": [
    {
     "name": "stdout",
     "output_type": "stream",
     "text": [
      "computed_part =  -9.962371545689157\n",
      "nuclear_repulsion_energy =  2.6458860546\n",
      "total_energy =  -7.316485491089157\n"
     ]
    }
   ],
   "source": [
    "\n",
    "# groundenergy è solo la computed part\n",
    "computed_part = res.groundenergy\n",
    "print ('computed_part = ', computed_part)\n",
    "\n",
    "# Nuclear repulsion energy (Hartree): \n",
    "nuclear_repulsion_energy = res.nuclear_repulsion_energy\n",
    "print ('nuclear_repulsion_energy = ', nuclear_repulsion_energy)\n",
    "\n",
    "total_energy = computed_part + nuclear_repulsion_energy\n",
    "print ('total_energy = ', total_energy)\n",
    "\n"
   ]
  },
  {
   "cell_type": "markdown",
   "metadata": {},
   "source": [
    "## ORBITAL OPT"
   ]
  },
  {
   "cell_type": "code",
   "execution_count": 6,
   "metadata": {},
   "outputs": [],
   "source": [
    "from oovqe_algorithm_mio import OrbitalOptimizationVQE as ooVQE"
   ]
  },
  {
   "cell_type": "markdown",
   "metadata": {},
   "source": [
    "Per inizializzare un oggetto ooVQE servono:\n",
    "1. un Estimator 'transformation'\n",
    "1. un solver (vqe_solver precedente)\n",
    "1. argomenti opzionali"
   ]
  },
  {
   "cell_type": "code",
   "execution_count": 7,
   "metadata": {},
   "outputs": [],
   "source": [
    "vqe_solver = VQE(estimator, ansatz, SLSQP(maxiter=10), gradient=gradient) # ridefinisco stavolta con gradient\n",
    "# maxiter piccolo finché sono in testing\n",
    "vqe_solver.optimizer.set_max_evals_grouped(10)"
   ]
  },
  {
   "cell_type": "markdown",
   "metadata": {},
   "source": [
    "## TEST COMPLETO:"
   ]
  },
  {
   "cell_type": "code",
   "execution_count": 8,
   "metadata": {},
   "outputs": [],
   "source": [
    "ooVQE_solver = ooVQE(JordanWignerMapper(), vqe_solver, initial_point=None)"
   ]
  },
  {
   "cell_type": "code",
   "execution_count": 9,
   "metadata": {},
   "outputs": [
    {
     "name": "stderr",
     "output_type": "stream",
     "text": [
      "The provided alpha-beta overlap matrix is NOT unitary! This can happen when the alpha- and beta-spin orbitals do not span the same space. To provide an example of what this means, consider an active space chosen from unrestricted-spin orbitals. Computing <S^2> within this active space may not result in the same <S^2> value as obtained on the single-reference starting point. More importantly, this implies that the inactive subspace will account for the difference between these two <S^2> values, possibly resulting in significant spin contamination in both subspaces. You should verify whether this is intentional/acceptable or whether your choice of active space can be improved. As a reference, here is the summed-absolute deviation of `S^T @ S` from the identity: 21.1094991911992\n"
     ]
    },
    {
     "name": "stdout",
     "output_type": "stream",
     "text": [
      "parameters:  [0.1 0.1 0.1 0.1 0.1 0.1 0.1 0.1 0.1 0.1 0.1 0.1 0.1 0.1 0.1 0.1 0.1 0.1\n",
      " 0.1 0.1 0.1 0.1 0.1]\n",
      "Parameters of wavefunction are: \n",
      "%s array([0.1, 0.1, 0.1, 0.1, 0.1, 0.1, 0.1, 0.1])\n",
      "Parameters of orbital rotation are: \n",
      "%s array([0.1, 0.1, 0.1, 0.1, 0.1, 0.1, 0.1, 0.1, 0.1, 0.1, 0.1, 0.1, 0.1,\n",
      "       0.1, 0.1])\n",
      "orbital_rotations:  15 \n",
      " [[0, 1], [0, 2], [0, 3], [0, 4], [0, 5], [1, 2], [1, 3], [1, 4], [1, 5], [2, 3], [2, 4], [2, 5], [3, 4], [3, 5], [4, 5]]\n",
      "self._parameters:  15 \n",
      " [0.1 0.1 0.1 0.1 0.1 0.1 0.1 0.1 0.1 0.1 0.1 0.1 0.1 0.1 0.1]\n",
      "Nature matrix a:  [[ 0.97526959  0.0787423   0.08765007  0.09718668  0.10738465  0.1182778 ]\n",
      " [-0.1182778   0.97526959  0.0787423   0.08765007  0.09718668  0.10738465]\n",
      " [-0.10738465 -0.1182778   0.97526959  0.0787423   0.08765007  0.09718668]\n",
      " [-0.09718668 -0.10738465 -0.1182778   0.97526959  0.0787423   0.08765007]\n",
      " [-0.08765007 -0.09718668 -0.10738465 -0.1182778   0.97526959  0.0787423 ]\n",
      " [-0.0787423  -0.08765007 -0.09718668 -0.10738465 -0.1182778   0.97526959]]\n",
      "Nature matrix b:  [[ 0.97526959  0.0787423   0.08765007  0.09718668  0.10738465  0.1182778 ]\n",
      " [-0.1182778   0.97526959  0.0787423   0.08765007  0.09718668  0.10738465]\n",
      " [-0.10738465 -0.1182778   0.97526959  0.0787423   0.08765007  0.09718668]\n",
      " [-0.09718668 -0.10738465 -0.1182778   0.97526959  0.0787423   0.08765007]\n",
      " [-0.08765007 -0.09718668 -0.10738465 -0.1182778   0.97526959  0.0787423 ]\n",
      " [-0.0787423  -0.08765007 -0.09718668 -0.10738465 -0.1182778   0.97526959]]\n",
      "Rotated operator:  SparsePauliOp(['IIIIIIIIIIII', 'IIIIIIIIIIIZ', 'IIIIIIIIIIXY', 'IIIIIIIIIIYY', 'IIIIIIIIIIXX'],\n",
      "              coeffs=[-4.87186723+0.j        ,  0.64581464+0.j        ,  0.        +0.48742482j,\n",
      " -0.21537304+0.j        , -0.21537304+0.j        ])\n",
      "Energy evaluation returned %s - %.5f (ms), eval count: %s -7.444223246622453 116.32728576660156\n"
     ]
    },
    {
     "name": "stderr",
     "output_type": "stream",
     "text": [
      "The provided alpha-beta overlap matrix is NOT unitary! This can happen when the alpha- and beta-spin orbitals do not span the same space. To provide an example of what this means, consider an active space chosen from unrestricted-spin orbitals. Computing <S^2> within this active space may not result in the same <S^2> value as obtained on the single-reference starting point. More importantly, this implies that the inactive subspace will account for the difference between these two <S^2> values, possibly resulting in significant spin contamination in both subspaces. You should verify whether this is intentional/acceptable or whether your choice of active space can be improved. As a reference, here is the summed-absolute deviation of `S^T @ S` from the identity: 21.1094991911992\n"
     ]
    },
    {
     "name": "stdout",
     "output_type": "stream",
     "text": [
      "orbital_rotations:  15 \n",
      " [[0, 1], [0, 2], [0, 3], [0, 4], [0, 5], [1, 2], [1, 3], [1, 4], [1, 5], [2, 3], [2, 4], [2, 5], [3, 4], [3, 5], [4, 5]]\n",
      "self._parameters:  15 \n",
      " [0.10001 0.1     0.1     0.1     0.1     0.1     0.1     0.1     0.1\n",
      " 0.1     0.1     0.1     0.1     0.1     0.1    ]\n",
      "orbital_rotations:  15 \n",
      " [[0, 1], [0, 2], [0, 3], [0, 4], [0, 5], [1, 2], [1, 3], [1, 4], [1, 5], [2, 3], [2, 4], [2, 5], [3, 4], [3, 5], [4, 5]]\n",
      "self._parameters:  15 \n",
      " [0.09999 0.1     0.1     0.1     0.1     0.1     0.1     0.1     0.1\n",
      " 0.1     0.1     0.1     0.1     0.1     0.1    ]\n"
     ]
    },
    {
     "name": "stderr",
     "output_type": "stream",
     "text": [
      "The provided alpha-beta overlap matrix is NOT unitary! This can happen when the alpha- and beta-spin orbitals do not span the same space. To provide an example of what this means, consider an active space chosen from unrestricted-spin orbitals. Computing <S^2> within this active space may not result in the same <S^2> value as obtained on the single-reference starting point. More importantly, this implies that the inactive subspace will account for the difference between these two <S^2> values, possibly resulting in significant spin contamination in both subspaces. You should verify whether this is intentional/acceptable or whether your choice of active space can be improved. As a reference, here is the summed-absolute deviation of `S^T @ S` from the identity: 21.1094991911992\n",
      "The provided alpha-beta overlap matrix is NOT unitary! This can happen when the alpha- and beta-spin orbitals do not span the same space. To provide an example of what this means, consider an active space chosen from unrestricted-spin orbitals. Computing <S^2> within this active space may not result in the same <S^2> value as obtained on the single-reference starting point. More importantly, this implies that the inactive subspace will account for the difference between these two <S^2> values, possibly resulting in significant spin contamination in both subspaces. You should verify whether this is intentional/acceptable or whether your choice of active space can be improved. As a reference, here is the summed-absolute deviation of `S^T @ S` from the identity: 21.1094991911992\n"
     ]
    },
    {
     "name": "stdout",
     "output_type": "stream",
     "text": [
      "orbital_rotations:  15 \n",
      " [[0, 1], [0, 2], [0, 3], [0, 4], [0, 5], [1, 2], [1, 3], [1, 4], [1, 5], [2, 3], [2, 4], [2, 5], [3, 4], [3, 5], [4, 5]]\n",
      "self._parameters:  15 \n",
      " [0.1     0.10001 0.1     0.1     0.1     0.1     0.1     0.1     0.1\n",
      " 0.1     0.1     0.1     0.1     0.1     0.1    ]\n",
      "orbital_rotations:  15 \n",
      " [[0, 1], [0, 2], [0, 3], [0, 4], [0, 5], [1, 2], [1, 3], [1, 4], [1, 5], [2, 3], [2, 4], [2, 5], [3, 4], [3, 5], [4, 5]]\n",
      "self._parameters:  15 \n",
      " [0.1     0.09999 0.1     0.1     0.1     0.1     0.1     0.1     0.1\n",
      " 0.1     0.1     0.1     0.1     0.1     0.1    ]\n"
     ]
    },
    {
     "name": "stderr",
     "output_type": "stream",
     "text": [
      "The provided alpha-beta overlap matrix is NOT unitary! This can happen when the alpha- and beta-spin orbitals do not span the same space. To provide an example of what this means, consider an active space chosen from unrestricted-spin orbitals. Computing <S^2> within this active space may not result in the same <S^2> value as obtained on the single-reference starting point. More importantly, this implies that the inactive subspace will account for the difference between these two <S^2> values, possibly resulting in significant spin contamination in both subspaces. You should verify whether this is intentional/acceptable or whether your choice of active space can be improved. As a reference, here is the summed-absolute deviation of `S^T @ S` from the identity: 21.1094991911992\n",
      "The provided alpha-beta overlap matrix is NOT unitary! This can happen when the alpha- and beta-spin orbitals do not span the same space. To provide an example of what this means, consider an active space chosen from unrestricted-spin orbitals. Computing <S^2> within this active space may not result in the same <S^2> value as obtained on the single-reference starting point. More importantly, this implies that the inactive subspace will account for the difference between these two <S^2> values, possibly resulting in significant spin contamination in both subspaces. You should verify whether this is intentional/acceptable or whether your choice of active space can be improved. As a reference, here is the summed-absolute deviation of `S^T @ S` from the identity: 21.1094991911992\n"
     ]
    },
    {
     "name": "stdout",
     "output_type": "stream",
     "text": [
      "orbital_rotations:  15 \n",
      " [[0, 1], [0, 2], [0, 3], [0, 4], [0, 5], [1, 2], [1, 3], [1, 4], [1, 5], [2, 3], [2, 4], [2, 5], [3, 4], [3, 5], [4, 5]]\n",
      "self._parameters:  15 \n",
      " [0.1     0.1     0.10001 0.1     0.1     0.1     0.1     0.1     0.1\n",
      " 0.1     0.1     0.1     0.1     0.1     0.1    ]\n",
      "orbital_rotations:  15 \n",
      " [[0, 1], [0, 2], [0, 3], [0, 4], [0, 5], [1, 2], [1, 3], [1, 4], [1, 5], [2, 3], [2, 4], [2, 5], [3, 4], [3, 5], [4, 5]]\n",
      "self._parameters:  15 \n",
      " [0.1     0.1     0.09999 0.1     0.1     0.1     0.1     0.1     0.1\n",
      " 0.1     0.1     0.1     0.1     0.1     0.1    ]\n"
     ]
    },
    {
     "name": "stderr",
     "output_type": "stream",
     "text": [
      "The provided alpha-beta overlap matrix is NOT unitary! This can happen when the alpha- and beta-spin orbitals do not span the same space. To provide an example of what this means, consider an active space chosen from unrestricted-spin orbitals. Computing <S^2> within this active space may not result in the same <S^2> value as obtained on the single-reference starting point. More importantly, this implies that the inactive subspace will account for the difference between these two <S^2> values, possibly resulting in significant spin contamination in both subspaces. You should verify whether this is intentional/acceptable or whether your choice of active space can be improved. As a reference, here is the summed-absolute deviation of `S^T @ S` from the identity: 21.1094991911992\n",
      "The provided alpha-beta overlap matrix is NOT unitary! This can happen when the alpha- and beta-spin orbitals do not span the same space. To provide an example of what this means, consider an active space chosen from unrestricted-spin orbitals. Computing <S^2> within this active space may not result in the same <S^2> value as obtained on the single-reference starting point. More importantly, this implies that the inactive subspace will account for the difference between these two <S^2> values, possibly resulting in significant spin contamination in both subspaces. You should verify whether this is intentional/acceptable or whether your choice of active space can be improved. As a reference, here is the summed-absolute deviation of `S^T @ S` from the identity: 21.1094991911992\n"
     ]
    },
    {
     "name": "stdout",
     "output_type": "stream",
     "text": [
      "orbital_rotations:  15 \n",
      " [[0, 1], [0, 2], [0, 3], [0, 4], [0, 5], [1, 2], [1, 3], [1, 4], [1, 5], [2, 3], [2, 4], [2, 5], [3, 4], [3, 5], [4, 5]]\n",
      "self._parameters:  15 \n",
      " [0.1     0.1     0.1     0.10001 0.1     0.1     0.1     0.1     0.1\n",
      " 0.1     0.1     0.1     0.1     0.1     0.1    ]\n",
      "orbital_rotations:  15 \n",
      " [[0, 1], [0, 2], [0, 3], [0, 4], [0, 5], [1, 2], [1, 3], [1, 4], [1, 5], [2, 3], [2, 4], [2, 5], [3, 4], [3, 5], [4, 5]]\n",
      "self._parameters:  15 \n",
      " [0.1     0.1     0.1     0.09999 0.1     0.1     0.1     0.1     0.1\n",
      " 0.1     0.1     0.1     0.1     0.1     0.1    ]\n"
     ]
    },
    {
     "name": "stderr",
     "output_type": "stream",
     "text": [
      "The provided alpha-beta overlap matrix is NOT unitary! This can happen when the alpha- and beta-spin orbitals do not span the same space. To provide an example of what this means, consider an active space chosen from unrestricted-spin orbitals. Computing <S^2> within this active space may not result in the same <S^2> value as obtained on the single-reference starting point. More importantly, this implies that the inactive subspace will account for the difference between these two <S^2> values, possibly resulting in significant spin contamination in both subspaces. You should verify whether this is intentional/acceptable or whether your choice of active space can be improved. As a reference, here is the summed-absolute deviation of `S^T @ S` from the identity: 21.1094991911992\n",
      "The provided alpha-beta overlap matrix is NOT unitary! This can happen when the alpha- and beta-spin orbitals do not span the same space. To provide an example of what this means, consider an active space chosen from unrestricted-spin orbitals. Computing <S^2> within this active space may not result in the same <S^2> value as obtained on the single-reference starting point. More importantly, this implies that the inactive subspace will account for the difference between these two <S^2> values, possibly resulting in significant spin contamination in both subspaces. You should verify whether this is intentional/acceptable or whether your choice of active space can be improved. As a reference, here is the summed-absolute deviation of `S^T @ S` from the identity: 21.1094991911992\n"
     ]
    },
    {
     "name": "stdout",
     "output_type": "stream",
     "text": [
      "orbital_rotations:  15 \n",
      " [[0, 1], [0, 2], [0, 3], [0, 4], [0, 5], [1, 2], [1, 3], [1, 4], [1, 5], [2, 3], [2, 4], [2, 5], [3, 4], [3, 5], [4, 5]]\n",
      "self._parameters:  15 \n",
      " [0.1     0.1     0.1     0.1     0.10001 0.1     0.1     0.1     0.1\n",
      " 0.1     0.1     0.1     0.1     0.1     0.1    ]\n",
      "orbital_rotations:  15 \n",
      " [[0, 1], [0, 2], [0, 3], [0, 4], [0, 5], [1, 2], [1, 3], [1, 4], [1, 5], [2, 3], [2, 4], [2, 5], [3, 4], [3, 5], [4, 5]]\n",
      "self._parameters:  15 \n",
      " [0.1     0.1     0.1     0.1     0.09999 0.1     0.1     0.1     0.1\n",
      " 0.1     0.1     0.1     0.1     0.1     0.1    ]\n"
     ]
    },
    {
     "name": "stderr",
     "output_type": "stream",
     "text": [
      "The provided alpha-beta overlap matrix is NOT unitary! This can happen when the alpha- and beta-spin orbitals do not span the same space. To provide an example of what this means, consider an active space chosen from unrestricted-spin orbitals. Computing <S^2> within this active space may not result in the same <S^2> value as obtained on the single-reference starting point. More importantly, this implies that the inactive subspace will account for the difference between these two <S^2> values, possibly resulting in significant spin contamination in both subspaces. You should verify whether this is intentional/acceptable or whether your choice of active space can be improved. As a reference, here is the summed-absolute deviation of `S^T @ S` from the identity: 21.1094991911992\n",
      "The provided alpha-beta overlap matrix is NOT unitary! This can happen when the alpha- and beta-spin orbitals do not span the same space. To provide an example of what this means, consider an active space chosen from unrestricted-spin orbitals. Computing <S^2> within this active space may not result in the same <S^2> value as obtained on the single-reference starting point. More importantly, this implies that the inactive subspace will account for the difference between these two <S^2> values, possibly resulting in significant spin contamination in both subspaces. You should verify whether this is intentional/acceptable or whether your choice of active space can be improved. As a reference, here is the summed-absolute deviation of `S^T @ S` from the identity: 21.1094991911992\n"
     ]
    },
    {
     "name": "stdout",
     "output_type": "stream",
     "text": [
      "orbital_rotations:  15 \n",
      " [[0, 1], [0, 2], [0, 3], [0, 4], [0, 5], [1, 2], [1, 3], [1, 4], [1, 5], [2, 3], [2, 4], [2, 5], [3, 4], [3, 5], [4, 5]]\n",
      "self._parameters:  15 \n",
      " [0.1     0.1     0.1     0.1     0.1     0.10001 0.1     0.1     0.1\n",
      " 0.1     0.1     0.1     0.1     0.1     0.1    ]\n",
      "orbital_rotations:  15 \n",
      " [[0, 1], [0, 2], [0, 3], [0, 4], [0, 5], [1, 2], [1, 3], [1, 4], [1, 5], [2, 3], [2, 4], [2, 5], [3, 4], [3, 5], [4, 5]]\n",
      "self._parameters:  15 \n",
      " [0.1     0.1     0.1     0.1     0.1     0.09999 0.1     0.1     0.1\n",
      " 0.1     0.1     0.1     0.1     0.1     0.1    ]\n"
     ]
    },
    {
     "name": "stderr",
     "output_type": "stream",
     "text": [
      "The provided alpha-beta overlap matrix is NOT unitary! This can happen when the alpha- and beta-spin orbitals do not span the same space. To provide an example of what this means, consider an active space chosen from unrestricted-spin orbitals. Computing <S^2> within this active space may not result in the same <S^2> value as obtained on the single-reference starting point. More importantly, this implies that the inactive subspace will account for the difference between these two <S^2> values, possibly resulting in significant spin contamination in both subspaces. You should verify whether this is intentional/acceptable or whether your choice of active space can be improved. As a reference, here is the summed-absolute deviation of `S^T @ S` from the identity: 21.1094991911992\n",
      "The provided alpha-beta overlap matrix is NOT unitary! This can happen when the alpha- and beta-spin orbitals do not span the same space. To provide an example of what this means, consider an active space chosen from unrestricted-spin orbitals. Computing <S^2> within this active space may not result in the same <S^2> value as obtained on the single-reference starting point. More importantly, this implies that the inactive subspace will account for the difference between these two <S^2> values, possibly resulting in significant spin contamination in both subspaces. You should verify whether this is intentional/acceptable or whether your choice of active space can be improved. As a reference, here is the summed-absolute deviation of `S^T @ S` from the identity: 21.1094991911992\n"
     ]
    },
    {
     "name": "stdout",
     "output_type": "stream",
     "text": [
      "orbital_rotations:  15 \n",
      " [[0, 1], [0, 2], [0, 3], [0, 4], [0, 5], [1, 2], [1, 3], [1, 4], [1, 5], [2, 3], [2, 4], [2, 5], [3, 4], [3, 5], [4, 5]]\n",
      "self._parameters:  15 \n",
      " [0.1     0.1     0.1     0.1     0.1     0.1     0.10001 0.1     0.1\n",
      " 0.1     0.1     0.1     0.1     0.1     0.1    ]\n",
      "orbital_rotations:  15 \n",
      " [[0, 1], [0, 2], [0, 3], [0, 4], [0, 5], [1, 2], [1, 3], [1, 4], [1, 5], [2, 3], [2, 4], [2, 5], [3, 4], [3, 5], [4, 5]]\n",
      "self._parameters:  15 \n",
      " [0.1     0.1     0.1     0.1     0.1     0.1     0.09999 0.1     0.1\n",
      " 0.1     0.1     0.1     0.1     0.1     0.1    ]\n"
     ]
    },
    {
     "name": "stderr",
     "output_type": "stream",
     "text": [
      "The provided alpha-beta overlap matrix is NOT unitary! This can happen when the alpha- and beta-spin orbitals do not span the same space. To provide an example of what this means, consider an active space chosen from unrestricted-spin orbitals. Computing <S^2> within this active space may not result in the same <S^2> value as obtained on the single-reference starting point. More importantly, this implies that the inactive subspace will account for the difference between these two <S^2> values, possibly resulting in significant spin contamination in both subspaces. You should verify whether this is intentional/acceptable or whether your choice of active space can be improved. As a reference, here is the summed-absolute deviation of `S^T @ S` from the identity: 21.1094991911992\n",
      "The provided alpha-beta overlap matrix is NOT unitary! This can happen when the alpha- and beta-spin orbitals do not span the same space. To provide an example of what this means, consider an active space chosen from unrestricted-spin orbitals. Computing <S^2> within this active space may not result in the same <S^2> value as obtained on the single-reference starting point. More importantly, this implies that the inactive subspace will account for the difference between these two <S^2> values, possibly resulting in significant spin contamination in both subspaces. You should verify whether this is intentional/acceptable or whether your choice of active space can be improved. As a reference, here is the summed-absolute deviation of `S^T @ S` from the identity: 21.1094991911992\n"
     ]
    },
    {
     "name": "stdout",
     "output_type": "stream",
     "text": [
      "orbital_rotations:  15 \n",
      " [[0, 1], [0, 2], [0, 3], [0, 4], [0, 5], [1, 2], [1, 3], [1, 4], [1, 5], [2, 3], [2, 4], [2, 5], [3, 4], [3, 5], [4, 5]]\n",
      "self._parameters:  15 \n",
      " [0.1     0.1     0.1     0.1     0.1     0.1     0.1     0.10001 0.1\n",
      " 0.1     0.1     0.1     0.1     0.1     0.1    ]\n",
      "orbital_rotations:  15 \n",
      " [[0, 1], [0, 2], [0, 3], [0, 4], [0, 5], [1, 2], [1, 3], [1, 4], [1, 5], [2, 3], [2, 4], [2, 5], [3, 4], [3, 5], [4, 5]]\n",
      "self._parameters:  15 \n",
      " [0.1     0.1     0.1     0.1     0.1     0.1     0.1     0.09999 0.1\n",
      " 0.1     0.1     0.1     0.1     0.1     0.1    ]\n"
     ]
    },
    {
     "name": "stderr",
     "output_type": "stream",
     "text": [
      "The provided alpha-beta overlap matrix is NOT unitary! This can happen when the alpha- and beta-spin orbitals do not span the same space. To provide an example of what this means, consider an active space chosen from unrestricted-spin orbitals. Computing <S^2> within this active space may not result in the same <S^2> value as obtained on the single-reference starting point. More importantly, this implies that the inactive subspace will account for the difference between these two <S^2> values, possibly resulting in significant spin contamination in both subspaces. You should verify whether this is intentional/acceptable or whether your choice of active space can be improved. As a reference, here is the summed-absolute deviation of `S^T @ S` from the identity: 21.1094991911992\n",
      "The provided alpha-beta overlap matrix is NOT unitary! This can happen when the alpha- and beta-spin orbitals do not span the same space. To provide an example of what this means, consider an active space chosen from unrestricted-spin orbitals. Computing <S^2> within this active space may not result in the same <S^2> value as obtained on the single-reference starting point. More importantly, this implies that the inactive subspace will account for the difference between these two <S^2> values, possibly resulting in significant spin contamination in both subspaces. You should verify whether this is intentional/acceptable or whether your choice of active space can be improved. As a reference, here is the summed-absolute deviation of `S^T @ S` from the identity: 21.1094991911992\n"
     ]
    },
    {
     "name": "stdout",
     "output_type": "stream",
     "text": [
      "orbital_rotations:  15 \n",
      " [[0, 1], [0, 2], [0, 3], [0, 4], [0, 5], [1, 2], [1, 3], [1, 4], [1, 5], [2, 3], [2, 4], [2, 5], [3, 4], [3, 5], [4, 5]]\n",
      "self._parameters:  15 \n",
      " [0.1     0.1     0.1     0.1     0.1     0.1     0.1     0.1     0.10001\n",
      " 0.1     0.1     0.1     0.1     0.1     0.1    ]\n",
      "orbital_rotations:  15 \n",
      " [[0, 1], [0, 2], [0, 3], [0, 4], [0, 5], [1, 2], [1, 3], [1, 4], [1, 5], [2, 3], [2, 4], [2, 5], [3, 4], [3, 5], [4, 5]]\n",
      "self._parameters:  15 \n",
      " [0.1     0.1     0.1     0.1     0.1     0.1     0.1     0.1     0.09999\n",
      " 0.1     0.1     0.1     0.1     0.1     0.1    ]\n"
     ]
    },
    {
     "name": "stderr",
     "output_type": "stream",
     "text": [
      "The provided alpha-beta overlap matrix is NOT unitary! This can happen when the alpha- and beta-spin orbitals do not span the same space. To provide an example of what this means, consider an active space chosen from unrestricted-spin orbitals. Computing <S^2> within this active space may not result in the same <S^2> value as obtained on the single-reference starting point. More importantly, this implies that the inactive subspace will account for the difference between these two <S^2> values, possibly resulting in significant spin contamination in both subspaces. You should verify whether this is intentional/acceptable or whether your choice of active space can be improved. As a reference, here is the summed-absolute deviation of `S^T @ S` from the identity: 21.1094991911992\n",
      "The provided alpha-beta overlap matrix is NOT unitary! This can happen when the alpha- and beta-spin orbitals do not span the same space. To provide an example of what this means, consider an active space chosen from unrestricted-spin orbitals. Computing <S^2> within this active space may not result in the same <S^2> value as obtained on the single-reference starting point. More importantly, this implies that the inactive subspace will account for the difference between these two <S^2> values, possibly resulting in significant spin contamination in both subspaces. You should verify whether this is intentional/acceptable or whether your choice of active space can be improved. As a reference, here is the summed-absolute deviation of `S^T @ S` from the identity: 21.1094991911992\n"
     ]
    },
    {
     "name": "stdout",
     "output_type": "stream",
     "text": [
      "orbital_rotations:  15 \n",
      " [[0, 1], [0, 2], [0, 3], [0, 4], [0, 5], [1, 2], [1, 3], [1, 4], [1, 5], [2, 3], [2, 4], [2, 5], [3, 4], [3, 5], [4, 5]]\n",
      "self._parameters:  15 \n",
      " [0.1     0.1     0.1     0.1     0.1     0.1     0.1     0.1     0.1\n",
      " 0.10001 0.1     0.1     0.1     0.1     0.1    ]\n",
      "orbital_rotations:  15 \n",
      " [[0, 1], [0, 2], [0, 3], [0, 4], [0, 5], [1, 2], [1, 3], [1, 4], [1, 5], [2, 3], [2, 4], [2, 5], [3, 4], [3, 5], [4, 5]]\n",
      "self._parameters:  15 \n",
      " [0.1     0.1     0.1     0.1     0.1     0.1     0.1     0.1     0.1\n",
      " 0.09999 0.1     0.1     0.1     0.1     0.1    ]\n"
     ]
    },
    {
     "name": "stderr",
     "output_type": "stream",
     "text": [
      "The provided alpha-beta overlap matrix is NOT unitary! This can happen when the alpha- and beta-spin orbitals do not span the same space. To provide an example of what this means, consider an active space chosen from unrestricted-spin orbitals. Computing <S^2> within this active space may not result in the same <S^2> value as obtained on the single-reference starting point. More importantly, this implies that the inactive subspace will account for the difference between these two <S^2> values, possibly resulting in significant spin contamination in both subspaces. You should verify whether this is intentional/acceptable or whether your choice of active space can be improved. As a reference, here is the summed-absolute deviation of `S^T @ S` from the identity: 21.1094991911992\n",
      "The provided alpha-beta overlap matrix is NOT unitary! This can happen when the alpha- and beta-spin orbitals do not span the same space. To provide an example of what this means, consider an active space chosen from unrestricted-spin orbitals. Computing <S^2> within this active space may not result in the same <S^2> value as obtained on the single-reference starting point. More importantly, this implies that the inactive subspace will account for the difference between these two <S^2> values, possibly resulting in significant spin contamination in both subspaces. You should verify whether this is intentional/acceptable or whether your choice of active space can be improved. As a reference, here is the summed-absolute deviation of `S^T @ S` from the identity: 21.1094991911992\n"
     ]
    },
    {
     "name": "stdout",
     "output_type": "stream",
     "text": [
      "orbital_rotations:  15 \n",
      " [[0, 1], [0, 2], [0, 3], [0, 4], [0, 5], [1, 2], [1, 3], [1, 4], [1, 5], [2, 3], [2, 4], [2, 5], [3, 4], [3, 5], [4, 5]]\n",
      "self._parameters:  15 \n",
      " [0.1     0.1     0.1     0.1     0.1     0.1     0.1     0.1     0.1\n",
      " 0.1     0.10001 0.1     0.1     0.1     0.1    ]\n",
      "orbital_rotations:  15 \n",
      " [[0, 1], [0, 2], [0, 3], [0, 4], [0, 5], [1, 2], [1, 3], [1, 4], [1, 5], [2, 3], [2, 4], [2, 5], [3, 4], [3, 5], [4, 5]]\n",
      "self._parameters:  15 \n",
      " [0.1     0.1     0.1     0.1     0.1     0.1     0.1     0.1     0.1\n",
      " 0.1     0.09999 0.1     0.1     0.1     0.1    ]\n"
     ]
    },
    {
     "name": "stderr",
     "output_type": "stream",
     "text": [
      "The provided alpha-beta overlap matrix is NOT unitary! This can happen when the alpha- and beta-spin orbitals do not span the same space. To provide an example of what this means, consider an active space chosen from unrestricted-spin orbitals. Computing <S^2> within this active space may not result in the same <S^2> value as obtained on the single-reference starting point. More importantly, this implies that the inactive subspace will account for the difference between these two <S^2> values, possibly resulting in significant spin contamination in both subspaces. You should verify whether this is intentional/acceptable or whether your choice of active space can be improved. As a reference, here is the summed-absolute deviation of `S^T @ S` from the identity: 21.1094991911992\n",
      "The provided alpha-beta overlap matrix is NOT unitary! This can happen when the alpha- and beta-spin orbitals do not span the same space. To provide an example of what this means, consider an active space chosen from unrestricted-spin orbitals. Computing <S^2> within this active space may not result in the same <S^2> value as obtained on the single-reference starting point. More importantly, this implies that the inactive subspace will account for the difference between these two <S^2> values, possibly resulting in significant spin contamination in both subspaces. You should verify whether this is intentional/acceptable or whether your choice of active space can be improved. As a reference, here is the summed-absolute deviation of `S^T @ S` from the identity: 21.1094991911992\n"
     ]
    },
    {
     "name": "stdout",
     "output_type": "stream",
     "text": [
      "orbital_rotations:  15 \n",
      " [[0, 1], [0, 2], [0, 3], [0, 4], [0, 5], [1, 2], [1, 3], [1, 4], [1, 5], [2, 3], [2, 4], [2, 5], [3, 4], [3, 5], [4, 5]]\n",
      "self._parameters:  15 \n",
      " [0.1     0.1     0.1     0.1     0.1     0.1     0.1     0.1     0.1\n",
      " 0.1     0.1     0.10001 0.1     0.1     0.1    ]\n",
      "orbital_rotations:  15 \n",
      " [[0, 1], [0, 2], [0, 3], [0, 4], [0, 5], [1, 2], [1, 3], [1, 4], [1, 5], [2, 3], [2, 4], [2, 5], [3, 4], [3, 5], [4, 5]]\n",
      "self._parameters:  15 \n",
      " [0.1     0.1     0.1     0.1     0.1     0.1     0.1     0.1     0.1\n",
      " 0.1     0.1     0.09999 0.1     0.1     0.1    ]\n"
     ]
    },
    {
     "name": "stderr",
     "output_type": "stream",
     "text": [
      "The provided alpha-beta overlap matrix is NOT unitary! This can happen when the alpha- and beta-spin orbitals do not span the same space. To provide an example of what this means, consider an active space chosen from unrestricted-spin orbitals. Computing <S^2> within this active space may not result in the same <S^2> value as obtained on the single-reference starting point. More importantly, this implies that the inactive subspace will account for the difference between these two <S^2> values, possibly resulting in significant spin contamination in both subspaces. You should verify whether this is intentional/acceptable or whether your choice of active space can be improved. As a reference, here is the summed-absolute deviation of `S^T @ S` from the identity: 21.1094991911992\n",
      "The provided alpha-beta overlap matrix is NOT unitary! This can happen when the alpha- and beta-spin orbitals do not span the same space. To provide an example of what this means, consider an active space chosen from unrestricted-spin orbitals. Computing <S^2> within this active space may not result in the same <S^2> value as obtained on the single-reference starting point. More importantly, this implies that the inactive subspace will account for the difference between these two <S^2> values, possibly resulting in significant spin contamination in both subspaces. You should verify whether this is intentional/acceptable or whether your choice of active space can be improved. As a reference, here is the summed-absolute deviation of `S^T @ S` from the identity: 21.1094991911992\n"
     ]
    },
    {
     "name": "stdout",
     "output_type": "stream",
     "text": [
      "orbital_rotations:  15 \n",
      " [[0, 1], [0, 2], [0, 3], [0, 4], [0, 5], [1, 2], [1, 3], [1, 4], [1, 5], [2, 3], [2, 4], [2, 5], [3, 4], [3, 5], [4, 5]]\n",
      "self._parameters:  15 \n",
      " [0.1     0.1     0.1     0.1     0.1     0.1     0.1     0.1     0.1\n",
      " 0.1     0.1     0.1     0.10001 0.1     0.1    ]\n",
      "orbital_rotations:  15 \n",
      " [[0, 1], [0, 2], [0, 3], [0, 4], [0, 5], [1, 2], [1, 3], [1, 4], [1, 5], [2, 3], [2, 4], [2, 5], [3, 4], [3, 5], [4, 5]]\n",
      "self._parameters:  15 \n",
      " [0.1     0.1     0.1     0.1     0.1     0.1     0.1     0.1     0.1\n",
      " 0.1     0.1     0.1     0.09999 0.1     0.1    ]\n"
     ]
    },
    {
     "name": "stderr",
     "output_type": "stream",
     "text": [
      "The provided alpha-beta overlap matrix is NOT unitary! This can happen when the alpha- and beta-spin orbitals do not span the same space. To provide an example of what this means, consider an active space chosen from unrestricted-spin orbitals. Computing <S^2> within this active space may not result in the same <S^2> value as obtained on the single-reference starting point. More importantly, this implies that the inactive subspace will account for the difference between these two <S^2> values, possibly resulting in significant spin contamination in both subspaces. You should verify whether this is intentional/acceptable or whether your choice of active space can be improved. As a reference, here is the summed-absolute deviation of `S^T @ S` from the identity: 21.1094991911992\n",
      "The provided alpha-beta overlap matrix is NOT unitary! This can happen when the alpha- and beta-spin orbitals do not span the same space. To provide an example of what this means, consider an active space chosen from unrestricted-spin orbitals. Computing <S^2> within this active space may not result in the same <S^2> value as obtained on the single-reference starting point. More importantly, this implies that the inactive subspace will account for the difference between these two <S^2> values, possibly resulting in significant spin contamination in both subspaces. You should verify whether this is intentional/acceptable or whether your choice of active space can be improved. As a reference, here is the summed-absolute deviation of `S^T @ S` from the identity: 21.1094991911992\n"
     ]
    },
    {
     "name": "stdout",
     "output_type": "stream",
     "text": [
      "orbital_rotations:  15 \n",
      " [[0, 1], [0, 2], [0, 3], [0, 4], [0, 5], [1, 2], [1, 3], [1, 4], [1, 5], [2, 3], [2, 4], [2, 5], [3, 4], [3, 5], [4, 5]]\n",
      "self._parameters:  15 \n",
      " [0.1     0.1     0.1     0.1     0.1     0.1     0.1     0.1     0.1\n",
      " 0.1     0.1     0.1     0.1     0.10001 0.1    ]\n",
      "orbital_rotations:  15 \n",
      " [[0, 1], [0, 2], [0, 3], [0, 4], [0, 5], [1, 2], [1, 3], [1, 4], [1, 5], [2, 3], [2, 4], [2, 5], [3, 4], [3, 5], [4, 5]]\n",
      "self._parameters:  15 \n",
      " [0.1     0.1     0.1     0.1     0.1     0.1     0.1     0.1     0.1\n",
      " 0.1     0.1     0.1     0.1     0.09999 0.1    ]\n"
     ]
    },
    {
     "name": "stderr",
     "output_type": "stream",
     "text": [
      "The provided alpha-beta overlap matrix is NOT unitary! This can happen when the alpha- and beta-spin orbitals do not span the same space. To provide an example of what this means, consider an active space chosen from unrestricted-spin orbitals. Computing <S^2> within this active space may not result in the same <S^2> value as obtained on the single-reference starting point. More importantly, this implies that the inactive subspace will account for the difference between these two <S^2> values, possibly resulting in significant spin contamination in both subspaces. You should verify whether this is intentional/acceptable or whether your choice of active space can be improved. As a reference, here is the summed-absolute deviation of `S^T @ S` from the identity: 21.1094991911992\n",
      "The provided alpha-beta overlap matrix is NOT unitary! This can happen when the alpha- and beta-spin orbitals do not span the same space. To provide an example of what this means, consider an active space chosen from unrestricted-spin orbitals. Computing <S^2> within this active space may not result in the same <S^2> value as obtained on the single-reference starting point. More importantly, this implies that the inactive subspace will account for the difference between these two <S^2> values, possibly resulting in significant spin contamination in both subspaces. You should verify whether this is intentional/acceptable or whether your choice of active space can be improved. As a reference, here is the summed-absolute deviation of `S^T @ S` from the identity: 21.1094991911992\n"
     ]
    },
    {
     "name": "stdout",
     "output_type": "stream",
     "text": [
      "orbital_rotations:  15 \n",
      " [[0, 1], [0, 2], [0, 3], [0, 4], [0, 5], [1, 2], [1, 3], [1, 4], [1, 5], [2, 3], [2, 4], [2, 5], [3, 4], [3, 5], [4, 5]]\n",
      "self._parameters:  15 \n",
      " [0.1     0.1     0.1     0.1     0.1     0.1     0.1     0.1     0.1\n",
      " 0.1     0.1     0.1     0.1     0.1     0.10001]\n",
      "orbital_rotations:  15 \n",
      " [[0, 1], [0, 2], [0, 3], [0, 4], [0, 5], [1, 2], [1, 3], [1, 4], [1, 5], [2, 3], [2, 4], [2, 5], [3, 4], [3, 5], [4, 5]]\n",
      "self._parameters:  15 \n",
      " [0.1     0.1     0.1     0.1     0.1     0.1     0.1     0.1     0.1\n",
      " 0.1     0.1     0.1     0.1     0.1     0.09999]\n"
     ]
    },
    {
     "name": "stderr",
     "output_type": "stream",
     "text": [
      "The provided alpha-beta overlap matrix is NOT unitary! This can happen when the alpha- and beta-spin orbitals do not span the same space. To provide an example of what this means, consider an active space chosen from unrestricted-spin orbitals. Computing <S^2> within this active space may not result in the same <S^2> value as obtained on the single-reference starting point. More importantly, this implies that the inactive subspace will account for the difference between these two <S^2> values, possibly resulting in significant spin contamination in both subspaces. You should verify whether this is intentional/acceptable or whether your choice of active space can be improved. As a reference, here is the summed-absolute deviation of `S^T @ S` from the identity: 21.1094991911992\n",
      "The provided alpha-beta overlap matrix is NOT unitary! This can happen when the alpha- and beta-spin orbitals do not span the same space. To provide an example of what this means, consider an active space chosen from unrestricted-spin orbitals. Computing <S^2> within this active space may not result in the same <S^2> value as obtained on the single-reference starting point. More importantly, this implies that the inactive subspace will account for the difference between these two <S^2> values, possibly resulting in significant spin contamination in both subspaces. You should verify whether this is intentional/acceptable or whether your choice of active space can be improved. As a reference, here is the summed-absolute deviation of `S^T @ S` from the identity: 21.1094991911992\n"
     ]
    },
    {
     "name": "stdout",
     "output_type": "stream",
     "text": [
      "parameters:  [-1.08025302 -1.0850435  -1.08471954 -1.31677322 -0.03609173 -0.07169165\n",
      " -0.07224809 -0.38248414 -6.28318531 -3.01977344 -2.96509398 -3.79634473\n",
      " -6.28318531  0.3237511   0.4237593  -1.0033531  -0.68380271  0.08589136\n",
      " -0.54679626  0.41544898 -0.59044115  0.30441666 -0.36828276]\n",
      "Parameters of wavefunction are: \n",
      "%s array([-1.08025302, -1.0850435 , -1.08471954, -1.31677322, -0.03609173,\n",
      "       -0.07169165, -0.07224809, -0.38248414])\n",
      "Parameters of orbital rotation are: \n",
      "%s array([-6.28318531, -3.01977344, -2.96509398, -3.79634473, -6.28318531,\n",
      "        0.3237511 ,  0.4237593 , -1.0033531 , -0.68380271,  0.08589136,\n",
      "       -0.54679626,  0.41544898, -0.59044115,  0.30441666, -0.36828276])\n",
      "orbital_rotations:  15 \n",
      " [[0, 1], [0, 2], [0, 3], [0, 4], [0, 5], [1, 2], [1, 3], [1, 4], [1, 5], [2, 3], [2, 4], [2, 5], [3, 4], [3, 5], [4, 5]]\n",
      "self._parameters:  15 \n",
      " [-6.28318531 -3.01977344 -2.96509398 -3.79634473 -6.28318531  0.3237511\n",
      "  0.4237593  -1.0033531  -0.68380271  0.08589136 -0.54679626  0.41544898\n",
      " -0.59044115  0.30441666 -0.36828276]\n",
      "Nature matrix a:  [[-0.37867122  0.52331028  0.26094719  0.22878209  0.44590564  0.51331076]\n",
      " [-0.64553886  0.28794624  0.05193615  0.04451153 -0.66132571 -0.2415289 ]\n",
      " [-0.23229902 -0.55915753  0.6287804  -0.34382008 -0.11029127  0.32808356]\n",
      " [-0.25243007 -0.51694556 -0.38213087  0.64360067 -0.0820501   0.31948132]\n",
      " [-0.30133455 -0.22245732  0.28232211  0.27249868  0.48763286 -0.6840783 ]\n",
      " [-0.481042   -0.1177124  -0.55508074 -0.58222666  0.32731372  0.02248561]]\n",
      "Nature matrix b:  [[-0.37867122  0.52331028  0.26094719  0.22878209  0.44590564  0.51331076]\n",
      " [-0.64553886  0.28794624  0.05193615  0.04451153 -0.66132571 -0.2415289 ]\n",
      " [-0.23229902 -0.55915753  0.6287804  -0.34382008 -0.11029127  0.32808356]\n",
      " [-0.25243007 -0.51694556 -0.38213087  0.64360067 -0.0820501   0.31948132]\n",
      " [-0.30133455 -0.22245732  0.28232211  0.27249868  0.48763286 -0.6840783 ]\n",
      " [-0.481042   -0.1177124  -0.55508074 -0.58222666  0.32731372  0.02248561]]\n"
     ]
    },
    {
     "name": "stderr",
     "output_type": "stream",
     "text": [
      "The provided alpha-beta overlap matrix is NOT unitary! This can happen when the alpha- and beta-spin orbitals do not span the same space. To provide an example of what this means, consider an active space chosen from unrestricted-spin orbitals. Computing <S^2> within this active space may not result in the same <S^2> value as obtained on the single-reference starting point. More importantly, this implies that the inactive subspace will account for the difference between these two <S^2> values, possibly resulting in significant spin contamination in both subspaces. You should verify whether this is intentional/acceptable or whether your choice of active space can be improved. As a reference, here is the summed-absolute deviation of `S^T @ S` from the identity: 21.1094991911992\n"
     ]
    },
    {
     "name": "stdout",
     "output_type": "stream",
     "text": [
      "Rotated operator:  SparsePauliOp(['IIIIIIIIIIII', 'IIIIIIIIIIIZ', 'IIIIIIIIIIXY', 'IIIIIIIIIIYY', 'IIIIIIIIIIXX'],\n",
      "              coeffs=[10.1118918 +0.j        , -2.69686763+0.j        ,  0.        -1.07920005j,\n",
      "  0.35345598+0.j        ,  0.35345598+0.j        ])\n",
      "Energy evaluation returned %s - %.5f (ms), eval count: %s 4.005527849200527 126.06930732727051\n",
      "parameters:  [-0.45143917 -0.45367738 -0.45352602 -0.5619464   0.03641507  0.01978203\n",
      "  0.01952205 -0.12542679 -2.88235914 -1.35762411 -1.33207672 -1.72045464\n",
      " -2.88235914  0.20454125  0.25126719 -0.4155099  -0.2662092   0.09340814\n",
      " -0.20219689  0.24738443 -0.2225887   0.19550778 -0.11879161]\n",
      "Parameters of wavefunction are: \n",
      "%s array([-0.45143917, -0.45367738, -0.45352602, -0.5619464 ,  0.03641507,\n",
      "        0.01978203,  0.01952205, -0.12542679])\n",
      "Parameters of orbital rotation are: \n",
      "%s array([-2.88235914, -1.35762411, -1.33207672, -1.72045464, -2.88235914,\n",
      "        0.20454125,  0.25126719, -0.4155099 , -0.2662092 ,  0.09340814,\n",
      "       -0.20219689,  0.24738443, -0.2225887 ,  0.19550778, -0.11879161])\n",
      "orbital_rotations:  15 \n",
      " [[0, 1], [0, 2], [0, 3], [0, 4], [0, 5], [1, 2], [1, 3], [1, 4], [1, 5], [2, 3], [2, 4], [2, 5], [3, 4], [3, 5], [4, 5]]\n",
      "self._parameters:  15 \n",
      " [-2.88235914 -1.35762411 -1.33207672 -1.72045464 -2.88235914  0.20454125\n",
      "  0.25126719 -0.4155099  -0.2662092   0.09340814 -0.20219689  0.24738443\n",
      " -0.2225887   0.19550778 -0.11879161]\n",
      "Nature matrix a:  [[ 0.12360962  0.58348404  0.27516367  0.2449298   0.41981842  0.57646672]\n",
      " [-0.64663161  0.60788918  0.08355494  0.06198967 -0.33480856 -0.29902741]\n",
      " [-0.27092185 -0.38252308  0.8558345  -0.08979352 -0.11792932  0.16079351]\n",
      " [-0.28482737 -0.32451065 -0.1891196   0.86051763 -0.08281629  0.1745017 ]\n",
      " [-0.31936174 -0.1168063   0.04798151  0.03125644  0.82400108 -0.44956357]\n",
      " [-0.55684021 -0.15729696 -0.3831219  -0.43201416  0.10914252  0.56555807]]\n",
      "Nature matrix b:  [[ 0.12360962  0.58348404  0.27516367  0.2449298   0.41981842  0.57646672]\n",
      " [-0.64663161  0.60788918  0.08355494  0.06198967 -0.33480856 -0.29902741]\n",
      " [-0.27092185 -0.38252308  0.8558345  -0.08979352 -0.11792932  0.16079351]\n",
      " [-0.28482737 -0.32451065 -0.1891196   0.86051763 -0.08281629  0.1745017 ]\n",
      " [-0.31936174 -0.1168063   0.04798151  0.03125644  0.82400108 -0.44956357]\n",
      " [-0.55684021 -0.15729696 -0.3831219  -0.43201416  0.10914252  0.56555807]]\n"
     ]
    },
    {
     "name": "stderr",
     "output_type": "stream",
     "text": [
      "The provided alpha-beta overlap matrix is NOT unitary! This can happen when the alpha- and beta-spin orbitals do not span the same space. To provide an example of what this means, consider an active space chosen from unrestricted-spin orbitals. Computing <S^2> within this active space may not result in the same <S^2> value as obtained on the single-reference starting point. More importantly, this implies that the inactive subspace will account for the difference between these two <S^2> values, possibly resulting in significant spin contamination in both subspaces. You should verify whether this is intentional/acceptable or whether your choice of active space can be improved. As a reference, here is the summed-absolute deviation of `S^T @ S` from the identity: 21.1094991911992\n"
     ]
    },
    {
     "name": "stdout",
     "output_type": "stream",
     "text": [
      "Rotated operator:  SparsePauliOp(['IIIIIIIIIIII', 'IIIIIIIIIIIZ', 'IIIIIIIIIIXY', 'IIIIIIIIIIYY', 'IIIIIIIIIIXX'],\n",
      "              coeffs=[10.35448624+0.j        , -4.20194756+0.j        ,  0.        +0.55031349j,\n",
      " -0.51001862+0.j        , -0.51001862+0.j        ])\n",
      "Energy evaluation returned %s - %.5f (ms), eval count: %s 8.418056903880814 128.74794006347656\n",
      "parameters:  [-0.1282397  -0.1291661  -0.12910345 -0.17397846  0.07368231  0.06679792\n",
      "  0.06669032  0.00669624 -1.13439322 -0.50330807 -0.49273404 -0.65348299\n",
      " -1.13439322  0.14326944  0.16260923 -0.11336864 -0.05157334  0.09727164\n",
      " -0.02507876  0.16100216 -0.0335189   0.1395305   0.00944254]\n",
      "Parameters of wavefunction are: \n",
      "%s array([-0.1282397 , -0.1291661 , -0.12910345, -0.17397846,  0.07368231,\n",
      "        0.06679792,  0.06669032,  0.00669624])\n",
      "Parameters of orbital rotation are: \n",
      "%s array([-1.13439322, -0.50330807, -0.49273404, -0.65348299, -1.13439322,\n",
      "        0.14326944,  0.16260923, -0.11336864, -0.05157334,  0.09727164,\n",
      "       -0.02507876,  0.16100216, -0.0335189 ,  0.1395305 ,  0.00944254])\n",
      "orbital_rotations:  15 \n",
      " [[0, 1], [0, 2], [0, 3], [0, 4], [0, 5], [1, 2], [1, 3], [1, 4], [1, 5], [2, 3], [2, 4], [2, 5], [3, 4], [3, 5], [4, 5]]\n",
      "self._parameters:  15 \n",
      " [-1.13439322 -0.50330807 -0.49273404 -0.65348299 -1.13439322  0.14326944\n",
      "  0.16260923 -0.11336864 -0.05157334  0.09727164 -0.02507876  0.16100216\n",
      " -0.0335189   0.1395305   0.00944254]\n",
      "Nature matrix a:  [[-0.29309507 -0.57002405 -0.23372215 -0.28380619 -0.27184385 -0.6165199 ]\n",
      " [ 0.58388956  0.4943745  -0.06762528 -0.05387372 -0.36547479 -0.52308647]\n",
      " [ 0.27207783 -0.3618921   0.87946633 -0.02868213 -0.13237329 -0.05658081]\n",
      " [ 0.21248326 -0.33997153 -0.19934953  0.88344334 -0.12241627 -0.06381306]\n",
      " [ 0.39629591 -0.19065918 -0.09767206 -0.09654078  0.83562776 -0.29910688]\n",
      " [ 0.54492415 -0.38440731 -0.34359816 -0.35487568 -0.24848926  0.49954514]]\n",
      "Nature matrix b:  [[-0.29309507 -0.57002405 -0.23372215 -0.28380619 -0.27184385 -0.6165199 ]\n",
      " [ 0.58388956  0.4943745  -0.06762528 -0.05387372 -0.36547479 -0.52308647]\n",
      " [ 0.27207783 -0.3618921   0.87946633 -0.02868213 -0.13237329 -0.05658081]\n",
      " [ 0.21248326 -0.33997153 -0.19934953  0.88344334 -0.12241627 -0.06381306]\n",
      " [ 0.39629591 -0.19065918 -0.09767206 -0.09654078  0.83562776 -0.29910688]\n",
      " [ 0.54492415 -0.38440731 -0.34359816 -0.35487568 -0.24848926  0.49954514]]\n"
     ]
    },
    {
     "name": "stderr",
     "output_type": "stream",
     "text": [
      "The provided alpha-beta overlap matrix is NOT unitary! This can happen when the alpha- and beta-spin orbitals do not span the same space. To provide an example of what this means, consider an active space chosen from unrestricted-spin orbitals. Computing <S^2> within this active space may not result in the same <S^2> value as obtained on the single-reference starting point. More importantly, this implies that the inactive subspace will account for the difference between these two <S^2> values, possibly resulting in significant spin contamination in both subspaces. You should verify whether this is intentional/acceptable or whether your choice of active space can be improved. As a reference, here is the summed-absolute deviation of `S^T @ S` from the identity: 21.1094991911992\n"
     ]
    },
    {
     "name": "stdout",
     "output_type": "stream",
     "text": [
      "Rotated operator:  SparsePauliOp(['IIIIIIIIIIII', 'IIIIIIIIIIIZ', 'IIIIIIIIIIXY', 'IIIIIIIIIIYY', 'IIIIIIIIIIXX'],\n",
      "              coeffs=[ 8.27847364+0.j        , -4.18156392+0.j        ,  0.        +1.01745731j,\n",
      " -0.67851294+0.j        , -0.67851294+0.j        ])\n",
      "Energy evaluation returned %s - %.5f (ms), eval count: %s 14.825963668028498 135.9121799468994\n",
      "parameters:  [ 0.03309264  0.03282107  0.03283944  0.01968455  0.0922851   0.09026697\n",
      "  0.09023543  0.07264846 -0.26185637 -0.07685682 -0.0737571  -0.12087987\n",
      " -0.26185637  0.11268423  0.11835359  0.03745202  0.05556701  0.0992002\n",
      "  0.06333377  0.11788249  0.06085958  0.11158817  0.07345352]\n",
      "Parameters of wavefunction are: \n",
      "%s array([0.03309264, 0.03282107, 0.03283944, 0.01968455, 0.0922851 ,\n",
      "       0.09026697, 0.09023543, 0.07264846])\n",
      "Parameters of orbital rotation are: \n",
      "%s array([-0.26185637, -0.07685682, -0.0737571 , -0.12087987, -0.26185637,\n",
      "        0.11268423,  0.11835359,  0.03745202,  0.05556701,  0.0992002 ,\n",
      "        0.06333377,  0.11788249,  0.06085958,  0.11158817,  0.07345352])\n",
      "orbital_rotations:  15 \n",
      " [[0, 1], [0, 2], [0, 3], [0, 4], [0, 5], [1, 2], [1, 3], [1, 4], [1, 5], [2, 3], [2, 4], [2, 5], [3, 4], [3, 5], [4, 5]]\n",
      "self._parameters:  15 \n",
      " [-0.26185637 -0.07685682 -0.0737571  -0.12087987 -0.26185637  0.11268423\n",
      "  0.11835359  0.03745202  0.05556701  0.0992002   0.06333377  0.11788249\n",
      "  0.06085958  0.11158817  0.07345352]\n",
      "Nature matrix a:  [[ 0.91968807 -0.23681699 -0.06530224 -0.07104127 -0.11668167 -0.27416365]\n",
      " [ 0.27257132  0.9507485   0.09155393  0.1081557   0.02553332  0.03241033]\n",
      " [ 0.08127161 -0.13168676  0.97706187  0.07998955  0.05411873  0.10989293]\n",
      " [ 0.06904999 -0.12429908 -0.11560978  0.9775064   0.04663994  0.09339251]\n",
      " [ 0.11683126 -0.04645104 -0.06995255 -0.07408648  0.98562979  0.04842012]\n",
      " [ 0.23421401 -0.07103264 -0.12018574 -0.1258951  -0.09572477  0.94902094]]\n",
      "Nature matrix b:  [[ 0.91968807 -0.23681699 -0.06530224 -0.07104127 -0.11668167 -0.27416365]\n",
      " [ 0.27257132  0.9507485   0.09155393  0.1081557   0.02553332  0.03241033]\n",
      " [ 0.08127161 -0.13168676  0.97706187  0.07998955  0.05411873  0.10989293]\n",
      " [ 0.06904999 -0.12429908 -0.11560978  0.9775064   0.04663994  0.09339251]\n",
      " [ 0.11683126 -0.04645104 -0.06995255 -0.07408648  0.98562979  0.04842012]\n",
      " [ 0.23421401 -0.07103264 -0.12018574 -0.1258951  -0.09572477  0.94902094]]\n"
     ]
    },
    {
     "name": "stderr",
     "output_type": "stream",
     "text": [
      "The provided alpha-beta overlap matrix is NOT unitary! This can happen when the alpha- and beta-spin orbitals do not span the same space. To provide an example of what this means, consider an active space chosen from unrestricted-spin orbitals. Computing <S^2> within this active space may not result in the same <S^2> value as obtained on the single-reference starting point. More importantly, this implies that the inactive subspace will account for the difference between these two <S^2> values, possibly resulting in significant spin contamination in both subspaces. You should verify whether this is intentional/acceptable or whether your choice of active space can be improved. As a reference, here is the summed-absolute deviation of `S^T @ S` from the identity: 21.1094991911992\n"
     ]
    },
    {
     "name": "stdout",
     "output_type": "stream",
     "text": [
      "Rotated operator:  SparsePauliOp(['IIIIIIIIIIII', 'IIIIIIIIIIIZ', 'IIIIIIIIIIXY', 'IIIIIIIIIIYY', 'IIIIIIIIIIXX'],\n",
      "              coeffs=[-4.51831954+0.j        ,  1.02601756+0.j        ,  0.        -1.23566166j,\n",
      "  0.58899839+0.j        ,  0.58899839+0.j        ])\n",
      "Energy evaluation returned %s - %.5f (ms), eval count: %s -7.764641550331371 137.28809356689453\n",
      "parameters:  [ 0.06534614  0.06520549  0.065215    0.05840158  0.09600416  0.0949589\n",
      "  0.09494256  0.0858336  -0.08741913  0.00839915  0.01000461 -0.01440206\n",
      " -0.08741913  0.10656964  0.10950602  0.06760403  0.07698647  0.09958575\n",
      "  0.08100917  0.10926202  0.0797277   0.10600195  0.08625057]\n",
      "Parameters of wavefunction are: \n",
      "%s array([0.06534614, 0.06520549, 0.065215  , 0.05840158, 0.09600416,\n",
      "       0.0949589 , 0.09494256, 0.0858336 ])\n",
      "Parameters of orbital rotation are: \n",
      "%s array([-0.08741913,  0.00839915,  0.01000461, -0.01440206, -0.08741913,\n",
      "        0.10656964,  0.10950602,  0.06760403,  0.07698647,  0.09958575,\n",
      "        0.08100917,  0.10926202,  0.0797277 ,  0.10600195,  0.08625057])\n",
      "orbital_rotations:  15 \n",
      " [[0, 1], [0, 2], [0, 3], [0, 4], [0, 5], [1, 2], [1, 3], [1, 4], [1, 5], [2, 3], [2, 4], [2, 5], [3, 4], [3, 5], [4, 5]]\n",
      "self._parameters:  15 \n",
      " [-0.08741913  0.00839915  0.01000461 -0.01440206 -0.08741913  0.10656964\n",
      "  0.10950602  0.06760403  0.07698647  0.09958575  0.08100917  0.10926202\n",
      "  0.0797277   0.10600195  0.08625057]\n",
      "Nature matrix a:  [[ 0.99218246 -0.0843487   0.00870793  0.01098717 -0.0126319  -0.09001752]\n",
      " [ 0.0900253   0.97937595  0.09342157  0.10684705  0.07116381  0.08666041]\n",
      " [-0.00832685 -0.11730169  0.98021136  0.08363362  0.07541429  0.11258225]\n",
      " [-0.00931907 -0.10887586 -0.11321969  0.98033182  0.06679402  0.09863357]\n",
      " [ 0.01574209 -0.06177111 -0.0839139  -0.09108858  0.98751383  0.07358173]\n",
      " [ 0.08405604 -0.06541208 -0.10257692 -0.11009448 -0.09717931  0.97804356]]\n",
      "Nature matrix b:  [[ 0.99218246 -0.0843487   0.00870793  0.01098717 -0.0126319  -0.09001752]\n",
      " [ 0.0900253   0.97937595  0.09342157  0.10684705  0.07116381  0.08666041]\n",
      " [-0.00832685 -0.11730169  0.98021136  0.08363362  0.07541429  0.11258225]\n",
      " [-0.00931907 -0.10887586 -0.11321969  0.98033182  0.06679402  0.09863357]\n",
      " [ 0.01574209 -0.06177111 -0.0839139  -0.09108858  0.98751383  0.07358173]\n",
      " [ 0.08405604 -0.06541208 -0.10257692 -0.11009448 -0.09717931  0.97804356]]\n",
      "Rotated operator:  SparsePauliOp(['IIIIIIIIIIII', 'IIIIIIIIIIIZ', 'IIIIIIIIIIXY', 'IIIIIIIIIIYY', 'IIIIIIIIIIXX'],\n",
      "              coeffs=[-5.970993  +0.j        ,  1.31768477+0.j        ,  0.        -0.46613913j,\n",
      "  0.25852009+0.j        ,  0.25852009+0.j        ])\n",
      "Energy evaluation returned %s - %.5f (ms), eval count: %s -9.954656010313665 132.09819793701172\n"
     ]
    },
    {
     "name": "stderr",
     "output_type": "stream",
     "text": [
      "The provided alpha-beta overlap matrix is NOT unitary! This can happen when the alpha- and beta-spin orbitals do not span the same space. To provide an example of what this means, consider an active space chosen from unrestricted-spin orbitals. Computing <S^2> within this active space may not result in the same <S^2> value as obtained on the single-reference starting point. More importantly, this implies that the inactive subspace will account for the difference between these two <S^2> values, possibly resulting in significant spin contamination in both subspaces. You should verify whether this is intentional/acceptable or whether your choice of active space can be improved. As a reference, here is the summed-absolute deviation of `S^T @ S` from the identity: 21.1094991911992\n"
     ]
    },
    {
     "name": "stdout",
     "output_type": "stream",
     "text": [
      "orbital_rotations:  15 \n",
      " [[0, 1], [0, 2], [0, 3], [0, 4], [0, 5], [1, 2], [1, 3], [1, 4], [1, 5], [2, 3], [2, 4], [2, 5], [3, 4], [3, 5], [4, 5]]\n",
      "self._parameters:  15 \n",
      " [-0.08740913  0.00839915  0.01000461 -0.01440206 -0.08741913  0.10656964\n",
      "  0.10950602  0.06760403  0.07698647  0.09958575  0.08100917  0.10926202\n",
      "  0.0797277   0.10600195  0.08625057]\n",
      "orbital_rotations:  15 \n",
      " [[0, 1], [0, 2], [0, 3], [0, 4], [0, 5], [1, 2], [1, 3], [1, 4], [1, 5], [2, 3], [2, 4], [2, 5], [3, 4], [3, 5], [4, 5]]\n",
      "self._parameters:  15 \n",
      " [-0.08742913  0.00839915  0.01000461 -0.01440206 -0.08741913  0.10656964\n",
      "  0.10950602  0.06760403  0.07698647  0.09958575  0.08100917  0.10926202\n",
      "  0.0797277   0.10600195  0.08625057]\n"
     ]
    },
    {
     "name": "stderr",
     "output_type": "stream",
     "text": [
      "The provided alpha-beta overlap matrix is NOT unitary! This can happen when the alpha- and beta-spin orbitals do not span the same space. To provide an example of what this means, consider an active space chosen from unrestricted-spin orbitals. Computing <S^2> within this active space may not result in the same <S^2> value as obtained on the single-reference starting point. More importantly, this implies that the inactive subspace will account for the difference between these two <S^2> values, possibly resulting in significant spin contamination in both subspaces. You should verify whether this is intentional/acceptable or whether your choice of active space can be improved. As a reference, here is the summed-absolute deviation of `S^T @ S` from the identity: 21.1094991911992\n",
      "The provided alpha-beta overlap matrix is NOT unitary! This can happen when the alpha- and beta-spin orbitals do not span the same space. To provide an example of what this means, consider an active space chosen from unrestricted-spin orbitals. Computing <S^2> within this active space may not result in the same <S^2> value as obtained on the single-reference starting point. More importantly, this implies that the inactive subspace will account for the difference between these two <S^2> values, possibly resulting in significant spin contamination in both subspaces. You should verify whether this is intentional/acceptable or whether your choice of active space can be improved. As a reference, here is the summed-absolute deviation of `S^T @ S` from the identity: 21.1094991911992\n"
     ]
    },
    {
     "name": "stdout",
     "output_type": "stream",
     "text": [
      "orbital_rotations:  15 \n",
      " [[0, 1], [0, 2], [0, 3], [0, 4], [0, 5], [1, 2], [1, 3], [1, 4], [1, 5], [2, 3], [2, 4], [2, 5], [3, 4], [3, 5], [4, 5]]\n",
      "self._parameters:  15 \n",
      " [-0.08741913  0.00840915  0.01000461 -0.01440206 -0.08741913  0.10656964\n",
      "  0.10950602  0.06760403  0.07698647  0.09958575  0.08100917  0.10926202\n",
      "  0.0797277   0.10600195  0.08625057]\n",
      "orbital_rotations:  15 \n",
      " [[0, 1], [0, 2], [0, 3], [0, 4], [0, 5], [1, 2], [1, 3], [1, 4], [1, 5], [2, 3], [2, 4], [2, 5], [3, 4], [3, 5], [4, 5]]\n",
      "self._parameters:  15 \n",
      " [-0.08741913  0.00838915  0.01000461 -0.01440206 -0.08741913  0.10656964\n",
      "  0.10950602  0.06760403  0.07698647  0.09958575  0.08100917  0.10926202\n",
      "  0.0797277   0.10600195  0.08625057]\n"
     ]
    },
    {
     "name": "stderr",
     "output_type": "stream",
     "text": [
      "The provided alpha-beta overlap matrix is NOT unitary! This can happen when the alpha- and beta-spin orbitals do not span the same space. To provide an example of what this means, consider an active space chosen from unrestricted-spin orbitals. Computing <S^2> within this active space may not result in the same <S^2> value as obtained on the single-reference starting point. More importantly, this implies that the inactive subspace will account for the difference between these two <S^2> values, possibly resulting in significant spin contamination in both subspaces. You should verify whether this is intentional/acceptable or whether your choice of active space can be improved. As a reference, here is the summed-absolute deviation of `S^T @ S` from the identity: 21.1094991911992\n",
      "The provided alpha-beta overlap matrix is NOT unitary! This can happen when the alpha- and beta-spin orbitals do not span the same space. To provide an example of what this means, consider an active space chosen from unrestricted-spin orbitals. Computing <S^2> within this active space may not result in the same <S^2> value as obtained on the single-reference starting point. More importantly, this implies that the inactive subspace will account for the difference between these two <S^2> values, possibly resulting in significant spin contamination in both subspaces. You should verify whether this is intentional/acceptable or whether your choice of active space can be improved. As a reference, here is the summed-absolute deviation of `S^T @ S` from the identity: 21.1094991911992\n"
     ]
    },
    {
     "name": "stdout",
     "output_type": "stream",
     "text": [
      "orbital_rotations:  15 \n",
      " [[0, 1], [0, 2], [0, 3], [0, 4], [0, 5], [1, 2], [1, 3], [1, 4], [1, 5], [2, 3], [2, 4], [2, 5], [3, 4], [3, 5], [4, 5]]\n",
      "self._parameters:  15 \n",
      " [-0.08741913  0.00839915  0.01001461 -0.01440206 -0.08741913  0.10656964\n",
      "  0.10950602  0.06760403  0.07698647  0.09958575  0.08100917  0.10926202\n",
      "  0.0797277   0.10600195  0.08625057]\n",
      "orbital_rotations:  15 \n",
      " [[0, 1], [0, 2], [0, 3], [0, 4], [0, 5], [1, 2], [1, 3], [1, 4], [1, 5], [2, 3], [2, 4], [2, 5], [3, 4], [3, 5], [4, 5]]\n",
      "self._parameters:  15 \n",
      " [-0.08741913  0.00839915  0.00999461 -0.01440206 -0.08741913  0.10656964\n",
      "  0.10950602  0.06760403  0.07698647  0.09958575  0.08100917  0.10926202\n",
      "  0.0797277   0.10600195  0.08625057]\n"
     ]
    },
    {
     "name": "stderr",
     "output_type": "stream",
     "text": [
      "The provided alpha-beta overlap matrix is NOT unitary! This can happen when the alpha- and beta-spin orbitals do not span the same space. To provide an example of what this means, consider an active space chosen from unrestricted-spin orbitals. Computing <S^2> within this active space may not result in the same <S^2> value as obtained on the single-reference starting point. More importantly, this implies that the inactive subspace will account for the difference between these two <S^2> values, possibly resulting in significant spin contamination in both subspaces. You should verify whether this is intentional/acceptable or whether your choice of active space can be improved. As a reference, here is the summed-absolute deviation of `S^T @ S` from the identity: 21.1094991911992\n",
      "The provided alpha-beta overlap matrix is NOT unitary! This can happen when the alpha- and beta-spin orbitals do not span the same space. To provide an example of what this means, consider an active space chosen from unrestricted-spin orbitals. Computing <S^2> within this active space may not result in the same <S^2> value as obtained on the single-reference starting point. More importantly, this implies that the inactive subspace will account for the difference between these two <S^2> values, possibly resulting in significant spin contamination in both subspaces. You should verify whether this is intentional/acceptable or whether your choice of active space can be improved. As a reference, here is the summed-absolute deviation of `S^T @ S` from the identity: 21.1094991911992\n"
     ]
    },
    {
     "name": "stdout",
     "output_type": "stream",
     "text": [
      "orbital_rotations:  15 \n",
      " [[0, 1], [0, 2], [0, 3], [0, 4], [0, 5], [1, 2], [1, 3], [1, 4], [1, 5], [2, 3], [2, 4], [2, 5], [3, 4], [3, 5], [4, 5]]\n",
      "self._parameters:  15 \n",
      " [-0.08741913  0.00839915  0.01000461 -0.01439206 -0.08741913  0.10656964\n",
      "  0.10950602  0.06760403  0.07698647  0.09958575  0.08100917  0.10926202\n",
      "  0.0797277   0.10600195  0.08625057]\n",
      "orbital_rotations:  15 \n",
      " [[0, 1], [0, 2], [0, 3], [0, 4], [0, 5], [1, 2], [1, 3], [1, 4], [1, 5], [2, 3], [2, 4], [2, 5], [3, 4], [3, 5], [4, 5]]\n",
      "self._parameters:  15 \n",
      " [-0.08741913  0.00839915  0.01000461 -0.01441206 -0.08741913  0.10656964\n",
      "  0.10950602  0.06760403  0.07698647  0.09958575  0.08100917  0.10926202\n",
      "  0.0797277   0.10600195  0.08625057]\n"
     ]
    },
    {
     "name": "stderr",
     "output_type": "stream",
     "text": [
      "The provided alpha-beta overlap matrix is NOT unitary! This can happen when the alpha- and beta-spin orbitals do not span the same space. To provide an example of what this means, consider an active space chosen from unrestricted-spin orbitals. Computing <S^2> within this active space may not result in the same <S^2> value as obtained on the single-reference starting point. More importantly, this implies that the inactive subspace will account for the difference between these two <S^2> values, possibly resulting in significant spin contamination in both subspaces. You should verify whether this is intentional/acceptable or whether your choice of active space can be improved. As a reference, here is the summed-absolute deviation of `S^T @ S` from the identity: 21.1094991911992\n",
      "The provided alpha-beta overlap matrix is NOT unitary! This can happen when the alpha- and beta-spin orbitals do not span the same space. To provide an example of what this means, consider an active space chosen from unrestricted-spin orbitals. Computing <S^2> within this active space may not result in the same <S^2> value as obtained on the single-reference starting point. More importantly, this implies that the inactive subspace will account for the difference between these two <S^2> values, possibly resulting in significant spin contamination in both subspaces. You should verify whether this is intentional/acceptable or whether your choice of active space can be improved. As a reference, here is the summed-absolute deviation of `S^T @ S` from the identity: 21.1094991911992\n"
     ]
    },
    {
     "name": "stdout",
     "output_type": "stream",
     "text": [
      "orbital_rotations:  15 \n",
      " [[0, 1], [0, 2], [0, 3], [0, 4], [0, 5], [1, 2], [1, 3], [1, 4], [1, 5], [2, 3], [2, 4], [2, 5], [3, 4], [3, 5], [4, 5]]\n",
      "self._parameters:  15 \n",
      " [-0.08741913  0.00839915  0.01000461 -0.01440206 -0.08740913  0.10656964\n",
      "  0.10950602  0.06760403  0.07698647  0.09958575  0.08100917  0.10926202\n",
      "  0.0797277   0.10600195  0.08625057]\n",
      "orbital_rotations:  15 \n",
      " [[0, 1], [0, 2], [0, 3], [0, 4], [0, 5], [1, 2], [1, 3], [1, 4], [1, 5], [2, 3], [2, 4], [2, 5], [3, 4], [3, 5], [4, 5]]\n",
      "self._parameters:  15 \n",
      " [-0.08741913  0.00839915  0.01000461 -0.01440206 -0.08742913  0.10656964\n",
      "  0.10950602  0.06760403  0.07698647  0.09958575  0.08100917  0.10926202\n",
      "  0.0797277   0.10600195  0.08625057]\n"
     ]
    },
    {
     "name": "stderr",
     "output_type": "stream",
     "text": [
      "The provided alpha-beta overlap matrix is NOT unitary! This can happen when the alpha- and beta-spin orbitals do not span the same space. To provide an example of what this means, consider an active space chosen from unrestricted-spin orbitals. Computing <S^2> within this active space may not result in the same <S^2> value as obtained on the single-reference starting point. More importantly, this implies that the inactive subspace will account for the difference between these two <S^2> values, possibly resulting in significant spin contamination in both subspaces. You should verify whether this is intentional/acceptable or whether your choice of active space can be improved. As a reference, here is the summed-absolute deviation of `S^T @ S` from the identity: 21.1094991911992\n",
      "The provided alpha-beta overlap matrix is NOT unitary! This can happen when the alpha- and beta-spin orbitals do not span the same space. To provide an example of what this means, consider an active space chosen from unrestricted-spin orbitals. Computing <S^2> within this active space may not result in the same <S^2> value as obtained on the single-reference starting point. More importantly, this implies that the inactive subspace will account for the difference between these two <S^2> values, possibly resulting in significant spin contamination in both subspaces. You should verify whether this is intentional/acceptable or whether your choice of active space can be improved. As a reference, here is the summed-absolute deviation of `S^T @ S` from the identity: 21.1094991911992\n"
     ]
    },
    {
     "name": "stdout",
     "output_type": "stream",
     "text": [
      "orbital_rotations:  15 \n",
      " [[0, 1], [0, 2], [0, 3], [0, 4], [0, 5], [1, 2], [1, 3], [1, 4], [1, 5], [2, 3], [2, 4], [2, 5], [3, 4], [3, 5], [4, 5]]\n",
      "self._parameters:  15 \n",
      " [-0.08741913  0.00839915  0.01000461 -0.01440206 -0.08741913  0.10657964\n",
      "  0.10950602  0.06760403  0.07698647  0.09958575  0.08100917  0.10926202\n",
      "  0.0797277   0.10600195  0.08625057]\n",
      "orbital_rotations:  15 \n",
      " [[0, 1], [0, 2], [0, 3], [0, 4], [0, 5], [1, 2], [1, 3], [1, 4], [1, 5], [2, 3], [2, 4], [2, 5], [3, 4], [3, 5], [4, 5]]\n",
      "self._parameters:  15 \n",
      " [-0.08741913  0.00839915  0.01000461 -0.01440206 -0.08741913  0.10655964\n",
      "  0.10950602  0.06760403  0.07698647  0.09958575  0.08100917  0.10926202\n",
      "  0.0797277   0.10600195  0.08625057]\n"
     ]
    },
    {
     "name": "stderr",
     "output_type": "stream",
     "text": [
      "The provided alpha-beta overlap matrix is NOT unitary! This can happen when the alpha- and beta-spin orbitals do not span the same space. To provide an example of what this means, consider an active space chosen from unrestricted-spin orbitals. Computing <S^2> within this active space may not result in the same <S^2> value as obtained on the single-reference starting point. More importantly, this implies that the inactive subspace will account for the difference between these two <S^2> values, possibly resulting in significant spin contamination in both subspaces. You should verify whether this is intentional/acceptable or whether your choice of active space can be improved. As a reference, here is the summed-absolute deviation of `S^T @ S` from the identity: 21.1094991911992\n",
      "The provided alpha-beta overlap matrix is NOT unitary! This can happen when the alpha- and beta-spin orbitals do not span the same space. To provide an example of what this means, consider an active space chosen from unrestricted-spin orbitals. Computing <S^2> within this active space may not result in the same <S^2> value as obtained on the single-reference starting point. More importantly, this implies that the inactive subspace will account for the difference between these two <S^2> values, possibly resulting in significant spin contamination in both subspaces. You should verify whether this is intentional/acceptable or whether your choice of active space can be improved. As a reference, here is the summed-absolute deviation of `S^T @ S` from the identity: 21.1094991911992\n"
     ]
    },
    {
     "name": "stdout",
     "output_type": "stream",
     "text": [
      "orbital_rotations:  15 \n",
      " [[0, 1], [0, 2], [0, 3], [0, 4], [0, 5], [1, 2], [1, 3], [1, 4], [1, 5], [2, 3], [2, 4], [2, 5], [3, 4], [3, 5], [4, 5]]\n",
      "self._parameters:  15 \n",
      " [-0.08741913  0.00839915  0.01000461 -0.01440206 -0.08741913  0.10656964\n",
      "  0.10951602  0.06760403  0.07698647  0.09958575  0.08100917  0.10926202\n",
      "  0.0797277   0.10600195  0.08625057]\n",
      "orbital_rotations:  15 \n",
      " [[0, 1], [0, 2], [0, 3], [0, 4], [0, 5], [1, 2], [1, 3], [1, 4], [1, 5], [2, 3], [2, 4], [2, 5], [3, 4], [3, 5], [4, 5]]\n",
      "self._parameters:  15 \n",
      " [-0.08741913  0.00839915  0.01000461 -0.01440206 -0.08741913  0.10656964\n",
      "  0.10949602  0.06760403  0.07698647  0.09958575  0.08100917  0.10926202\n",
      "  0.0797277   0.10600195  0.08625057]\n"
     ]
    },
    {
     "name": "stderr",
     "output_type": "stream",
     "text": [
      "The provided alpha-beta overlap matrix is NOT unitary! This can happen when the alpha- and beta-spin orbitals do not span the same space. To provide an example of what this means, consider an active space chosen from unrestricted-spin orbitals. Computing <S^2> within this active space may not result in the same <S^2> value as obtained on the single-reference starting point. More importantly, this implies that the inactive subspace will account for the difference between these two <S^2> values, possibly resulting in significant spin contamination in both subspaces. You should verify whether this is intentional/acceptable or whether your choice of active space can be improved. As a reference, here is the summed-absolute deviation of `S^T @ S` from the identity: 21.1094991911992\n",
      "The provided alpha-beta overlap matrix is NOT unitary! This can happen when the alpha- and beta-spin orbitals do not span the same space. To provide an example of what this means, consider an active space chosen from unrestricted-spin orbitals. Computing <S^2> within this active space may not result in the same <S^2> value as obtained on the single-reference starting point. More importantly, this implies that the inactive subspace will account for the difference between these two <S^2> values, possibly resulting in significant spin contamination in both subspaces. You should verify whether this is intentional/acceptable or whether your choice of active space can be improved. As a reference, here is the summed-absolute deviation of `S^T @ S` from the identity: 21.1094991911992\n"
     ]
    },
    {
     "name": "stdout",
     "output_type": "stream",
     "text": [
      "orbital_rotations:  15 \n",
      " [[0, 1], [0, 2], [0, 3], [0, 4], [0, 5], [1, 2], [1, 3], [1, 4], [1, 5], [2, 3], [2, 4], [2, 5], [3, 4], [3, 5], [4, 5]]\n",
      "self._parameters:  15 \n",
      " [-0.08741913  0.00839915  0.01000461 -0.01440206 -0.08741913  0.10656964\n",
      "  0.10950602  0.06761403  0.07698647  0.09958575  0.08100917  0.10926202\n",
      "  0.0797277   0.10600195  0.08625057]\n",
      "orbital_rotations:  15 \n",
      " [[0, 1], [0, 2], [0, 3], [0, 4], [0, 5], [1, 2], [1, 3], [1, 4], [1, 5], [2, 3], [2, 4], [2, 5], [3, 4], [3, 5], [4, 5]]\n",
      "self._parameters:  15 \n",
      " [-0.08741913  0.00839915  0.01000461 -0.01440206 -0.08741913  0.10656964\n",
      "  0.10950602  0.06759403  0.07698647  0.09958575  0.08100917  0.10926202\n",
      "  0.0797277   0.10600195  0.08625057]\n"
     ]
    },
    {
     "name": "stderr",
     "output_type": "stream",
     "text": [
      "The provided alpha-beta overlap matrix is NOT unitary! This can happen when the alpha- and beta-spin orbitals do not span the same space. To provide an example of what this means, consider an active space chosen from unrestricted-spin orbitals. Computing <S^2> within this active space may not result in the same <S^2> value as obtained on the single-reference starting point. More importantly, this implies that the inactive subspace will account for the difference between these two <S^2> values, possibly resulting in significant spin contamination in both subspaces. You should verify whether this is intentional/acceptable or whether your choice of active space can be improved. As a reference, here is the summed-absolute deviation of `S^T @ S` from the identity: 21.1094991911992\n",
      "The provided alpha-beta overlap matrix is NOT unitary! This can happen when the alpha- and beta-spin orbitals do not span the same space. To provide an example of what this means, consider an active space chosen from unrestricted-spin orbitals. Computing <S^2> within this active space may not result in the same <S^2> value as obtained on the single-reference starting point. More importantly, this implies that the inactive subspace will account for the difference between these two <S^2> values, possibly resulting in significant spin contamination in both subspaces. You should verify whether this is intentional/acceptable or whether your choice of active space can be improved. As a reference, here is the summed-absolute deviation of `S^T @ S` from the identity: 21.1094991911992\n"
     ]
    },
    {
     "name": "stdout",
     "output_type": "stream",
     "text": [
      "orbital_rotations:  15 \n",
      " [[0, 1], [0, 2], [0, 3], [0, 4], [0, 5], [1, 2], [1, 3], [1, 4], [1, 5], [2, 3], [2, 4], [2, 5], [3, 4], [3, 5], [4, 5]]\n",
      "self._parameters:  15 \n",
      " [-0.08741913  0.00839915  0.01000461 -0.01440206 -0.08741913  0.10656964\n",
      "  0.10950602  0.06760403  0.07699647  0.09958575  0.08100917  0.10926202\n",
      "  0.0797277   0.10600195  0.08625057]\n",
      "orbital_rotations:  15 \n",
      " [[0, 1], [0, 2], [0, 3], [0, 4], [0, 5], [1, 2], [1, 3], [1, 4], [1, 5], [2, 3], [2, 4], [2, 5], [3, 4], [3, 5], [4, 5]]\n",
      "self._parameters:  15 \n",
      " [-0.08741913  0.00839915  0.01000461 -0.01440206 -0.08741913  0.10656964\n",
      "  0.10950602  0.06760403  0.07697647  0.09958575  0.08100917  0.10926202\n",
      "  0.0797277   0.10600195  0.08625057]\n"
     ]
    },
    {
     "name": "stderr",
     "output_type": "stream",
     "text": [
      "The provided alpha-beta overlap matrix is NOT unitary! This can happen when the alpha- and beta-spin orbitals do not span the same space. To provide an example of what this means, consider an active space chosen from unrestricted-spin orbitals. Computing <S^2> within this active space may not result in the same <S^2> value as obtained on the single-reference starting point. More importantly, this implies that the inactive subspace will account for the difference between these two <S^2> values, possibly resulting in significant spin contamination in both subspaces. You should verify whether this is intentional/acceptable or whether your choice of active space can be improved. As a reference, here is the summed-absolute deviation of `S^T @ S` from the identity: 21.1094991911992\n",
      "The provided alpha-beta overlap matrix is NOT unitary! This can happen when the alpha- and beta-spin orbitals do not span the same space. To provide an example of what this means, consider an active space chosen from unrestricted-spin orbitals. Computing <S^2> within this active space may not result in the same <S^2> value as obtained on the single-reference starting point. More importantly, this implies that the inactive subspace will account for the difference between these two <S^2> values, possibly resulting in significant spin contamination in both subspaces. You should verify whether this is intentional/acceptable or whether your choice of active space can be improved. As a reference, here is the summed-absolute deviation of `S^T @ S` from the identity: 21.1094991911992\n"
     ]
    },
    {
     "name": "stdout",
     "output_type": "stream",
     "text": [
      "orbital_rotations:  15 \n",
      " [[0, 1], [0, 2], [0, 3], [0, 4], [0, 5], [1, 2], [1, 3], [1, 4], [1, 5], [2, 3], [2, 4], [2, 5], [3, 4], [3, 5], [4, 5]]\n",
      "self._parameters:  15 \n",
      " [-0.08741913  0.00839915  0.01000461 -0.01440206 -0.08741913  0.10656964\n",
      "  0.10950602  0.06760403  0.07698647  0.09959575  0.08100917  0.10926202\n",
      "  0.0797277   0.10600195  0.08625057]\n",
      "orbital_rotations:  15 \n",
      " [[0, 1], [0, 2], [0, 3], [0, 4], [0, 5], [1, 2], [1, 3], [1, 4], [1, 5], [2, 3], [2, 4], [2, 5], [3, 4], [3, 5], [4, 5]]\n",
      "self._parameters:  15 \n",
      " [-0.08741913  0.00839915  0.01000461 -0.01440206 -0.08741913  0.10656964\n",
      "  0.10950602  0.06760403  0.07698647  0.09957575  0.08100917  0.10926202\n",
      "  0.0797277   0.10600195  0.08625057]\n"
     ]
    },
    {
     "name": "stderr",
     "output_type": "stream",
     "text": [
      "The provided alpha-beta overlap matrix is NOT unitary! This can happen when the alpha- and beta-spin orbitals do not span the same space. To provide an example of what this means, consider an active space chosen from unrestricted-spin orbitals. Computing <S^2> within this active space may not result in the same <S^2> value as obtained on the single-reference starting point. More importantly, this implies that the inactive subspace will account for the difference between these two <S^2> values, possibly resulting in significant spin contamination in both subspaces. You should verify whether this is intentional/acceptable or whether your choice of active space can be improved. As a reference, here is the summed-absolute deviation of `S^T @ S` from the identity: 21.1094991911992\n",
      "The provided alpha-beta overlap matrix is NOT unitary! This can happen when the alpha- and beta-spin orbitals do not span the same space. To provide an example of what this means, consider an active space chosen from unrestricted-spin orbitals. Computing <S^2> within this active space may not result in the same <S^2> value as obtained on the single-reference starting point. More importantly, this implies that the inactive subspace will account for the difference between these two <S^2> values, possibly resulting in significant spin contamination in both subspaces. You should verify whether this is intentional/acceptable or whether your choice of active space can be improved. As a reference, here is the summed-absolute deviation of `S^T @ S` from the identity: 21.1094991911992\n"
     ]
    },
    {
     "name": "stdout",
     "output_type": "stream",
     "text": [
      "orbital_rotations:  15 \n",
      " [[0, 1], [0, 2], [0, 3], [0, 4], [0, 5], [1, 2], [1, 3], [1, 4], [1, 5], [2, 3], [2, 4], [2, 5], [3, 4], [3, 5], [4, 5]]\n",
      "self._parameters:  15 \n",
      " [-0.08741913  0.00839915  0.01000461 -0.01440206 -0.08741913  0.10656964\n",
      "  0.10950602  0.06760403  0.07698647  0.09958575  0.08101917  0.10926202\n",
      "  0.0797277   0.10600195  0.08625057]\n",
      "orbital_rotations:  15 \n",
      " [[0, 1], [0, 2], [0, 3], [0, 4], [0, 5], [1, 2], [1, 3], [1, 4], [1, 5], [2, 3], [2, 4], [2, 5], [3, 4], [3, 5], [4, 5]]\n",
      "self._parameters:  15 \n",
      " [-0.08741913  0.00839915  0.01000461 -0.01440206 -0.08741913  0.10656964\n",
      "  0.10950602  0.06760403  0.07698647  0.09958575  0.08099917  0.10926202\n",
      "  0.0797277   0.10600195  0.08625057]\n"
     ]
    },
    {
     "name": "stderr",
     "output_type": "stream",
     "text": [
      "The provided alpha-beta overlap matrix is NOT unitary! This can happen when the alpha- and beta-spin orbitals do not span the same space. To provide an example of what this means, consider an active space chosen from unrestricted-spin orbitals. Computing <S^2> within this active space may not result in the same <S^2> value as obtained on the single-reference starting point. More importantly, this implies that the inactive subspace will account for the difference between these two <S^2> values, possibly resulting in significant spin contamination in both subspaces. You should verify whether this is intentional/acceptable or whether your choice of active space can be improved. As a reference, here is the summed-absolute deviation of `S^T @ S` from the identity: 21.1094991911992\n",
      "The provided alpha-beta overlap matrix is NOT unitary! This can happen when the alpha- and beta-spin orbitals do not span the same space. To provide an example of what this means, consider an active space chosen from unrestricted-spin orbitals. Computing <S^2> within this active space may not result in the same <S^2> value as obtained on the single-reference starting point. More importantly, this implies that the inactive subspace will account for the difference between these two <S^2> values, possibly resulting in significant spin contamination in both subspaces. You should verify whether this is intentional/acceptable or whether your choice of active space can be improved. As a reference, here is the summed-absolute deviation of `S^T @ S` from the identity: 21.1094991911992\n"
     ]
    },
    {
     "name": "stdout",
     "output_type": "stream",
     "text": [
      "orbital_rotations:  15 \n",
      " [[0, 1], [0, 2], [0, 3], [0, 4], [0, 5], [1, 2], [1, 3], [1, 4], [1, 5], [2, 3], [2, 4], [2, 5], [3, 4], [3, 5], [4, 5]]\n",
      "self._parameters:  15 \n",
      " [-0.08741913  0.00839915  0.01000461 -0.01440206 -0.08741913  0.10656964\n",
      "  0.10950602  0.06760403  0.07698647  0.09958575  0.08100917  0.10927202\n",
      "  0.0797277   0.10600195  0.08625057]\n",
      "orbital_rotations:  15 \n",
      " [[0, 1], [0, 2], [0, 3], [0, 4], [0, 5], [1, 2], [1, 3], [1, 4], [1, 5], [2, 3], [2, 4], [2, 5], [3, 4], [3, 5], [4, 5]]\n",
      "self._parameters:  15 \n",
      " [-0.08741913  0.00839915  0.01000461 -0.01440206 -0.08741913  0.10656964\n",
      "  0.10950602  0.06760403  0.07698647  0.09958575  0.08100917  0.10925202\n",
      "  0.0797277   0.10600195  0.08625057]\n"
     ]
    },
    {
     "name": "stderr",
     "output_type": "stream",
     "text": [
      "The provided alpha-beta overlap matrix is NOT unitary! This can happen when the alpha- and beta-spin orbitals do not span the same space. To provide an example of what this means, consider an active space chosen from unrestricted-spin orbitals. Computing <S^2> within this active space may not result in the same <S^2> value as obtained on the single-reference starting point. More importantly, this implies that the inactive subspace will account for the difference between these two <S^2> values, possibly resulting in significant spin contamination in both subspaces. You should verify whether this is intentional/acceptable or whether your choice of active space can be improved. As a reference, here is the summed-absolute deviation of `S^T @ S` from the identity: 21.1094991911992\n",
      "The provided alpha-beta overlap matrix is NOT unitary! This can happen when the alpha- and beta-spin orbitals do not span the same space. To provide an example of what this means, consider an active space chosen from unrestricted-spin orbitals. Computing <S^2> within this active space may not result in the same <S^2> value as obtained on the single-reference starting point. More importantly, this implies that the inactive subspace will account for the difference between these two <S^2> values, possibly resulting in significant spin contamination in both subspaces. You should verify whether this is intentional/acceptable or whether your choice of active space can be improved. As a reference, here is the summed-absolute deviation of `S^T @ S` from the identity: 21.1094991911992\n"
     ]
    },
    {
     "name": "stdout",
     "output_type": "stream",
     "text": [
      "orbital_rotations:  15 \n",
      " [[0, 1], [0, 2], [0, 3], [0, 4], [0, 5], [1, 2], [1, 3], [1, 4], [1, 5], [2, 3], [2, 4], [2, 5], [3, 4], [3, 5], [4, 5]]\n",
      "self._parameters:  15 \n",
      " [-0.08741913  0.00839915  0.01000461 -0.01440206 -0.08741913  0.10656964\n",
      "  0.10950602  0.06760403  0.07698647  0.09958575  0.08100917  0.10926202\n",
      "  0.0797377   0.10600195  0.08625057]\n",
      "orbital_rotations:  15 \n",
      " [[0, 1], [0, 2], [0, 3], [0, 4], [0, 5], [1, 2], [1, 3], [1, 4], [1, 5], [2, 3], [2, 4], [2, 5], [3, 4], [3, 5], [4, 5]]\n",
      "self._parameters:  15 \n",
      " [-0.08741913  0.00839915  0.01000461 -0.01440206 -0.08741913  0.10656964\n",
      "  0.10950602  0.06760403  0.07698647  0.09958575  0.08100917  0.10926202\n",
      "  0.0797177   0.10600195  0.08625057]\n"
     ]
    },
    {
     "name": "stderr",
     "output_type": "stream",
     "text": [
      "The provided alpha-beta overlap matrix is NOT unitary! This can happen when the alpha- and beta-spin orbitals do not span the same space. To provide an example of what this means, consider an active space chosen from unrestricted-spin orbitals. Computing <S^2> within this active space may not result in the same <S^2> value as obtained on the single-reference starting point. More importantly, this implies that the inactive subspace will account for the difference between these two <S^2> values, possibly resulting in significant spin contamination in both subspaces. You should verify whether this is intentional/acceptable or whether your choice of active space can be improved. As a reference, here is the summed-absolute deviation of `S^T @ S` from the identity: 21.1094991911992\n",
      "The provided alpha-beta overlap matrix is NOT unitary! This can happen when the alpha- and beta-spin orbitals do not span the same space. To provide an example of what this means, consider an active space chosen from unrestricted-spin orbitals. Computing <S^2> within this active space may not result in the same <S^2> value as obtained on the single-reference starting point. More importantly, this implies that the inactive subspace will account for the difference between these two <S^2> values, possibly resulting in significant spin contamination in both subspaces. You should verify whether this is intentional/acceptable or whether your choice of active space can be improved. As a reference, here is the summed-absolute deviation of `S^T @ S` from the identity: 21.1094991911992\n"
     ]
    },
    {
     "name": "stdout",
     "output_type": "stream",
     "text": [
      "orbital_rotations:  15 \n",
      " [[0, 1], [0, 2], [0, 3], [0, 4], [0, 5], [1, 2], [1, 3], [1, 4], [1, 5], [2, 3], [2, 4], [2, 5], [3, 4], [3, 5], [4, 5]]\n",
      "self._parameters:  15 \n",
      " [-0.08741913  0.00839915  0.01000461 -0.01440206 -0.08741913  0.10656964\n",
      "  0.10950602  0.06760403  0.07698647  0.09958575  0.08100917  0.10926202\n",
      "  0.0797277   0.10601195  0.08625057]\n",
      "orbital_rotations:  15 \n",
      " [[0, 1], [0, 2], [0, 3], [0, 4], [0, 5], [1, 2], [1, 3], [1, 4], [1, 5], [2, 3], [2, 4], [2, 5], [3, 4], [3, 5], [4, 5]]\n",
      "self._parameters:  15 \n",
      " [-0.08741913  0.00839915  0.01000461 -0.01440206 -0.08741913  0.10656964\n",
      "  0.10950602  0.06760403  0.07698647  0.09958575  0.08100917  0.10926202\n",
      "  0.0797277   0.10599195  0.08625057]\n"
     ]
    },
    {
     "name": "stderr",
     "output_type": "stream",
     "text": [
      "The provided alpha-beta overlap matrix is NOT unitary! This can happen when the alpha- and beta-spin orbitals do not span the same space. To provide an example of what this means, consider an active space chosen from unrestricted-spin orbitals. Computing <S^2> within this active space may not result in the same <S^2> value as obtained on the single-reference starting point. More importantly, this implies that the inactive subspace will account for the difference between these two <S^2> values, possibly resulting in significant spin contamination in both subspaces. You should verify whether this is intentional/acceptable or whether your choice of active space can be improved. As a reference, here is the summed-absolute deviation of `S^T @ S` from the identity: 21.1094991911992\n",
      "The provided alpha-beta overlap matrix is NOT unitary! This can happen when the alpha- and beta-spin orbitals do not span the same space. To provide an example of what this means, consider an active space chosen from unrestricted-spin orbitals. Computing <S^2> within this active space may not result in the same <S^2> value as obtained on the single-reference starting point. More importantly, this implies that the inactive subspace will account for the difference between these two <S^2> values, possibly resulting in significant spin contamination in both subspaces. You should verify whether this is intentional/acceptable or whether your choice of active space can be improved. As a reference, here is the summed-absolute deviation of `S^T @ S` from the identity: 21.1094991911992\n"
     ]
    },
    {
     "name": "stdout",
     "output_type": "stream",
     "text": [
      "orbital_rotations:  15 \n",
      " [[0, 1], [0, 2], [0, 3], [0, 4], [0, 5], [1, 2], [1, 3], [1, 4], [1, 5], [2, 3], [2, 4], [2, 5], [3, 4], [3, 5], [4, 5]]\n",
      "self._parameters:  15 \n",
      " [-0.08741913  0.00839915  0.01000461 -0.01440206 -0.08741913  0.10656964\n",
      "  0.10950602  0.06760403  0.07698647  0.09958575  0.08100917  0.10926202\n",
      "  0.0797277   0.10600195  0.08626057]\n",
      "orbital_rotations:  15 \n",
      " [[0, 1], [0, 2], [0, 3], [0, 4], [0, 5], [1, 2], [1, 3], [1, 4], [1, 5], [2, 3], [2, 4], [2, 5], [3, 4], [3, 5], [4, 5]]\n",
      "self._parameters:  15 \n",
      " [-0.08741913  0.00839915  0.01000461 -0.01440206 -0.08741913  0.10656964\n",
      "  0.10950602  0.06760403  0.07698647  0.09958575  0.08100917  0.10926202\n",
      "  0.0797277   0.10600195  0.08624057]\n"
     ]
    },
    {
     "name": "stderr",
     "output_type": "stream",
     "text": [
      "The provided alpha-beta overlap matrix is NOT unitary! This can happen when the alpha- and beta-spin orbitals do not span the same space. To provide an example of what this means, consider an active space chosen from unrestricted-spin orbitals. Computing <S^2> within this active space may not result in the same <S^2> value as obtained on the single-reference starting point. More importantly, this implies that the inactive subspace will account for the difference between these two <S^2> values, possibly resulting in significant spin contamination in both subspaces. You should verify whether this is intentional/acceptable or whether your choice of active space can be improved. As a reference, here is the summed-absolute deviation of `S^T @ S` from the identity: 21.1094991911992\n",
      "The provided alpha-beta overlap matrix is NOT unitary! This can happen when the alpha- and beta-spin orbitals do not span the same space. To provide an example of what this means, consider an active space chosen from unrestricted-spin orbitals. Computing <S^2> within this active space may not result in the same <S^2> value as obtained on the single-reference starting point. More importantly, this implies that the inactive subspace will account for the difference between these two <S^2> values, possibly resulting in significant spin contamination in both subspaces. You should verify whether this is intentional/acceptable or whether your choice of active space can be improved. As a reference, here is the summed-absolute deviation of `S^T @ S` from the identity: 21.1094991911992\n"
     ]
    },
    {
     "name": "stdout",
     "output_type": "stream",
     "text": [
      "parameters:  [-0.84337248 -0.84342234 -0.84312275 -0.98492645 -0.04123093 -0.08147252\n",
      " -0.08199592 -0.40572883  0.00839869 -0.04594109 -0.1274488   1.72760856\n",
      " -1.62105205  0.53577102  0.53420355 -0.39962188 -2.10657231  0.07727523\n",
      " -0.4388253  -0.45793034 -0.43718464 -0.41879335 -1.72866412]\n",
      "Parameters of wavefunction are: \n",
      "%s array([-0.84337248, -0.84342234, -0.84312275, -0.98492645, -0.04123093,\n",
      "       -0.08147252, -0.08199592, -0.40572883])\n",
      "Parameters of orbital rotation are: \n",
      "%s array([ 0.00839869, -0.04594109, -0.1274488 ,  1.72760856, -1.62105205,\n",
      "        0.53577102,  0.53420355, -0.39962188, -2.10657231,  0.07727523,\n",
      "       -0.4388253 , -0.45793034, -0.43718464, -0.41879335, -1.72866412])\n",
      "orbital_rotations:  15 \n",
      " [[0, 1], [0, 2], [0, 3], [0, 4], [0, 5], [1, 2], [1, 3], [1, 4], [1, 5], [2, 3], [2, 4], [2, 5], [3, 4], [3, 5], [4, 5]]\n",
      "self._parameters:  15 \n",
      " [ 0.00839869 -0.04594109 -0.1274488   1.72760856 -1.62105205  0.53577102\n",
      "  0.53420355 -0.39962188 -2.10657231  0.07727523 -0.4388253  -0.45793034\n",
      " -0.43718464 -0.41879335 -1.72866412]\n",
      "Nature matrix a:  [[-2.58507974e-01 -8.04292498e-01 -3.28915116e-01 -3.62393211e-01\n",
      "   1.13571080e-01 -1.84051140e-01]\n",
      " [ 3.06142403e-01 -8.04734198e-02 -1.71339216e-01 -1.51489329e-01\n",
      "  -9.19666063e-01 -4.13406307e-02]\n",
      " [ 3.11523158e-01 -4.23592424e-01  8.19091665e-01 -1.23679253e-01\n",
      "  -1.45563233e-04  1.93171026e-01]\n",
      " [ 3.25877501e-01 -3.96963999e-01 -2.42103723e-01  8.08281199e-01\n",
      "   4.85207773e-02  1.48109629e-01]\n",
      " [-6.79285173e-01 -7.94829813e-02  8.99958769e-02  1.61505691e-01\n",
      "  -2.91431840e-01  6.42758311e-01]\n",
      " [-4.18066127e-01 -5.75248161e-02  3.53317269e-01  3.88616780e-01\n",
      "  -2.32441688e-01 -7.01445918e-01]]\n",
      "Nature matrix b:  [[-2.58507974e-01 -8.04292498e-01 -3.28915116e-01 -3.62393211e-01\n",
      "   1.13571080e-01 -1.84051140e-01]\n",
      " [ 3.06142403e-01 -8.04734198e-02 -1.71339216e-01 -1.51489329e-01\n",
      "  -9.19666063e-01 -4.13406307e-02]\n",
      " [ 3.11523158e-01 -4.23592424e-01  8.19091665e-01 -1.23679253e-01\n",
      "  -1.45563233e-04  1.93171026e-01]\n",
      " [ 3.25877501e-01 -3.96963999e-01 -2.42103723e-01  8.08281199e-01\n",
      "   4.85207773e-02  1.48109629e-01]\n",
      " [-6.79285173e-01 -7.94829813e-02  8.99958769e-02  1.61505691e-01\n",
      "  -2.91431840e-01  6.42758311e-01]\n",
      " [-4.18066127e-01 -5.75248161e-02  3.53317269e-01  3.88616780e-01\n",
      "  -2.32441688e-01 -7.01445918e-01]]\n"
     ]
    },
    {
     "name": "stderr",
     "output_type": "stream",
     "text": [
      "The provided alpha-beta overlap matrix is NOT unitary! This can happen when the alpha- and beta-spin orbitals do not span the same space. To provide an example of what this means, consider an active space chosen from unrestricted-spin orbitals. Computing <S^2> within this active space may not result in the same <S^2> value as obtained on the single-reference starting point. More importantly, this implies that the inactive subspace will account for the difference between these two <S^2> values, possibly resulting in significant spin contamination in both subspaces. You should verify whether this is intentional/acceptable or whether your choice of active space can be improved. As a reference, here is the summed-absolute deviation of `S^T @ S` from the identity: 21.1094991911992\n"
     ]
    },
    {
     "name": "stdout",
     "output_type": "stream",
     "text": [
      "Rotated operator:  SparsePauliOp(['IIIIIIIIIIII', 'IIIIIIIIIIIZ', 'IIIIIIIIIIXY', 'IIIIIIIIIIYY', 'IIIIIIIIIIXX'],\n",
      "              coeffs=[ 4.80250087+0.j       , -1.32573509+0.j       ,  0.        +0.6417625j,\n",
      " -1.5608915 +0.j       , -1.5608915 +0.j       ])\n",
      "Energy evaluation returned %s - %.5f (ms), eval count: %s 2.678964496605801 136.7800235748291\n",
      "parameters:  [-0.20158057 -0.20169455 -0.20159983 -0.24806525  0.05569277  0.04313399\n",
      "  0.04296871 -0.05855779 -0.05927363 -0.00756273 -0.03037091  0.49729557\n",
      " -0.53790795  0.23264311  0.23425653 -0.06963875 -0.56441136  0.09303226\n",
      " -0.07168684 -0.05734488 -0.07210996 -0.04815124 -0.44686187]\n",
      "Parameters of wavefunction are: \n",
      "%s array([-0.20158057, -0.20169455, -0.20159983, -0.24806525,  0.05569277,\n",
      "        0.04313399,  0.04296871, -0.05855779])\n",
      "Parameters of orbital rotation are: \n",
      "%s array([-0.05927363, -0.00756273, -0.03037091,  0.49729557, -0.53790795,\n",
      "        0.23264311,  0.23425653, -0.06963875, -0.56441136,  0.09303226,\n",
      "       -0.07168684, -0.05734488, -0.07210996, -0.04815124, -0.44686187])\n",
      "orbital_rotations:  15 \n",
      " [[0, 1], [0, 2], [0, 3], [0, 4], [0, 5], [1, 2], [1, 3], [1, 4], [1, 5], [2, 3], [2, 4], [2, 5], [3, 4], [3, 5], [4, 5]]\n",
      "self._parameters:  15 \n",
      " [-0.05927363 -0.00756273 -0.03037091  0.49729557 -0.53790795  0.23264311\n",
      "  0.23425653 -0.06963875 -0.56441136  0.09303226 -0.07168684 -0.05734488\n",
      " -0.07210996 -0.04815124 -0.44686187]\n",
      "Nature matrix a:  [[ 0.74759831 -0.19005413 -0.02396394 -0.04482174  0.33779664 -0.53692306]\n",
      " [-0.04433957  0.79528257  0.18521958  0.20903801 -0.20267245 -0.49646786]\n",
      " [ 0.0172884  -0.24223546  0.96585739  0.06081247 -0.06291485  0.02204921]\n",
      " [ 0.03810457 -0.22114057 -0.12076977  0.96535833 -0.05048529  0.02437391]\n",
      " [-0.55037792 -0.03059978  0.05506779  0.06944847  0.78437273 -0.27028073]\n",
      " [ 0.36669343  0.47210968  0.12091793  0.11771224  0.47230254  0.62538098]]\n",
      "Nature matrix b:  [[ 0.74759831 -0.19005413 -0.02396394 -0.04482174  0.33779664 -0.53692306]\n",
      " [-0.04433957  0.79528257  0.18521958  0.20903801 -0.20267245 -0.49646786]\n",
      " [ 0.0172884  -0.24223546  0.96585739  0.06081247 -0.06291485  0.02204921]\n",
      " [ 0.03810457 -0.22114057 -0.12076977  0.96535833 -0.05048529  0.02437391]\n",
      " [-0.55037792 -0.03059978  0.05506779  0.06944847  0.78437273 -0.27028073]\n",
      " [ 0.36669343  0.47210968  0.12091793  0.11771224  0.47230254  0.62538098]]\n"
     ]
    },
    {
     "name": "stderr",
     "output_type": "stream",
     "text": [
      "The provided alpha-beta overlap matrix is NOT unitary! This can happen when the alpha- and beta-spin orbitals do not span the same space. To provide an example of what this means, consider an active space chosen from unrestricted-spin orbitals. Computing <S^2> within this active space may not result in the same <S^2> value as obtained on the single-reference starting point. More importantly, this implies that the inactive subspace will account for the difference between these two <S^2> values, possibly resulting in significant spin contamination in both subspaces. You should verify whether this is intentional/acceptable or whether your choice of active space can be improved. As a reference, here is the summed-absolute deviation of `S^T @ S` from the identity: 21.1094991911992\n"
     ]
    },
    {
     "name": "stdout",
     "output_type": "stream",
     "text": [
      "Rotated operator:  SparsePauliOp(['IIIIIIIIIIII', 'IIIIIIIIIIIZ', 'IIIIIIIIIIXY', 'IIIIIIIIIIYY', 'IIIIIIIIIIXX'],\n",
      "              coeffs=[ 2.43763377+0.j        , -1.18125174+0.j        ,  0.        -0.26308136j,\n",
      "  0.67098666+0.j        ,  0.67098666+0.j        ])\n",
      "Energy evaluation returned %s - %.5f (ms), eval count: %s 0.7873602618465566 132.7509880065918\n",
      "parameters:  [ 0.02133636  0.0212001   0.02122366  0.00787259  0.08935778  0.08641422\n",
      "  0.08637332  0.06202694 -0.08277861  0.00576742  0.00334766  0.06996455\n",
      " -0.16169388  0.12735612  0.13007437  0.044976   -0.02876457  0.09850524\n",
      "  0.05583328  0.08179256  0.05469333  0.08058581 -0.00164682]\n",
      "Parameters of wavefunction are: \n",
      "%s array([0.02133636, 0.0212001 , 0.02122366, 0.00787259, 0.08935778,\n",
      "       0.08641422, 0.08637332, 0.06202694])\n",
      "Parameters of orbital rotation are: \n",
      "%s array([-0.08277861,  0.00576742,  0.00334766,  0.06996455, -0.16169388,\n",
      "        0.12735612,  0.13007437,  0.044976  , -0.02876457,  0.09850524,\n",
      "        0.05583328,  0.08179256,  0.05469333,  0.08058581, -0.00164682])\n",
      "orbital_rotations:  15 \n",
      " [[0, 1], [0, 2], [0, 3], [0, 4], [0, 5], [1, 2], [1, 3], [1, 4], [1, 5], [2, 3], [2, 4], [2, 5], [3, 4], [3, 5], [4, 5]]\n",
      "self._parameters:  15 \n",
      " [-0.08277861  0.00576742  0.00334766  0.06996455 -0.16169388  0.12735612\n",
      "  0.13007437  0.044976   -0.02876457  0.09850524  0.05583328  0.08179256\n",
      "  0.05469333  0.08058581 -0.00164682]\n",
      "Nature matrix a:  [[ 9.81095892e-01 -8.66170655e-02  4.78494073e-03  2.60258810e-03\n",
      "   6.76923584e-02 -1.59174153e-01]\n",
      " [ 7.77061866e-02  9.78690981e-01  1.19731353e-01  1.34960044e-01\n",
      "   5.44878443e-02 -2.46368951e-02]\n",
      " [-6.31378646e-03 -1.32163514e-01  9.82213075e-01  8.44431745e-02\n",
      "   5.48561366e-02  8.72385936e-02]\n",
      " [-3.59578749e-03 -1.22356215e-01 -1.10532954e-01  9.82036015e-01\n",
      "   4.85122257e-02  7.77838131e-02]\n",
      " [-7.11747500e-02 -3.46181159e-02 -5.54544428e-02 -5.98955307e-02\n",
      "   9.93515511e-01  9.06662919e-06]\n",
      " [ 1.62154128e-01  3.20124335e-02 -7.48749242e-02 -8.16465140e-02\n",
      "   3.62168067e-03  9.79997816e-01]]\n",
      "Nature matrix b:  [[ 9.81095892e-01 -8.66170655e-02  4.78494073e-03  2.60258810e-03\n",
      "   6.76923584e-02 -1.59174153e-01]\n",
      " [ 7.77061866e-02  9.78690981e-01  1.19731353e-01  1.34960044e-01\n",
      "   5.44878443e-02 -2.46368951e-02]\n",
      " [-6.31378646e-03 -1.32163514e-01  9.82213075e-01  8.44431745e-02\n",
      "   5.48561366e-02  8.72385936e-02]\n",
      " [-3.59578749e-03 -1.22356215e-01 -1.10532954e-01  9.82036015e-01\n",
      "   4.85122257e-02  7.77838131e-02]\n",
      " [-7.11747500e-02 -3.46181159e-02 -5.54544428e-02 -5.98955307e-02\n",
      "   9.93515511e-01  9.06662919e-06]\n",
      " [ 1.62154128e-01  3.20124335e-02 -7.48749242e-02 -8.16465140e-02\n",
      "   3.62168067e-03  9.79997816e-01]]\n",
      "Rotated operator:  SparsePauliOp(['IIIIIIIIIIII', 'IIIIIIIIIIIZ', 'IIIIIIIIIIXY', 'IIIIIIIIIIYY', 'IIIIIIIIIIXX'],\n",
      "              coeffs=[-5.7595942 +0.j        ,  1.29977795+0.j        ,  0.        -0.37232631j,\n",
      "  0.1789191 +0.j        ,  0.1789191 +0.j        ])\n",
      "Energy evaluation returned %s - %.5f (ms), eval count: %s -10.288776740506961 130.92780113220215\n"
     ]
    },
    {
     "name": "stderr",
     "output_type": "stream",
     "text": [
      "The provided alpha-beta overlap matrix is NOT unitary! This can happen when the alpha- and beta-spin orbitals do not span the same space. To provide an example of what this means, consider an active space chosen from unrestricted-spin orbitals. Computing <S^2> within this active space may not result in the same <S^2> value as obtained on the single-reference starting point. More importantly, this implies that the inactive subspace will account for the difference between these two <S^2> values, possibly resulting in significant spin contamination in both subspaces. You should verify whether this is intentional/acceptable or whether your choice of active space can be improved. As a reference, here is the summed-absolute deviation of `S^T @ S` from the identity: 21.1094991911992\n"
     ]
    },
    {
     "name": "stdout",
     "output_type": "stream",
     "text": [
      "orbital_rotations:  15 \n",
      " [[0, 1], [0, 2], [0, 3], [0, 4], [0, 5], [1, 2], [1, 3], [1, 4], [1, 5], [2, 3], [2, 4], [2, 5], [3, 4], [3, 5], [4, 5]]\n",
      "self._parameters:  15 \n",
      " [-0.08276861  0.00576742  0.00334766  0.06996455 -0.16169388  0.12735612\n",
      "  0.13007437  0.044976   -0.02876457  0.09850524  0.05583328  0.08179256\n",
      "  0.05469333  0.08058581 -0.00164682]\n",
      "orbital_rotations:  15 \n",
      " [[0, 1], [0, 2], [0, 3], [0, 4], [0, 5], [1, 2], [1, 3], [1, 4], [1, 5], [2, 3], [2, 4], [2, 5], [3, 4], [3, 5], [4, 5]]\n",
      "self._parameters:  15 \n",
      " [-0.08278861  0.00576742  0.00334766  0.06996455 -0.16169388  0.12735612\n",
      "  0.13007437  0.044976   -0.02876457  0.09850524  0.05583328  0.08179256\n",
      "  0.05469333  0.08058581 -0.00164682]\n"
     ]
    },
    {
     "name": "stderr",
     "output_type": "stream",
     "text": [
      "The provided alpha-beta overlap matrix is NOT unitary! This can happen when the alpha- and beta-spin orbitals do not span the same space. To provide an example of what this means, consider an active space chosen from unrestricted-spin orbitals. Computing <S^2> within this active space may not result in the same <S^2> value as obtained on the single-reference starting point. More importantly, this implies that the inactive subspace will account for the difference between these two <S^2> values, possibly resulting in significant spin contamination in both subspaces. You should verify whether this is intentional/acceptable or whether your choice of active space can be improved. As a reference, here is the summed-absolute deviation of `S^T @ S` from the identity: 21.1094991911992\n",
      "The provided alpha-beta overlap matrix is NOT unitary! This can happen when the alpha- and beta-spin orbitals do not span the same space. To provide an example of what this means, consider an active space chosen from unrestricted-spin orbitals. Computing <S^2> within this active space may not result in the same <S^2> value as obtained on the single-reference starting point. More importantly, this implies that the inactive subspace will account for the difference between these two <S^2> values, possibly resulting in significant spin contamination in both subspaces. You should verify whether this is intentional/acceptable or whether your choice of active space can be improved. As a reference, here is the summed-absolute deviation of `S^T @ S` from the identity: 21.1094991911992\n"
     ]
    },
    {
     "name": "stdout",
     "output_type": "stream",
     "text": [
      "orbital_rotations:  15 \n",
      " [[0, 1], [0, 2], [0, 3], [0, 4], [0, 5], [1, 2], [1, 3], [1, 4], [1, 5], [2, 3], [2, 4], [2, 5], [3, 4], [3, 5], [4, 5]]\n",
      "self._parameters:  15 \n",
      " [-0.08277861  0.00577742  0.00334766  0.06996455 -0.16169388  0.12735612\n",
      "  0.13007437  0.044976   -0.02876457  0.09850524  0.05583328  0.08179256\n",
      "  0.05469333  0.08058581 -0.00164682]\n",
      "orbital_rotations:  15 \n",
      " [[0, 1], [0, 2], [0, 3], [0, 4], [0, 5], [1, 2], [1, 3], [1, 4], [1, 5], [2, 3], [2, 4], [2, 5], [3, 4], [3, 5], [4, 5]]\n",
      "self._parameters:  15 \n",
      " [-0.08277861  0.00575742  0.00334766  0.06996455 -0.16169388  0.12735612\n",
      "  0.13007437  0.044976   -0.02876457  0.09850524  0.05583328  0.08179256\n",
      "  0.05469333  0.08058581 -0.00164682]\n"
     ]
    },
    {
     "name": "stderr",
     "output_type": "stream",
     "text": [
      "The provided alpha-beta overlap matrix is NOT unitary! This can happen when the alpha- and beta-spin orbitals do not span the same space. To provide an example of what this means, consider an active space chosen from unrestricted-spin orbitals. Computing <S^2> within this active space may not result in the same <S^2> value as obtained on the single-reference starting point. More importantly, this implies that the inactive subspace will account for the difference between these two <S^2> values, possibly resulting in significant spin contamination in both subspaces. You should verify whether this is intentional/acceptable or whether your choice of active space can be improved. As a reference, here is the summed-absolute deviation of `S^T @ S` from the identity: 21.1094991911992\n",
      "The provided alpha-beta overlap matrix is NOT unitary! This can happen when the alpha- and beta-spin orbitals do not span the same space. To provide an example of what this means, consider an active space chosen from unrestricted-spin orbitals. Computing <S^2> within this active space may not result in the same <S^2> value as obtained on the single-reference starting point. More importantly, this implies that the inactive subspace will account for the difference between these two <S^2> values, possibly resulting in significant spin contamination in both subspaces. You should verify whether this is intentional/acceptable or whether your choice of active space can be improved. As a reference, here is the summed-absolute deviation of `S^T @ S` from the identity: 21.1094991911992\n"
     ]
    },
    {
     "name": "stdout",
     "output_type": "stream",
     "text": [
      "orbital_rotations:  15 \n",
      " [[0, 1], [0, 2], [0, 3], [0, 4], [0, 5], [1, 2], [1, 3], [1, 4], [1, 5], [2, 3], [2, 4], [2, 5], [3, 4], [3, 5], [4, 5]]\n",
      "self._parameters:  15 \n",
      " [-0.08277861  0.00576742  0.00335766  0.06996455 -0.16169388  0.12735612\n",
      "  0.13007437  0.044976   -0.02876457  0.09850524  0.05583328  0.08179256\n",
      "  0.05469333  0.08058581 -0.00164682]\n",
      "orbital_rotations:  15 \n",
      " [[0, 1], [0, 2], [0, 3], [0, 4], [0, 5], [1, 2], [1, 3], [1, 4], [1, 5], [2, 3], [2, 4], [2, 5], [3, 4], [3, 5], [4, 5]]\n",
      "self._parameters:  15 \n",
      " [-0.08277861  0.00576742  0.00333766  0.06996455 -0.16169388  0.12735612\n",
      "  0.13007437  0.044976   -0.02876457  0.09850524  0.05583328  0.08179256\n",
      "  0.05469333  0.08058581 -0.00164682]\n"
     ]
    },
    {
     "name": "stderr",
     "output_type": "stream",
     "text": [
      "The provided alpha-beta overlap matrix is NOT unitary! This can happen when the alpha- and beta-spin orbitals do not span the same space. To provide an example of what this means, consider an active space chosen from unrestricted-spin orbitals. Computing <S^2> within this active space may not result in the same <S^2> value as obtained on the single-reference starting point. More importantly, this implies that the inactive subspace will account for the difference between these two <S^2> values, possibly resulting in significant spin contamination in both subspaces. You should verify whether this is intentional/acceptable or whether your choice of active space can be improved. As a reference, here is the summed-absolute deviation of `S^T @ S` from the identity: 21.1094991911992\n",
      "The provided alpha-beta overlap matrix is NOT unitary! This can happen when the alpha- and beta-spin orbitals do not span the same space. To provide an example of what this means, consider an active space chosen from unrestricted-spin orbitals. Computing <S^2> within this active space may not result in the same <S^2> value as obtained on the single-reference starting point. More importantly, this implies that the inactive subspace will account for the difference between these two <S^2> values, possibly resulting in significant spin contamination in both subspaces. You should verify whether this is intentional/acceptable or whether your choice of active space can be improved. As a reference, here is the summed-absolute deviation of `S^T @ S` from the identity: 21.1094991911992\n"
     ]
    },
    {
     "name": "stdout",
     "output_type": "stream",
     "text": [
      "orbital_rotations:  15 \n",
      " [[0, 1], [0, 2], [0, 3], [0, 4], [0, 5], [1, 2], [1, 3], [1, 4], [1, 5], [2, 3], [2, 4], [2, 5], [3, 4], [3, 5], [4, 5]]\n",
      "self._parameters:  15 \n",
      " [-0.08277861  0.00576742  0.00334766  0.06997455 -0.16169388  0.12735612\n",
      "  0.13007437  0.044976   -0.02876457  0.09850524  0.05583328  0.08179256\n",
      "  0.05469333  0.08058581 -0.00164682]\n",
      "orbital_rotations:  15 \n",
      " [[0, 1], [0, 2], [0, 3], [0, 4], [0, 5], [1, 2], [1, 3], [1, 4], [1, 5], [2, 3], [2, 4], [2, 5], [3, 4], [3, 5], [4, 5]]\n",
      "self._parameters:  15 \n",
      " [-0.08277861  0.00576742  0.00334766  0.06995455 -0.16169388  0.12735612\n",
      "  0.13007437  0.044976   -0.02876457  0.09850524  0.05583328  0.08179256\n",
      "  0.05469333  0.08058581 -0.00164682]\n"
     ]
    },
    {
     "name": "stderr",
     "output_type": "stream",
     "text": [
      "The provided alpha-beta overlap matrix is NOT unitary! This can happen when the alpha- and beta-spin orbitals do not span the same space. To provide an example of what this means, consider an active space chosen from unrestricted-spin orbitals. Computing <S^2> within this active space may not result in the same <S^2> value as obtained on the single-reference starting point. More importantly, this implies that the inactive subspace will account for the difference between these two <S^2> values, possibly resulting in significant spin contamination in both subspaces. You should verify whether this is intentional/acceptable or whether your choice of active space can be improved. As a reference, here is the summed-absolute deviation of `S^T @ S` from the identity: 21.1094991911992\n",
      "The provided alpha-beta overlap matrix is NOT unitary! This can happen when the alpha- and beta-spin orbitals do not span the same space. To provide an example of what this means, consider an active space chosen from unrestricted-spin orbitals. Computing <S^2> within this active space may not result in the same <S^2> value as obtained on the single-reference starting point. More importantly, this implies that the inactive subspace will account for the difference between these two <S^2> values, possibly resulting in significant spin contamination in both subspaces. You should verify whether this is intentional/acceptable or whether your choice of active space can be improved. As a reference, here is the summed-absolute deviation of `S^T @ S` from the identity: 21.1094991911992\n"
     ]
    },
    {
     "name": "stdout",
     "output_type": "stream",
     "text": [
      "orbital_rotations:  15 \n",
      " [[0, 1], [0, 2], [0, 3], [0, 4], [0, 5], [1, 2], [1, 3], [1, 4], [1, 5], [2, 3], [2, 4], [2, 5], [3, 4], [3, 5], [4, 5]]\n",
      "self._parameters:  15 \n",
      " [-0.08277861  0.00576742  0.00334766  0.06996455 -0.16168388  0.12735612\n",
      "  0.13007437  0.044976   -0.02876457  0.09850524  0.05583328  0.08179256\n",
      "  0.05469333  0.08058581 -0.00164682]\n",
      "orbital_rotations:  15 \n",
      " [[0, 1], [0, 2], [0, 3], [0, 4], [0, 5], [1, 2], [1, 3], [1, 4], [1, 5], [2, 3], [2, 4], [2, 5], [3, 4], [3, 5], [4, 5]]\n",
      "self._parameters:  15 \n",
      " [-0.08277861  0.00576742  0.00334766  0.06996455 -0.16170388  0.12735612\n",
      "  0.13007437  0.044976   -0.02876457  0.09850524  0.05583328  0.08179256\n",
      "  0.05469333  0.08058581 -0.00164682]\n"
     ]
    },
    {
     "name": "stderr",
     "output_type": "stream",
     "text": [
      "The provided alpha-beta overlap matrix is NOT unitary! This can happen when the alpha- and beta-spin orbitals do not span the same space. To provide an example of what this means, consider an active space chosen from unrestricted-spin orbitals. Computing <S^2> within this active space may not result in the same <S^2> value as obtained on the single-reference starting point. More importantly, this implies that the inactive subspace will account for the difference between these two <S^2> values, possibly resulting in significant spin contamination in both subspaces. You should verify whether this is intentional/acceptable or whether your choice of active space can be improved. As a reference, here is the summed-absolute deviation of `S^T @ S` from the identity: 21.1094991911992\n",
      "The provided alpha-beta overlap matrix is NOT unitary! This can happen when the alpha- and beta-spin orbitals do not span the same space. To provide an example of what this means, consider an active space chosen from unrestricted-spin orbitals. Computing <S^2> within this active space may not result in the same <S^2> value as obtained on the single-reference starting point. More importantly, this implies that the inactive subspace will account for the difference between these two <S^2> values, possibly resulting in significant spin contamination in both subspaces. You should verify whether this is intentional/acceptable or whether your choice of active space can be improved. As a reference, here is the summed-absolute deviation of `S^T @ S` from the identity: 21.1094991911992\n"
     ]
    },
    {
     "name": "stdout",
     "output_type": "stream",
     "text": [
      "orbital_rotations:  15 \n",
      " [[0, 1], [0, 2], [0, 3], [0, 4], [0, 5], [1, 2], [1, 3], [1, 4], [1, 5], [2, 3], [2, 4], [2, 5], [3, 4], [3, 5], [4, 5]]\n",
      "self._parameters:  15 \n",
      " [-0.08277861  0.00576742  0.00334766  0.06996455 -0.16169388  0.12736612\n",
      "  0.13007437  0.044976   -0.02876457  0.09850524  0.05583328  0.08179256\n",
      "  0.05469333  0.08058581 -0.00164682]\n",
      "orbital_rotations:  15 \n",
      " [[0, 1], [0, 2], [0, 3], [0, 4], [0, 5], [1, 2], [1, 3], [1, 4], [1, 5], [2, 3], [2, 4], [2, 5], [3, 4], [3, 5], [4, 5]]\n",
      "self._parameters:  15 \n",
      " [-0.08277861  0.00576742  0.00334766  0.06996455 -0.16169388  0.12734612\n",
      "  0.13007437  0.044976   -0.02876457  0.09850524  0.05583328  0.08179256\n",
      "  0.05469333  0.08058581 -0.00164682]\n"
     ]
    },
    {
     "name": "stderr",
     "output_type": "stream",
     "text": [
      "The provided alpha-beta overlap matrix is NOT unitary! This can happen when the alpha- and beta-spin orbitals do not span the same space. To provide an example of what this means, consider an active space chosen from unrestricted-spin orbitals. Computing <S^2> within this active space may not result in the same <S^2> value as obtained on the single-reference starting point. More importantly, this implies that the inactive subspace will account for the difference between these two <S^2> values, possibly resulting in significant spin contamination in both subspaces. You should verify whether this is intentional/acceptable or whether your choice of active space can be improved. As a reference, here is the summed-absolute deviation of `S^T @ S` from the identity: 21.1094991911992\n",
      "The provided alpha-beta overlap matrix is NOT unitary! This can happen when the alpha- and beta-spin orbitals do not span the same space. To provide an example of what this means, consider an active space chosen from unrestricted-spin orbitals. Computing <S^2> within this active space may not result in the same <S^2> value as obtained on the single-reference starting point. More importantly, this implies that the inactive subspace will account for the difference between these two <S^2> values, possibly resulting in significant spin contamination in both subspaces. You should verify whether this is intentional/acceptable or whether your choice of active space can be improved. As a reference, here is the summed-absolute deviation of `S^T @ S` from the identity: 21.1094991911992\n"
     ]
    },
    {
     "name": "stdout",
     "output_type": "stream",
     "text": [
      "orbital_rotations:  15 \n",
      " [[0, 1], [0, 2], [0, 3], [0, 4], [0, 5], [1, 2], [1, 3], [1, 4], [1, 5], [2, 3], [2, 4], [2, 5], [3, 4], [3, 5], [4, 5]]\n",
      "self._parameters:  15 \n",
      " [-0.08277861  0.00576742  0.00334766  0.06996455 -0.16169388  0.12735612\n",
      "  0.13008437  0.044976   -0.02876457  0.09850524  0.05583328  0.08179256\n",
      "  0.05469333  0.08058581 -0.00164682]\n",
      "orbital_rotations:  15 \n",
      " [[0, 1], [0, 2], [0, 3], [0, 4], [0, 5], [1, 2], [1, 3], [1, 4], [1, 5], [2, 3], [2, 4], [2, 5], [3, 4], [3, 5], [4, 5]]\n",
      "self._parameters:  15 \n",
      " [-0.08277861  0.00576742  0.00334766  0.06996455 -0.16169388  0.12735612\n",
      "  0.13006437  0.044976   -0.02876457  0.09850524  0.05583328  0.08179256\n",
      "  0.05469333  0.08058581 -0.00164682]\n"
     ]
    },
    {
     "name": "stderr",
     "output_type": "stream",
     "text": [
      "The provided alpha-beta overlap matrix is NOT unitary! This can happen when the alpha- and beta-spin orbitals do not span the same space. To provide an example of what this means, consider an active space chosen from unrestricted-spin orbitals. Computing <S^2> within this active space may not result in the same <S^2> value as obtained on the single-reference starting point. More importantly, this implies that the inactive subspace will account for the difference between these two <S^2> values, possibly resulting in significant spin contamination in both subspaces. You should verify whether this is intentional/acceptable or whether your choice of active space can be improved. As a reference, here is the summed-absolute deviation of `S^T @ S` from the identity: 21.1094991911992\n",
      "The provided alpha-beta overlap matrix is NOT unitary! This can happen when the alpha- and beta-spin orbitals do not span the same space. To provide an example of what this means, consider an active space chosen from unrestricted-spin orbitals. Computing <S^2> within this active space may not result in the same <S^2> value as obtained on the single-reference starting point. More importantly, this implies that the inactive subspace will account for the difference between these two <S^2> values, possibly resulting in significant spin contamination in both subspaces. You should verify whether this is intentional/acceptable or whether your choice of active space can be improved. As a reference, here is the summed-absolute deviation of `S^T @ S` from the identity: 21.1094991911992\n"
     ]
    },
    {
     "name": "stdout",
     "output_type": "stream",
     "text": [
      "orbital_rotations:  15 \n",
      " [[0, 1], [0, 2], [0, 3], [0, 4], [0, 5], [1, 2], [1, 3], [1, 4], [1, 5], [2, 3], [2, 4], [2, 5], [3, 4], [3, 5], [4, 5]]\n",
      "self._parameters:  15 \n",
      " [-0.08277861  0.00576742  0.00334766  0.06996455 -0.16169388  0.12735612\n",
      "  0.13007437  0.044986   -0.02876457  0.09850524  0.05583328  0.08179256\n",
      "  0.05469333  0.08058581 -0.00164682]\n",
      "orbital_rotations:  15 \n",
      " [[0, 1], [0, 2], [0, 3], [0, 4], [0, 5], [1, 2], [1, 3], [1, 4], [1, 5], [2, 3], [2, 4], [2, 5], [3, 4], [3, 5], [4, 5]]\n",
      "self._parameters:  15 \n",
      " [-0.08277861  0.00576742  0.00334766  0.06996455 -0.16169388  0.12735612\n",
      "  0.13007437  0.044966   -0.02876457  0.09850524  0.05583328  0.08179256\n",
      "  0.05469333  0.08058581 -0.00164682]\n"
     ]
    },
    {
     "name": "stderr",
     "output_type": "stream",
     "text": [
      "The provided alpha-beta overlap matrix is NOT unitary! This can happen when the alpha- and beta-spin orbitals do not span the same space. To provide an example of what this means, consider an active space chosen from unrestricted-spin orbitals. Computing <S^2> within this active space may not result in the same <S^2> value as obtained on the single-reference starting point. More importantly, this implies that the inactive subspace will account for the difference between these two <S^2> values, possibly resulting in significant spin contamination in both subspaces. You should verify whether this is intentional/acceptable or whether your choice of active space can be improved. As a reference, here is the summed-absolute deviation of `S^T @ S` from the identity: 21.1094991911992\n",
      "The provided alpha-beta overlap matrix is NOT unitary! This can happen when the alpha- and beta-spin orbitals do not span the same space. To provide an example of what this means, consider an active space chosen from unrestricted-spin orbitals. Computing <S^2> within this active space may not result in the same <S^2> value as obtained on the single-reference starting point. More importantly, this implies that the inactive subspace will account for the difference between these two <S^2> values, possibly resulting in significant spin contamination in both subspaces. You should verify whether this is intentional/acceptable or whether your choice of active space can be improved. As a reference, here is the summed-absolute deviation of `S^T @ S` from the identity: 21.1094991911992\n"
     ]
    },
    {
     "name": "stdout",
     "output_type": "stream",
     "text": [
      "orbital_rotations:  15 \n",
      " [[0, 1], [0, 2], [0, 3], [0, 4], [0, 5], [1, 2], [1, 3], [1, 4], [1, 5], [2, 3], [2, 4], [2, 5], [3, 4], [3, 5], [4, 5]]\n",
      "self._parameters:  15 \n",
      " [-0.08277861  0.00576742  0.00334766  0.06996455 -0.16169388  0.12735612\n",
      "  0.13007437  0.044976   -0.02875457  0.09850524  0.05583328  0.08179256\n",
      "  0.05469333  0.08058581 -0.00164682]\n",
      "orbital_rotations:  15 \n",
      " [[0, 1], [0, 2], [0, 3], [0, 4], [0, 5], [1, 2], [1, 3], [1, 4], [1, 5], [2, 3], [2, 4], [2, 5], [3, 4], [3, 5], [4, 5]]\n",
      "self._parameters:  15 \n",
      " [-0.08277861  0.00576742  0.00334766  0.06996455 -0.16169388  0.12735612\n",
      "  0.13007437  0.044976   -0.02877457  0.09850524  0.05583328  0.08179256\n",
      "  0.05469333  0.08058581 -0.00164682]\n"
     ]
    },
    {
     "name": "stderr",
     "output_type": "stream",
     "text": [
      "The provided alpha-beta overlap matrix is NOT unitary! This can happen when the alpha- and beta-spin orbitals do not span the same space. To provide an example of what this means, consider an active space chosen from unrestricted-spin orbitals. Computing <S^2> within this active space may not result in the same <S^2> value as obtained on the single-reference starting point. More importantly, this implies that the inactive subspace will account for the difference between these two <S^2> values, possibly resulting in significant spin contamination in both subspaces. You should verify whether this is intentional/acceptable or whether your choice of active space can be improved. As a reference, here is the summed-absolute deviation of `S^T @ S` from the identity: 21.1094991911992\n",
      "The provided alpha-beta overlap matrix is NOT unitary! This can happen when the alpha- and beta-spin orbitals do not span the same space. To provide an example of what this means, consider an active space chosen from unrestricted-spin orbitals. Computing <S^2> within this active space may not result in the same <S^2> value as obtained on the single-reference starting point. More importantly, this implies that the inactive subspace will account for the difference between these two <S^2> values, possibly resulting in significant spin contamination in both subspaces. You should verify whether this is intentional/acceptable or whether your choice of active space can be improved. As a reference, here is the summed-absolute deviation of `S^T @ S` from the identity: 21.1094991911992\n"
     ]
    },
    {
     "name": "stdout",
     "output_type": "stream",
     "text": [
      "orbital_rotations:  15 \n",
      " [[0, 1], [0, 2], [0, 3], [0, 4], [0, 5], [1, 2], [1, 3], [1, 4], [1, 5], [2, 3], [2, 4], [2, 5], [3, 4], [3, 5], [4, 5]]\n",
      "self._parameters:  15 \n",
      " [-0.08277861  0.00576742  0.00334766  0.06996455 -0.16169388  0.12735612\n",
      "  0.13007437  0.044976   -0.02876457  0.09851524  0.05583328  0.08179256\n",
      "  0.05469333  0.08058581 -0.00164682]\n",
      "orbital_rotations:  15 \n",
      " [[0, 1], [0, 2], [0, 3], [0, 4], [0, 5], [1, 2], [1, 3], [1, 4], [1, 5], [2, 3], [2, 4], [2, 5], [3, 4], [3, 5], [4, 5]]\n",
      "self._parameters:  15 \n",
      " [-0.08277861  0.00576742  0.00334766  0.06996455 -0.16169388  0.12735612\n",
      "  0.13007437  0.044976   -0.02876457  0.09849524  0.05583328  0.08179256\n",
      "  0.05469333  0.08058581 -0.00164682]\n"
     ]
    },
    {
     "name": "stderr",
     "output_type": "stream",
     "text": [
      "The provided alpha-beta overlap matrix is NOT unitary! This can happen when the alpha- and beta-spin orbitals do not span the same space. To provide an example of what this means, consider an active space chosen from unrestricted-spin orbitals. Computing <S^2> within this active space may not result in the same <S^2> value as obtained on the single-reference starting point. More importantly, this implies that the inactive subspace will account for the difference between these two <S^2> values, possibly resulting in significant spin contamination in both subspaces. You should verify whether this is intentional/acceptable or whether your choice of active space can be improved. As a reference, here is the summed-absolute deviation of `S^T @ S` from the identity: 21.1094991911992\n",
      "The provided alpha-beta overlap matrix is NOT unitary! This can happen when the alpha- and beta-spin orbitals do not span the same space. To provide an example of what this means, consider an active space chosen from unrestricted-spin orbitals. Computing <S^2> within this active space may not result in the same <S^2> value as obtained on the single-reference starting point. More importantly, this implies that the inactive subspace will account for the difference between these two <S^2> values, possibly resulting in significant spin contamination in both subspaces. You should verify whether this is intentional/acceptable or whether your choice of active space can be improved. As a reference, here is the summed-absolute deviation of `S^T @ S` from the identity: 21.1094991911992\n"
     ]
    },
    {
     "name": "stdout",
     "output_type": "stream",
     "text": [
      "orbital_rotations:  15 \n",
      " [[0, 1], [0, 2], [0, 3], [0, 4], [0, 5], [1, 2], [1, 3], [1, 4], [1, 5], [2, 3], [2, 4], [2, 5], [3, 4], [3, 5], [4, 5]]\n",
      "self._parameters:  15 \n",
      " [-0.08277861  0.00576742  0.00334766  0.06996455 -0.16169388  0.12735612\n",
      "  0.13007437  0.044976   -0.02876457  0.09850524  0.05584328  0.08179256\n",
      "  0.05469333  0.08058581 -0.00164682]\n",
      "orbital_rotations:  15 \n",
      " [[0, 1], [0, 2], [0, 3], [0, 4], [0, 5], [1, 2], [1, 3], [1, 4], [1, 5], [2, 3], [2, 4], [2, 5], [3, 4], [3, 5], [4, 5]]\n",
      "self._parameters:  15 \n",
      " [-0.08277861  0.00576742  0.00334766  0.06996455 -0.16169388  0.12735612\n",
      "  0.13007437  0.044976   -0.02876457  0.09850524  0.05582328  0.08179256\n",
      "  0.05469333  0.08058581 -0.00164682]\n"
     ]
    },
    {
     "name": "stderr",
     "output_type": "stream",
     "text": [
      "The provided alpha-beta overlap matrix is NOT unitary! This can happen when the alpha- and beta-spin orbitals do not span the same space. To provide an example of what this means, consider an active space chosen from unrestricted-spin orbitals. Computing <S^2> within this active space may not result in the same <S^2> value as obtained on the single-reference starting point. More importantly, this implies that the inactive subspace will account for the difference between these two <S^2> values, possibly resulting in significant spin contamination in both subspaces. You should verify whether this is intentional/acceptable or whether your choice of active space can be improved. As a reference, here is the summed-absolute deviation of `S^T @ S` from the identity: 21.1094991911992\n",
      "The provided alpha-beta overlap matrix is NOT unitary! This can happen when the alpha- and beta-spin orbitals do not span the same space. To provide an example of what this means, consider an active space chosen from unrestricted-spin orbitals. Computing <S^2> within this active space may not result in the same <S^2> value as obtained on the single-reference starting point. More importantly, this implies that the inactive subspace will account for the difference between these two <S^2> values, possibly resulting in significant spin contamination in both subspaces. You should verify whether this is intentional/acceptable or whether your choice of active space can be improved. As a reference, here is the summed-absolute deviation of `S^T @ S` from the identity: 21.1094991911992\n"
     ]
    },
    {
     "name": "stdout",
     "output_type": "stream",
     "text": [
      "orbital_rotations:  15 \n",
      " [[0, 1], [0, 2], [0, 3], [0, 4], [0, 5], [1, 2], [1, 3], [1, 4], [1, 5], [2, 3], [2, 4], [2, 5], [3, 4], [3, 5], [4, 5]]\n",
      "self._parameters:  15 \n",
      " [-0.08277861  0.00576742  0.00334766  0.06996455 -0.16169388  0.12735612\n",
      "  0.13007437  0.044976   -0.02876457  0.09850524  0.05583328  0.08180256\n",
      "  0.05469333  0.08058581 -0.00164682]\n",
      "orbital_rotations:  15 \n",
      " [[0, 1], [0, 2], [0, 3], [0, 4], [0, 5], [1, 2], [1, 3], [1, 4], [1, 5], [2, 3], [2, 4], [2, 5], [3, 4], [3, 5], [4, 5]]\n",
      "self._parameters:  15 \n",
      " [-0.08277861  0.00576742  0.00334766  0.06996455 -0.16169388  0.12735612\n",
      "  0.13007437  0.044976   -0.02876457  0.09850524  0.05583328  0.08178256\n",
      "  0.05469333  0.08058581 -0.00164682]\n"
     ]
    },
    {
     "name": "stderr",
     "output_type": "stream",
     "text": [
      "The provided alpha-beta overlap matrix is NOT unitary! This can happen when the alpha- and beta-spin orbitals do not span the same space. To provide an example of what this means, consider an active space chosen from unrestricted-spin orbitals. Computing <S^2> within this active space may not result in the same <S^2> value as obtained on the single-reference starting point. More importantly, this implies that the inactive subspace will account for the difference between these two <S^2> values, possibly resulting in significant spin contamination in both subspaces. You should verify whether this is intentional/acceptable or whether your choice of active space can be improved. As a reference, here is the summed-absolute deviation of `S^T @ S` from the identity: 21.1094991911992\n",
      "The provided alpha-beta overlap matrix is NOT unitary! This can happen when the alpha- and beta-spin orbitals do not span the same space. To provide an example of what this means, consider an active space chosen from unrestricted-spin orbitals. Computing <S^2> within this active space may not result in the same <S^2> value as obtained on the single-reference starting point. More importantly, this implies that the inactive subspace will account for the difference between these two <S^2> values, possibly resulting in significant spin contamination in both subspaces. You should verify whether this is intentional/acceptable or whether your choice of active space can be improved. As a reference, here is the summed-absolute deviation of `S^T @ S` from the identity: 21.1094991911992\n"
     ]
    },
    {
     "name": "stdout",
     "output_type": "stream",
     "text": [
      "orbital_rotations:  15 \n",
      " [[0, 1], [0, 2], [0, 3], [0, 4], [0, 5], [1, 2], [1, 3], [1, 4], [1, 5], [2, 3], [2, 4], [2, 5], [3, 4], [3, 5], [4, 5]]\n",
      "self._parameters:  15 \n",
      " [-0.08277861  0.00576742  0.00334766  0.06996455 -0.16169388  0.12735612\n",
      "  0.13007437  0.044976   -0.02876457  0.09850524  0.05583328  0.08179256\n",
      "  0.05470333  0.08058581 -0.00164682]\n",
      "orbital_rotations:  15 \n",
      " [[0, 1], [0, 2], [0, 3], [0, 4], [0, 5], [1, 2], [1, 3], [1, 4], [1, 5], [2, 3], [2, 4], [2, 5], [3, 4], [3, 5], [4, 5]]\n",
      "self._parameters:  15 \n",
      " [-0.08277861  0.00576742  0.00334766  0.06996455 -0.16169388  0.12735612\n",
      "  0.13007437  0.044976   -0.02876457  0.09850524  0.05583328  0.08179256\n",
      "  0.05468333  0.08058581 -0.00164682]\n"
     ]
    },
    {
     "name": "stderr",
     "output_type": "stream",
     "text": [
      "The provided alpha-beta overlap matrix is NOT unitary! This can happen when the alpha- and beta-spin orbitals do not span the same space. To provide an example of what this means, consider an active space chosen from unrestricted-spin orbitals. Computing <S^2> within this active space may not result in the same <S^2> value as obtained on the single-reference starting point. More importantly, this implies that the inactive subspace will account for the difference between these two <S^2> values, possibly resulting in significant spin contamination in both subspaces. You should verify whether this is intentional/acceptable or whether your choice of active space can be improved. As a reference, here is the summed-absolute deviation of `S^T @ S` from the identity: 21.1094991911992\n",
      "The provided alpha-beta overlap matrix is NOT unitary! This can happen when the alpha- and beta-spin orbitals do not span the same space. To provide an example of what this means, consider an active space chosen from unrestricted-spin orbitals. Computing <S^2> within this active space may not result in the same <S^2> value as obtained on the single-reference starting point. More importantly, this implies that the inactive subspace will account for the difference between these two <S^2> values, possibly resulting in significant spin contamination in both subspaces. You should verify whether this is intentional/acceptable or whether your choice of active space can be improved. As a reference, here is the summed-absolute deviation of `S^T @ S` from the identity: 21.1094991911992\n"
     ]
    },
    {
     "name": "stdout",
     "output_type": "stream",
     "text": [
      "orbital_rotations:  15 \n",
      " [[0, 1], [0, 2], [0, 3], [0, 4], [0, 5], [1, 2], [1, 3], [1, 4], [1, 5], [2, 3], [2, 4], [2, 5], [3, 4], [3, 5], [4, 5]]\n",
      "self._parameters:  15 \n",
      " [-0.08277861  0.00576742  0.00334766  0.06996455 -0.16169388  0.12735612\n",
      "  0.13007437  0.044976   -0.02876457  0.09850524  0.05583328  0.08179256\n",
      "  0.05469333  0.08059581 -0.00164682]\n",
      "orbital_rotations:  15 \n",
      " [[0, 1], [0, 2], [0, 3], [0, 4], [0, 5], [1, 2], [1, 3], [1, 4], [1, 5], [2, 3], [2, 4], [2, 5], [3, 4], [3, 5], [4, 5]]\n",
      "self._parameters:  15 \n",
      " [-0.08277861  0.00576742  0.00334766  0.06996455 -0.16169388  0.12735612\n",
      "  0.13007437  0.044976   -0.02876457  0.09850524  0.05583328  0.08179256\n",
      "  0.05469333  0.08057581 -0.00164682]\n"
     ]
    },
    {
     "name": "stderr",
     "output_type": "stream",
     "text": [
      "The provided alpha-beta overlap matrix is NOT unitary! This can happen when the alpha- and beta-spin orbitals do not span the same space. To provide an example of what this means, consider an active space chosen from unrestricted-spin orbitals. Computing <S^2> within this active space may not result in the same <S^2> value as obtained on the single-reference starting point. More importantly, this implies that the inactive subspace will account for the difference between these two <S^2> values, possibly resulting in significant spin contamination in both subspaces. You should verify whether this is intentional/acceptable or whether your choice of active space can be improved. As a reference, here is the summed-absolute deviation of `S^T @ S` from the identity: 21.1094991911992\n",
      "The provided alpha-beta overlap matrix is NOT unitary! This can happen when the alpha- and beta-spin orbitals do not span the same space. To provide an example of what this means, consider an active space chosen from unrestricted-spin orbitals. Computing <S^2> within this active space may not result in the same <S^2> value as obtained on the single-reference starting point. More importantly, this implies that the inactive subspace will account for the difference between these two <S^2> values, possibly resulting in significant spin contamination in both subspaces. You should verify whether this is intentional/acceptable or whether your choice of active space can be improved. As a reference, here is the summed-absolute deviation of `S^T @ S` from the identity: 21.1094991911992\n"
     ]
    },
    {
     "name": "stdout",
     "output_type": "stream",
     "text": [
      "orbital_rotations:  15 \n",
      " [[0, 1], [0, 2], [0, 3], [0, 4], [0, 5], [1, 2], [1, 3], [1, 4], [1, 5], [2, 3], [2, 4], [2, 5], [3, 4], [3, 5], [4, 5]]\n",
      "self._parameters:  15 \n",
      " [-0.08277861  0.00576742  0.00334766  0.06996455 -0.16169388  0.12735612\n",
      "  0.13007437  0.044976   -0.02876457  0.09850524  0.05583328  0.08179256\n",
      "  0.05469333  0.08058581 -0.00163682]\n",
      "orbital_rotations:  15 \n",
      " [[0, 1], [0, 2], [0, 3], [0, 4], [0, 5], [1, 2], [1, 3], [1, 4], [1, 5], [2, 3], [2, 4], [2, 5], [3, 4], [3, 5], [4, 5]]\n",
      "self._parameters:  15 \n",
      " [-0.08277861  0.00576742  0.00334766  0.06996455 -0.16169388  0.12735612\n",
      "  0.13007437  0.044976   -0.02876457  0.09850524  0.05583328  0.08179256\n",
      "  0.05469333  0.08058581 -0.00165682]\n"
     ]
    },
    {
     "name": "stderr",
     "output_type": "stream",
     "text": [
      "The provided alpha-beta overlap matrix is NOT unitary! This can happen when the alpha- and beta-spin orbitals do not span the same space. To provide an example of what this means, consider an active space chosen from unrestricted-spin orbitals. Computing <S^2> within this active space may not result in the same <S^2> value as obtained on the single-reference starting point. More importantly, this implies that the inactive subspace will account for the difference between these two <S^2> values, possibly resulting in significant spin contamination in both subspaces. You should verify whether this is intentional/acceptable or whether your choice of active space can be improved. As a reference, here is the summed-absolute deviation of `S^T @ S` from the identity: 21.1094991911992\n",
      "The provided alpha-beta overlap matrix is NOT unitary! This can happen when the alpha- and beta-spin orbitals do not span the same space. To provide an example of what this means, consider an active space chosen from unrestricted-spin orbitals. Computing <S^2> within this active space may not result in the same <S^2> value as obtained on the single-reference starting point. More importantly, this implies that the inactive subspace will account for the difference between these two <S^2> values, possibly resulting in significant spin contamination in both subspaces. You should verify whether this is intentional/acceptable or whether your choice of active space can be improved. As a reference, here is the summed-absolute deviation of `S^T @ S` from the identity: 21.1094991911992\n"
     ]
    },
    {
     "name": "stdout",
     "output_type": "stream",
     "text": [
      "parameters:  [-0.72477385 -0.72104066 -0.72084163 -0.8009763  -0.07560702 -0.1289251\n",
      " -0.12948922 -0.51917599 -0.50229344 -0.03300384 -0.02085554 -0.86073607\n",
      "  0.60620991  0.47068651  0.46728838 -0.54490437 -1.49665046  0.07511581\n",
      " -0.37132331 -0.38533043 -0.3592135  -0.36388196 -0.91140341]\n",
      "Parameters of wavefunction are: \n",
      "%s array([-0.72477385, -0.72104066, -0.72084163, -0.8009763 , -0.07560702,\n",
      "       -0.1289251 , -0.12948922, -0.51917599])\n",
      "Parameters of orbital rotation are: \n",
      "%s array([-0.50229344, -0.03300384, -0.02085554, -0.86073607,  0.60620991,\n",
      "        0.47068651,  0.46728838, -0.54490437, -1.49665046,  0.07511581,\n",
      "       -0.37132331, -0.38533043, -0.3592135 , -0.36388196, -0.91140341])\n",
      "orbital_rotations:  15 \n",
      " [[0, 1], [0, 2], [0, 3], [0, 4], [0, 5], [1, 2], [1, 3], [1, 4], [1, 5], [2, 3], [2, 4], [2, 5], [3, 4], [3, 5], [4, 5]]\n",
      "self._parameters:  15 \n",
      " [-0.50229344 -0.03300384 -0.02085554 -0.86073607  0.60620991  0.47068651\n",
      "  0.46728838 -0.54490437 -1.49665046  0.07511581 -0.37132331 -0.38533043\n",
      " -0.3592135  -0.36388196 -0.91140341]\n",
      "Nature matrix a:  [[ 0.5095507   0.11330279  0.0218776   0.02364956 -0.26854986  0.80892744]\n",
      " [ 0.15890305 -0.03254022 -0.07081406 -0.04713715 -0.90172282 -0.39159975]\n",
      " [-0.21252969 -0.47245941  0.82675574 -0.10374422 -0.13843238  0.13476573]\n",
      " [-0.20733708 -0.42015083 -0.22845905  0.83578547 -0.10616515  0.13595108]\n",
      " [ 0.78137712 -0.41294894  0.08210341  0.101361    0.28993389 -0.34328748]\n",
      " [ 0.12806314  0.6448505   0.50204301  0.52691985  0.01675431 -0.19440999]]\n",
      "Nature matrix b:  [[ 0.5095507   0.11330279  0.0218776   0.02364956 -0.26854986  0.80892744]\n",
      " [ 0.15890305 -0.03254022 -0.07081406 -0.04713715 -0.90172282 -0.39159975]\n",
      " [-0.21252969 -0.47245941  0.82675574 -0.10374422 -0.13843238  0.13476573]\n",
      " [-0.20733708 -0.42015083 -0.22845905  0.83578547 -0.10616515  0.13595108]\n",
      " [ 0.78137712 -0.41294894  0.08210341  0.101361    0.28993389 -0.34328748]\n",
      " [ 0.12806314  0.6448505   0.50204301  0.52691985  0.01675431 -0.19440999]]\n"
     ]
    },
    {
     "name": "stderr",
     "output_type": "stream",
     "text": [
      "The provided alpha-beta overlap matrix is NOT unitary! This can happen when the alpha- and beta-spin orbitals do not span the same space. To provide an example of what this means, consider an active space chosen from unrestricted-spin orbitals. Computing <S^2> within this active space may not result in the same <S^2> value as obtained on the single-reference starting point. More importantly, this implies that the inactive subspace will account for the difference between these two <S^2> values, possibly resulting in significant spin contamination in both subspaces. You should verify whether this is intentional/acceptable or whether your choice of active space can be improved. As a reference, here is the summed-absolute deviation of `S^T @ S` from the identity: 21.1094991911992\n"
     ]
    },
    {
     "name": "stdout",
     "output_type": "stream",
     "text": [
      "Rotated operator:  SparsePauliOp(['IIIIIIIIIIII', 'IIIIIIIIIIIZ', 'IIIIIIIIIIXY', 'IIIIIIIIIIYY', 'IIIIIIIIIIXX'],\n",
      "              coeffs=[ 2.12045648+0.j       , -1.3877655 +0.j       ,  0.        +0.0722548j,\n",
      " -0.11556771+0.j       , -0.11556771+0.j       ])\n",
      "Energy evaluation returned %s - %.5f (ms), eval count: %s 0.243172417383103 130.82599639892578\n",
      "parameters:  [-0.11718604 -0.1166039  -0.11654776 -0.14229784  0.05873051  0.04643444\n",
      "  0.04629641 -0.04587887 -0.1606655  -0.00143083 -0.00114589 -0.1028288\n",
      " -0.01912529  0.19109864  0.19268133 -0.06454085 -0.30129144  0.09416277\n",
      " -0.02347237 -0.00493323 -0.02215238 -0.00193383 -0.17055171]\n",
      "Parameters of wavefunction are: \n",
      "%s array([-0.11718604, -0.1166039 , -0.11654776, -0.14229784,  0.05873051,\n",
      "        0.04643444,  0.04629641, -0.04587887])\n",
      "Parameters of orbital rotation are: \n",
      "%s array([-0.1606655 , -0.00143083, -0.00114589, -0.1028288 , -0.01912529,\n",
      "        0.19109864,  0.19268133, -0.06454085, -0.30129144,  0.09416277,\n",
      "       -0.02347237, -0.00493323, -0.02215238, -0.00193383, -0.17055171])\n",
      "orbital_rotations:  15 \n",
      " [[0, 1], [0, 2], [0, 3], [0, 4], [0, 5], [1, 2], [1, 3], [1, 4], [1, 5], [2, 3], [2, 4], [2, 5], [3, 4], [3, 5], [4, 5]]\n",
      "self._parameters:  15 \n",
      " [-0.1606655  -0.00143083 -0.00114589 -0.1028288  -0.01912529  0.19109864\n",
      "  0.19268133 -0.06454085 -0.30129144  0.09416277 -0.02347237 -0.00493323\n",
      " -0.02215238 -0.00193383 -0.17055171]\n",
      "Nature matrix a:  [[ 0.98195702 -0.16007551 -0.01740365 -0.01835367 -0.09646976  0.01378694]\n",
      " [ 0.14840389  0.90464238  0.17394856  0.19366551 -0.09964123 -0.2861916 ]\n",
      " [-0.01500854 -0.19493956  0.97738722  0.074491   -0.01607095  0.02608342]\n",
      " [-0.01438846 -0.17813935 -0.11116725  0.97712798 -0.01277575  0.0275476 ]\n",
      " [ 0.10348125  0.0244807   0.02522316  0.02660729  0.97792509 -0.17609851]\n",
      " [ 0.05095135  0.29268349  0.03404208  0.03347922  0.15493943  0.94098586]]\n",
      "Nature matrix b:  [[ 0.98195702 -0.16007551 -0.01740365 -0.01835367 -0.09646976  0.01378694]\n",
      " [ 0.14840389  0.90464238  0.17394856  0.19366551 -0.09964123 -0.2861916 ]\n",
      " [-0.01500854 -0.19493956  0.97738722  0.074491   -0.01607095  0.02608342]\n",
      " [-0.01438846 -0.17813935 -0.11116725  0.97712798 -0.01277575  0.0275476 ]\n",
      " [ 0.10348125  0.0244807   0.02522316  0.02660729  0.97792509 -0.17609851]\n",
      " [ 0.05095135  0.29268349  0.03404208  0.03347922  0.15493943  0.94098586]]\n"
     ]
    },
    {
     "name": "stderr",
     "output_type": "stream",
     "text": [
      "The provided alpha-beta overlap matrix is NOT unitary! This can happen when the alpha- and beta-spin orbitals do not span the same space. To provide an example of what this means, consider an active space chosen from unrestricted-spin orbitals. Computing <S^2> within this active space may not result in the same <S^2> value as obtained on the single-reference starting point. More importantly, this implies that the inactive subspace will account for the difference between these two <S^2> values, possibly resulting in significant spin contamination in both subspaces. You should verify whether this is intentional/acceptable or whether your choice of active space can be improved. As a reference, here is the summed-absolute deviation of `S^T @ S` from the identity: 21.1094991911992\n"
     ]
    },
    {
     "name": "stdout",
     "output_type": "stream",
     "text": [
      "Rotated operator:  SparsePauliOp(['IIIIIIIIIIII', 'IIIIIIIIIIIZ', 'IIIIIIIIIIXY', 'IIIIIIIIIIYY', 'IIIIIIIIIIXX'],\n",
      "              coeffs=[-4.19011929+0.j        ,  1.27269655+0.j        ,  0.        -0.40048606j,\n",
      "  0.16035916+0.j        ,  0.16035916+0.j        ])\n",
      "Energy evaluation returned %s - %.5f (ms), eval count: %s -9.024467999933089 129.7919750213623\n",
      "parameters:  [-0.01172799 -0.01169277 -0.01166143 -0.02797207  0.08204726  0.07687132\n",
      "  0.07680724  0.03627056 -0.10136968  0.00404925  0.00227508  0.02871996\n",
      " -0.12766373  0.14257102  0.14501823  0.01883508 -0.09381487  0.09746872\n",
      "  0.03690356  0.0610917   0.03635078  0.06088893 -0.04196327]\n",
      "Parameters of wavefunction are: \n",
      "%s array([-0.01172799, -0.01169277, -0.01166143, -0.02797207,  0.08204726,\n",
      "        0.07687132,  0.07680724,  0.03627056])\n",
      "Parameters of orbital rotation are: \n",
      "%s array([-0.10136968,  0.00404925,  0.00227508,  0.02871996, -0.12766373,\n",
      "        0.14257102,  0.14501823,  0.01883508, -0.09381487,  0.09746872,\n",
      "        0.03690356,  0.0610917 ,  0.03635078,  0.06088893, -0.04196327])\n",
      "orbital_rotations:  15 \n",
      " [[0, 1], [0, 2], [0, 3], [0, 4], [0, 5], [1, 2], [1, 3], [1, 4], [1, 5], [2, 3], [2, 4], [2, 5], [3, 4], [3, 5], [4, 5]]\n",
      "self._parameters:  15 \n",
      " [-0.10136968  0.00404925  0.00227508  0.02871996 -0.12766373  0.14257102\n",
      "  0.14501823  0.01883508 -0.09381487  0.09746872  0.03690356  0.0610917\n",
      "  0.03635078  0.06088893 -0.04196327]\n",
      "Nature matrix a:  [[ 9.86338846e-01 -1.07047956e-01 -1.37394590e-04 -1.99897360e-03\n",
      "   2.50009147e-02 -1.22667661e-01]\n",
      " [ 9.37123161e-02  9.69789537e-01  1.36394758e-01  1.52826304e-01\n",
      "   2.33970245e-02 -9.06610461e-02]\n",
      " [-7.71911816e-03 -1.45037399e-01  9.82629829e-01  8.36884782e-02\n",
      "   3.82470003e-02  6.98326013e-02]\n",
      " [-5.53532908e-03 -1.33799212e-01 -1.09283618e-01  9.82317861e-01\n",
      "   3.41403080e-02  6.33267840e-02]\n",
      " [-3.20255988e-02 -1.39424021e-02 -3.49456612e-02 -3.79527710e-02\n",
      "   9.97196359e-01 -4.14461110e-02]\n",
      " [ 1.31292873e-01  9.44273366e-02 -5.16813416e-02 -5.69874642e-02\n",
      "   4.24094516e-02  9.82918392e-01]]\n",
      "Nature matrix b:  [[ 9.86338846e-01 -1.07047956e-01 -1.37394590e-04 -1.99897360e-03\n",
      "   2.50009147e-02 -1.22667661e-01]\n",
      " [ 9.37123161e-02  9.69789537e-01  1.36394758e-01  1.52826304e-01\n",
      "   2.33970245e-02 -9.06610461e-02]\n",
      " [-7.71911816e-03 -1.45037399e-01  9.82629829e-01  8.36884782e-02\n",
      "   3.82470003e-02  6.98326013e-02]\n",
      " [-5.53532908e-03 -1.33799212e-01 -1.09283618e-01  9.82317861e-01\n",
      "   3.41403080e-02  6.33267840e-02]\n",
      " [-3.20255988e-02 -1.39424021e-02 -3.49456612e-02 -3.79527710e-02\n",
      "   9.97196359e-01 -4.14461110e-02]\n",
      " [ 1.31292873e-01  9.44273366e-02 -5.16813416e-02 -5.69874642e-02\n",
      "   4.24094516e-02  9.82918392e-01]]\n",
      "Rotated operator:  SparsePauliOp(['IIIIIIIIIIII', 'IIIIIIIIIIIZ', 'IIIIIIIIIIXY', 'IIIIIIIIIIYY', 'IIIIIIIIIIXX'],\n",
      "              coeffs=[-5.61351404+0.j        ,  1.32318393+0.j        ,  0.        -0.38203057j,\n",
      "  0.1939766 +0.j        ,  0.1939766 +0.j        ])\n",
      "Energy evaluation returned %s - %.5f (ms), eval count: %s -10.43063643100027 127.61998176574707\n"
     ]
    },
    {
     "name": "stderr",
     "output_type": "stream",
     "text": [
      "The provided alpha-beta overlap matrix is NOT unitary! This can happen when the alpha- and beta-spin orbitals do not span the same space. To provide an example of what this means, consider an active space chosen from unrestricted-spin orbitals. Computing <S^2> within this active space may not result in the same <S^2> value as obtained on the single-reference starting point. More importantly, this implies that the inactive subspace will account for the difference between these two <S^2> values, possibly resulting in significant spin contamination in both subspaces. You should verify whether this is intentional/acceptable or whether your choice of active space can be improved. As a reference, here is the summed-absolute deviation of `S^T @ S` from the identity: 21.1094991911992\n"
     ]
    },
    {
     "name": "stdout",
     "output_type": "stream",
     "text": [
      "orbital_rotations:  15 \n",
      " [[0, 1], [0, 2], [0, 3], [0, 4], [0, 5], [1, 2], [1, 3], [1, 4], [1, 5], [2, 3], [2, 4], [2, 5], [3, 4], [3, 5], [4, 5]]\n",
      "self._parameters:  15 \n",
      " [-0.10135968  0.00404925  0.00227508  0.02871996 -0.12766373  0.14257102\n",
      "  0.14501823  0.01883508 -0.09381487  0.09746872  0.03690356  0.0610917\n",
      "  0.03635078  0.06088893 -0.04196327]\n",
      "orbital_rotations:  15 \n",
      " [[0, 1], [0, 2], [0, 3], [0, 4], [0, 5], [1, 2], [1, 3], [1, 4], [1, 5], [2, 3], [2, 4], [2, 5], [3, 4], [3, 5], [4, 5]]\n",
      "self._parameters:  15 \n",
      " [-0.10137968  0.00404925  0.00227508  0.02871996 -0.12766373  0.14257102\n",
      "  0.14501823  0.01883508 -0.09381487  0.09746872  0.03690356  0.0610917\n",
      "  0.03635078  0.06088893 -0.04196327]\n"
     ]
    },
    {
     "name": "stderr",
     "output_type": "stream",
     "text": [
      "The provided alpha-beta overlap matrix is NOT unitary! This can happen when the alpha- and beta-spin orbitals do not span the same space. To provide an example of what this means, consider an active space chosen from unrestricted-spin orbitals. Computing <S^2> within this active space may not result in the same <S^2> value as obtained on the single-reference starting point. More importantly, this implies that the inactive subspace will account for the difference between these two <S^2> values, possibly resulting in significant spin contamination in both subspaces. You should verify whether this is intentional/acceptable or whether your choice of active space can be improved. As a reference, here is the summed-absolute deviation of `S^T @ S` from the identity: 21.1094991911992\n",
      "The provided alpha-beta overlap matrix is NOT unitary! This can happen when the alpha- and beta-spin orbitals do not span the same space. To provide an example of what this means, consider an active space chosen from unrestricted-spin orbitals. Computing <S^2> within this active space may not result in the same <S^2> value as obtained on the single-reference starting point. More importantly, this implies that the inactive subspace will account for the difference between these two <S^2> values, possibly resulting in significant spin contamination in both subspaces. You should verify whether this is intentional/acceptable or whether your choice of active space can be improved. As a reference, here is the summed-absolute deviation of `S^T @ S` from the identity: 21.1094991911992\n"
     ]
    },
    {
     "name": "stdout",
     "output_type": "stream",
     "text": [
      "orbital_rotations:  15 \n",
      " [[0, 1], [0, 2], [0, 3], [0, 4], [0, 5], [1, 2], [1, 3], [1, 4], [1, 5], [2, 3], [2, 4], [2, 5], [3, 4], [3, 5], [4, 5]]\n",
      "self._parameters:  15 \n",
      " [-0.10136968  0.00405925  0.00227508  0.02871996 -0.12766373  0.14257102\n",
      "  0.14501823  0.01883508 -0.09381487  0.09746872  0.03690356  0.0610917\n",
      "  0.03635078  0.06088893 -0.04196327]\n",
      "orbital_rotations:  15 \n",
      " [[0, 1], [0, 2], [0, 3], [0, 4], [0, 5], [1, 2], [1, 3], [1, 4], [1, 5], [2, 3], [2, 4], [2, 5], [3, 4], [3, 5], [4, 5]]\n",
      "self._parameters:  15 \n",
      " [-0.10136968  0.00403925  0.00227508  0.02871996 -0.12766373  0.14257102\n",
      "  0.14501823  0.01883508 -0.09381487  0.09746872  0.03690356  0.0610917\n",
      "  0.03635078  0.06088893 -0.04196327]\n"
     ]
    },
    {
     "name": "stderr",
     "output_type": "stream",
     "text": [
      "The provided alpha-beta overlap matrix is NOT unitary! This can happen when the alpha- and beta-spin orbitals do not span the same space. To provide an example of what this means, consider an active space chosen from unrestricted-spin orbitals. Computing <S^2> within this active space may not result in the same <S^2> value as obtained on the single-reference starting point. More importantly, this implies that the inactive subspace will account for the difference between these two <S^2> values, possibly resulting in significant spin contamination in both subspaces. You should verify whether this is intentional/acceptable or whether your choice of active space can be improved. As a reference, here is the summed-absolute deviation of `S^T @ S` from the identity: 21.1094991911992\n",
      "The provided alpha-beta overlap matrix is NOT unitary! This can happen when the alpha- and beta-spin orbitals do not span the same space. To provide an example of what this means, consider an active space chosen from unrestricted-spin orbitals. Computing <S^2> within this active space may not result in the same <S^2> value as obtained on the single-reference starting point. More importantly, this implies that the inactive subspace will account for the difference between these two <S^2> values, possibly resulting in significant spin contamination in both subspaces. You should verify whether this is intentional/acceptable or whether your choice of active space can be improved. As a reference, here is the summed-absolute deviation of `S^T @ S` from the identity: 21.1094991911992\n"
     ]
    },
    {
     "name": "stdout",
     "output_type": "stream",
     "text": [
      "orbital_rotations:  15 \n",
      " [[0, 1], [0, 2], [0, 3], [0, 4], [0, 5], [1, 2], [1, 3], [1, 4], [1, 5], [2, 3], [2, 4], [2, 5], [3, 4], [3, 5], [4, 5]]\n",
      "self._parameters:  15 \n",
      " [-0.10136968  0.00404925  0.00228508  0.02871996 -0.12766373  0.14257102\n",
      "  0.14501823  0.01883508 -0.09381487  0.09746872  0.03690356  0.0610917\n",
      "  0.03635078  0.06088893 -0.04196327]\n",
      "orbital_rotations:  15 \n",
      " [[0, 1], [0, 2], [0, 3], [0, 4], [0, 5], [1, 2], [1, 3], [1, 4], [1, 5], [2, 3], [2, 4], [2, 5], [3, 4], [3, 5], [4, 5]]\n",
      "self._parameters:  15 \n",
      " [-0.10136968  0.00404925  0.00226508  0.02871996 -0.12766373  0.14257102\n",
      "  0.14501823  0.01883508 -0.09381487  0.09746872  0.03690356  0.0610917\n",
      "  0.03635078  0.06088893 -0.04196327]\n"
     ]
    },
    {
     "name": "stderr",
     "output_type": "stream",
     "text": [
      "The provided alpha-beta overlap matrix is NOT unitary! This can happen when the alpha- and beta-spin orbitals do not span the same space. To provide an example of what this means, consider an active space chosen from unrestricted-spin orbitals. Computing <S^2> within this active space may not result in the same <S^2> value as obtained on the single-reference starting point. More importantly, this implies that the inactive subspace will account for the difference between these two <S^2> values, possibly resulting in significant spin contamination in both subspaces. You should verify whether this is intentional/acceptable or whether your choice of active space can be improved. As a reference, here is the summed-absolute deviation of `S^T @ S` from the identity: 21.1094991911992\n",
      "The provided alpha-beta overlap matrix is NOT unitary! This can happen when the alpha- and beta-spin orbitals do not span the same space. To provide an example of what this means, consider an active space chosen from unrestricted-spin orbitals. Computing <S^2> within this active space may not result in the same <S^2> value as obtained on the single-reference starting point. More importantly, this implies that the inactive subspace will account for the difference between these two <S^2> values, possibly resulting in significant spin contamination in both subspaces. You should verify whether this is intentional/acceptable or whether your choice of active space can be improved. As a reference, here is the summed-absolute deviation of `S^T @ S` from the identity: 21.1094991911992\n"
     ]
    },
    {
     "name": "stdout",
     "output_type": "stream",
     "text": [
      "orbital_rotations:  15 \n",
      " [[0, 1], [0, 2], [0, 3], [0, 4], [0, 5], [1, 2], [1, 3], [1, 4], [1, 5], [2, 3], [2, 4], [2, 5], [3, 4], [3, 5], [4, 5]]\n",
      "self._parameters:  15 \n",
      " [-0.10136968  0.00404925  0.00227508  0.02872996 -0.12766373  0.14257102\n",
      "  0.14501823  0.01883508 -0.09381487  0.09746872  0.03690356  0.0610917\n",
      "  0.03635078  0.06088893 -0.04196327]\n",
      "orbital_rotations:  15 \n",
      " [[0, 1], [0, 2], [0, 3], [0, 4], [0, 5], [1, 2], [1, 3], [1, 4], [1, 5], [2, 3], [2, 4], [2, 5], [3, 4], [3, 5], [4, 5]]\n",
      "self._parameters:  15 \n",
      " [-0.10136968  0.00404925  0.00227508  0.02870996 -0.12766373  0.14257102\n",
      "  0.14501823  0.01883508 -0.09381487  0.09746872  0.03690356  0.0610917\n",
      "  0.03635078  0.06088893 -0.04196327]\n"
     ]
    },
    {
     "name": "stderr",
     "output_type": "stream",
     "text": [
      "The provided alpha-beta overlap matrix is NOT unitary! This can happen when the alpha- and beta-spin orbitals do not span the same space. To provide an example of what this means, consider an active space chosen from unrestricted-spin orbitals. Computing <S^2> within this active space may not result in the same <S^2> value as obtained on the single-reference starting point. More importantly, this implies that the inactive subspace will account for the difference between these two <S^2> values, possibly resulting in significant spin contamination in both subspaces. You should verify whether this is intentional/acceptable or whether your choice of active space can be improved. As a reference, here is the summed-absolute deviation of `S^T @ S` from the identity: 21.1094991911992\n",
      "The provided alpha-beta overlap matrix is NOT unitary! This can happen when the alpha- and beta-spin orbitals do not span the same space. To provide an example of what this means, consider an active space chosen from unrestricted-spin orbitals. Computing <S^2> within this active space may not result in the same <S^2> value as obtained on the single-reference starting point. More importantly, this implies that the inactive subspace will account for the difference between these two <S^2> values, possibly resulting in significant spin contamination in both subspaces. You should verify whether this is intentional/acceptable or whether your choice of active space can be improved. As a reference, here is the summed-absolute deviation of `S^T @ S` from the identity: 21.1094991911992\n"
     ]
    },
    {
     "name": "stdout",
     "output_type": "stream",
     "text": [
      "orbital_rotations:  15 \n",
      " [[0, 1], [0, 2], [0, 3], [0, 4], [0, 5], [1, 2], [1, 3], [1, 4], [1, 5], [2, 3], [2, 4], [2, 5], [3, 4], [3, 5], [4, 5]]\n",
      "self._parameters:  15 \n",
      " [-0.10136968  0.00404925  0.00227508  0.02871996 -0.12765373  0.14257102\n",
      "  0.14501823  0.01883508 -0.09381487  0.09746872  0.03690356  0.0610917\n",
      "  0.03635078  0.06088893 -0.04196327]\n",
      "orbital_rotations:  15 \n",
      " [[0, 1], [0, 2], [0, 3], [0, 4], [0, 5], [1, 2], [1, 3], [1, 4], [1, 5], [2, 3], [2, 4], [2, 5], [3, 4], [3, 5], [4, 5]]\n",
      "self._parameters:  15 \n",
      " [-0.10136968  0.00404925  0.00227508  0.02871996 -0.12767373  0.14257102\n",
      "  0.14501823  0.01883508 -0.09381487  0.09746872  0.03690356  0.0610917\n",
      "  0.03635078  0.06088893 -0.04196327]\n"
     ]
    },
    {
     "name": "stderr",
     "output_type": "stream",
     "text": [
      "The provided alpha-beta overlap matrix is NOT unitary! This can happen when the alpha- and beta-spin orbitals do not span the same space. To provide an example of what this means, consider an active space chosen from unrestricted-spin orbitals. Computing <S^2> within this active space may not result in the same <S^2> value as obtained on the single-reference starting point. More importantly, this implies that the inactive subspace will account for the difference between these two <S^2> values, possibly resulting in significant spin contamination in both subspaces. You should verify whether this is intentional/acceptable or whether your choice of active space can be improved. As a reference, here is the summed-absolute deviation of `S^T @ S` from the identity: 21.1094991911992\n",
      "The provided alpha-beta overlap matrix is NOT unitary! This can happen when the alpha- and beta-spin orbitals do not span the same space. To provide an example of what this means, consider an active space chosen from unrestricted-spin orbitals. Computing <S^2> within this active space may not result in the same <S^2> value as obtained on the single-reference starting point. More importantly, this implies that the inactive subspace will account for the difference between these two <S^2> values, possibly resulting in significant spin contamination in both subspaces. You should verify whether this is intentional/acceptable or whether your choice of active space can be improved. As a reference, here is the summed-absolute deviation of `S^T @ S` from the identity: 21.1094991911992\n"
     ]
    },
    {
     "name": "stdout",
     "output_type": "stream",
     "text": [
      "orbital_rotations:  15 \n",
      " [[0, 1], [0, 2], [0, 3], [0, 4], [0, 5], [1, 2], [1, 3], [1, 4], [1, 5], [2, 3], [2, 4], [2, 5], [3, 4], [3, 5], [4, 5]]\n",
      "self._parameters:  15 \n",
      " [-0.10136968  0.00404925  0.00227508  0.02871996 -0.12766373  0.14258102\n",
      "  0.14501823  0.01883508 -0.09381487  0.09746872  0.03690356  0.0610917\n",
      "  0.03635078  0.06088893 -0.04196327]\n",
      "orbital_rotations:  15 \n",
      " [[0, 1], [0, 2], [0, 3], [0, 4], [0, 5], [1, 2], [1, 3], [1, 4], [1, 5], [2, 3], [2, 4], [2, 5], [3, 4], [3, 5], [4, 5]]\n",
      "self._parameters:  15 \n",
      " [-0.10136968  0.00404925  0.00227508  0.02871996 -0.12766373  0.14256102\n",
      "  0.14501823  0.01883508 -0.09381487  0.09746872  0.03690356  0.0610917\n",
      "  0.03635078  0.06088893 -0.04196327]\n"
     ]
    },
    {
     "name": "stderr",
     "output_type": "stream",
     "text": [
      "The provided alpha-beta overlap matrix is NOT unitary! This can happen when the alpha- and beta-spin orbitals do not span the same space. To provide an example of what this means, consider an active space chosen from unrestricted-spin orbitals. Computing <S^2> within this active space may not result in the same <S^2> value as obtained on the single-reference starting point. More importantly, this implies that the inactive subspace will account for the difference between these two <S^2> values, possibly resulting in significant spin contamination in both subspaces. You should verify whether this is intentional/acceptable or whether your choice of active space can be improved. As a reference, here is the summed-absolute deviation of `S^T @ S` from the identity: 21.1094991911992\n",
      "The provided alpha-beta overlap matrix is NOT unitary! This can happen when the alpha- and beta-spin orbitals do not span the same space. To provide an example of what this means, consider an active space chosen from unrestricted-spin orbitals. Computing <S^2> within this active space may not result in the same <S^2> value as obtained on the single-reference starting point. More importantly, this implies that the inactive subspace will account for the difference between these two <S^2> values, possibly resulting in significant spin contamination in both subspaces. You should verify whether this is intentional/acceptable or whether your choice of active space can be improved. As a reference, here is the summed-absolute deviation of `S^T @ S` from the identity: 21.1094991911992\n"
     ]
    },
    {
     "name": "stdout",
     "output_type": "stream",
     "text": [
      "orbital_rotations:  15 \n",
      " [[0, 1], [0, 2], [0, 3], [0, 4], [0, 5], [1, 2], [1, 3], [1, 4], [1, 5], [2, 3], [2, 4], [2, 5], [3, 4], [3, 5], [4, 5]]\n",
      "self._parameters:  15 \n",
      " [-0.10136968  0.00404925  0.00227508  0.02871996 -0.12766373  0.14257102\n",
      "  0.14502823  0.01883508 -0.09381487  0.09746872  0.03690356  0.0610917\n",
      "  0.03635078  0.06088893 -0.04196327]\n",
      "orbital_rotations:  15 \n",
      " [[0, 1], [0, 2], [0, 3], [0, 4], [0, 5], [1, 2], [1, 3], [1, 4], [1, 5], [2, 3], [2, 4], [2, 5], [3, 4], [3, 5], [4, 5]]\n",
      "self._parameters:  15 \n",
      " [-0.10136968  0.00404925  0.00227508  0.02871996 -0.12766373  0.14257102\n",
      "  0.14500823  0.01883508 -0.09381487  0.09746872  0.03690356  0.0610917\n",
      "  0.03635078  0.06088893 -0.04196327]\n"
     ]
    },
    {
     "name": "stderr",
     "output_type": "stream",
     "text": [
      "The provided alpha-beta overlap matrix is NOT unitary! This can happen when the alpha- and beta-spin orbitals do not span the same space. To provide an example of what this means, consider an active space chosen from unrestricted-spin orbitals. Computing <S^2> within this active space may not result in the same <S^2> value as obtained on the single-reference starting point. More importantly, this implies that the inactive subspace will account for the difference between these two <S^2> values, possibly resulting in significant spin contamination in both subspaces. You should verify whether this is intentional/acceptable or whether your choice of active space can be improved. As a reference, here is the summed-absolute deviation of `S^T @ S` from the identity: 21.1094991911992\n",
      "The provided alpha-beta overlap matrix is NOT unitary! This can happen when the alpha- and beta-spin orbitals do not span the same space. To provide an example of what this means, consider an active space chosen from unrestricted-spin orbitals. Computing <S^2> within this active space may not result in the same <S^2> value as obtained on the single-reference starting point. More importantly, this implies that the inactive subspace will account for the difference between these two <S^2> values, possibly resulting in significant spin contamination in both subspaces. You should verify whether this is intentional/acceptable or whether your choice of active space can be improved. As a reference, here is the summed-absolute deviation of `S^T @ S` from the identity: 21.1094991911992\n"
     ]
    },
    {
     "name": "stdout",
     "output_type": "stream",
     "text": [
      "orbital_rotations:  15 \n",
      " [[0, 1], [0, 2], [0, 3], [0, 4], [0, 5], [1, 2], [1, 3], [1, 4], [1, 5], [2, 3], [2, 4], [2, 5], [3, 4], [3, 5], [4, 5]]\n",
      "self._parameters:  15 \n",
      " [-0.10136968  0.00404925  0.00227508  0.02871996 -0.12766373  0.14257102\n",
      "  0.14501823  0.01884508 -0.09381487  0.09746872  0.03690356  0.0610917\n",
      "  0.03635078  0.06088893 -0.04196327]\n",
      "orbital_rotations:  15 \n",
      " [[0, 1], [0, 2], [0, 3], [0, 4], [0, 5], [1, 2], [1, 3], [1, 4], [1, 5], [2, 3], [2, 4], [2, 5], [3, 4], [3, 5], [4, 5]]\n",
      "self._parameters:  15 \n",
      " [-0.10136968  0.00404925  0.00227508  0.02871996 -0.12766373  0.14257102\n",
      "  0.14501823  0.01882508 -0.09381487  0.09746872  0.03690356  0.0610917\n",
      "  0.03635078  0.06088893 -0.04196327]\n"
     ]
    },
    {
     "name": "stderr",
     "output_type": "stream",
     "text": [
      "The provided alpha-beta overlap matrix is NOT unitary! This can happen when the alpha- and beta-spin orbitals do not span the same space. To provide an example of what this means, consider an active space chosen from unrestricted-spin orbitals. Computing <S^2> within this active space may not result in the same <S^2> value as obtained on the single-reference starting point. More importantly, this implies that the inactive subspace will account for the difference between these two <S^2> values, possibly resulting in significant spin contamination in both subspaces. You should verify whether this is intentional/acceptable or whether your choice of active space can be improved. As a reference, here is the summed-absolute deviation of `S^T @ S` from the identity: 21.1094991911992\n",
      "The provided alpha-beta overlap matrix is NOT unitary! This can happen when the alpha- and beta-spin orbitals do not span the same space. To provide an example of what this means, consider an active space chosen from unrestricted-spin orbitals. Computing <S^2> within this active space may not result in the same <S^2> value as obtained on the single-reference starting point. More importantly, this implies that the inactive subspace will account for the difference between these two <S^2> values, possibly resulting in significant spin contamination in both subspaces. You should verify whether this is intentional/acceptable or whether your choice of active space can be improved. As a reference, here is the summed-absolute deviation of `S^T @ S` from the identity: 21.1094991911992\n"
     ]
    },
    {
     "name": "stdout",
     "output_type": "stream",
     "text": [
      "orbital_rotations:  15 \n",
      " [[0, 1], [0, 2], [0, 3], [0, 4], [0, 5], [1, 2], [1, 3], [1, 4], [1, 5], [2, 3], [2, 4], [2, 5], [3, 4], [3, 5], [4, 5]]\n",
      "self._parameters:  15 \n",
      " [-0.10136968  0.00404925  0.00227508  0.02871996 -0.12766373  0.14257102\n",
      "  0.14501823  0.01883508 -0.09380487  0.09746872  0.03690356  0.0610917\n",
      "  0.03635078  0.06088893 -0.04196327]\n",
      "orbital_rotations:  15 \n",
      " [[0, 1], [0, 2], [0, 3], [0, 4], [0, 5], [1, 2], [1, 3], [1, 4], [1, 5], [2, 3], [2, 4], [2, 5], [3, 4], [3, 5], [4, 5]]\n",
      "self._parameters:  15 \n",
      " [-0.10136968  0.00404925  0.00227508  0.02871996 -0.12766373  0.14257102\n",
      "  0.14501823  0.01883508 -0.09382487  0.09746872  0.03690356  0.0610917\n",
      "  0.03635078  0.06088893 -0.04196327]\n"
     ]
    },
    {
     "name": "stderr",
     "output_type": "stream",
     "text": [
      "The provided alpha-beta overlap matrix is NOT unitary! This can happen when the alpha- and beta-spin orbitals do not span the same space. To provide an example of what this means, consider an active space chosen from unrestricted-spin orbitals. Computing <S^2> within this active space may not result in the same <S^2> value as obtained on the single-reference starting point. More importantly, this implies that the inactive subspace will account for the difference between these two <S^2> values, possibly resulting in significant spin contamination in both subspaces. You should verify whether this is intentional/acceptable or whether your choice of active space can be improved. As a reference, here is the summed-absolute deviation of `S^T @ S` from the identity: 21.1094991911992\n",
      "The provided alpha-beta overlap matrix is NOT unitary! This can happen when the alpha- and beta-spin orbitals do not span the same space. To provide an example of what this means, consider an active space chosen from unrestricted-spin orbitals. Computing <S^2> within this active space may not result in the same <S^2> value as obtained on the single-reference starting point. More importantly, this implies that the inactive subspace will account for the difference between these two <S^2> values, possibly resulting in significant spin contamination in both subspaces. You should verify whether this is intentional/acceptable or whether your choice of active space can be improved. As a reference, here is the summed-absolute deviation of `S^T @ S` from the identity: 21.1094991911992\n"
     ]
    },
    {
     "name": "stdout",
     "output_type": "stream",
     "text": [
      "orbital_rotations:  15 \n",
      " [[0, 1], [0, 2], [0, 3], [0, 4], [0, 5], [1, 2], [1, 3], [1, 4], [1, 5], [2, 3], [2, 4], [2, 5], [3, 4], [3, 5], [4, 5]]\n",
      "self._parameters:  15 \n",
      " [-0.10136968  0.00404925  0.00227508  0.02871996 -0.12766373  0.14257102\n",
      "  0.14501823  0.01883508 -0.09381487  0.09747872  0.03690356  0.0610917\n",
      "  0.03635078  0.06088893 -0.04196327]\n",
      "orbital_rotations:  15 \n",
      " [[0, 1], [0, 2], [0, 3], [0, 4], [0, 5], [1, 2], [1, 3], [1, 4], [1, 5], [2, 3], [2, 4], [2, 5], [3, 4], [3, 5], [4, 5]]\n",
      "self._parameters:  15 \n",
      " [-0.10136968  0.00404925  0.00227508  0.02871996 -0.12766373  0.14257102\n",
      "  0.14501823  0.01883508 -0.09381487  0.09745872  0.03690356  0.0610917\n",
      "  0.03635078  0.06088893 -0.04196327]\n"
     ]
    },
    {
     "name": "stderr",
     "output_type": "stream",
     "text": [
      "The provided alpha-beta overlap matrix is NOT unitary! This can happen when the alpha- and beta-spin orbitals do not span the same space. To provide an example of what this means, consider an active space chosen from unrestricted-spin orbitals. Computing <S^2> within this active space may not result in the same <S^2> value as obtained on the single-reference starting point. More importantly, this implies that the inactive subspace will account for the difference between these two <S^2> values, possibly resulting in significant spin contamination in both subspaces. You should verify whether this is intentional/acceptable or whether your choice of active space can be improved. As a reference, here is the summed-absolute deviation of `S^T @ S` from the identity: 21.1094991911992\n",
      "The provided alpha-beta overlap matrix is NOT unitary! This can happen when the alpha- and beta-spin orbitals do not span the same space. To provide an example of what this means, consider an active space chosen from unrestricted-spin orbitals. Computing <S^2> within this active space may not result in the same <S^2> value as obtained on the single-reference starting point. More importantly, this implies that the inactive subspace will account for the difference between these two <S^2> values, possibly resulting in significant spin contamination in both subspaces. You should verify whether this is intentional/acceptable or whether your choice of active space can be improved. As a reference, here is the summed-absolute deviation of `S^T @ S` from the identity: 21.1094991911992\n"
     ]
    },
    {
     "name": "stdout",
     "output_type": "stream",
     "text": [
      "orbital_rotations:  15 \n",
      " [[0, 1], [0, 2], [0, 3], [0, 4], [0, 5], [1, 2], [1, 3], [1, 4], [1, 5], [2, 3], [2, 4], [2, 5], [3, 4], [3, 5], [4, 5]]\n",
      "self._parameters:  15 \n",
      " [-0.10136968  0.00404925  0.00227508  0.02871996 -0.12766373  0.14257102\n",
      "  0.14501823  0.01883508 -0.09381487  0.09746872  0.03691356  0.0610917\n",
      "  0.03635078  0.06088893 -0.04196327]\n",
      "orbital_rotations:  15 \n",
      " [[0, 1], [0, 2], [0, 3], [0, 4], [0, 5], [1, 2], [1, 3], [1, 4], [1, 5], [2, 3], [2, 4], [2, 5], [3, 4], [3, 5], [4, 5]]\n",
      "self._parameters:  15 \n",
      " [-0.10136968  0.00404925  0.00227508  0.02871996 -0.12766373  0.14257102\n",
      "  0.14501823  0.01883508 -0.09381487  0.09746872  0.03689356  0.0610917\n",
      "  0.03635078  0.06088893 -0.04196327]\n"
     ]
    },
    {
     "name": "stderr",
     "output_type": "stream",
     "text": [
      "The provided alpha-beta overlap matrix is NOT unitary! This can happen when the alpha- and beta-spin orbitals do not span the same space. To provide an example of what this means, consider an active space chosen from unrestricted-spin orbitals. Computing <S^2> within this active space may not result in the same <S^2> value as obtained on the single-reference starting point. More importantly, this implies that the inactive subspace will account for the difference between these two <S^2> values, possibly resulting in significant spin contamination in both subspaces. You should verify whether this is intentional/acceptable or whether your choice of active space can be improved. As a reference, here is the summed-absolute deviation of `S^T @ S` from the identity: 21.1094991911992\n",
      "The provided alpha-beta overlap matrix is NOT unitary! This can happen when the alpha- and beta-spin orbitals do not span the same space. To provide an example of what this means, consider an active space chosen from unrestricted-spin orbitals. Computing <S^2> within this active space may not result in the same <S^2> value as obtained on the single-reference starting point. More importantly, this implies that the inactive subspace will account for the difference between these two <S^2> values, possibly resulting in significant spin contamination in both subspaces. You should verify whether this is intentional/acceptable or whether your choice of active space can be improved. As a reference, here is the summed-absolute deviation of `S^T @ S` from the identity: 21.1094991911992\n"
     ]
    },
    {
     "name": "stdout",
     "output_type": "stream",
     "text": [
      "orbital_rotations:  15 \n",
      " [[0, 1], [0, 2], [0, 3], [0, 4], [0, 5], [1, 2], [1, 3], [1, 4], [1, 5], [2, 3], [2, 4], [2, 5], [3, 4], [3, 5], [4, 5]]\n",
      "self._parameters:  15 \n",
      " [-0.10136968  0.00404925  0.00227508  0.02871996 -0.12766373  0.14257102\n",
      "  0.14501823  0.01883508 -0.09381487  0.09746872  0.03690356  0.0611017\n",
      "  0.03635078  0.06088893 -0.04196327]\n",
      "orbital_rotations:  15 \n",
      " [[0, 1], [0, 2], [0, 3], [0, 4], [0, 5], [1, 2], [1, 3], [1, 4], [1, 5], [2, 3], [2, 4], [2, 5], [3, 4], [3, 5], [4, 5]]\n",
      "self._parameters:  15 \n",
      " [-0.10136968  0.00404925  0.00227508  0.02871996 -0.12766373  0.14257102\n",
      "  0.14501823  0.01883508 -0.09381487  0.09746872  0.03690356  0.0610817\n",
      "  0.03635078  0.06088893 -0.04196327]\n"
     ]
    },
    {
     "name": "stderr",
     "output_type": "stream",
     "text": [
      "The provided alpha-beta overlap matrix is NOT unitary! This can happen when the alpha- and beta-spin orbitals do not span the same space. To provide an example of what this means, consider an active space chosen from unrestricted-spin orbitals. Computing <S^2> within this active space may not result in the same <S^2> value as obtained on the single-reference starting point. More importantly, this implies that the inactive subspace will account for the difference between these two <S^2> values, possibly resulting in significant spin contamination in both subspaces. You should verify whether this is intentional/acceptable or whether your choice of active space can be improved. As a reference, here is the summed-absolute deviation of `S^T @ S` from the identity: 21.1094991911992\n",
      "The provided alpha-beta overlap matrix is NOT unitary! This can happen when the alpha- and beta-spin orbitals do not span the same space. To provide an example of what this means, consider an active space chosen from unrestricted-spin orbitals. Computing <S^2> within this active space may not result in the same <S^2> value as obtained on the single-reference starting point. More importantly, this implies that the inactive subspace will account for the difference between these two <S^2> values, possibly resulting in significant spin contamination in both subspaces. You should verify whether this is intentional/acceptable or whether your choice of active space can be improved. As a reference, here is the summed-absolute deviation of `S^T @ S` from the identity: 21.1094991911992\n"
     ]
    },
    {
     "name": "stdout",
     "output_type": "stream",
     "text": [
      "orbital_rotations:  15 \n",
      " [[0, 1], [0, 2], [0, 3], [0, 4], [0, 5], [1, 2], [1, 3], [1, 4], [1, 5], [2, 3], [2, 4], [2, 5], [3, 4], [3, 5], [4, 5]]\n",
      "self._parameters:  15 \n",
      " [-0.10136968  0.00404925  0.00227508  0.02871996 -0.12766373  0.14257102\n",
      "  0.14501823  0.01883508 -0.09381487  0.09746872  0.03690356  0.0610917\n",
      "  0.03636078  0.06088893 -0.04196327]\n",
      "orbital_rotations:  15 \n",
      " [[0, 1], [0, 2], [0, 3], [0, 4], [0, 5], [1, 2], [1, 3], [1, 4], [1, 5], [2, 3], [2, 4], [2, 5], [3, 4], [3, 5], [4, 5]]\n",
      "self._parameters:  15 \n",
      " [-0.10136968  0.00404925  0.00227508  0.02871996 -0.12766373  0.14257102\n",
      "  0.14501823  0.01883508 -0.09381487  0.09746872  0.03690356  0.0610917\n",
      "  0.03634078  0.06088893 -0.04196327]\n"
     ]
    },
    {
     "name": "stderr",
     "output_type": "stream",
     "text": [
      "The provided alpha-beta overlap matrix is NOT unitary! This can happen when the alpha- and beta-spin orbitals do not span the same space. To provide an example of what this means, consider an active space chosen from unrestricted-spin orbitals. Computing <S^2> within this active space may not result in the same <S^2> value as obtained on the single-reference starting point. More importantly, this implies that the inactive subspace will account for the difference between these two <S^2> values, possibly resulting in significant spin contamination in both subspaces. You should verify whether this is intentional/acceptable or whether your choice of active space can be improved. As a reference, here is the summed-absolute deviation of `S^T @ S` from the identity: 21.1094991911992\n",
      "The provided alpha-beta overlap matrix is NOT unitary! This can happen when the alpha- and beta-spin orbitals do not span the same space. To provide an example of what this means, consider an active space chosen from unrestricted-spin orbitals. Computing <S^2> within this active space may not result in the same <S^2> value as obtained on the single-reference starting point. More importantly, this implies that the inactive subspace will account for the difference between these two <S^2> values, possibly resulting in significant spin contamination in both subspaces. You should verify whether this is intentional/acceptable or whether your choice of active space can be improved. As a reference, here is the summed-absolute deviation of `S^T @ S` from the identity: 21.1094991911992\n"
     ]
    },
    {
     "name": "stdout",
     "output_type": "stream",
     "text": [
      "orbital_rotations:  15 \n",
      " [[0, 1], [0, 2], [0, 3], [0, 4], [0, 5], [1, 2], [1, 3], [1, 4], [1, 5], [2, 3], [2, 4], [2, 5], [3, 4], [3, 5], [4, 5]]\n",
      "self._parameters:  15 \n",
      " [-0.10136968  0.00404925  0.00227508  0.02871996 -0.12766373  0.14257102\n",
      "  0.14501823  0.01883508 -0.09381487  0.09746872  0.03690356  0.0610917\n",
      "  0.03635078  0.06089893 -0.04196327]\n",
      "orbital_rotations:  15 \n",
      " [[0, 1], [0, 2], [0, 3], [0, 4], [0, 5], [1, 2], [1, 3], [1, 4], [1, 5], [2, 3], [2, 4], [2, 5], [3, 4], [3, 5], [4, 5]]\n",
      "self._parameters:  15 \n",
      " [-0.10136968  0.00404925  0.00227508  0.02871996 -0.12766373  0.14257102\n",
      "  0.14501823  0.01883508 -0.09381487  0.09746872  0.03690356  0.0610917\n",
      "  0.03635078  0.06087893 -0.04196327]\n"
     ]
    },
    {
     "name": "stderr",
     "output_type": "stream",
     "text": [
      "The provided alpha-beta overlap matrix is NOT unitary! This can happen when the alpha- and beta-spin orbitals do not span the same space. To provide an example of what this means, consider an active space chosen from unrestricted-spin orbitals. Computing <S^2> within this active space may not result in the same <S^2> value as obtained on the single-reference starting point. More importantly, this implies that the inactive subspace will account for the difference between these two <S^2> values, possibly resulting in significant spin contamination in both subspaces. You should verify whether this is intentional/acceptable or whether your choice of active space can be improved. As a reference, here is the summed-absolute deviation of `S^T @ S` from the identity: 21.1094991911992\n",
      "The provided alpha-beta overlap matrix is NOT unitary! This can happen when the alpha- and beta-spin orbitals do not span the same space. To provide an example of what this means, consider an active space chosen from unrestricted-spin orbitals. Computing <S^2> within this active space may not result in the same <S^2> value as obtained on the single-reference starting point. More importantly, this implies that the inactive subspace will account for the difference between these two <S^2> values, possibly resulting in significant spin contamination in both subspaces. You should verify whether this is intentional/acceptable or whether your choice of active space can be improved. As a reference, here is the summed-absolute deviation of `S^T @ S` from the identity: 21.1094991911992\n"
     ]
    },
    {
     "name": "stdout",
     "output_type": "stream",
     "text": [
      "orbital_rotations:  15 \n",
      " [[0, 1], [0, 2], [0, 3], [0, 4], [0, 5], [1, 2], [1, 3], [1, 4], [1, 5], [2, 3], [2, 4], [2, 5], [3, 4], [3, 5], [4, 5]]\n",
      "self._parameters:  15 \n",
      " [-0.10136968  0.00404925  0.00227508  0.02871996 -0.12766373  0.14257102\n",
      "  0.14501823  0.01883508 -0.09381487  0.09746872  0.03690356  0.0610917\n",
      "  0.03635078  0.06088893 -0.04195327]\n",
      "orbital_rotations:  15 \n",
      " [[0, 1], [0, 2], [0, 3], [0, 4], [0, 5], [1, 2], [1, 3], [1, 4], [1, 5], [2, 3], [2, 4], [2, 5], [3, 4], [3, 5], [4, 5]]\n",
      "self._parameters:  15 \n",
      " [-0.10136968  0.00404925  0.00227508  0.02871996 -0.12766373  0.14257102\n",
      "  0.14501823  0.01883508 -0.09381487  0.09746872  0.03690356  0.0610917\n",
      "  0.03635078  0.06088893 -0.04197327]\n"
     ]
    },
    {
     "name": "stderr",
     "output_type": "stream",
     "text": [
      "The provided alpha-beta overlap matrix is NOT unitary! This can happen when the alpha- and beta-spin orbitals do not span the same space. To provide an example of what this means, consider an active space chosen from unrestricted-spin orbitals. Computing <S^2> within this active space may not result in the same <S^2> value as obtained on the single-reference starting point. More importantly, this implies that the inactive subspace will account for the difference between these two <S^2> values, possibly resulting in significant spin contamination in both subspaces. You should verify whether this is intentional/acceptable or whether your choice of active space can be improved. As a reference, here is the summed-absolute deviation of `S^T @ S` from the identity: 21.1094991911992\n",
      "The provided alpha-beta overlap matrix is NOT unitary! This can happen when the alpha- and beta-spin orbitals do not span the same space. To provide an example of what this means, consider an active space chosen from unrestricted-spin orbitals. Computing <S^2> within this active space may not result in the same <S^2> value as obtained on the single-reference starting point. More importantly, this implies that the inactive subspace will account for the difference between these two <S^2> values, possibly resulting in significant spin contamination in both subspaces. You should verify whether this is intentional/acceptable or whether your choice of active space can be improved. As a reference, here is the summed-absolute deviation of `S^T @ S` from the identity: 21.1094991911992\n"
     ]
    },
    {
     "name": "stdout",
     "output_type": "stream",
     "text": [
      "parameters:  [-0.03187845 -0.0262527  -0.02635716  0.0175988  -0.0269004  -0.06965946\n",
      " -0.06994689 -0.31672695 -0.13609541 -0.0843641  -0.06867197  0.06604002\n",
      " -0.04225793  0.11605831  0.11254026  0.02507015 -0.05612663  0.08467405\n",
      "  0.02895246  0.087789    0.03890184  0.09720666 -0.04106896]\n",
      "Parameters of wavefunction are: \n",
      "%s array([-0.03187845, -0.0262527 , -0.02635716,  0.0175988 , -0.0269004 ,\n",
      "       -0.06965946, -0.06994689, -0.31672695])\n",
      "Parameters of orbital rotation are: \n",
      "%s array([-0.13609541, -0.0843641 , -0.06867197,  0.06604002, -0.04225793,\n",
      "        0.11605831,  0.11254026,  0.02507015, -0.05612663,  0.08467405,\n",
      "        0.02895246,  0.087789  ,  0.03890184,  0.09720666, -0.04106896])\n",
      "orbital_rotations:  15 \n",
      " [[0, 1], [0, 2], [0, 3], [0, 4], [0, 5], [1, 2], [1, 3], [1, 4], [1, 5], [2, 3], [2, 4], [2, 5], [3, 4], [3, 5], [4, 5]]\n",
      "self._parameters:  15 \n",
      " [-0.13609541 -0.0843641  -0.06867197  0.06604002 -0.04225793  0.11605831\n",
      "  0.11254026  0.02507015 -0.05612663  0.08467405  0.02895246  0.087789\n",
      "  0.03890184  0.09720666 -0.04106896]\n",
      "Nature matrix a:  [[ 0.98184073 -0.12807601 -0.08717507 -0.07828924  0.06035033 -0.04705799]\n",
      " [ 0.14145245  0.97591729  0.10624349  0.1133909   0.03222821 -0.04891642]\n",
      " [ 0.07905704 -0.12293201  0.9819602   0.06955018  0.03325359  0.09191758]\n",
      " [ 0.05751993 -0.10845016 -0.0978894   0.98235051  0.03991061  0.09350026]\n",
      " [-0.07056729 -0.01790227 -0.02375108 -0.03666619  0.99550681 -0.04192171]\n",
      " [ 0.0379695   0.06314881 -0.08197893 -0.09909153  0.03983351  0.98815189]]\n",
      "Nature matrix b:  [[ 0.98184073 -0.12807601 -0.08717507 -0.07828924  0.06035033 -0.04705799]\n",
      " [ 0.14145245  0.97591729  0.10624349  0.1133909   0.03222821 -0.04891642]\n",
      " [ 0.07905704 -0.12293201  0.9819602   0.06955018  0.03325359  0.09191758]\n",
      " [ 0.05751993 -0.10845016 -0.0978894   0.98235051  0.03991061  0.09350026]\n",
      " [-0.07056729 -0.01790227 -0.02375108 -0.03666619  0.99550681 -0.04192171]\n",
      " [ 0.0379695   0.06314881 -0.08197893 -0.09909153  0.03983351  0.98815189]]\n"
     ]
    },
    {
     "name": "stderr",
     "output_type": "stream",
     "text": [
      "The provided alpha-beta overlap matrix is NOT unitary! This can happen when the alpha- and beta-spin orbitals do not span the same space. To provide an example of what this means, consider an active space chosen from unrestricted-spin orbitals. Computing <S^2> within this active space may not result in the same <S^2> value as obtained on the single-reference starting point. More importantly, this implies that the inactive subspace will account for the difference between these two <S^2> values, possibly resulting in significant spin contamination in both subspaces. You should verify whether this is intentional/acceptable or whether your choice of active space can be improved. As a reference, here is the summed-absolute deviation of `S^T @ S` from the identity: 21.1094991911992\n"
     ]
    },
    {
     "name": "stdout",
     "output_type": "stream",
     "text": [
      "Rotated operator:  SparsePauliOp(['IIIIIIIIIIII', 'IIIIIIIIIIIZ', 'IIIIIIIIIIXY', 'IIIIIIIIIIYY', 'IIIIIIIIIIXX'],\n",
      "              coeffs=[-5.45181423+0.j        ,  1.14675636+0.j        ,  0.        -0.15939075j,\n",
      "  0.09000407+0.j        ,  0.09000407+0.j        ])\n",
      "Energy evaluation returned %s - %.5f (ms), eval count: %s -9.848017933543971 132.74073600769043\n",
      "parameters:  [-0.01479666 -0.01391007 -0.01389941 -0.02103218  0.06545587  0.05455648\n",
      "  0.05445839 -0.01748661 -0.10665798 -0.00941502 -0.00852928  0.03440334\n",
      " -0.11465748  0.13853346  0.14007223  0.0197846  -0.08807542  0.09552025\n",
      "  0.03569271  0.06515737  0.03673927  0.06641968 -0.04182707]\n",
      "Parameters of wavefunction are: \n",
      "%s array([-0.01479666, -0.01391007, -0.01389941, -0.02103218,  0.06545587,\n",
      "        0.05455648,  0.05445839, -0.01748661])\n",
      "Parameters of orbital rotation are: \n",
      "%s array([-0.10665798, -0.00941502, -0.00852928,  0.03440334, -0.11465748,\n",
      "        0.13853346,  0.14007223,  0.0197846 , -0.08807542,  0.09552025,\n",
      "        0.03569271,  0.06515737,  0.03673927,  0.06641968, -0.04182707])\n",
      "orbital_rotations:  15 \n",
      " [[0, 1], [0, 2], [0, 3], [0, 4], [0, 5], [1, 2], [1, 3], [1, 4], [1, 5], [2, 3], [2, 4], [2, 5], [3, 4], [3, 5], [4, 5]]\n",
      "self._parameters:  15 \n",
      " [-0.10665798 -0.00941502 -0.00852928  0.03440334 -0.11465748  0.13853346\n",
      "  0.14007223  0.0197846  -0.08807542  0.09552025  0.03569271  0.06515737\n",
      "  0.03673927  0.06641968 -0.04182707]\n",
      "Nature matrix a:  [[ 0.98710757 -0.10979386 -0.01326635 -0.01355178  0.03040068 -0.11081563]\n",
      " [ 0.10156056  0.97099779  0.13216046  0.147127    0.02464336 -0.08443166]\n",
      " [ 0.00561941 -0.14146098  0.98312954  0.08208343  0.03727932  0.07270543]\n",
      " [ 0.00411997 -0.12979062 -0.10706807  0.98280406  0.03486438  0.06748704]\n",
      " [-0.03794246 -0.01462285 -0.03346949 -0.03795011  0.99703498 -0.04132037]\n",
      " [ 0.11754112  0.08965464 -0.05683434 -0.0639396   0.0422431   0.98439994]]\n",
      "Nature matrix b:  [[ 0.98710757 -0.10979386 -0.01326635 -0.01355178  0.03040068 -0.11081563]\n",
      " [ 0.10156056  0.97099779  0.13216046  0.147127    0.02464336 -0.08443166]\n",
      " [ 0.00561941 -0.14146098  0.98312954  0.08208343  0.03727932  0.07270543]\n",
      " [ 0.00411997 -0.12979062 -0.10706807  0.98280406  0.03486438  0.06748704]\n",
      " [-0.03794246 -0.01462285 -0.03346949 -0.03795011  0.99703498 -0.04132037]\n",
      " [ 0.11754112  0.08965464 -0.05683434 -0.0639396   0.0422431   0.98439994]]\n",
      "Rotated operator:  SparsePauliOp(['IIIIIIIIIIII', 'IIIIIIIIIIIZ', 'IIIIIIIIIIXY', 'IIIIIIIIIIYY', 'IIIIIIIIIIXX'],\n",
      "              coeffs=[-5.63593261+0.j        ,  1.31487562+0.j        ,  0.        -0.34975613j,\n",
      "  0.17803133+0.j        ,  0.17803133+0.j        ])\n",
      "Energy evaluation returned %s - %.5f (ms), eval count: %s -10.451475524249963 136.63220405578613\n"
     ]
    },
    {
     "name": "stderr",
     "output_type": "stream",
     "text": [
      "The provided alpha-beta overlap matrix is NOT unitary! This can happen when the alpha- and beta-spin orbitals do not span the same space. To provide an example of what this means, consider an active space chosen from unrestricted-spin orbitals. Computing <S^2> within this active space may not result in the same <S^2> value as obtained on the single-reference starting point. More importantly, this implies that the inactive subspace will account for the difference between these two <S^2> values, possibly resulting in significant spin contamination in both subspaces. You should verify whether this is intentional/acceptable or whether your choice of active space can be improved. As a reference, here is the summed-absolute deviation of `S^T @ S` from the identity: 21.1094991911992\n"
     ]
    },
    {
     "name": "stdout",
     "output_type": "stream",
     "text": [
      "orbital_rotations:  15 \n",
      " [[0, 1], [0, 2], [0, 3], [0, 4], [0, 5], [1, 2], [1, 3], [1, 4], [1, 5], [2, 3], [2, 4], [2, 5], [3, 4], [3, 5], [4, 5]]\n",
      "self._parameters:  15 \n",
      " [-0.10664798 -0.00941502 -0.00852928  0.03440334 -0.11465748  0.13853346\n",
      "  0.14007223  0.0197846  -0.08807542  0.09552025  0.03569271  0.06515737\n",
      "  0.03673927  0.06641968 -0.04182707]\n",
      "orbital_rotations:  15 \n",
      " [[0, 1], [0, 2], [0, 3], [0, 4], [0, 5], [1, 2], [1, 3], [1, 4], [1, 5], [2, 3], [2, 4], [2, 5], [3, 4], [3, 5], [4, 5]]\n",
      "self._parameters:  15 \n",
      " [-0.10666798 -0.00941502 -0.00852928  0.03440334 -0.11465748  0.13853346\n",
      "  0.14007223  0.0197846  -0.08807542  0.09552025  0.03569271  0.06515737\n",
      "  0.03673927  0.06641968 -0.04182707]\n"
     ]
    },
    {
     "name": "stderr",
     "output_type": "stream",
     "text": [
      "The provided alpha-beta overlap matrix is NOT unitary! This can happen when the alpha- and beta-spin orbitals do not span the same space. To provide an example of what this means, consider an active space chosen from unrestricted-spin orbitals. Computing <S^2> within this active space may not result in the same <S^2> value as obtained on the single-reference starting point. More importantly, this implies that the inactive subspace will account for the difference between these two <S^2> values, possibly resulting in significant spin contamination in both subspaces. You should verify whether this is intentional/acceptable or whether your choice of active space can be improved. As a reference, here is the summed-absolute deviation of `S^T @ S` from the identity: 21.1094991911992\n",
      "The provided alpha-beta overlap matrix is NOT unitary! This can happen when the alpha- and beta-spin orbitals do not span the same space. To provide an example of what this means, consider an active space chosen from unrestricted-spin orbitals. Computing <S^2> within this active space may not result in the same <S^2> value as obtained on the single-reference starting point. More importantly, this implies that the inactive subspace will account for the difference between these two <S^2> values, possibly resulting in significant spin contamination in both subspaces. You should verify whether this is intentional/acceptable or whether your choice of active space can be improved. As a reference, here is the summed-absolute deviation of `S^T @ S` from the identity: 21.1094991911992\n"
     ]
    },
    {
     "name": "stdout",
     "output_type": "stream",
     "text": [
      "orbital_rotations:  15 \n",
      " [[0, 1], [0, 2], [0, 3], [0, 4], [0, 5], [1, 2], [1, 3], [1, 4], [1, 5], [2, 3], [2, 4], [2, 5], [3, 4], [3, 5], [4, 5]]\n",
      "self._parameters:  15 \n",
      " [-0.10665798 -0.00940502 -0.00852928  0.03440334 -0.11465748  0.13853346\n",
      "  0.14007223  0.0197846  -0.08807542  0.09552025  0.03569271  0.06515737\n",
      "  0.03673927  0.06641968 -0.04182707]\n",
      "orbital_rotations:  15 \n",
      " [[0, 1], [0, 2], [0, 3], [0, 4], [0, 5], [1, 2], [1, 3], [1, 4], [1, 5], [2, 3], [2, 4], [2, 5], [3, 4], [3, 5], [4, 5]]\n",
      "self._parameters:  15 \n",
      " [-0.10665798 -0.00942502 -0.00852928  0.03440334 -0.11465748  0.13853346\n",
      "  0.14007223  0.0197846  -0.08807542  0.09552025  0.03569271  0.06515737\n",
      "  0.03673927  0.06641968 -0.04182707]\n"
     ]
    },
    {
     "name": "stderr",
     "output_type": "stream",
     "text": [
      "The provided alpha-beta overlap matrix is NOT unitary! This can happen when the alpha- and beta-spin orbitals do not span the same space. To provide an example of what this means, consider an active space chosen from unrestricted-spin orbitals. Computing <S^2> within this active space may not result in the same <S^2> value as obtained on the single-reference starting point. More importantly, this implies that the inactive subspace will account for the difference between these two <S^2> values, possibly resulting in significant spin contamination in both subspaces. You should verify whether this is intentional/acceptable or whether your choice of active space can be improved. As a reference, here is the summed-absolute deviation of `S^T @ S` from the identity: 21.1094991911992\n",
      "The provided alpha-beta overlap matrix is NOT unitary! This can happen when the alpha- and beta-spin orbitals do not span the same space. To provide an example of what this means, consider an active space chosen from unrestricted-spin orbitals. Computing <S^2> within this active space may not result in the same <S^2> value as obtained on the single-reference starting point. More importantly, this implies that the inactive subspace will account for the difference between these two <S^2> values, possibly resulting in significant spin contamination in both subspaces. You should verify whether this is intentional/acceptable or whether your choice of active space can be improved. As a reference, here is the summed-absolute deviation of `S^T @ S` from the identity: 21.1094991911992\n"
     ]
    },
    {
     "name": "stdout",
     "output_type": "stream",
     "text": [
      "orbital_rotations:  15 \n",
      " [[0, 1], [0, 2], [0, 3], [0, 4], [0, 5], [1, 2], [1, 3], [1, 4], [1, 5], [2, 3], [2, 4], [2, 5], [3, 4], [3, 5], [4, 5]]\n",
      "self._parameters:  15 \n",
      " [-0.10665798 -0.00941502 -0.00851928  0.03440334 -0.11465748  0.13853346\n",
      "  0.14007223  0.0197846  -0.08807542  0.09552025  0.03569271  0.06515737\n",
      "  0.03673927  0.06641968 -0.04182707]\n",
      "orbital_rotations:  15 \n",
      " [[0, 1], [0, 2], [0, 3], [0, 4], [0, 5], [1, 2], [1, 3], [1, 4], [1, 5], [2, 3], [2, 4], [2, 5], [3, 4], [3, 5], [4, 5]]\n",
      "self._parameters:  15 \n",
      " [-0.10665798 -0.00941502 -0.00853928  0.03440334 -0.11465748  0.13853346\n",
      "  0.14007223  0.0197846  -0.08807542  0.09552025  0.03569271  0.06515737\n",
      "  0.03673927  0.06641968 -0.04182707]\n"
     ]
    },
    {
     "name": "stderr",
     "output_type": "stream",
     "text": [
      "The provided alpha-beta overlap matrix is NOT unitary! This can happen when the alpha- and beta-spin orbitals do not span the same space. To provide an example of what this means, consider an active space chosen from unrestricted-spin orbitals. Computing <S^2> within this active space may not result in the same <S^2> value as obtained on the single-reference starting point. More importantly, this implies that the inactive subspace will account for the difference between these two <S^2> values, possibly resulting in significant spin contamination in both subspaces. You should verify whether this is intentional/acceptable or whether your choice of active space can be improved. As a reference, here is the summed-absolute deviation of `S^T @ S` from the identity: 21.1094991911992\n",
      "The provided alpha-beta overlap matrix is NOT unitary! This can happen when the alpha- and beta-spin orbitals do not span the same space. To provide an example of what this means, consider an active space chosen from unrestricted-spin orbitals. Computing <S^2> within this active space may not result in the same <S^2> value as obtained on the single-reference starting point. More importantly, this implies that the inactive subspace will account for the difference between these two <S^2> values, possibly resulting in significant spin contamination in both subspaces. You should verify whether this is intentional/acceptable or whether your choice of active space can be improved. As a reference, here is the summed-absolute deviation of `S^T @ S` from the identity: 21.1094991911992\n"
     ]
    },
    {
     "name": "stdout",
     "output_type": "stream",
     "text": [
      "orbital_rotations:  15 \n",
      " [[0, 1], [0, 2], [0, 3], [0, 4], [0, 5], [1, 2], [1, 3], [1, 4], [1, 5], [2, 3], [2, 4], [2, 5], [3, 4], [3, 5], [4, 5]]\n",
      "self._parameters:  15 \n",
      " [-0.10665798 -0.00941502 -0.00852928  0.03441334 -0.11465748  0.13853346\n",
      "  0.14007223  0.0197846  -0.08807542  0.09552025  0.03569271  0.06515737\n",
      "  0.03673927  0.06641968 -0.04182707]\n",
      "orbital_rotations:  15 \n",
      " [[0, 1], [0, 2], [0, 3], [0, 4], [0, 5], [1, 2], [1, 3], [1, 4], [1, 5], [2, 3], [2, 4], [2, 5], [3, 4], [3, 5], [4, 5]]\n",
      "self._parameters:  15 \n",
      " [-0.10665798 -0.00941502 -0.00852928  0.03439334 -0.11465748  0.13853346\n",
      "  0.14007223  0.0197846  -0.08807542  0.09552025  0.03569271  0.06515737\n",
      "  0.03673927  0.06641968 -0.04182707]\n"
     ]
    },
    {
     "name": "stderr",
     "output_type": "stream",
     "text": [
      "The provided alpha-beta overlap matrix is NOT unitary! This can happen when the alpha- and beta-spin orbitals do not span the same space. To provide an example of what this means, consider an active space chosen from unrestricted-spin orbitals. Computing <S^2> within this active space may not result in the same <S^2> value as obtained on the single-reference starting point. More importantly, this implies that the inactive subspace will account for the difference between these two <S^2> values, possibly resulting in significant spin contamination in both subspaces. You should verify whether this is intentional/acceptable or whether your choice of active space can be improved. As a reference, here is the summed-absolute deviation of `S^T @ S` from the identity: 21.1094991911992\n",
      "The provided alpha-beta overlap matrix is NOT unitary! This can happen when the alpha- and beta-spin orbitals do not span the same space. To provide an example of what this means, consider an active space chosen from unrestricted-spin orbitals. Computing <S^2> within this active space may not result in the same <S^2> value as obtained on the single-reference starting point. More importantly, this implies that the inactive subspace will account for the difference between these two <S^2> values, possibly resulting in significant spin contamination in both subspaces. You should verify whether this is intentional/acceptable or whether your choice of active space can be improved. As a reference, here is the summed-absolute deviation of `S^T @ S` from the identity: 21.1094991911992\n"
     ]
    },
    {
     "name": "stdout",
     "output_type": "stream",
     "text": [
      "orbital_rotations:  15 \n",
      " [[0, 1], [0, 2], [0, 3], [0, 4], [0, 5], [1, 2], [1, 3], [1, 4], [1, 5], [2, 3], [2, 4], [2, 5], [3, 4], [3, 5], [4, 5]]\n",
      "self._parameters:  15 \n",
      " [-0.10665798 -0.00941502 -0.00852928  0.03440334 -0.11464748  0.13853346\n",
      "  0.14007223  0.0197846  -0.08807542  0.09552025  0.03569271  0.06515737\n",
      "  0.03673927  0.06641968 -0.04182707]\n",
      "orbital_rotations:  15 \n",
      " [[0, 1], [0, 2], [0, 3], [0, 4], [0, 5], [1, 2], [1, 3], [1, 4], [1, 5], [2, 3], [2, 4], [2, 5], [3, 4], [3, 5], [4, 5]]\n",
      "self._parameters:  15 \n",
      " [-0.10665798 -0.00941502 -0.00852928  0.03440334 -0.11466748  0.13853346\n",
      "  0.14007223  0.0197846  -0.08807542  0.09552025  0.03569271  0.06515737\n",
      "  0.03673927  0.06641968 -0.04182707]\n"
     ]
    },
    {
     "name": "stderr",
     "output_type": "stream",
     "text": [
      "The provided alpha-beta overlap matrix is NOT unitary! This can happen when the alpha- and beta-spin orbitals do not span the same space. To provide an example of what this means, consider an active space chosen from unrestricted-spin orbitals. Computing <S^2> within this active space may not result in the same <S^2> value as obtained on the single-reference starting point. More importantly, this implies that the inactive subspace will account for the difference between these two <S^2> values, possibly resulting in significant spin contamination in both subspaces. You should verify whether this is intentional/acceptable or whether your choice of active space can be improved. As a reference, here is the summed-absolute deviation of `S^T @ S` from the identity: 21.1094991911992\n",
      "The provided alpha-beta overlap matrix is NOT unitary! This can happen when the alpha- and beta-spin orbitals do not span the same space. To provide an example of what this means, consider an active space chosen from unrestricted-spin orbitals. Computing <S^2> within this active space may not result in the same <S^2> value as obtained on the single-reference starting point. More importantly, this implies that the inactive subspace will account for the difference between these two <S^2> values, possibly resulting in significant spin contamination in both subspaces. You should verify whether this is intentional/acceptable or whether your choice of active space can be improved. As a reference, here is the summed-absolute deviation of `S^T @ S` from the identity: 21.1094991911992\n"
     ]
    },
    {
     "name": "stdout",
     "output_type": "stream",
     "text": [
      "orbital_rotations:  15 \n",
      " [[0, 1], [0, 2], [0, 3], [0, 4], [0, 5], [1, 2], [1, 3], [1, 4], [1, 5], [2, 3], [2, 4], [2, 5], [3, 4], [3, 5], [4, 5]]\n",
      "self._parameters:  15 \n",
      " [-0.10665798 -0.00941502 -0.00852928  0.03440334 -0.11465748  0.13854346\n",
      "  0.14007223  0.0197846  -0.08807542  0.09552025  0.03569271  0.06515737\n",
      "  0.03673927  0.06641968 -0.04182707]\n",
      "orbital_rotations:  15 \n",
      " [[0, 1], [0, 2], [0, 3], [0, 4], [0, 5], [1, 2], [1, 3], [1, 4], [1, 5], [2, 3], [2, 4], [2, 5], [3, 4], [3, 5], [4, 5]]\n",
      "self._parameters:  15 \n",
      " [-0.10665798 -0.00941502 -0.00852928  0.03440334 -0.11465748  0.13852346\n",
      "  0.14007223  0.0197846  -0.08807542  0.09552025  0.03569271  0.06515737\n",
      "  0.03673927  0.06641968 -0.04182707]\n"
     ]
    },
    {
     "name": "stderr",
     "output_type": "stream",
     "text": [
      "The provided alpha-beta overlap matrix is NOT unitary! This can happen when the alpha- and beta-spin orbitals do not span the same space. To provide an example of what this means, consider an active space chosen from unrestricted-spin orbitals. Computing <S^2> within this active space may not result in the same <S^2> value as obtained on the single-reference starting point. More importantly, this implies that the inactive subspace will account for the difference between these two <S^2> values, possibly resulting in significant spin contamination in both subspaces. You should verify whether this is intentional/acceptable or whether your choice of active space can be improved. As a reference, here is the summed-absolute deviation of `S^T @ S` from the identity: 21.1094991911992\n",
      "The provided alpha-beta overlap matrix is NOT unitary! This can happen when the alpha- and beta-spin orbitals do not span the same space. To provide an example of what this means, consider an active space chosen from unrestricted-spin orbitals. Computing <S^2> within this active space may not result in the same <S^2> value as obtained on the single-reference starting point. More importantly, this implies that the inactive subspace will account for the difference between these two <S^2> values, possibly resulting in significant spin contamination in both subspaces. You should verify whether this is intentional/acceptable or whether your choice of active space can be improved. As a reference, here is the summed-absolute deviation of `S^T @ S` from the identity: 21.1094991911992\n"
     ]
    },
    {
     "name": "stdout",
     "output_type": "stream",
     "text": [
      "orbital_rotations:  15 \n",
      " [[0, 1], [0, 2], [0, 3], [0, 4], [0, 5], [1, 2], [1, 3], [1, 4], [1, 5], [2, 3], [2, 4], [2, 5], [3, 4], [3, 5], [4, 5]]\n",
      "self._parameters:  15 \n",
      " [-0.10665798 -0.00941502 -0.00852928  0.03440334 -0.11465748  0.13853346\n",
      "  0.14008223  0.0197846  -0.08807542  0.09552025  0.03569271  0.06515737\n",
      "  0.03673927  0.06641968 -0.04182707]\n",
      "orbital_rotations:  15 \n",
      " [[0, 1], [0, 2], [0, 3], [0, 4], [0, 5], [1, 2], [1, 3], [1, 4], [1, 5], [2, 3], [2, 4], [2, 5], [3, 4], [3, 5], [4, 5]]\n",
      "self._parameters:  15 \n",
      " [-0.10665798 -0.00941502 -0.00852928  0.03440334 -0.11465748  0.13853346\n",
      "  0.14006223  0.0197846  -0.08807542  0.09552025  0.03569271  0.06515737\n",
      "  0.03673927  0.06641968 -0.04182707]\n"
     ]
    },
    {
     "name": "stderr",
     "output_type": "stream",
     "text": [
      "The provided alpha-beta overlap matrix is NOT unitary! This can happen when the alpha- and beta-spin orbitals do not span the same space. To provide an example of what this means, consider an active space chosen from unrestricted-spin orbitals. Computing <S^2> within this active space may not result in the same <S^2> value as obtained on the single-reference starting point. More importantly, this implies that the inactive subspace will account for the difference between these two <S^2> values, possibly resulting in significant spin contamination in both subspaces. You should verify whether this is intentional/acceptable or whether your choice of active space can be improved. As a reference, here is the summed-absolute deviation of `S^T @ S` from the identity: 21.1094991911992\n",
      "The provided alpha-beta overlap matrix is NOT unitary! This can happen when the alpha- and beta-spin orbitals do not span the same space. To provide an example of what this means, consider an active space chosen from unrestricted-spin orbitals. Computing <S^2> within this active space may not result in the same <S^2> value as obtained on the single-reference starting point. More importantly, this implies that the inactive subspace will account for the difference between these two <S^2> values, possibly resulting in significant spin contamination in both subspaces. You should verify whether this is intentional/acceptable or whether your choice of active space can be improved. As a reference, here is the summed-absolute deviation of `S^T @ S` from the identity: 21.1094991911992\n"
     ]
    },
    {
     "name": "stdout",
     "output_type": "stream",
     "text": [
      "orbital_rotations:  15 \n",
      " [[0, 1], [0, 2], [0, 3], [0, 4], [0, 5], [1, 2], [1, 3], [1, 4], [1, 5], [2, 3], [2, 4], [2, 5], [3, 4], [3, 5], [4, 5]]\n",
      "self._parameters:  15 \n",
      " [-0.10665798 -0.00941502 -0.00852928  0.03440334 -0.11465748  0.13853346\n",
      "  0.14007223  0.0197946  -0.08807542  0.09552025  0.03569271  0.06515737\n",
      "  0.03673927  0.06641968 -0.04182707]\n",
      "orbital_rotations:  15 \n",
      " [[0, 1], [0, 2], [0, 3], [0, 4], [0, 5], [1, 2], [1, 3], [1, 4], [1, 5], [2, 3], [2, 4], [2, 5], [3, 4], [3, 5], [4, 5]]\n",
      "self._parameters:  15 \n",
      " [-0.10665798 -0.00941502 -0.00852928  0.03440334 -0.11465748  0.13853346\n",
      "  0.14007223  0.0197746  -0.08807542  0.09552025  0.03569271  0.06515737\n",
      "  0.03673927  0.06641968 -0.04182707]\n"
     ]
    },
    {
     "name": "stderr",
     "output_type": "stream",
     "text": [
      "The provided alpha-beta overlap matrix is NOT unitary! This can happen when the alpha- and beta-spin orbitals do not span the same space. To provide an example of what this means, consider an active space chosen from unrestricted-spin orbitals. Computing <S^2> within this active space may not result in the same <S^2> value as obtained on the single-reference starting point. More importantly, this implies that the inactive subspace will account for the difference between these two <S^2> values, possibly resulting in significant spin contamination in both subspaces. You should verify whether this is intentional/acceptable or whether your choice of active space can be improved. As a reference, here is the summed-absolute deviation of `S^T @ S` from the identity: 21.1094991911992\n",
      "The provided alpha-beta overlap matrix is NOT unitary! This can happen when the alpha- and beta-spin orbitals do not span the same space. To provide an example of what this means, consider an active space chosen from unrestricted-spin orbitals. Computing <S^2> within this active space may not result in the same <S^2> value as obtained on the single-reference starting point. More importantly, this implies that the inactive subspace will account for the difference between these two <S^2> values, possibly resulting in significant spin contamination in both subspaces. You should verify whether this is intentional/acceptable or whether your choice of active space can be improved. As a reference, here is the summed-absolute deviation of `S^T @ S` from the identity: 21.1094991911992\n"
     ]
    },
    {
     "name": "stdout",
     "output_type": "stream",
     "text": [
      "orbital_rotations:  15 \n",
      " [[0, 1], [0, 2], [0, 3], [0, 4], [0, 5], [1, 2], [1, 3], [1, 4], [1, 5], [2, 3], [2, 4], [2, 5], [3, 4], [3, 5], [4, 5]]\n",
      "self._parameters:  15 \n",
      " [-0.10665798 -0.00941502 -0.00852928  0.03440334 -0.11465748  0.13853346\n",
      "  0.14007223  0.0197846  -0.08806542  0.09552025  0.03569271  0.06515737\n",
      "  0.03673927  0.06641968 -0.04182707]\n",
      "orbital_rotations:  15 \n",
      " [[0, 1], [0, 2], [0, 3], [0, 4], [0, 5], [1, 2], [1, 3], [1, 4], [1, 5], [2, 3], [2, 4], [2, 5], [3, 4], [3, 5], [4, 5]]\n",
      "self._parameters:  15 \n",
      " [-0.10665798 -0.00941502 -0.00852928  0.03440334 -0.11465748  0.13853346\n",
      "  0.14007223  0.0197846  -0.08808542  0.09552025  0.03569271  0.06515737\n",
      "  0.03673927  0.06641968 -0.04182707]\n"
     ]
    },
    {
     "name": "stderr",
     "output_type": "stream",
     "text": [
      "The provided alpha-beta overlap matrix is NOT unitary! This can happen when the alpha- and beta-spin orbitals do not span the same space. To provide an example of what this means, consider an active space chosen from unrestricted-spin orbitals. Computing <S^2> within this active space may not result in the same <S^2> value as obtained on the single-reference starting point. More importantly, this implies that the inactive subspace will account for the difference between these two <S^2> values, possibly resulting in significant spin contamination in both subspaces. You should verify whether this is intentional/acceptable or whether your choice of active space can be improved. As a reference, here is the summed-absolute deviation of `S^T @ S` from the identity: 21.1094991911992\n",
      "The provided alpha-beta overlap matrix is NOT unitary! This can happen when the alpha- and beta-spin orbitals do not span the same space. To provide an example of what this means, consider an active space chosen from unrestricted-spin orbitals. Computing <S^2> within this active space may not result in the same <S^2> value as obtained on the single-reference starting point. More importantly, this implies that the inactive subspace will account for the difference between these two <S^2> values, possibly resulting in significant spin contamination in both subspaces. You should verify whether this is intentional/acceptable or whether your choice of active space can be improved. As a reference, here is the summed-absolute deviation of `S^T @ S` from the identity: 21.1094991911992\n"
     ]
    },
    {
     "name": "stdout",
     "output_type": "stream",
     "text": [
      "orbital_rotations:  15 \n",
      " [[0, 1], [0, 2], [0, 3], [0, 4], [0, 5], [1, 2], [1, 3], [1, 4], [1, 5], [2, 3], [2, 4], [2, 5], [3, 4], [3, 5], [4, 5]]\n",
      "self._parameters:  15 \n",
      " [-0.10665798 -0.00941502 -0.00852928  0.03440334 -0.11465748  0.13853346\n",
      "  0.14007223  0.0197846  -0.08807542  0.09553025  0.03569271  0.06515737\n",
      "  0.03673927  0.06641968 -0.04182707]\n",
      "orbital_rotations:  15 \n",
      " [[0, 1], [0, 2], [0, 3], [0, 4], [0, 5], [1, 2], [1, 3], [1, 4], [1, 5], [2, 3], [2, 4], [2, 5], [3, 4], [3, 5], [4, 5]]\n",
      "self._parameters:  15 \n",
      " [-0.10665798 -0.00941502 -0.00852928  0.03440334 -0.11465748  0.13853346\n",
      "  0.14007223  0.0197846  -0.08807542  0.09551025  0.03569271  0.06515737\n",
      "  0.03673927  0.06641968 -0.04182707]\n"
     ]
    },
    {
     "name": "stderr",
     "output_type": "stream",
     "text": [
      "The provided alpha-beta overlap matrix is NOT unitary! This can happen when the alpha- and beta-spin orbitals do not span the same space. To provide an example of what this means, consider an active space chosen from unrestricted-spin orbitals. Computing <S^2> within this active space may not result in the same <S^2> value as obtained on the single-reference starting point. More importantly, this implies that the inactive subspace will account for the difference between these two <S^2> values, possibly resulting in significant spin contamination in both subspaces. You should verify whether this is intentional/acceptable or whether your choice of active space can be improved. As a reference, here is the summed-absolute deviation of `S^T @ S` from the identity: 21.1094991911992\n",
      "The provided alpha-beta overlap matrix is NOT unitary! This can happen when the alpha- and beta-spin orbitals do not span the same space. To provide an example of what this means, consider an active space chosen from unrestricted-spin orbitals. Computing <S^2> within this active space may not result in the same <S^2> value as obtained on the single-reference starting point. More importantly, this implies that the inactive subspace will account for the difference between these two <S^2> values, possibly resulting in significant spin contamination in both subspaces. You should verify whether this is intentional/acceptable or whether your choice of active space can be improved. As a reference, here is the summed-absolute deviation of `S^T @ S` from the identity: 21.1094991911992\n"
     ]
    },
    {
     "name": "stdout",
     "output_type": "stream",
     "text": [
      "orbital_rotations:  15 \n",
      " [[0, 1], [0, 2], [0, 3], [0, 4], [0, 5], [1, 2], [1, 3], [1, 4], [1, 5], [2, 3], [2, 4], [2, 5], [3, 4], [3, 5], [4, 5]]\n",
      "self._parameters:  15 \n",
      " [-0.10665798 -0.00941502 -0.00852928  0.03440334 -0.11465748  0.13853346\n",
      "  0.14007223  0.0197846  -0.08807542  0.09552025  0.03570271  0.06515737\n",
      "  0.03673927  0.06641968 -0.04182707]\n",
      "orbital_rotations:  15 \n",
      " [[0, 1], [0, 2], [0, 3], [0, 4], [0, 5], [1, 2], [1, 3], [1, 4], [1, 5], [2, 3], [2, 4], [2, 5], [3, 4], [3, 5], [4, 5]]\n",
      "self._parameters:  15 \n",
      " [-0.10665798 -0.00941502 -0.00852928  0.03440334 -0.11465748  0.13853346\n",
      "  0.14007223  0.0197846  -0.08807542  0.09552025  0.03568271  0.06515737\n",
      "  0.03673927  0.06641968 -0.04182707]\n"
     ]
    },
    {
     "name": "stderr",
     "output_type": "stream",
     "text": [
      "The provided alpha-beta overlap matrix is NOT unitary! This can happen when the alpha- and beta-spin orbitals do not span the same space. To provide an example of what this means, consider an active space chosen from unrestricted-spin orbitals. Computing <S^2> within this active space may not result in the same <S^2> value as obtained on the single-reference starting point. More importantly, this implies that the inactive subspace will account for the difference between these two <S^2> values, possibly resulting in significant spin contamination in both subspaces. You should verify whether this is intentional/acceptable or whether your choice of active space can be improved. As a reference, here is the summed-absolute deviation of `S^T @ S` from the identity: 21.1094991911992\n",
      "The provided alpha-beta overlap matrix is NOT unitary! This can happen when the alpha- and beta-spin orbitals do not span the same space. To provide an example of what this means, consider an active space chosen from unrestricted-spin orbitals. Computing <S^2> within this active space may not result in the same <S^2> value as obtained on the single-reference starting point. More importantly, this implies that the inactive subspace will account for the difference between these two <S^2> values, possibly resulting in significant spin contamination in both subspaces. You should verify whether this is intentional/acceptable or whether your choice of active space can be improved. As a reference, here is the summed-absolute deviation of `S^T @ S` from the identity: 21.1094991911992\n"
     ]
    },
    {
     "name": "stdout",
     "output_type": "stream",
     "text": [
      "orbital_rotations:  15 \n",
      " [[0, 1], [0, 2], [0, 3], [0, 4], [0, 5], [1, 2], [1, 3], [1, 4], [1, 5], [2, 3], [2, 4], [2, 5], [3, 4], [3, 5], [4, 5]]\n",
      "self._parameters:  15 \n",
      " [-0.10665798 -0.00941502 -0.00852928  0.03440334 -0.11465748  0.13853346\n",
      "  0.14007223  0.0197846  -0.08807542  0.09552025  0.03569271  0.06516737\n",
      "  0.03673927  0.06641968 -0.04182707]\n",
      "orbital_rotations:  15 \n",
      " [[0, 1], [0, 2], [0, 3], [0, 4], [0, 5], [1, 2], [1, 3], [1, 4], [1, 5], [2, 3], [2, 4], [2, 5], [3, 4], [3, 5], [4, 5]]\n",
      "self._parameters:  15 \n",
      " [-0.10665798 -0.00941502 -0.00852928  0.03440334 -0.11465748  0.13853346\n",
      "  0.14007223  0.0197846  -0.08807542  0.09552025  0.03569271  0.06514737\n",
      "  0.03673927  0.06641968 -0.04182707]\n"
     ]
    },
    {
     "name": "stderr",
     "output_type": "stream",
     "text": [
      "The provided alpha-beta overlap matrix is NOT unitary! This can happen when the alpha- and beta-spin orbitals do not span the same space. To provide an example of what this means, consider an active space chosen from unrestricted-spin orbitals. Computing <S^2> within this active space may not result in the same <S^2> value as obtained on the single-reference starting point. More importantly, this implies that the inactive subspace will account for the difference between these two <S^2> values, possibly resulting in significant spin contamination in both subspaces. You should verify whether this is intentional/acceptable or whether your choice of active space can be improved. As a reference, here is the summed-absolute deviation of `S^T @ S` from the identity: 21.1094991911992\n",
      "The provided alpha-beta overlap matrix is NOT unitary! This can happen when the alpha- and beta-spin orbitals do not span the same space. To provide an example of what this means, consider an active space chosen from unrestricted-spin orbitals. Computing <S^2> within this active space may not result in the same <S^2> value as obtained on the single-reference starting point. More importantly, this implies that the inactive subspace will account for the difference between these two <S^2> values, possibly resulting in significant spin contamination in both subspaces. You should verify whether this is intentional/acceptable or whether your choice of active space can be improved. As a reference, here is the summed-absolute deviation of `S^T @ S` from the identity: 21.1094991911992\n"
     ]
    },
    {
     "name": "stdout",
     "output_type": "stream",
     "text": [
      "orbital_rotations:  15 \n",
      " [[0, 1], [0, 2], [0, 3], [0, 4], [0, 5], [1, 2], [1, 3], [1, 4], [1, 5], [2, 3], [2, 4], [2, 5], [3, 4], [3, 5], [4, 5]]\n",
      "self._parameters:  15 \n",
      " [-0.10665798 -0.00941502 -0.00852928  0.03440334 -0.11465748  0.13853346\n",
      "  0.14007223  0.0197846  -0.08807542  0.09552025  0.03569271  0.06515737\n",
      "  0.03674927  0.06641968 -0.04182707]\n",
      "orbital_rotations:  15 \n",
      " [[0, 1], [0, 2], [0, 3], [0, 4], [0, 5], [1, 2], [1, 3], [1, 4], [1, 5], [2, 3], [2, 4], [2, 5], [3, 4], [3, 5], [4, 5]]\n",
      "self._parameters:  15 \n",
      " [-0.10665798 -0.00941502 -0.00852928  0.03440334 -0.11465748  0.13853346\n",
      "  0.14007223  0.0197846  -0.08807542  0.09552025  0.03569271  0.06515737\n",
      "  0.03672927  0.06641968 -0.04182707]\n"
     ]
    },
    {
     "name": "stderr",
     "output_type": "stream",
     "text": [
      "The provided alpha-beta overlap matrix is NOT unitary! This can happen when the alpha- and beta-spin orbitals do not span the same space. To provide an example of what this means, consider an active space chosen from unrestricted-spin orbitals. Computing <S^2> within this active space may not result in the same <S^2> value as obtained on the single-reference starting point. More importantly, this implies that the inactive subspace will account for the difference between these two <S^2> values, possibly resulting in significant spin contamination in both subspaces. You should verify whether this is intentional/acceptable or whether your choice of active space can be improved. As a reference, here is the summed-absolute deviation of `S^T @ S` from the identity: 21.1094991911992\n",
      "The provided alpha-beta overlap matrix is NOT unitary! This can happen when the alpha- and beta-spin orbitals do not span the same space. To provide an example of what this means, consider an active space chosen from unrestricted-spin orbitals. Computing <S^2> within this active space may not result in the same <S^2> value as obtained on the single-reference starting point. More importantly, this implies that the inactive subspace will account for the difference between these two <S^2> values, possibly resulting in significant spin contamination in both subspaces. You should verify whether this is intentional/acceptable or whether your choice of active space can be improved. As a reference, here is the summed-absolute deviation of `S^T @ S` from the identity: 21.1094991911992\n"
     ]
    },
    {
     "name": "stdout",
     "output_type": "stream",
     "text": [
      "orbital_rotations:  15 \n",
      " [[0, 1], [0, 2], [0, 3], [0, 4], [0, 5], [1, 2], [1, 3], [1, 4], [1, 5], [2, 3], [2, 4], [2, 5], [3, 4], [3, 5], [4, 5]]\n",
      "self._parameters:  15 \n",
      " [-0.10665798 -0.00941502 -0.00852928  0.03440334 -0.11465748  0.13853346\n",
      "  0.14007223  0.0197846  -0.08807542  0.09552025  0.03569271  0.06515737\n",
      "  0.03673927  0.06642968 -0.04182707]\n",
      "orbital_rotations:  15 \n",
      " [[0, 1], [0, 2], [0, 3], [0, 4], [0, 5], [1, 2], [1, 3], [1, 4], [1, 5], [2, 3], [2, 4], [2, 5], [3, 4], [3, 5], [4, 5]]\n",
      "self._parameters:  15 \n",
      " [-0.10665798 -0.00941502 -0.00852928  0.03440334 -0.11465748  0.13853346\n",
      "  0.14007223  0.0197846  -0.08807542  0.09552025  0.03569271  0.06515737\n",
      "  0.03673927  0.06640968 -0.04182707]\n"
     ]
    },
    {
     "name": "stderr",
     "output_type": "stream",
     "text": [
      "The provided alpha-beta overlap matrix is NOT unitary! This can happen when the alpha- and beta-spin orbitals do not span the same space. To provide an example of what this means, consider an active space chosen from unrestricted-spin orbitals. Computing <S^2> within this active space may not result in the same <S^2> value as obtained on the single-reference starting point. More importantly, this implies that the inactive subspace will account for the difference between these two <S^2> values, possibly resulting in significant spin contamination in both subspaces. You should verify whether this is intentional/acceptable or whether your choice of active space can be improved. As a reference, here is the summed-absolute deviation of `S^T @ S` from the identity: 21.1094991911992\n",
      "The provided alpha-beta overlap matrix is NOT unitary! This can happen when the alpha- and beta-spin orbitals do not span the same space. To provide an example of what this means, consider an active space chosen from unrestricted-spin orbitals. Computing <S^2> within this active space may not result in the same <S^2> value as obtained on the single-reference starting point. More importantly, this implies that the inactive subspace will account for the difference between these two <S^2> values, possibly resulting in significant spin contamination in both subspaces. You should verify whether this is intentional/acceptable or whether your choice of active space can be improved. As a reference, here is the summed-absolute deviation of `S^T @ S` from the identity: 21.1094991911992\n"
     ]
    },
    {
     "name": "stdout",
     "output_type": "stream",
     "text": [
      "orbital_rotations:  15 \n",
      " [[0, 1], [0, 2], [0, 3], [0, 4], [0, 5], [1, 2], [1, 3], [1, 4], [1, 5], [2, 3], [2, 4], [2, 5], [3, 4], [3, 5], [4, 5]]\n",
      "self._parameters:  15 \n",
      " [-0.10665798 -0.00941502 -0.00852928  0.03440334 -0.11465748  0.13853346\n",
      "  0.14007223  0.0197846  -0.08807542  0.09552025  0.03569271  0.06515737\n",
      "  0.03673927  0.06641968 -0.04181707]\n",
      "orbital_rotations:  15 \n",
      " [[0, 1], [0, 2], [0, 3], [0, 4], [0, 5], [1, 2], [1, 3], [1, 4], [1, 5], [2, 3], [2, 4], [2, 5], [3, 4], [3, 5], [4, 5]]\n",
      "self._parameters:  15 \n",
      " [-0.10665798 -0.00941502 -0.00852928  0.03440334 -0.11465748  0.13853346\n",
      "  0.14007223  0.0197846  -0.08807542  0.09552025  0.03569271  0.06515737\n",
      "  0.03673927  0.06641968 -0.04183707]\n"
     ]
    },
    {
     "name": "stderr",
     "output_type": "stream",
     "text": [
      "The provided alpha-beta overlap matrix is NOT unitary! This can happen when the alpha- and beta-spin orbitals do not span the same space. To provide an example of what this means, consider an active space chosen from unrestricted-spin orbitals. Computing <S^2> within this active space may not result in the same <S^2> value as obtained on the single-reference starting point. More importantly, this implies that the inactive subspace will account for the difference between these two <S^2> values, possibly resulting in significant spin contamination in both subspaces. You should verify whether this is intentional/acceptable or whether your choice of active space can be improved. As a reference, here is the summed-absolute deviation of `S^T @ S` from the identity: 21.1094991911992\n",
      "The provided alpha-beta overlap matrix is NOT unitary! This can happen when the alpha- and beta-spin orbitals do not span the same space. To provide an example of what this means, consider an active space chosen from unrestricted-spin orbitals. Computing <S^2> within this active space may not result in the same <S^2> value as obtained on the single-reference starting point. More importantly, this implies that the inactive subspace will account for the difference between these two <S^2> values, possibly resulting in significant spin contamination in both subspaces. You should verify whether this is intentional/acceptable or whether your choice of active space can be improved. As a reference, here is the summed-absolute deviation of `S^T @ S` from the identity: 21.1094991911992\n"
     ]
    },
    {
     "name": "stdout",
     "output_type": "stream",
     "text": [
      "parameters:  [-2.08302362e-02  6.15197025e-04  3.74188303e-05  2.05427255e-01\n",
      " -4.89793101e-01 -6.98276658e-01 -6.99377584e-01 -1.73894997e+00\n",
      " -4.56937388e-03  1.97326937e-01  1.98850295e-01 -1.42480875e-01\n",
      " -1.39624913e-01  4.23533155e-02  1.89080624e-02  4.86543400e-02\n",
      "  6.68934840e-02  3.43238107e-02  3.11248425e-02  6.49656814e-02\n",
      "  6.56859003e-02  1.18997119e-01  1.24208147e-01]\n",
      "Parameters of wavefunction are: \n",
      "%s array([-2.08302362e-02,  6.15197025e-04,  3.74188303e-05,  2.05427255e-01,\n",
      "       -4.89793101e-01, -6.98276658e-01, -6.99377584e-01, -1.73894997e+00])\n",
      "Parameters of orbital rotation are: \n",
      "%s array([-0.00456937,  0.19732694,  0.1988503 , -0.14248087, -0.13962491,\n",
      "        0.04235332,  0.01890806,  0.04865434,  0.06689348,  0.03432381,\n",
      "        0.03112484,  0.06496568,  0.0656859 ,  0.11899712,  0.12420815])\n",
      "orbital_rotations:  15 \n",
      " [[0, 1], [0, 2], [0, 3], [0, 4], [0, 5], [1, 2], [1, 3], [1, 4], [1, 5], [2, 3], [2, 4], [2, 5], [3, 4], [3, 5], [4, 5]]\n",
      "self._parameters:  15 \n",
      " [-0.00456937  0.19732694  0.1988503  -0.14248087 -0.13962491  0.04235332\n",
      "  0.01890806  0.04865434  0.06689348  0.03432381  0.03112484  0.06496568\n",
      "  0.0656859   0.11899712  0.12420815]\n",
      "Nature matrix a:  [[ 0.94154774 -0.00308326  0.19610827  0.21036615 -0.12173644 -0.1262783 ]\n",
      " [ 0.00716423  0.99550772  0.03963326  0.014505    0.04494211  0.07149872]\n",
      " [-0.18973634 -0.04515863  0.97670961  0.00876667  0.03945933  0.07978261]\n",
      " [-0.17813256 -0.02319242 -0.05801167  0.97057052  0.06897359  0.13266895]\n",
      " [ 0.15756258 -0.05134757 -0.01948584 -0.05757788  0.97851257  0.1065631 ]\n",
      " [ 0.14449727 -0.06116459 -0.04758193 -0.10068009 -0.13913733  0.9714009 ]]\n",
      "Nature matrix b:  [[ 0.94154774 -0.00308326  0.19610827  0.21036615 -0.12173644 -0.1262783 ]\n",
      " [ 0.00716423  0.99550772  0.03963326  0.014505    0.04494211  0.07149872]\n",
      " [-0.18973634 -0.04515863  0.97670961  0.00876667  0.03945933  0.07978261]\n",
      " [-0.17813256 -0.02319242 -0.05801167  0.97057052  0.06897359  0.13266895]\n",
      " [ 0.15756258 -0.05134757 -0.01948584 -0.05757788  0.97851257  0.1065631 ]\n",
      " [ 0.14449727 -0.06116459 -0.04758193 -0.10068009 -0.13913733  0.9714009 ]]\n"
     ]
    },
    {
     "name": "stderr",
     "output_type": "stream",
     "text": [
      "The provided alpha-beta overlap matrix is NOT unitary! This can happen when the alpha- and beta-spin orbitals do not span the same space. To provide an example of what this means, consider an active space chosen from unrestricted-spin orbitals. Computing <S^2> within this active space may not result in the same <S^2> value as obtained on the single-reference starting point. More importantly, this implies that the inactive subspace will account for the difference between these two <S^2> values, possibly resulting in significant spin contamination in both subspaces. You should verify whether this is intentional/acceptable or whether your choice of active space can be improved. As a reference, here is the summed-absolute deviation of `S^T @ S` from the identity: 21.1094991911992\n"
     ]
    },
    {
     "name": "stdout",
     "output_type": "stream",
     "text": [
      "Rotated operator:  SparsePauliOp(['IIIIIIIIIIII', 'IIIIIIIIIIIZ', 'IIIIIIIIIIXY', 'IIIIIIIIIIYY', 'IIIIIIIIIIXX'],\n",
      "              coeffs=[-4.85165924+0.j        ,  0.887572  +0.j        ,  0.        -0.56116287j,\n",
      "  0.15620206+0.j        ,  0.15620206+0.j        ])\n",
      "Energy evaluation returned %s - %.5f (ms), eval count: %s -7.937447893943427 133.84294509887695\n",
      "parameters:  [-0.01571897 -0.01168969 -0.01176898  0.01358511 -0.01942122 -0.06052394\n",
      " -0.06077533 -0.28063487 -0.0910524   0.0221882   0.02317141  0.00736427\n",
      " -0.11847408  0.12383107  0.1215507   0.02419772 -0.06438639  0.08616557\n",
      "  0.03499445  0.06512807  0.04116415  0.07445683 -0.01644641]\n",
      "Parameters of wavefunction are: \n",
      "%s array([-0.01571897, -0.01168969, -0.01176898,  0.01358511, -0.01942122,\n",
      "       -0.06052394, -0.06077533, -0.28063487])\n",
      "Parameters of orbital rotation are: \n",
      "%s array([-0.0910524 ,  0.0221882 ,  0.02317141,  0.00736427, -0.11847408,\n",
      "        0.12383107,  0.1215507 ,  0.02419772, -0.06438639,  0.08616557,\n",
      "        0.03499445,  0.06512807,  0.04116415,  0.07445683, -0.01644641])\n",
      "orbital_rotations:  15 \n",
      " [[0, 1], [0, 2], [0, 3], [0, 4], [0, 5], [1, 2], [1, 3], [1, 4], [1, 5], [2, 3], [2, 4], [2, 5], [3, 4], [3, 5], [4, 5]]\n",
      "self._parameters:  15 \n",
      " [-0.0910524   0.0221882   0.02317141  0.00736427 -0.11847408  0.12383107\n",
      "  0.1215507   0.02419772 -0.06438639  0.08616557  0.03499445  0.06512807\n",
      "  0.04116415  0.07445683 -0.01644641]\n",
      "Nature matrix a:  [[ 0.98833015 -0.09710646  0.01886898  0.02231537  0.00605382 -0.11350412]\n",
      " [ 0.08381422  0.9785369   0.11999552  0.12866302  0.02856145 -0.06059579]\n",
      " [-0.02463847 -0.12508609  0.98570936  0.07454018  0.03542347  0.07288628]\n",
      " [-0.0229538  -0.11217763 -0.0962906   0.98508328  0.03846945  0.07581852]\n",
      " [-0.00848232 -0.01965399 -0.03396689 -0.04334955  0.99809095 -0.01798013]\n",
      " [ 0.12236343  0.06647729 -0.05653727 -0.07157761  0.01507718  0.98593145]]\n",
      "Nature matrix b:  [[ 0.98833015 -0.09710646  0.01886898  0.02231537  0.00605382 -0.11350412]\n",
      " [ 0.08381422  0.9785369   0.11999552  0.12866302  0.02856145 -0.06059579]\n",
      " [-0.02463847 -0.12508609  0.98570936  0.07454018  0.03542347  0.07288628]\n",
      " [-0.0229538  -0.11217763 -0.0962906   0.98508328  0.03846945  0.07581852]\n",
      " [-0.00848232 -0.01965399 -0.03396689 -0.04334955  0.99809095 -0.01798013]\n",
      " [ 0.12236343  0.06647729 -0.05653727 -0.07157761  0.01507718  0.98593145]]\n"
     ]
    },
    {
     "name": "stderr",
     "output_type": "stream",
     "text": [
      "The provided alpha-beta overlap matrix is NOT unitary! This can happen when the alpha- and beta-spin orbitals do not span the same space. To provide an example of what this means, consider an active space chosen from unrestricted-spin orbitals. Computing <S^2> within this active space may not result in the same <S^2> value as obtained on the single-reference starting point. More importantly, this implies that the inactive subspace will account for the difference between these two <S^2> values, possibly resulting in significant spin contamination in both subspaces. You should verify whether this is intentional/acceptable or whether your choice of active space can be improved. As a reference, here is the summed-absolute deviation of `S^T @ S` from the identity: 21.1094991911992\n"
     ]
    },
    {
     "name": "stdout",
     "output_type": "stream",
     "text": [
      "Rotated operator:  SparsePauliOp(['IIIIIIIIIIII', 'IIIIIIIIIIIZ', 'IIIIIIIIIIXY', 'IIIIIIIIIIYY', 'IIIIIIIIIIXX'],\n",
      "              coeffs=[-5.78076237+0.j       ,  1.32923782+0.j       ,  0.        -0.4011328j,\n",
      "  0.19976707+0.j       ,  0.19976707+0.j       ])\n",
      "Energy evaluation returned %s - %.5f (ms), eval count: %s -10.416661607577215 133.2530975341797\n",
      "parameters:  [-0.01517913 -0.0129893  -0.01301594 -0.00667675  0.03025822  0.00683382\n",
      "  0.00667215 -0.12661149 -0.10018651  0.00369051  0.00461667  0.02319052\n",
      " -0.11624018  0.13243653  0.13239154  0.02161468 -0.07825182  0.09164096\n",
      "  0.03540315  0.06514522  0.03857422  0.0697526  -0.03130197]\n",
      "Parameters of wavefunction are: \n",
      "%s array([-0.01517913, -0.0129893 , -0.01301594, -0.00667675,  0.03025822,\n",
      "        0.00683382,  0.00667215, -0.12661149])\n",
      "Parameters of orbital rotation are: \n",
      "%s array([-0.10018651,  0.00369051,  0.00461667,  0.02319052, -0.11624018,\n",
      "        0.13243653,  0.13239154,  0.02161468, -0.07825182,  0.09164096,\n",
      "        0.03540315,  0.06514522,  0.03857422,  0.0697526 , -0.03130197])\n",
      "orbital_rotations:  15 \n",
      " [[0, 1], [0, 2], [0, 3], [0, 4], [0, 5], [1, 2], [1, 3], [1, 4], [1, 5], [2, 3], [2, 4], [2, 5], [3, 4], [3, 5], [4, 5]]\n",
      "self._parameters:  15 \n",
      " [-0.10018651  0.00369051  0.00461667  0.02319052 -0.11624018  0.13243653\n",
      "  0.13239154  0.02161468 -0.07825182  0.09164096  0.03540315  0.06514522\n",
      "  0.03857422  0.0697526  -0.03130197]\n",
      "Nature matrix a:  [[ 9.87975111e-01 -1.04704166e-01  3.62368668e-05  1.36244205e-03\n",
      "   2.02762426e-02 -1.11934064e-01]\n",
      " [ 9.40695987e-02  9.74288244e-01  1.27215292e-01  1.39567755e-01\n",
      "   2.62938741e-02 -7.45591820e-02]\n",
      " [-6.91732433e-03 -1.34612071e-01  9.84355135e-01  7.91206330e-02\n",
      "   3.64091370e-02  7.27393239e-02]\n",
      " [-7.04535333e-03 -1.22446359e-01 -1.02459734e-01  9.83931057e-01\n",
      "   3.62852190e-02  7.08682778e-02]\n",
      " [-2.57669399e-02 -1.66725178e-02 -3.37868061e-02 -4.02913136e-02\n",
      "   9.97643972e-01 -3.16173712e-02]\n",
      " [ 1.19560318e-01  8.00497462e-02 -5.67599404e-02 -6.71952072e-02\n",
      "   3.10123881e-02  9.85189684e-01]]\n",
      "Nature matrix b:  [[ 9.87975111e-01 -1.04704166e-01  3.62368668e-05  1.36244205e-03\n",
      "   2.02762426e-02 -1.11934064e-01]\n",
      " [ 9.40695987e-02  9.74288244e-01  1.27215292e-01  1.39567755e-01\n",
      "   2.62938741e-02 -7.45591820e-02]\n",
      " [-6.91732433e-03 -1.34612071e-01  9.84355135e-01  7.91206330e-02\n",
      "   3.64091370e-02  7.27393239e-02]\n",
      " [-7.04535333e-03 -1.22446359e-01 -1.02459734e-01  9.83931057e-01\n",
      "   3.62852190e-02  7.08682778e-02]\n",
      " [-2.57669399e-02 -1.66725178e-02 -3.37868061e-02 -4.02913136e-02\n",
      "   9.97643972e-01 -3.16173712e-02]\n",
      " [ 1.19560318e-01  8.00497462e-02 -5.67599404e-02 -6.71952072e-02\n",
      "   3.10123881e-02  9.85189684e-01]]\n",
      "Rotated operator:  SparsePauliOp(['IIIIIIIIIIII', 'IIIIIIIIIIIZ', 'IIIIIIIIIIXY', 'IIIIIIIIIIYY', 'IIIIIIIIIIXX'],\n",
      "              coeffs=[-5.70760325+0.j        ,  1.32435333+0.j        ,  0.        -0.37172596j,\n",
      "  0.18810117+0.j        ,  0.18810117+0.j        ])\n",
      "Energy evaluation returned %s - %.5f (ms), eval count: %s -10.48351758234089 136.796236038208\n"
     ]
    },
    {
     "name": "stderr",
     "output_type": "stream",
     "text": [
      "The provided alpha-beta overlap matrix is NOT unitary! This can happen when the alpha- and beta-spin orbitals do not span the same space. To provide an example of what this means, consider an active space chosen from unrestricted-spin orbitals. Computing <S^2> within this active space may not result in the same <S^2> value as obtained on the single-reference starting point. More importantly, this implies that the inactive subspace will account for the difference between these two <S^2> values, possibly resulting in significant spin contamination in both subspaces. You should verify whether this is intentional/acceptable or whether your choice of active space can be improved. As a reference, here is the summed-absolute deviation of `S^T @ S` from the identity: 21.1094991911992\n"
     ]
    },
    {
     "name": "stdout",
     "output_type": "stream",
     "text": [
      "orbital_rotations:  15 \n",
      " [[0, 1], [0, 2], [0, 3], [0, 4], [0, 5], [1, 2], [1, 3], [1, 4], [1, 5], [2, 3], [2, 4], [2, 5], [3, 4], [3, 5], [4, 5]]\n",
      "self._parameters:  15 \n",
      " [-0.10017651  0.00369051  0.00461667  0.02319052 -0.11624018  0.13243653\n",
      "  0.13239154  0.02161468 -0.07825182  0.09164096  0.03540315  0.06514522\n",
      "  0.03857422  0.0697526  -0.03130197]\n",
      "orbital_rotations:  15 \n",
      " [[0, 1], [0, 2], [0, 3], [0, 4], [0, 5], [1, 2], [1, 3], [1, 4], [1, 5], [2, 3], [2, 4], [2, 5], [3, 4], [3, 5], [4, 5]]\n",
      "self._parameters:  15 \n",
      " [-0.10019651  0.00369051  0.00461667  0.02319052 -0.11624018  0.13243653\n",
      "  0.13239154  0.02161468 -0.07825182  0.09164096  0.03540315  0.06514522\n",
      "  0.03857422  0.0697526  -0.03130197]\n"
     ]
    },
    {
     "name": "stderr",
     "output_type": "stream",
     "text": [
      "The provided alpha-beta overlap matrix is NOT unitary! This can happen when the alpha- and beta-spin orbitals do not span the same space. To provide an example of what this means, consider an active space chosen from unrestricted-spin orbitals. Computing <S^2> within this active space may not result in the same <S^2> value as obtained on the single-reference starting point. More importantly, this implies that the inactive subspace will account for the difference between these two <S^2> values, possibly resulting in significant spin contamination in both subspaces. You should verify whether this is intentional/acceptable or whether your choice of active space can be improved. As a reference, here is the summed-absolute deviation of `S^T @ S` from the identity: 21.1094991911992\n",
      "The provided alpha-beta overlap matrix is NOT unitary! This can happen when the alpha- and beta-spin orbitals do not span the same space. To provide an example of what this means, consider an active space chosen from unrestricted-spin orbitals. Computing <S^2> within this active space may not result in the same <S^2> value as obtained on the single-reference starting point. More importantly, this implies that the inactive subspace will account for the difference between these two <S^2> values, possibly resulting in significant spin contamination in both subspaces. You should verify whether this is intentional/acceptable or whether your choice of active space can be improved. As a reference, here is the summed-absolute deviation of `S^T @ S` from the identity: 21.1094991911992\n"
     ]
    },
    {
     "name": "stdout",
     "output_type": "stream",
     "text": [
      "orbital_rotations:  15 \n",
      " [[0, 1], [0, 2], [0, 3], [0, 4], [0, 5], [1, 2], [1, 3], [1, 4], [1, 5], [2, 3], [2, 4], [2, 5], [3, 4], [3, 5], [4, 5]]\n",
      "self._parameters:  15 \n",
      " [-0.10018651  0.00370051  0.00461667  0.02319052 -0.11624018  0.13243653\n",
      "  0.13239154  0.02161468 -0.07825182  0.09164096  0.03540315  0.06514522\n",
      "  0.03857422  0.0697526  -0.03130197]\n",
      "orbital_rotations:  15 \n",
      " [[0, 1], [0, 2], [0, 3], [0, 4], [0, 5], [1, 2], [1, 3], [1, 4], [1, 5], [2, 3], [2, 4], [2, 5], [3, 4], [3, 5], [4, 5]]\n",
      "self._parameters:  15 \n",
      " [-0.10018651  0.00368051  0.00461667  0.02319052 -0.11624018  0.13243653\n",
      "  0.13239154  0.02161468 -0.07825182  0.09164096  0.03540315  0.06514522\n",
      "  0.03857422  0.0697526  -0.03130197]\n"
     ]
    },
    {
     "name": "stderr",
     "output_type": "stream",
     "text": [
      "The provided alpha-beta overlap matrix is NOT unitary! This can happen when the alpha- and beta-spin orbitals do not span the same space. To provide an example of what this means, consider an active space chosen from unrestricted-spin orbitals. Computing <S^2> within this active space may not result in the same <S^2> value as obtained on the single-reference starting point. More importantly, this implies that the inactive subspace will account for the difference between these two <S^2> values, possibly resulting in significant spin contamination in both subspaces. You should verify whether this is intentional/acceptable or whether your choice of active space can be improved. As a reference, here is the summed-absolute deviation of `S^T @ S` from the identity: 21.1094991911992\n",
      "The provided alpha-beta overlap matrix is NOT unitary! This can happen when the alpha- and beta-spin orbitals do not span the same space. To provide an example of what this means, consider an active space chosen from unrestricted-spin orbitals. Computing <S^2> within this active space may not result in the same <S^2> value as obtained on the single-reference starting point. More importantly, this implies that the inactive subspace will account for the difference between these two <S^2> values, possibly resulting in significant spin contamination in both subspaces. You should verify whether this is intentional/acceptable or whether your choice of active space can be improved. As a reference, here is the summed-absolute deviation of `S^T @ S` from the identity: 21.1094991911992\n"
     ]
    },
    {
     "name": "stdout",
     "output_type": "stream",
     "text": [
      "orbital_rotations:  15 \n",
      " [[0, 1], [0, 2], [0, 3], [0, 4], [0, 5], [1, 2], [1, 3], [1, 4], [1, 5], [2, 3], [2, 4], [2, 5], [3, 4], [3, 5], [4, 5]]\n",
      "self._parameters:  15 \n",
      " [-0.10018651  0.00369051  0.00462667  0.02319052 -0.11624018  0.13243653\n",
      "  0.13239154  0.02161468 -0.07825182  0.09164096  0.03540315  0.06514522\n",
      "  0.03857422  0.0697526  -0.03130197]\n",
      "orbital_rotations:  15 \n",
      " [[0, 1], [0, 2], [0, 3], [0, 4], [0, 5], [1, 2], [1, 3], [1, 4], [1, 5], [2, 3], [2, 4], [2, 5], [3, 4], [3, 5], [4, 5]]\n",
      "self._parameters:  15 \n",
      " [-0.10018651  0.00369051  0.00460667  0.02319052 -0.11624018  0.13243653\n",
      "  0.13239154  0.02161468 -0.07825182  0.09164096  0.03540315  0.06514522\n",
      "  0.03857422  0.0697526  -0.03130197]\n"
     ]
    },
    {
     "name": "stderr",
     "output_type": "stream",
     "text": [
      "The provided alpha-beta overlap matrix is NOT unitary! This can happen when the alpha- and beta-spin orbitals do not span the same space. To provide an example of what this means, consider an active space chosen from unrestricted-spin orbitals. Computing <S^2> within this active space may not result in the same <S^2> value as obtained on the single-reference starting point. More importantly, this implies that the inactive subspace will account for the difference between these two <S^2> values, possibly resulting in significant spin contamination in both subspaces. You should verify whether this is intentional/acceptable or whether your choice of active space can be improved. As a reference, here is the summed-absolute deviation of `S^T @ S` from the identity: 21.1094991911992\n",
      "The provided alpha-beta overlap matrix is NOT unitary! This can happen when the alpha- and beta-spin orbitals do not span the same space. To provide an example of what this means, consider an active space chosen from unrestricted-spin orbitals. Computing <S^2> within this active space may not result in the same <S^2> value as obtained on the single-reference starting point. More importantly, this implies that the inactive subspace will account for the difference between these two <S^2> values, possibly resulting in significant spin contamination in both subspaces. You should verify whether this is intentional/acceptable or whether your choice of active space can be improved. As a reference, here is the summed-absolute deviation of `S^T @ S` from the identity: 21.1094991911992\n"
     ]
    },
    {
     "name": "stdout",
     "output_type": "stream",
     "text": [
      "orbital_rotations:  15 \n",
      " [[0, 1], [0, 2], [0, 3], [0, 4], [0, 5], [1, 2], [1, 3], [1, 4], [1, 5], [2, 3], [2, 4], [2, 5], [3, 4], [3, 5], [4, 5]]\n",
      "self._parameters:  15 \n",
      " [-0.10018651  0.00369051  0.00461667  0.02320052 -0.11624018  0.13243653\n",
      "  0.13239154  0.02161468 -0.07825182  0.09164096  0.03540315  0.06514522\n",
      "  0.03857422  0.0697526  -0.03130197]\n",
      "orbital_rotations:  15 \n",
      " [[0, 1], [0, 2], [0, 3], [0, 4], [0, 5], [1, 2], [1, 3], [1, 4], [1, 5], [2, 3], [2, 4], [2, 5], [3, 4], [3, 5], [4, 5]]\n",
      "self._parameters:  15 \n",
      " [-0.10018651  0.00369051  0.00461667  0.02318052 -0.11624018  0.13243653\n",
      "  0.13239154  0.02161468 -0.07825182  0.09164096  0.03540315  0.06514522\n",
      "  0.03857422  0.0697526  -0.03130197]\n"
     ]
    },
    {
     "name": "stderr",
     "output_type": "stream",
     "text": [
      "The provided alpha-beta overlap matrix is NOT unitary! This can happen when the alpha- and beta-spin orbitals do not span the same space. To provide an example of what this means, consider an active space chosen from unrestricted-spin orbitals. Computing <S^2> within this active space may not result in the same <S^2> value as obtained on the single-reference starting point. More importantly, this implies that the inactive subspace will account for the difference between these two <S^2> values, possibly resulting in significant spin contamination in both subspaces. You should verify whether this is intentional/acceptable or whether your choice of active space can be improved. As a reference, here is the summed-absolute deviation of `S^T @ S` from the identity: 21.1094991911992\n",
      "The provided alpha-beta overlap matrix is NOT unitary! This can happen when the alpha- and beta-spin orbitals do not span the same space. To provide an example of what this means, consider an active space chosen from unrestricted-spin orbitals. Computing <S^2> within this active space may not result in the same <S^2> value as obtained on the single-reference starting point. More importantly, this implies that the inactive subspace will account for the difference between these two <S^2> values, possibly resulting in significant spin contamination in both subspaces. You should verify whether this is intentional/acceptable or whether your choice of active space can be improved. As a reference, here is the summed-absolute deviation of `S^T @ S` from the identity: 21.1094991911992\n"
     ]
    },
    {
     "name": "stdout",
     "output_type": "stream",
     "text": [
      "orbital_rotations:  15 \n",
      " [[0, 1], [0, 2], [0, 3], [0, 4], [0, 5], [1, 2], [1, 3], [1, 4], [1, 5], [2, 3], [2, 4], [2, 5], [3, 4], [3, 5], [4, 5]]\n",
      "self._parameters:  15 \n",
      " [-0.10018651  0.00369051  0.00461667  0.02319052 -0.11623018  0.13243653\n",
      "  0.13239154  0.02161468 -0.07825182  0.09164096  0.03540315  0.06514522\n",
      "  0.03857422  0.0697526  -0.03130197]\n",
      "orbital_rotations:  15 \n",
      " [[0, 1], [0, 2], [0, 3], [0, 4], [0, 5], [1, 2], [1, 3], [1, 4], [1, 5], [2, 3], [2, 4], [2, 5], [3, 4], [3, 5], [4, 5]]\n",
      "self._parameters:  15 \n",
      " [-0.10018651  0.00369051  0.00461667  0.02319052 -0.11625018  0.13243653\n",
      "  0.13239154  0.02161468 -0.07825182  0.09164096  0.03540315  0.06514522\n",
      "  0.03857422  0.0697526  -0.03130197]\n"
     ]
    },
    {
     "name": "stderr",
     "output_type": "stream",
     "text": [
      "The provided alpha-beta overlap matrix is NOT unitary! This can happen when the alpha- and beta-spin orbitals do not span the same space. To provide an example of what this means, consider an active space chosen from unrestricted-spin orbitals. Computing <S^2> within this active space may not result in the same <S^2> value as obtained on the single-reference starting point. More importantly, this implies that the inactive subspace will account for the difference between these two <S^2> values, possibly resulting in significant spin contamination in both subspaces. You should verify whether this is intentional/acceptable or whether your choice of active space can be improved. As a reference, here is the summed-absolute deviation of `S^T @ S` from the identity: 21.1094991911992\n",
      "The provided alpha-beta overlap matrix is NOT unitary! This can happen when the alpha- and beta-spin orbitals do not span the same space. To provide an example of what this means, consider an active space chosen from unrestricted-spin orbitals. Computing <S^2> within this active space may not result in the same <S^2> value as obtained on the single-reference starting point. More importantly, this implies that the inactive subspace will account for the difference between these two <S^2> values, possibly resulting in significant spin contamination in both subspaces. You should verify whether this is intentional/acceptable or whether your choice of active space can be improved. As a reference, here is the summed-absolute deviation of `S^T @ S` from the identity: 21.1094991911992\n"
     ]
    },
    {
     "name": "stdout",
     "output_type": "stream",
     "text": [
      "orbital_rotations:  15 \n",
      " [[0, 1], [0, 2], [0, 3], [0, 4], [0, 5], [1, 2], [1, 3], [1, 4], [1, 5], [2, 3], [2, 4], [2, 5], [3, 4], [3, 5], [4, 5]]\n",
      "self._parameters:  15 \n",
      " [-0.10018651  0.00369051  0.00461667  0.02319052 -0.11624018  0.13244653\n",
      "  0.13239154  0.02161468 -0.07825182  0.09164096  0.03540315  0.06514522\n",
      "  0.03857422  0.0697526  -0.03130197]\n",
      "orbital_rotations:  15 \n",
      " [[0, 1], [0, 2], [0, 3], [0, 4], [0, 5], [1, 2], [1, 3], [1, 4], [1, 5], [2, 3], [2, 4], [2, 5], [3, 4], [3, 5], [4, 5]]\n",
      "self._parameters:  15 \n",
      " [-0.10018651  0.00369051  0.00461667  0.02319052 -0.11624018  0.13242653\n",
      "  0.13239154  0.02161468 -0.07825182  0.09164096  0.03540315  0.06514522\n",
      "  0.03857422  0.0697526  -0.03130197]\n"
     ]
    },
    {
     "name": "stderr",
     "output_type": "stream",
     "text": [
      "The provided alpha-beta overlap matrix is NOT unitary! This can happen when the alpha- and beta-spin orbitals do not span the same space. To provide an example of what this means, consider an active space chosen from unrestricted-spin orbitals. Computing <S^2> within this active space may not result in the same <S^2> value as obtained on the single-reference starting point. More importantly, this implies that the inactive subspace will account for the difference between these two <S^2> values, possibly resulting in significant spin contamination in both subspaces. You should verify whether this is intentional/acceptable or whether your choice of active space can be improved. As a reference, here is the summed-absolute deviation of `S^T @ S` from the identity: 21.1094991911992\n",
      "The provided alpha-beta overlap matrix is NOT unitary! This can happen when the alpha- and beta-spin orbitals do not span the same space. To provide an example of what this means, consider an active space chosen from unrestricted-spin orbitals. Computing <S^2> within this active space may not result in the same <S^2> value as obtained on the single-reference starting point. More importantly, this implies that the inactive subspace will account for the difference between these two <S^2> values, possibly resulting in significant spin contamination in both subspaces. You should verify whether this is intentional/acceptable or whether your choice of active space can be improved. As a reference, here is the summed-absolute deviation of `S^T @ S` from the identity: 21.1094991911992\n"
     ]
    },
    {
     "name": "stdout",
     "output_type": "stream",
     "text": [
      "orbital_rotations:  15 \n",
      " [[0, 1], [0, 2], [0, 3], [0, 4], [0, 5], [1, 2], [1, 3], [1, 4], [1, 5], [2, 3], [2, 4], [2, 5], [3, 4], [3, 5], [4, 5]]\n",
      "self._parameters:  15 \n",
      " [-0.10018651  0.00369051  0.00461667  0.02319052 -0.11624018  0.13243653\n",
      "  0.13240154  0.02161468 -0.07825182  0.09164096  0.03540315  0.06514522\n",
      "  0.03857422  0.0697526  -0.03130197]\n",
      "orbital_rotations:  15 \n",
      " [[0, 1], [0, 2], [0, 3], [0, 4], [0, 5], [1, 2], [1, 3], [1, 4], [1, 5], [2, 3], [2, 4], [2, 5], [3, 4], [3, 5], [4, 5]]\n",
      "self._parameters:  15 \n",
      " [-0.10018651  0.00369051  0.00461667  0.02319052 -0.11624018  0.13243653\n",
      "  0.13238154  0.02161468 -0.07825182  0.09164096  0.03540315  0.06514522\n",
      "  0.03857422  0.0697526  -0.03130197]\n"
     ]
    },
    {
     "name": "stderr",
     "output_type": "stream",
     "text": [
      "The provided alpha-beta overlap matrix is NOT unitary! This can happen when the alpha- and beta-spin orbitals do not span the same space. To provide an example of what this means, consider an active space chosen from unrestricted-spin orbitals. Computing <S^2> within this active space may not result in the same <S^2> value as obtained on the single-reference starting point. More importantly, this implies that the inactive subspace will account for the difference between these two <S^2> values, possibly resulting in significant spin contamination in both subspaces. You should verify whether this is intentional/acceptable or whether your choice of active space can be improved. As a reference, here is the summed-absolute deviation of `S^T @ S` from the identity: 21.1094991911992\n",
      "The provided alpha-beta overlap matrix is NOT unitary! This can happen when the alpha- and beta-spin orbitals do not span the same space. To provide an example of what this means, consider an active space chosen from unrestricted-spin orbitals. Computing <S^2> within this active space may not result in the same <S^2> value as obtained on the single-reference starting point. More importantly, this implies that the inactive subspace will account for the difference between these two <S^2> values, possibly resulting in significant spin contamination in both subspaces. You should verify whether this is intentional/acceptable or whether your choice of active space can be improved. As a reference, here is the summed-absolute deviation of `S^T @ S` from the identity: 21.1094991911992\n"
     ]
    },
    {
     "name": "stdout",
     "output_type": "stream",
     "text": [
      "orbital_rotations:  15 \n",
      " [[0, 1], [0, 2], [0, 3], [0, 4], [0, 5], [1, 2], [1, 3], [1, 4], [1, 5], [2, 3], [2, 4], [2, 5], [3, 4], [3, 5], [4, 5]]\n",
      "self._parameters:  15 \n",
      " [-0.10018651  0.00369051  0.00461667  0.02319052 -0.11624018  0.13243653\n",
      "  0.13239154  0.02162468 -0.07825182  0.09164096  0.03540315  0.06514522\n",
      "  0.03857422  0.0697526  -0.03130197]\n",
      "orbital_rotations:  15 \n",
      " [[0, 1], [0, 2], [0, 3], [0, 4], [0, 5], [1, 2], [1, 3], [1, 4], [1, 5], [2, 3], [2, 4], [2, 5], [3, 4], [3, 5], [4, 5]]\n",
      "self._parameters:  15 \n",
      " [-0.10018651  0.00369051  0.00461667  0.02319052 -0.11624018  0.13243653\n",
      "  0.13239154  0.02160468 -0.07825182  0.09164096  0.03540315  0.06514522\n",
      "  0.03857422  0.0697526  -0.03130197]\n"
     ]
    },
    {
     "name": "stderr",
     "output_type": "stream",
     "text": [
      "The provided alpha-beta overlap matrix is NOT unitary! This can happen when the alpha- and beta-spin orbitals do not span the same space. To provide an example of what this means, consider an active space chosen from unrestricted-spin orbitals. Computing <S^2> within this active space may not result in the same <S^2> value as obtained on the single-reference starting point. More importantly, this implies that the inactive subspace will account for the difference between these two <S^2> values, possibly resulting in significant spin contamination in both subspaces. You should verify whether this is intentional/acceptable or whether your choice of active space can be improved. As a reference, here is the summed-absolute deviation of `S^T @ S` from the identity: 21.1094991911992\n",
      "The provided alpha-beta overlap matrix is NOT unitary! This can happen when the alpha- and beta-spin orbitals do not span the same space. To provide an example of what this means, consider an active space chosen from unrestricted-spin orbitals. Computing <S^2> within this active space may not result in the same <S^2> value as obtained on the single-reference starting point. More importantly, this implies that the inactive subspace will account for the difference between these two <S^2> values, possibly resulting in significant spin contamination in both subspaces. You should verify whether this is intentional/acceptable or whether your choice of active space can be improved. As a reference, here is the summed-absolute deviation of `S^T @ S` from the identity: 21.1094991911992\n"
     ]
    },
    {
     "name": "stdout",
     "output_type": "stream",
     "text": [
      "orbital_rotations:  15 \n",
      " [[0, 1], [0, 2], [0, 3], [0, 4], [0, 5], [1, 2], [1, 3], [1, 4], [1, 5], [2, 3], [2, 4], [2, 5], [3, 4], [3, 5], [4, 5]]\n",
      "self._parameters:  15 \n",
      " [-0.10018651  0.00369051  0.00461667  0.02319052 -0.11624018  0.13243653\n",
      "  0.13239154  0.02161468 -0.07824182  0.09164096  0.03540315  0.06514522\n",
      "  0.03857422  0.0697526  -0.03130197]\n",
      "orbital_rotations:  15 \n",
      " [[0, 1], [0, 2], [0, 3], [0, 4], [0, 5], [1, 2], [1, 3], [1, 4], [1, 5], [2, 3], [2, 4], [2, 5], [3, 4], [3, 5], [4, 5]]\n",
      "self._parameters:  15 \n",
      " [-0.10018651  0.00369051  0.00461667  0.02319052 -0.11624018  0.13243653\n",
      "  0.13239154  0.02161468 -0.07826182  0.09164096  0.03540315  0.06514522\n",
      "  0.03857422  0.0697526  -0.03130197]\n"
     ]
    },
    {
     "name": "stderr",
     "output_type": "stream",
     "text": [
      "The provided alpha-beta overlap matrix is NOT unitary! This can happen when the alpha- and beta-spin orbitals do not span the same space. To provide an example of what this means, consider an active space chosen from unrestricted-spin orbitals. Computing <S^2> within this active space may not result in the same <S^2> value as obtained on the single-reference starting point. More importantly, this implies that the inactive subspace will account for the difference between these two <S^2> values, possibly resulting in significant spin contamination in both subspaces. You should verify whether this is intentional/acceptable or whether your choice of active space can be improved. As a reference, here is the summed-absolute deviation of `S^T @ S` from the identity: 21.1094991911992\n",
      "The provided alpha-beta overlap matrix is NOT unitary! This can happen when the alpha- and beta-spin orbitals do not span the same space. To provide an example of what this means, consider an active space chosen from unrestricted-spin orbitals. Computing <S^2> within this active space may not result in the same <S^2> value as obtained on the single-reference starting point. More importantly, this implies that the inactive subspace will account for the difference between these two <S^2> values, possibly resulting in significant spin contamination in both subspaces. You should verify whether this is intentional/acceptable or whether your choice of active space can be improved. As a reference, here is the summed-absolute deviation of `S^T @ S` from the identity: 21.1094991911992\n"
     ]
    },
    {
     "name": "stdout",
     "output_type": "stream",
     "text": [
      "orbital_rotations:  15 \n",
      " [[0, 1], [0, 2], [0, 3], [0, 4], [0, 5], [1, 2], [1, 3], [1, 4], [1, 5], [2, 3], [2, 4], [2, 5], [3, 4], [3, 5], [4, 5]]\n",
      "self._parameters:  15 \n",
      " [-0.10018651  0.00369051  0.00461667  0.02319052 -0.11624018  0.13243653\n",
      "  0.13239154  0.02161468 -0.07825182  0.09165096  0.03540315  0.06514522\n",
      "  0.03857422  0.0697526  -0.03130197]\n",
      "orbital_rotations:  15 \n",
      " [[0, 1], [0, 2], [0, 3], [0, 4], [0, 5], [1, 2], [1, 3], [1, 4], [1, 5], [2, 3], [2, 4], [2, 5], [3, 4], [3, 5], [4, 5]]\n",
      "self._parameters:  15 \n",
      " [-0.10018651  0.00369051  0.00461667  0.02319052 -0.11624018  0.13243653\n",
      "  0.13239154  0.02161468 -0.07825182  0.09163096  0.03540315  0.06514522\n",
      "  0.03857422  0.0697526  -0.03130197]\n"
     ]
    },
    {
     "name": "stderr",
     "output_type": "stream",
     "text": [
      "The provided alpha-beta overlap matrix is NOT unitary! This can happen when the alpha- and beta-spin orbitals do not span the same space. To provide an example of what this means, consider an active space chosen from unrestricted-spin orbitals. Computing <S^2> within this active space may not result in the same <S^2> value as obtained on the single-reference starting point. More importantly, this implies that the inactive subspace will account for the difference between these two <S^2> values, possibly resulting in significant spin contamination in both subspaces. You should verify whether this is intentional/acceptable or whether your choice of active space can be improved. As a reference, here is the summed-absolute deviation of `S^T @ S` from the identity: 21.1094991911992\n",
      "The provided alpha-beta overlap matrix is NOT unitary! This can happen when the alpha- and beta-spin orbitals do not span the same space. To provide an example of what this means, consider an active space chosen from unrestricted-spin orbitals. Computing <S^2> within this active space may not result in the same <S^2> value as obtained on the single-reference starting point. More importantly, this implies that the inactive subspace will account for the difference between these two <S^2> values, possibly resulting in significant spin contamination in both subspaces. You should verify whether this is intentional/acceptable or whether your choice of active space can be improved. As a reference, here is the summed-absolute deviation of `S^T @ S` from the identity: 21.1094991911992\n"
     ]
    },
    {
     "name": "stdout",
     "output_type": "stream",
     "text": [
      "orbital_rotations:  15 \n",
      " [[0, 1], [0, 2], [0, 3], [0, 4], [0, 5], [1, 2], [1, 3], [1, 4], [1, 5], [2, 3], [2, 4], [2, 5], [3, 4], [3, 5], [4, 5]]\n",
      "self._parameters:  15 \n",
      " [-0.10018651  0.00369051  0.00461667  0.02319052 -0.11624018  0.13243653\n",
      "  0.13239154  0.02161468 -0.07825182  0.09164096  0.03541315  0.06514522\n",
      "  0.03857422  0.0697526  -0.03130197]\n",
      "orbital_rotations:  15 \n",
      " [[0, 1], [0, 2], [0, 3], [0, 4], [0, 5], [1, 2], [1, 3], [1, 4], [1, 5], [2, 3], [2, 4], [2, 5], [3, 4], [3, 5], [4, 5]]\n",
      "self._parameters:  15 \n",
      " [-0.10018651  0.00369051  0.00461667  0.02319052 -0.11624018  0.13243653\n",
      "  0.13239154  0.02161468 -0.07825182  0.09164096  0.03539315  0.06514522\n",
      "  0.03857422  0.0697526  -0.03130197]\n"
     ]
    },
    {
     "name": "stderr",
     "output_type": "stream",
     "text": [
      "The provided alpha-beta overlap matrix is NOT unitary! This can happen when the alpha- and beta-spin orbitals do not span the same space. To provide an example of what this means, consider an active space chosen from unrestricted-spin orbitals. Computing <S^2> within this active space may not result in the same <S^2> value as obtained on the single-reference starting point. More importantly, this implies that the inactive subspace will account for the difference between these two <S^2> values, possibly resulting in significant spin contamination in both subspaces. You should verify whether this is intentional/acceptable or whether your choice of active space can be improved. As a reference, here is the summed-absolute deviation of `S^T @ S` from the identity: 21.1094991911992\n",
      "The provided alpha-beta overlap matrix is NOT unitary! This can happen when the alpha- and beta-spin orbitals do not span the same space. To provide an example of what this means, consider an active space chosen from unrestricted-spin orbitals. Computing <S^2> within this active space may not result in the same <S^2> value as obtained on the single-reference starting point. More importantly, this implies that the inactive subspace will account for the difference between these two <S^2> values, possibly resulting in significant spin contamination in both subspaces. You should verify whether this is intentional/acceptable or whether your choice of active space can be improved. As a reference, here is the summed-absolute deviation of `S^T @ S` from the identity: 21.1094991911992\n"
     ]
    },
    {
     "name": "stdout",
     "output_type": "stream",
     "text": [
      "orbital_rotations:  15 \n",
      " [[0, 1], [0, 2], [0, 3], [0, 4], [0, 5], [1, 2], [1, 3], [1, 4], [1, 5], [2, 3], [2, 4], [2, 5], [3, 4], [3, 5], [4, 5]]\n",
      "self._parameters:  15 \n",
      " [-0.10018651  0.00369051  0.00461667  0.02319052 -0.11624018  0.13243653\n",
      "  0.13239154  0.02161468 -0.07825182  0.09164096  0.03540315  0.06515522\n",
      "  0.03857422  0.0697526  -0.03130197]\n",
      "orbital_rotations:  15 \n",
      " [[0, 1], [0, 2], [0, 3], [0, 4], [0, 5], [1, 2], [1, 3], [1, 4], [1, 5], [2, 3], [2, 4], [2, 5], [3, 4], [3, 5], [4, 5]]\n",
      "self._parameters:  15 \n",
      " [-0.10018651  0.00369051  0.00461667  0.02319052 -0.11624018  0.13243653\n",
      "  0.13239154  0.02161468 -0.07825182  0.09164096  0.03540315  0.06513522\n",
      "  0.03857422  0.0697526  -0.03130197]\n"
     ]
    },
    {
     "name": "stderr",
     "output_type": "stream",
     "text": [
      "The provided alpha-beta overlap matrix is NOT unitary! This can happen when the alpha- and beta-spin orbitals do not span the same space. To provide an example of what this means, consider an active space chosen from unrestricted-spin orbitals. Computing <S^2> within this active space may not result in the same <S^2> value as obtained on the single-reference starting point. More importantly, this implies that the inactive subspace will account for the difference between these two <S^2> values, possibly resulting in significant spin contamination in both subspaces. You should verify whether this is intentional/acceptable or whether your choice of active space can be improved. As a reference, here is the summed-absolute deviation of `S^T @ S` from the identity: 21.1094991911992\n",
      "The provided alpha-beta overlap matrix is NOT unitary! This can happen when the alpha- and beta-spin orbitals do not span the same space. To provide an example of what this means, consider an active space chosen from unrestricted-spin orbitals. Computing <S^2> within this active space may not result in the same <S^2> value as obtained on the single-reference starting point. More importantly, this implies that the inactive subspace will account for the difference between these two <S^2> values, possibly resulting in significant spin contamination in both subspaces. You should verify whether this is intentional/acceptable or whether your choice of active space can be improved. As a reference, here is the summed-absolute deviation of `S^T @ S` from the identity: 21.1094991911992\n"
     ]
    },
    {
     "name": "stdout",
     "output_type": "stream",
     "text": [
      "orbital_rotations:  15 \n",
      " [[0, 1], [0, 2], [0, 3], [0, 4], [0, 5], [1, 2], [1, 3], [1, 4], [1, 5], [2, 3], [2, 4], [2, 5], [3, 4], [3, 5], [4, 5]]\n",
      "self._parameters:  15 \n",
      " [-0.10018651  0.00369051  0.00461667  0.02319052 -0.11624018  0.13243653\n",
      "  0.13239154  0.02161468 -0.07825182  0.09164096  0.03540315  0.06514522\n",
      "  0.03858422  0.0697526  -0.03130197]\n",
      "orbital_rotations:  15 \n",
      " [[0, 1], [0, 2], [0, 3], [0, 4], [0, 5], [1, 2], [1, 3], [1, 4], [1, 5], [2, 3], [2, 4], [2, 5], [3, 4], [3, 5], [4, 5]]\n",
      "self._parameters:  15 \n",
      " [-0.10018651  0.00369051  0.00461667  0.02319052 -0.11624018  0.13243653\n",
      "  0.13239154  0.02161468 -0.07825182  0.09164096  0.03540315  0.06514522\n",
      "  0.03856422  0.0697526  -0.03130197]\n"
     ]
    },
    {
     "name": "stderr",
     "output_type": "stream",
     "text": [
      "The provided alpha-beta overlap matrix is NOT unitary! This can happen when the alpha- and beta-spin orbitals do not span the same space. To provide an example of what this means, consider an active space chosen from unrestricted-spin orbitals. Computing <S^2> within this active space may not result in the same <S^2> value as obtained on the single-reference starting point. More importantly, this implies that the inactive subspace will account for the difference between these two <S^2> values, possibly resulting in significant spin contamination in both subspaces. You should verify whether this is intentional/acceptable or whether your choice of active space can be improved. As a reference, here is the summed-absolute deviation of `S^T @ S` from the identity: 21.1094991911992\n",
      "The provided alpha-beta overlap matrix is NOT unitary! This can happen when the alpha- and beta-spin orbitals do not span the same space. To provide an example of what this means, consider an active space chosen from unrestricted-spin orbitals. Computing <S^2> within this active space may not result in the same <S^2> value as obtained on the single-reference starting point. More importantly, this implies that the inactive subspace will account for the difference between these two <S^2> values, possibly resulting in significant spin contamination in both subspaces. You should verify whether this is intentional/acceptable or whether your choice of active space can be improved. As a reference, here is the summed-absolute deviation of `S^T @ S` from the identity: 21.1094991911992\n"
     ]
    },
    {
     "name": "stdout",
     "output_type": "stream",
     "text": [
      "orbital_rotations:  15 \n",
      " [[0, 1], [0, 2], [0, 3], [0, 4], [0, 5], [1, 2], [1, 3], [1, 4], [1, 5], [2, 3], [2, 4], [2, 5], [3, 4], [3, 5], [4, 5]]\n",
      "self._parameters:  15 \n",
      " [-0.10018651  0.00369051  0.00461667  0.02319052 -0.11624018  0.13243653\n",
      "  0.13239154  0.02161468 -0.07825182  0.09164096  0.03540315  0.06514522\n",
      "  0.03857422  0.0697626  -0.03130197]\n",
      "orbital_rotations:  15 \n",
      " [[0, 1], [0, 2], [0, 3], [0, 4], [0, 5], [1, 2], [1, 3], [1, 4], [1, 5], [2, 3], [2, 4], [2, 5], [3, 4], [3, 5], [4, 5]]\n",
      "self._parameters:  15 \n",
      " [-0.10018651  0.00369051  0.00461667  0.02319052 -0.11624018  0.13243653\n",
      "  0.13239154  0.02161468 -0.07825182  0.09164096  0.03540315  0.06514522\n",
      "  0.03857422  0.0697426  -0.03130197]\n"
     ]
    },
    {
     "name": "stderr",
     "output_type": "stream",
     "text": [
      "The provided alpha-beta overlap matrix is NOT unitary! This can happen when the alpha- and beta-spin orbitals do not span the same space. To provide an example of what this means, consider an active space chosen from unrestricted-spin orbitals. Computing <S^2> within this active space may not result in the same <S^2> value as obtained on the single-reference starting point. More importantly, this implies that the inactive subspace will account for the difference between these two <S^2> values, possibly resulting in significant spin contamination in both subspaces. You should verify whether this is intentional/acceptable or whether your choice of active space can be improved. As a reference, here is the summed-absolute deviation of `S^T @ S` from the identity: 21.1094991911992\n",
      "The provided alpha-beta overlap matrix is NOT unitary! This can happen when the alpha- and beta-spin orbitals do not span the same space. To provide an example of what this means, consider an active space chosen from unrestricted-spin orbitals. Computing <S^2> within this active space may not result in the same <S^2> value as obtained on the single-reference starting point. More importantly, this implies that the inactive subspace will account for the difference between these two <S^2> values, possibly resulting in significant spin contamination in both subspaces. You should verify whether this is intentional/acceptable or whether your choice of active space can be improved. As a reference, here is the summed-absolute deviation of `S^T @ S` from the identity: 21.1094991911992\n"
     ]
    },
    {
     "name": "stdout",
     "output_type": "stream",
     "text": [
      "orbital_rotations:  15 \n",
      " [[0, 1], [0, 2], [0, 3], [0, 4], [0, 5], [1, 2], [1, 3], [1, 4], [1, 5], [2, 3], [2, 4], [2, 5], [3, 4], [3, 5], [4, 5]]\n",
      "self._parameters:  15 \n",
      " [-0.10018651  0.00369051  0.00461667  0.02319052 -0.11624018  0.13243653\n",
      "  0.13239154  0.02161468 -0.07825182  0.09164096  0.03540315  0.06514522\n",
      "  0.03857422  0.0697526  -0.03129197]\n",
      "orbital_rotations:  15 \n",
      " [[0, 1], [0, 2], [0, 3], [0, 4], [0, 5], [1, 2], [1, 3], [1, 4], [1, 5], [2, 3], [2, 4], [2, 5], [3, 4], [3, 5], [4, 5]]\n",
      "self._parameters:  15 \n",
      " [-0.10018651  0.00369051  0.00461667  0.02319052 -0.11624018  0.13243653\n",
      "  0.13239154  0.02161468 -0.07825182  0.09164096  0.03540315  0.06514522\n",
      "  0.03857422  0.0697526  -0.03131197]\n"
     ]
    },
    {
     "name": "stderr",
     "output_type": "stream",
     "text": [
      "The provided alpha-beta overlap matrix is NOT unitary! This can happen when the alpha- and beta-spin orbitals do not span the same space. To provide an example of what this means, consider an active space chosen from unrestricted-spin orbitals. Computing <S^2> within this active space may not result in the same <S^2> value as obtained on the single-reference starting point. More importantly, this implies that the inactive subspace will account for the difference between these two <S^2> values, possibly resulting in significant spin contamination in both subspaces. You should verify whether this is intentional/acceptable or whether your choice of active space can be improved. As a reference, here is the summed-absolute deviation of `S^T @ S` from the identity: 21.1094991911992\n",
      "The provided alpha-beta overlap matrix is NOT unitary! This can happen when the alpha- and beta-spin orbitals do not span the same space. To provide an example of what this means, consider an active space chosen from unrestricted-spin orbitals. Computing <S^2> within this active space may not result in the same <S^2> value as obtained on the single-reference starting point. More importantly, this implies that the inactive subspace will account for the difference between these two <S^2> values, possibly resulting in significant spin contamination in both subspaces. You should verify whether this is intentional/acceptable or whether your choice of active space can be improved. As a reference, here is the summed-absolute deviation of `S^T @ S` from the identity: 21.1094991911992\n"
     ]
    },
    {
     "name": "stdout",
     "output_type": "stream",
     "text": [
      "parameters:  [ 0.08172499  0.0669664   0.06729435 -0.13800226 -0.05790268 -0.13147719\n",
      " -0.13158519 -0.18042634 -0.08111362  0.00343122 -0.02703027  0.01255977\n",
      " -0.10060287  0.13265697  0.1691355   0.00100991 -0.02389403  0.08563172\n",
      "  0.02324972  0.04250992 -0.01641963  0.00533042  0.01263884]\n",
      "Parameters of wavefunction are: \n",
      "%s array([ 0.08172499,  0.0669664 ,  0.06729435, -0.13800226, -0.05790268,\n",
      "       -0.13147719, -0.13158519, -0.18042634])\n",
      "Parameters of orbital rotation are: \n",
      "%s array([-0.08111362,  0.00343122, -0.02703027,  0.01255977, -0.10060287,\n",
      "        0.13265697,  0.1691355 ,  0.00100991, -0.02389403,  0.08563172,\n",
      "        0.02324972,  0.04250992, -0.01641963,  0.00533042,  0.01263884])\n",
      "orbital_rotations:  15 \n",
      " [[0, 1], [0, 2], [0, 3], [0, 4], [0, 5], [1, 2], [1, 3], [1, 4], [1, 5], [2, 3], [2, 4], [2, 5], [3, 4], [3, 5], [4, 5]]\n",
      "self._parameters:  15 \n",
      " [-0.08111362  0.00343122 -0.02703027  0.01255977 -0.10060287  0.13265697\n",
      "  0.1691355   0.00100991 -0.02389403  0.08563172  0.02324972  0.04250992\n",
      " -0.01641963  0.00533042  0.01263884]\n",
      "Nature matrix a:  [[ 9.91220579e-01 -7.95708888e-02  1.40630418e-03 -3.32721735e-02\n",
      "   1.33930451e-02 -9.93068414e-02]\n",
      " [ 8.12560024e-02  9.73451564e-01  1.24782881e-01  1.72077991e-01\n",
      "   1.74220110e-03 -2.45942490e-02]\n",
      " [-5.82870782e-03 -1.37925724e-01  9.86415438e-01  7.38441171e-02\n",
      "   2.21272303e-02  4.45481312e-02]\n",
      " [ 2.06556820e-02 -1.62814195e-01 -9.59207210e-02  9.81603886e-01\n",
      "  -1.73642177e-02  4.04865403e-03]\n",
      " [-1.16794523e-02 -1.20664501e-04 -2.42414001e-02  1.54838891e-02\n",
      "   9.99436296e-01  1.27776682e-02]\n",
      " [ 1.01401112e-01  2.29900843e-02 -4.02915374e-02 -6.57532362e-03\n",
      "  -1.23915282e-02  9.93664469e-01]]\n",
      "Nature matrix b:  [[ 9.91220579e-01 -7.95708888e-02  1.40630418e-03 -3.32721735e-02\n",
      "   1.33930451e-02 -9.93068414e-02]\n",
      " [ 8.12560024e-02  9.73451564e-01  1.24782881e-01  1.72077991e-01\n",
      "   1.74220110e-03 -2.45942490e-02]\n",
      " [-5.82870782e-03 -1.37925724e-01  9.86415438e-01  7.38441171e-02\n",
      "   2.21272303e-02  4.45481312e-02]\n",
      " [ 2.06556820e-02 -1.62814195e-01 -9.59207210e-02  9.81603886e-01\n",
      "  -1.73642177e-02  4.04865403e-03]\n",
      " [-1.16794523e-02 -1.20664501e-04 -2.42414001e-02  1.54838891e-02\n",
      "   9.99436296e-01  1.27776682e-02]\n",
      " [ 1.01401112e-01  2.29900843e-02 -4.02915374e-02 -6.57532362e-03\n",
      "  -1.23915282e-02  9.93664469e-01]]\n"
     ]
    },
    {
     "name": "stderr",
     "output_type": "stream",
     "text": [
      "The provided alpha-beta overlap matrix is NOT unitary! This can happen when the alpha- and beta-spin orbitals do not span the same space. To provide an example of what this means, consider an active space chosen from unrestricted-spin orbitals. Computing <S^2> within this active space may not result in the same <S^2> value as obtained on the single-reference starting point. More importantly, this implies that the inactive subspace will account for the difference between these two <S^2> values, possibly resulting in significant spin contamination in both subspaces. You should verify whether this is intentional/acceptable or whether your choice of active space can be improved. As a reference, here is the summed-absolute deviation of `S^T @ S` from the identity: 21.1094991911992\n"
     ]
    },
    {
     "name": "stdout",
     "output_type": "stream",
     "text": [
      "Rotated operator:  SparsePauliOp(['IIIIIIIIIIII', 'IIIIIIIIIIIZ', 'IIIIIIIIIIXY', 'IIIIIIIIIIYY', 'IIIIIIIIIIXX'],\n",
      "              coeffs=[-5.93037703+0.j        ,  1.32112781+0.j        ,  0.        -0.36678351j,\n",
      "  0.18571922+0.j        ,  0.18571922+0.j        ])\n",
      "Energy evaluation returned %s - %.5f (ms), eval count: %s -10.175601121786357 130.36513328552246\n",
      "parameters:  [-0.00348228 -0.00333822 -0.00332206 -0.02252844  0.01961672 -0.00986107\n",
      " -0.01001625 -0.13310723 -0.09788431  0.00365921  0.00079671  0.02190733\n",
      " -0.11435267  0.13246314  0.13682674  0.01912757 -0.07169054  0.09091561\n",
      "  0.03393616  0.06241302  0.03193617  0.0619765  -0.02599808]\n",
      "Parameters of wavefunction are: \n",
      "%s array([-0.00348228, -0.00333822, -0.00332206, -0.02252844,  0.01961672,\n",
      "       -0.00986107, -0.01001625, -0.13310723])\n",
      "Parameters of orbital rotation are: \n",
      "%s array([-0.09788431,  0.00365921,  0.00079671,  0.02190733, -0.11435267,\n",
      "        0.13246314,  0.13682674,  0.01912757, -0.07169054,  0.09091561,\n",
      "        0.03393616,  0.06241302,  0.03193617,  0.0619765 , -0.02599808])\n",
      "orbital_rotations:  15 \n",
      " [[0, 1], [0, 2], [0, 3], [0, 4], [0, 5], [1, 2], [1, 3], [1, 4], [1, 5], [2, 3], [2, 4], [2, 5], [3, 4], [3, 5], [4, 5]]\n",
      "self._parameters:  15 \n",
      " [-0.09788431  0.00365921  0.00079671  0.02190733 -0.11435267  0.13246314\n",
      "  0.13682674  0.01912757 -0.07169054  0.09091561  0.03393616  0.06241302\n",
      "  0.03193617  0.0619765  -0.02599808]\n",
      "Nature matrix a:  [[ 9.88456405e-01 -1.01693929e-01  2.05887234e-04 -2.87930344e-03\n",
      "   1.94043975e-02 -1.10577646e-01]\n",
      " [ 9.25352003e-02  9.74453758e-01  1.26873616e-01  1.43363792e-01\n",
      "   2.35409204e-02 -6.83582019e-02]\n",
      " [-6.79431350e-03 -1.35091265e-01  9.84639263e-01  7.86180336e-02\n",
      "   3.46078789e-02  6.93628741e-02]\n",
      " [-3.75910677e-03 -1.27501688e-01 -1.01580775e-01  9.84153520e-01\n",
      "   2.96352414e-02  6.30407494e-02]\n",
      " [-2.40954218e-02 -1.44404688e-02 -3.26971963e-02 -3.37207664e-02\n",
      "   9.98159182e-01 -2.61330220e-02]\n",
      " [ 1.17261623e-01  7.33713892e-02 -5.47795926e-02 -5.96866512e-02\n",
      "   2.59150472e-02  9.86727653e-01]]\n",
      "Nature matrix b:  [[ 9.88456405e-01 -1.01693929e-01  2.05887234e-04 -2.87930344e-03\n",
      "   1.94043975e-02 -1.10577646e-01]\n",
      " [ 9.25352003e-02  9.74453758e-01  1.26873616e-01  1.43363792e-01\n",
      "   2.35409204e-02 -6.83582019e-02]\n",
      " [-6.79431350e-03 -1.35091265e-01  9.84639263e-01  7.86180336e-02\n",
      "   3.46078789e-02  6.93628741e-02]\n",
      " [-3.75910677e-03 -1.27501688e-01 -1.01580775e-01  9.84153520e-01\n",
      "   2.96352414e-02  6.30407494e-02]\n",
      " [-2.40954218e-02 -1.44404688e-02 -3.26971963e-02 -3.37207664e-02\n",
      "   9.98159182e-01 -2.61330220e-02]\n",
      " [ 1.17261623e-01  7.33713892e-02 -5.47795926e-02 -5.96866512e-02\n",
      "   2.59150472e-02  9.86727653e-01]]\n",
      "Rotated operator:  SparsePauliOp(['IIIIIIIIIIII', 'IIIIIIIIIIIZ', 'IIIIIIIIIIXY', 'IIIIIIIIIIYY', 'IIIIIIIIIIXX'],\n",
      "              coeffs=[-5.74528259+0.j        ,  1.32456075+0.j        ,  0.        -0.37046508j,\n",
      "  0.18725066+0.j        ,  0.18725066+0.j        ])\n",
      "Energy evaluation returned %s - %.5f (ms), eval count: %s -10.488945385017228 116.91522598266602\n"
     ]
    },
    {
     "name": "stderr",
     "output_type": "stream",
     "text": [
      "The provided alpha-beta overlap matrix is NOT unitary! This can happen when the alpha- and beta-spin orbitals do not span the same space. To provide an example of what this means, consider an active space chosen from unrestricted-spin orbitals. Computing <S^2> within this active space may not result in the same <S^2> value as obtained on the single-reference starting point. More importantly, this implies that the inactive subspace will account for the difference between these two <S^2> values, possibly resulting in significant spin contamination in both subspaces. You should verify whether this is intentional/acceptable or whether your choice of active space can be improved. As a reference, here is the summed-absolute deviation of `S^T @ S` from the identity: 21.1094991911992\n"
     ]
    },
    {
     "name": "stdout",
     "output_type": "stream",
     "text": [
      "orbital_rotations:  15 \n",
      " [[0, 1], [0, 2], [0, 3], [0, 4], [0, 5], [1, 2], [1, 3], [1, 4], [1, 5], [2, 3], [2, 4], [2, 5], [3, 4], [3, 5], [4, 5]]\n",
      "self._parameters:  15 \n",
      " [-0.09787431  0.00365921  0.00079671  0.02190733 -0.11435267  0.13246314\n",
      "  0.13682674  0.01912757 -0.07169054  0.09091561  0.03393616  0.06241302\n",
      "  0.03193617  0.0619765  -0.02599808]\n",
      "orbital_rotations:  15 \n",
      " [[0, 1], [0, 2], [0, 3], [0, 4], [0, 5], [1, 2], [1, 3], [1, 4], [1, 5], [2, 3], [2, 4], [2, 5], [3, 4], [3, 5], [4, 5]]\n",
      "self._parameters:  15 \n",
      " [-0.09789431  0.00365921  0.00079671  0.02190733 -0.11435267  0.13246314\n",
      "  0.13682674  0.01912757 -0.07169054  0.09091561  0.03393616  0.06241302\n",
      "  0.03193617  0.0619765  -0.02599808]\n"
     ]
    },
    {
     "name": "stderr",
     "output_type": "stream",
     "text": [
      "The provided alpha-beta overlap matrix is NOT unitary! This can happen when the alpha- and beta-spin orbitals do not span the same space. To provide an example of what this means, consider an active space chosen from unrestricted-spin orbitals. Computing <S^2> within this active space may not result in the same <S^2> value as obtained on the single-reference starting point. More importantly, this implies that the inactive subspace will account for the difference between these two <S^2> values, possibly resulting in significant spin contamination in both subspaces. You should verify whether this is intentional/acceptable or whether your choice of active space can be improved. As a reference, here is the summed-absolute deviation of `S^T @ S` from the identity: 21.1094991911992\n",
      "The provided alpha-beta overlap matrix is NOT unitary! This can happen when the alpha- and beta-spin orbitals do not span the same space. To provide an example of what this means, consider an active space chosen from unrestricted-spin orbitals. Computing <S^2> within this active space may not result in the same <S^2> value as obtained on the single-reference starting point. More importantly, this implies that the inactive subspace will account for the difference between these two <S^2> values, possibly resulting in significant spin contamination in both subspaces. You should verify whether this is intentional/acceptable or whether your choice of active space can be improved. As a reference, here is the summed-absolute deviation of `S^T @ S` from the identity: 21.1094991911992\n"
     ]
    },
    {
     "name": "stdout",
     "output_type": "stream",
     "text": [
      "orbital_rotations:  15 \n",
      " [[0, 1], [0, 2], [0, 3], [0, 4], [0, 5], [1, 2], [1, 3], [1, 4], [1, 5], [2, 3], [2, 4], [2, 5], [3, 4], [3, 5], [4, 5]]\n",
      "self._parameters:  15 \n",
      " [-0.09788431  0.00366921  0.00079671  0.02190733 -0.11435267  0.13246314\n",
      "  0.13682674  0.01912757 -0.07169054  0.09091561  0.03393616  0.06241302\n",
      "  0.03193617  0.0619765  -0.02599808]\n",
      "orbital_rotations:  15 \n",
      " [[0, 1], [0, 2], [0, 3], [0, 4], [0, 5], [1, 2], [1, 3], [1, 4], [1, 5], [2, 3], [2, 4], [2, 5], [3, 4], [3, 5], [4, 5]]\n",
      "self._parameters:  15 \n",
      " [-0.09788431  0.00364921  0.00079671  0.02190733 -0.11435267  0.13246314\n",
      "  0.13682674  0.01912757 -0.07169054  0.09091561  0.03393616  0.06241302\n",
      "  0.03193617  0.0619765  -0.02599808]\n"
     ]
    },
    {
     "name": "stderr",
     "output_type": "stream",
     "text": [
      "The provided alpha-beta overlap matrix is NOT unitary! This can happen when the alpha- and beta-spin orbitals do not span the same space. To provide an example of what this means, consider an active space chosen from unrestricted-spin orbitals. Computing <S^2> within this active space may not result in the same <S^2> value as obtained on the single-reference starting point. More importantly, this implies that the inactive subspace will account for the difference between these two <S^2> values, possibly resulting in significant spin contamination in both subspaces. You should verify whether this is intentional/acceptable or whether your choice of active space can be improved. As a reference, here is the summed-absolute deviation of `S^T @ S` from the identity: 21.1094991911992\n",
      "The provided alpha-beta overlap matrix is NOT unitary! This can happen when the alpha- and beta-spin orbitals do not span the same space. To provide an example of what this means, consider an active space chosen from unrestricted-spin orbitals. Computing <S^2> within this active space may not result in the same <S^2> value as obtained on the single-reference starting point. More importantly, this implies that the inactive subspace will account for the difference between these two <S^2> values, possibly resulting in significant spin contamination in both subspaces. You should verify whether this is intentional/acceptable or whether your choice of active space can be improved. As a reference, here is the summed-absolute deviation of `S^T @ S` from the identity: 21.1094991911992\n"
     ]
    },
    {
     "name": "stdout",
     "output_type": "stream",
     "text": [
      "orbital_rotations:  15 \n",
      " [[0, 1], [0, 2], [0, 3], [0, 4], [0, 5], [1, 2], [1, 3], [1, 4], [1, 5], [2, 3], [2, 4], [2, 5], [3, 4], [3, 5], [4, 5]]\n",
      "self._parameters:  15 \n",
      " [-0.09788431  0.00365921  0.00080671  0.02190733 -0.11435267  0.13246314\n",
      "  0.13682674  0.01912757 -0.07169054  0.09091561  0.03393616  0.06241302\n",
      "  0.03193617  0.0619765  -0.02599808]\n",
      "orbital_rotations:  15 \n",
      " [[0, 1], [0, 2], [0, 3], [0, 4], [0, 5], [1, 2], [1, 3], [1, 4], [1, 5], [2, 3], [2, 4], [2, 5], [3, 4], [3, 5], [4, 5]]\n",
      "self._parameters:  15 \n",
      " [-0.09788431  0.00365921  0.00078671  0.02190733 -0.11435267  0.13246314\n",
      "  0.13682674  0.01912757 -0.07169054  0.09091561  0.03393616  0.06241302\n",
      "  0.03193617  0.0619765  -0.02599808]\n"
     ]
    },
    {
     "name": "stderr",
     "output_type": "stream",
     "text": [
      "The provided alpha-beta overlap matrix is NOT unitary! This can happen when the alpha- and beta-spin orbitals do not span the same space. To provide an example of what this means, consider an active space chosen from unrestricted-spin orbitals. Computing <S^2> within this active space may not result in the same <S^2> value as obtained on the single-reference starting point. More importantly, this implies that the inactive subspace will account for the difference between these two <S^2> values, possibly resulting in significant spin contamination in both subspaces. You should verify whether this is intentional/acceptable or whether your choice of active space can be improved. As a reference, here is the summed-absolute deviation of `S^T @ S` from the identity: 21.1094991911992\n",
      "The provided alpha-beta overlap matrix is NOT unitary! This can happen when the alpha- and beta-spin orbitals do not span the same space. To provide an example of what this means, consider an active space chosen from unrestricted-spin orbitals. Computing <S^2> within this active space may not result in the same <S^2> value as obtained on the single-reference starting point. More importantly, this implies that the inactive subspace will account for the difference between these two <S^2> values, possibly resulting in significant spin contamination in both subspaces. You should verify whether this is intentional/acceptable or whether your choice of active space can be improved. As a reference, here is the summed-absolute deviation of `S^T @ S` from the identity: 21.1094991911992\n"
     ]
    },
    {
     "name": "stdout",
     "output_type": "stream",
     "text": [
      "orbital_rotations:  15 \n",
      " [[0, 1], [0, 2], [0, 3], [0, 4], [0, 5], [1, 2], [1, 3], [1, 4], [1, 5], [2, 3], [2, 4], [2, 5], [3, 4], [3, 5], [4, 5]]\n",
      "self._parameters:  15 \n",
      " [-0.09788431  0.00365921  0.00079671  0.02191733 -0.11435267  0.13246314\n",
      "  0.13682674  0.01912757 -0.07169054  0.09091561  0.03393616  0.06241302\n",
      "  0.03193617  0.0619765  -0.02599808]\n",
      "orbital_rotations:  15 \n",
      " [[0, 1], [0, 2], [0, 3], [0, 4], [0, 5], [1, 2], [1, 3], [1, 4], [1, 5], [2, 3], [2, 4], [2, 5], [3, 4], [3, 5], [4, 5]]\n",
      "self._parameters:  15 \n",
      " [-0.09788431  0.00365921  0.00079671  0.02189733 -0.11435267  0.13246314\n",
      "  0.13682674  0.01912757 -0.07169054  0.09091561  0.03393616  0.06241302\n",
      "  0.03193617  0.0619765  -0.02599808]\n"
     ]
    },
    {
     "name": "stderr",
     "output_type": "stream",
     "text": [
      "The provided alpha-beta overlap matrix is NOT unitary! This can happen when the alpha- and beta-spin orbitals do not span the same space. To provide an example of what this means, consider an active space chosen from unrestricted-spin orbitals. Computing <S^2> within this active space may not result in the same <S^2> value as obtained on the single-reference starting point. More importantly, this implies that the inactive subspace will account for the difference between these two <S^2> values, possibly resulting in significant spin contamination in both subspaces. You should verify whether this is intentional/acceptable or whether your choice of active space can be improved. As a reference, here is the summed-absolute deviation of `S^T @ S` from the identity: 21.1094991911992\n",
      "The provided alpha-beta overlap matrix is NOT unitary! This can happen when the alpha- and beta-spin orbitals do not span the same space. To provide an example of what this means, consider an active space chosen from unrestricted-spin orbitals. Computing <S^2> within this active space may not result in the same <S^2> value as obtained on the single-reference starting point. More importantly, this implies that the inactive subspace will account for the difference between these two <S^2> values, possibly resulting in significant spin contamination in both subspaces. You should verify whether this is intentional/acceptable or whether your choice of active space can be improved. As a reference, here is the summed-absolute deviation of `S^T @ S` from the identity: 21.1094991911992\n"
     ]
    },
    {
     "name": "stdout",
     "output_type": "stream",
     "text": [
      "orbital_rotations:  15 \n",
      " [[0, 1], [0, 2], [0, 3], [0, 4], [0, 5], [1, 2], [1, 3], [1, 4], [1, 5], [2, 3], [2, 4], [2, 5], [3, 4], [3, 5], [4, 5]]\n",
      "self._parameters:  15 \n",
      " [-0.09788431  0.00365921  0.00079671  0.02190733 -0.11434267  0.13246314\n",
      "  0.13682674  0.01912757 -0.07169054  0.09091561  0.03393616  0.06241302\n",
      "  0.03193617  0.0619765  -0.02599808]\n",
      "orbital_rotations:  15 \n",
      " [[0, 1], [0, 2], [0, 3], [0, 4], [0, 5], [1, 2], [1, 3], [1, 4], [1, 5], [2, 3], [2, 4], [2, 5], [3, 4], [3, 5], [4, 5]]\n",
      "self._parameters:  15 \n",
      " [-0.09788431  0.00365921  0.00079671  0.02190733 -0.11436267  0.13246314\n",
      "  0.13682674  0.01912757 -0.07169054  0.09091561  0.03393616  0.06241302\n",
      "  0.03193617  0.0619765  -0.02599808]\n"
     ]
    },
    {
     "name": "stderr",
     "output_type": "stream",
     "text": [
      "The provided alpha-beta overlap matrix is NOT unitary! This can happen when the alpha- and beta-spin orbitals do not span the same space. To provide an example of what this means, consider an active space chosen from unrestricted-spin orbitals. Computing <S^2> within this active space may not result in the same <S^2> value as obtained on the single-reference starting point. More importantly, this implies that the inactive subspace will account for the difference between these two <S^2> values, possibly resulting in significant spin contamination in both subspaces. You should verify whether this is intentional/acceptable or whether your choice of active space can be improved. As a reference, here is the summed-absolute deviation of `S^T @ S` from the identity: 21.1094991911992\n",
      "The provided alpha-beta overlap matrix is NOT unitary! This can happen when the alpha- and beta-spin orbitals do not span the same space. To provide an example of what this means, consider an active space chosen from unrestricted-spin orbitals. Computing <S^2> within this active space may not result in the same <S^2> value as obtained on the single-reference starting point. More importantly, this implies that the inactive subspace will account for the difference between these two <S^2> values, possibly resulting in significant spin contamination in both subspaces. You should verify whether this is intentional/acceptable or whether your choice of active space can be improved. As a reference, here is the summed-absolute deviation of `S^T @ S` from the identity: 21.1094991911992\n"
     ]
    },
    {
     "name": "stdout",
     "output_type": "stream",
     "text": [
      "orbital_rotations:  15 \n",
      " [[0, 1], [0, 2], [0, 3], [0, 4], [0, 5], [1, 2], [1, 3], [1, 4], [1, 5], [2, 3], [2, 4], [2, 5], [3, 4], [3, 5], [4, 5]]\n",
      "self._parameters:  15 \n",
      " [-0.09788431  0.00365921  0.00079671  0.02190733 -0.11435267  0.13247314\n",
      "  0.13682674  0.01912757 -0.07169054  0.09091561  0.03393616  0.06241302\n",
      "  0.03193617  0.0619765  -0.02599808]\n",
      "orbital_rotations:  15 \n",
      " [[0, 1], [0, 2], [0, 3], [0, 4], [0, 5], [1, 2], [1, 3], [1, 4], [1, 5], [2, 3], [2, 4], [2, 5], [3, 4], [3, 5], [4, 5]]\n",
      "self._parameters:  15 \n",
      " [-0.09788431  0.00365921  0.00079671  0.02190733 -0.11435267  0.13245314\n",
      "  0.13682674  0.01912757 -0.07169054  0.09091561  0.03393616  0.06241302\n",
      "  0.03193617  0.0619765  -0.02599808]\n"
     ]
    },
    {
     "name": "stderr",
     "output_type": "stream",
     "text": [
      "The provided alpha-beta overlap matrix is NOT unitary! This can happen when the alpha- and beta-spin orbitals do not span the same space. To provide an example of what this means, consider an active space chosen from unrestricted-spin orbitals. Computing <S^2> within this active space may not result in the same <S^2> value as obtained on the single-reference starting point. More importantly, this implies that the inactive subspace will account for the difference between these two <S^2> values, possibly resulting in significant spin contamination in both subspaces. You should verify whether this is intentional/acceptable or whether your choice of active space can be improved. As a reference, here is the summed-absolute deviation of `S^T @ S` from the identity: 21.1094991911992\n",
      "The provided alpha-beta overlap matrix is NOT unitary! This can happen when the alpha- and beta-spin orbitals do not span the same space. To provide an example of what this means, consider an active space chosen from unrestricted-spin orbitals. Computing <S^2> within this active space may not result in the same <S^2> value as obtained on the single-reference starting point. More importantly, this implies that the inactive subspace will account for the difference between these two <S^2> values, possibly resulting in significant spin contamination in both subspaces. You should verify whether this is intentional/acceptable or whether your choice of active space can be improved. As a reference, here is the summed-absolute deviation of `S^T @ S` from the identity: 21.1094991911992\n"
     ]
    },
    {
     "name": "stdout",
     "output_type": "stream",
     "text": [
      "orbital_rotations:  15 \n",
      " [[0, 1], [0, 2], [0, 3], [0, 4], [0, 5], [1, 2], [1, 3], [1, 4], [1, 5], [2, 3], [2, 4], [2, 5], [3, 4], [3, 5], [4, 5]]\n",
      "self._parameters:  15 \n",
      " [-0.09788431  0.00365921  0.00079671  0.02190733 -0.11435267  0.13246314\n",
      "  0.13683674  0.01912757 -0.07169054  0.09091561  0.03393616  0.06241302\n",
      "  0.03193617  0.0619765  -0.02599808]\n",
      "orbital_rotations:  15 \n",
      " [[0, 1], [0, 2], [0, 3], [0, 4], [0, 5], [1, 2], [1, 3], [1, 4], [1, 5], [2, 3], [2, 4], [2, 5], [3, 4], [3, 5], [4, 5]]\n",
      "self._parameters:  15 \n",
      " [-0.09788431  0.00365921  0.00079671  0.02190733 -0.11435267  0.13246314\n",
      "  0.13681674  0.01912757 -0.07169054  0.09091561  0.03393616  0.06241302\n",
      "  0.03193617  0.0619765  -0.02599808]\n"
     ]
    },
    {
     "name": "stderr",
     "output_type": "stream",
     "text": [
      "The provided alpha-beta overlap matrix is NOT unitary! This can happen when the alpha- and beta-spin orbitals do not span the same space. To provide an example of what this means, consider an active space chosen from unrestricted-spin orbitals. Computing <S^2> within this active space may not result in the same <S^2> value as obtained on the single-reference starting point. More importantly, this implies that the inactive subspace will account for the difference between these two <S^2> values, possibly resulting in significant spin contamination in both subspaces. You should verify whether this is intentional/acceptable or whether your choice of active space can be improved. As a reference, here is the summed-absolute deviation of `S^T @ S` from the identity: 21.1094991911992\n",
      "The provided alpha-beta overlap matrix is NOT unitary! This can happen when the alpha- and beta-spin orbitals do not span the same space. To provide an example of what this means, consider an active space chosen from unrestricted-spin orbitals. Computing <S^2> within this active space may not result in the same <S^2> value as obtained on the single-reference starting point. More importantly, this implies that the inactive subspace will account for the difference between these two <S^2> values, possibly resulting in significant spin contamination in both subspaces. You should verify whether this is intentional/acceptable or whether your choice of active space can be improved. As a reference, here is the summed-absolute deviation of `S^T @ S` from the identity: 21.1094991911992\n"
     ]
    },
    {
     "name": "stdout",
     "output_type": "stream",
     "text": [
      "orbital_rotations:  15 \n",
      " [[0, 1], [0, 2], [0, 3], [0, 4], [0, 5], [1, 2], [1, 3], [1, 4], [1, 5], [2, 3], [2, 4], [2, 5], [3, 4], [3, 5], [4, 5]]\n",
      "self._parameters:  15 \n",
      " [-0.09788431  0.00365921  0.00079671  0.02190733 -0.11435267  0.13246314\n",
      "  0.13682674  0.01913757 -0.07169054  0.09091561  0.03393616  0.06241302\n",
      "  0.03193617  0.0619765  -0.02599808]\n",
      "orbital_rotations:  15 \n",
      " [[0, 1], [0, 2], [0, 3], [0, 4], [0, 5], [1, 2], [1, 3], [1, 4], [1, 5], [2, 3], [2, 4], [2, 5], [3, 4], [3, 5], [4, 5]]\n",
      "self._parameters:  15 \n",
      " [-0.09788431  0.00365921  0.00079671  0.02190733 -0.11435267  0.13246314\n",
      "  0.13682674  0.01911757 -0.07169054  0.09091561  0.03393616  0.06241302\n",
      "  0.03193617  0.0619765  -0.02599808]\n"
     ]
    },
    {
     "name": "stderr",
     "output_type": "stream",
     "text": [
      "The provided alpha-beta overlap matrix is NOT unitary! This can happen when the alpha- and beta-spin orbitals do not span the same space. To provide an example of what this means, consider an active space chosen from unrestricted-spin orbitals. Computing <S^2> within this active space may not result in the same <S^2> value as obtained on the single-reference starting point. More importantly, this implies that the inactive subspace will account for the difference between these two <S^2> values, possibly resulting in significant spin contamination in both subspaces. You should verify whether this is intentional/acceptable or whether your choice of active space can be improved. As a reference, here is the summed-absolute deviation of `S^T @ S` from the identity: 21.1094991911992\n",
      "The provided alpha-beta overlap matrix is NOT unitary! This can happen when the alpha- and beta-spin orbitals do not span the same space. To provide an example of what this means, consider an active space chosen from unrestricted-spin orbitals. Computing <S^2> within this active space may not result in the same <S^2> value as obtained on the single-reference starting point. More importantly, this implies that the inactive subspace will account for the difference between these two <S^2> values, possibly resulting in significant spin contamination in both subspaces. You should verify whether this is intentional/acceptable or whether your choice of active space can be improved. As a reference, here is the summed-absolute deviation of `S^T @ S` from the identity: 21.1094991911992\n"
     ]
    },
    {
     "name": "stdout",
     "output_type": "stream",
     "text": [
      "orbital_rotations:  15 \n",
      " [[0, 1], [0, 2], [0, 3], [0, 4], [0, 5], [1, 2], [1, 3], [1, 4], [1, 5], [2, 3], [2, 4], [2, 5], [3, 4], [3, 5], [4, 5]]\n",
      "self._parameters:  15 \n",
      " [-0.09788431  0.00365921  0.00079671  0.02190733 -0.11435267  0.13246314\n",
      "  0.13682674  0.01912757 -0.07168054  0.09091561  0.03393616  0.06241302\n",
      "  0.03193617  0.0619765  -0.02599808]\n",
      "orbital_rotations:  15 \n",
      " [[0, 1], [0, 2], [0, 3], [0, 4], [0, 5], [1, 2], [1, 3], [1, 4], [1, 5], [2, 3], [2, 4], [2, 5], [3, 4], [3, 5], [4, 5]]\n",
      "self._parameters:  15 \n",
      " [-0.09788431  0.00365921  0.00079671  0.02190733 -0.11435267  0.13246314\n",
      "  0.13682674  0.01912757 -0.07170054  0.09091561  0.03393616  0.06241302\n",
      "  0.03193617  0.0619765  -0.02599808]\n"
     ]
    },
    {
     "name": "stderr",
     "output_type": "stream",
     "text": [
      "The provided alpha-beta overlap matrix is NOT unitary! This can happen when the alpha- and beta-spin orbitals do not span the same space. To provide an example of what this means, consider an active space chosen from unrestricted-spin orbitals. Computing <S^2> within this active space may not result in the same <S^2> value as obtained on the single-reference starting point. More importantly, this implies that the inactive subspace will account for the difference between these two <S^2> values, possibly resulting in significant spin contamination in both subspaces. You should verify whether this is intentional/acceptable or whether your choice of active space can be improved. As a reference, here is the summed-absolute deviation of `S^T @ S` from the identity: 21.1094991911992\n",
      "The provided alpha-beta overlap matrix is NOT unitary! This can happen when the alpha- and beta-spin orbitals do not span the same space. To provide an example of what this means, consider an active space chosen from unrestricted-spin orbitals. Computing <S^2> within this active space may not result in the same <S^2> value as obtained on the single-reference starting point. More importantly, this implies that the inactive subspace will account for the difference between these two <S^2> values, possibly resulting in significant spin contamination in both subspaces. You should verify whether this is intentional/acceptable or whether your choice of active space can be improved. As a reference, here is the summed-absolute deviation of `S^T @ S` from the identity: 21.1094991911992\n"
     ]
    },
    {
     "name": "stdout",
     "output_type": "stream",
     "text": [
      "orbital_rotations:  15 \n",
      " [[0, 1], [0, 2], [0, 3], [0, 4], [0, 5], [1, 2], [1, 3], [1, 4], [1, 5], [2, 3], [2, 4], [2, 5], [3, 4], [3, 5], [4, 5]]\n",
      "self._parameters:  15 \n",
      " [-0.09788431  0.00365921  0.00079671  0.02190733 -0.11435267  0.13246314\n",
      "  0.13682674  0.01912757 -0.07169054  0.09092561  0.03393616  0.06241302\n",
      "  0.03193617  0.0619765  -0.02599808]\n",
      "orbital_rotations:  15 \n",
      " [[0, 1], [0, 2], [0, 3], [0, 4], [0, 5], [1, 2], [1, 3], [1, 4], [1, 5], [2, 3], [2, 4], [2, 5], [3, 4], [3, 5], [4, 5]]\n",
      "self._parameters:  15 \n",
      " [-0.09788431  0.00365921  0.00079671  0.02190733 -0.11435267  0.13246314\n",
      "  0.13682674  0.01912757 -0.07169054  0.09090561  0.03393616  0.06241302\n",
      "  0.03193617  0.0619765  -0.02599808]\n"
     ]
    },
    {
     "name": "stderr",
     "output_type": "stream",
     "text": [
      "The provided alpha-beta overlap matrix is NOT unitary! This can happen when the alpha- and beta-spin orbitals do not span the same space. To provide an example of what this means, consider an active space chosen from unrestricted-spin orbitals. Computing <S^2> within this active space may not result in the same <S^2> value as obtained on the single-reference starting point. More importantly, this implies that the inactive subspace will account for the difference between these two <S^2> values, possibly resulting in significant spin contamination in both subspaces. You should verify whether this is intentional/acceptable or whether your choice of active space can be improved. As a reference, here is the summed-absolute deviation of `S^T @ S` from the identity: 21.1094991911992\n",
      "The provided alpha-beta overlap matrix is NOT unitary! This can happen when the alpha- and beta-spin orbitals do not span the same space. To provide an example of what this means, consider an active space chosen from unrestricted-spin orbitals. Computing <S^2> within this active space may not result in the same <S^2> value as obtained on the single-reference starting point. More importantly, this implies that the inactive subspace will account for the difference between these two <S^2> values, possibly resulting in significant spin contamination in both subspaces. You should verify whether this is intentional/acceptable or whether your choice of active space can be improved. As a reference, here is the summed-absolute deviation of `S^T @ S` from the identity: 21.1094991911992\n"
     ]
    },
    {
     "name": "stdout",
     "output_type": "stream",
     "text": [
      "orbital_rotations:  15 \n",
      " [[0, 1], [0, 2], [0, 3], [0, 4], [0, 5], [1, 2], [1, 3], [1, 4], [1, 5], [2, 3], [2, 4], [2, 5], [3, 4], [3, 5], [4, 5]]\n",
      "self._parameters:  15 \n",
      " [-0.09788431  0.00365921  0.00079671  0.02190733 -0.11435267  0.13246314\n",
      "  0.13682674  0.01912757 -0.07169054  0.09091561  0.03394616  0.06241302\n",
      "  0.03193617  0.0619765  -0.02599808]\n",
      "orbital_rotations:  15 \n",
      " [[0, 1], [0, 2], [0, 3], [0, 4], [0, 5], [1, 2], [1, 3], [1, 4], [1, 5], [2, 3], [2, 4], [2, 5], [3, 4], [3, 5], [4, 5]]\n",
      "self._parameters:  15 \n",
      " [-0.09788431  0.00365921  0.00079671  0.02190733 -0.11435267  0.13246314\n",
      "  0.13682674  0.01912757 -0.07169054  0.09091561  0.03392616  0.06241302\n",
      "  0.03193617  0.0619765  -0.02599808]\n"
     ]
    },
    {
     "name": "stderr",
     "output_type": "stream",
     "text": [
      "The provided alpha-beta overlap matrix is NOT unitary! This can happen when the alpha- and beta-spin orbitals do not span the same space. To provide an example of what this means, consider an active space chosen from unrestricted-spin orbitals. Computing <S^2> within this active space may not result in the same <S^2> value as obtained on the single-reference starting point. More importantly, this implies that the inactive subspace will account for the difference between these two <S^2> values, possibly resulting in significant spin contamination in both subspaces. You should verify whether this is intentional/acceptable or whether your choice of active space can be improved. As a reference, here is the summed-absolute deviation of `S^T @ S` from the identity: 21.1094991911992\n",
      "The provided alpha-beta overlap matrix is NOT unitary! This can happen when the alpha- and beta-spin orbitals do not span the same space. To provide an example of what this means, consider an active space chosen from unrestricted-spin orbitals. Computing <S^2> within this active space may not result in the same <S^2> value as obtained on the single-reference starting point. More importantly, this implies that the inactive subspace will account for the difference between these two <S^2> values, possibly resulting in significant spin contamination in both subspaces. You should verify whether this is intentional/acceptable or whether your choice of active space can be improved. As a reference, here is the summed-absolute deviation of `S^T @ S` from the identity: 21.1094991911992\n"
     ]
    },
    {
     "name": "stdout",
     "output_type": "stream",
     "text": [
      "orbital_rotations:  15 \n",
      " [[0, 1], [0, 2], [0, 3], [0, 4], [0, 5], [1, 2], [1, 3], [1, 4], [1, 5], [2, 3], [2, 4], [2, 5], [3, 4], [3, 5], [4, 5]]\n",
      "self._parameters:  15 \n",
      " [-0.09788431  0.00365921  0.00079671  0.02190733 -0.11435267  0.13246314\n",
      "  0.13682674  0.01912757 -0.07169054  0.09091561  0.03393616  0.06242302\n",
      "  0.03193617  0.0619765  -0.02599808]\n",
      "orbital_rotations:  15 \n",
      " [[0, 1], [0, 2], [0, 3], [0, 4], [0, 5], [1, 2], [1, 3], [1, 4], [1, 5], [2, 3], [2, 4], [2, 5], [3, 4], [3, 5], [4, 5]]\n",
      "self._parameters:  15 \n",
      " [-0.09788431  0.00365921  0.00079671  0.02190733 -0.11435267  0.13246314\n",
      "  0.13682674  0.01912757 -0.07169054  0.09091561  0.03393616  0.06240302\n",
      "  0.03193617  0.0619765  -0.02599808]\n"
     ]
    },
    {
     "name": "stderr",
     "output_type": "stream",
     "text": [
      "The provided alpha-beta overlap matrix is NOT unitary! This can happen when the alpha- and beta-spin orbitals do not span the same space. To provide an example of what this means, consider an active space chosen from unrestricted-spin orbitals. Computing <S^2> within this active space may not result in the same <S^2> value as obtained on the single-reference starting point. More importantly, this implies that the inactive subspace will account for the difference between these two <S^2> values, possibly resulting in significant spin contamination in both subspaces. You should verify whether this is intentional/acceptable or whether your choice of active space can be improved. As a reference, here is the summed-absolute deviation of `S^T @ S` from the identity: 21.1094991911992\n",
      "The provided alpha-beta overlap matrix is NOT unitary! This can happen when the alpha- and beta-spin orbitals do not span the same space. To provide an example of what this means, consider an active space chosen from unrestricted-spin orbitals. Computing <S^2> within this active space may not result in the same <S^2> value as obtained on the single-reference starting point. More importantly, this implies that the inactive subspace will account for the difference between these two <S^2> values, possibly resulting in significant spin contamination in both subspaces. You should verify whether this is intentional/acceptable or whether your choice of active space can be improved. As a reference, here is the summed-absolute deviation of `S^T @ S` from the identity: 21.1094991911992\n"
     ]
    },
    {
     "name": "stdout",
     "output_type": "stream",
     "text": [
      "orbital_rotations:  15 \n",
      " [[0, 1], [0, 2], [0, 3], [0, 4], [0, 5], [1, 2], [1, 3], [1, 4], [1, 5], [2, 3], [2, 4], [2, 5], [3, 4], [3, 5], [4, 5]]\n",
      "self._parameters:  15 \n",
      " [-0.09788431  0.00365921  0.00079671  0.02190733 -0.11435267  0.13246314\n",
      "  0.13682674  0.01912757 -0.07169054  0.09091561  0.03393616  0.06241302\n",
      "  0.03194617  0.0619765  -0.02599808]\n",
      "orbital_rotations:  15 \n",
      " [[0, 1], [0, 2], [0, 3], [0, 4], [0, 5], [1, 2], [1, 3], [1, 4], [1, 5], [2, 3], [2, 4], [2, 5], [3, 4], [3, 5], [4, 5]]\n",
      "self._parameters:  15 \n",
      " [-0.09788431  0.00365921  0.00079671  0.02190733 -0.11435267  0.13246314\n",
      "  0.13682674  0.01912757 -0.07169054  0.09091561  0.03393616  0.06241302\n",
      "  0.03192617  0.0619765  -0.02599808]\n"
     ]
    },
    {
     "name": "stderr",
     "output_type": "stream",
     "text": [
      "The provided alpha-beta overlap matrix is NOT unitary! This can happen when the alpha- and beta-spin orbitals do not span the same space. To provide an example of what this means, consider an active space chosen from unrestricted-spin orbitals. Computing <S^2> within this active space may not result in the same <S^2> value as obtained on the single-reference starting point. More importantly, this implies that the inactive subspace will account for the difference between these two <S^2> values, possibly resulting in significant spin contamination in both subspaces. You should verify whether this is intentional/acceptable or whether your choice of active space can be improved. As a reference, here is the summed-absolute deviation of `S^T @ S` from the identity: 21.1094991911992\n",
      "The provided alpha-beta overlap matrix is NOT unitary! This can happen when the alpha- and beta-spin orbitals do not span the same space. To provide an example of what this means, consider an active space chosen from unrestricted-spin orbitals. Computing <S^2> within this active space may not result in the same <S^2> value as obtained on the single-reference starting point. More importantly, this implies that the inactive subspace will account for the difference between these two <S^2> values, possibly resulting in significant spin contamination in both subspaces. You should verify whether this is intentional/acceptable or whether your choice of active space can be improved. As a reference, here is the summed-absolute deviation of `S^T @ S` from the identity: 21.1094991911992\n"
     ]
    },
    {
     "name": "stdout",
     "output_type": "stream",
     "text": [
      "orbital_rotations:  15 \n",
      " [[0, 1], [0, 2], [0, 3], [0, 4], [0, 5], [1, 2], [1, 3], [1, 4], [1, 5], [2, 3], [2, 4], [2, 5], [3, 4], [3, 5], [4, 5]]\n",
      "self._parameters:  15 \n",
      " [-0.09788431  0.00365921  0.00079671  0.02190733 -0.11435267  0.13246314\n",
      "  0.13682674  0.01912757 -0.07169054  0.09091561  0.03393616  0.06241302\n",
      "  0.03193617  0.0619865  -0.02599808]\n",
      "orbital_rotations:  15 \n",
      " [[0, 1], [0, 2], [0, 3], [0, 4], [0, 5], [1, 2], [1, 3], [1, 4], [1, 5], [2, 3], [2, 4], [2, 5], [3, 4], [3, 5], [4, 5]]\n",
      "self._parameters:  15 \n",
      " [-0.09788431  0.00365921  0.00079671  0.02190733 -0.11435267  0.13246314\n",
      "  0.13682674  0.01912757 -0.07169054  0.09091561  0.03393616  0.06241302\n",
      "  0.03193617  0.0619665  -0.02599808]\n"
     ]
    },
    {
     "name": "stderr",
     "output_type": "stream",
     "text": [
      "The provided alpha-beta overlap matrix is NOT unitary! This can happen when the alpha- and beta-spin orbitals do not span the same space. To provide an example of what this means, consider an active space chosen from unrestricted-spin orbitals. Computing <S^2> within this active space may not result in the same <S^2> value as obtained on the single-reference starting point. More importantly, this implies that the inactive subspace will account for the difference between these two <S^2> values, possibly resulting in significant spin contamination in both subspaces. You should verify whether this is intentional/acceptable or whether your choice of active space can be improved. As a reference, here is the summed-absolute deviation of `S^T @ S` from the identity: 21.1094991911992\n",
      "The provided alpha-beta overlap matrix is NOT unitary! This can happen when the alpha- and beta-spin orbitals do not span the same space. To provide an example of what this means, consider an active space chosen from unrestricted-spin orbitals. Computing <S^2> within this active space may not result in the same <S^2> value as obtained on the single-reference starting point. More importantly, this implies that the inactive subspace will account for the difference between these two <S^2> values, possibly resulting in significant spin contamination in both subspaces. You should verify whether this is intentional/acceptable or whether your choice of active space can be improved. As a reference, here is the summed-absolute deviation of `S^T @ S` from the identity: 21.1094991911992\n"
     ]
    },
    {
     "name": "stdout",
     "output_type": "stream",
     "text": [
      "orbital_rotations:  15 \n",
      " [[0, 1], [0, 2], [0, 3], [0, 4], [0, 5], [1, 2], [1, 3], [1, 4], [1, 5], [2, 3], [2, 4], [2, 5], [3, 4], [3, 5], [4, 5]]\n",
      "self._parameters:  15 \n",
      " [-0.09788431  0.00365921  0.00079671  0.02190733 -0.11435267  0.13246314\n",
      "  0.13682674  0.01912757 -0.07169054  0.09091561  0.03393616  0.06241302\n",
      "  0.03193617  0.0619765  -0.02598808]\n",
      "orbital_rotations:  15 \n",
      " [[0, 1], [0, 2], [0, 3], [0, 4], [0, 5], [1, 2], [1, 3], [1, 4], [1, 5], [2, 3], [2, 4], [2, 5], [3, 4], [3, 5], [4, 5]]\n",
      "self._parameters:  15 \n",
      " [-0.09788431  0.00365921  0.00079671  0.02190733 -0.11435267  0.13246314\n",
      "  0.13682674  0.01912757 -0.07169054  0.09091561  0.03393616  0.06241302\n",
      "  0.03193617  0.0619765  -0.02600808]\n"
     ]
    },
    {
     "name": "stderr",
     "output_type": "stream",
     "text": [
      "The provided alpha-beta overlap matrix is NOT unitary! This can happen when the alpha- and beta-spin orbitals do not span the same space. To provide an example of what this means, consider an active space chosen from unrestricted-spin orbitals. Computing <S^2> within this active space may not result in the same <S^2> value as obtained on the single-reference starting point. More importantly, this implies that the inactive subspace will account for the difference between these two <S^2> values, possibly resulting in significant spin contamination in both subspaces. You should verify whether this is intentional/acceptable or whether your choice of active space can be improved. As a reference, here is the summed-absolute deviation of `S^T @ S` from the identity: 21.1094991911992\n",
      "The provided alpha-beta overlap matrix is NOT unitary! This can happen when the alpha- and beta-spin orbitals do not span the same space. To provide an example of what this means, consider an active space chosen from unrestricted-spin orbitals. Computing <S^2> within this active space may not result in the same <S^2> value as obtained on the single-reference starting point. More importantly, this implies that the inactive subspace will account for the difference between these two <S^2> values, possibly resulting in significant spin contamination in both subspaces. You should verify whether this is intentional/acceptable or whether your choice of active space can be improved. As a reference, here is the summed-absolute deviation of `S^T @ S` from the identity: 21.1094991911992\n"
     ]
    },
    {
     "name": "stdout",
     "output_type": "stream",
     "text": [
      "parameters:  [ 1.19042583e-02  8.52465230e-03  8.58179946e-03 -3.53433820e-03\n",
      " -5.34857429e-02 -1.37738887e-01 -1.37736690e-01 -4.77558990e-02\n",
      " -1.20127084e-01 -1.55840355e-02  5.52219097e-02  1.70621794e-02\n",
      " -9.27418131e-02  1.18066056e-01  1.25229976e-01 -3.58121120e-05\n",
      " -2.84612702e-02  8.78411175e-02  4.39250802e-02  5.95496243e-02\n",
      "  4.77342852e-02  4.85257949e-02 -3.67670027e-02]\n",
      "Parameters of wavefunction are: \n",
      "%s array([ 0.01190426,  0.00852465,  0.0085818 , -0.00353434, -0.05348574,\n",
      "       -0.13773889, -0.13773669, -0.0477559 ])\n",
      "Parameters of orbital rotation are: \n",
      "%s array([-1.20127084e-01, -1.55840355e-02,  5.52219097e-02,  1.70621794e-02,\n",
      "       -9.27418131e-02,  1.18066056e-01,  1.25229976e-01, -3.58121120e-05,\n",
      "       -2.84612702e-02,  8.78411175e-02,  4.39250802e-02,  5.95496243e-02,\n",
      "        4.77342852e-02,  4.85257949e-02, -3.67670027e-02])\n",
      "orbital_rotations:  15 \n",
      " [[0, 1], [0, 2], [0, 3], [0, 4], [0, 5], [1, 2], [1, 3], [1, 4], [1, 5], [2, 3], [2, 4], [2, 5], [3, 4], [3, 5], [4, 5]]\n",
      "self._parameters:  15 \n",
      " [-1.20127084e-01 -1.55840355e-02  5.52219097e-02  1.70621794e-02\n",
      " -9.27418131e-02  1.18066056e-01  1.25229976e-01 -3.58121120e-05\n",
      " -2.84612702e-02  8.78411175e-02  4.39250802e-02  5.95496243e-02\n",
      "  4.77342852e-02  4.85257949e-02 -3.67670027e-02]\n",
      "Nature matrix a:  [[ 0.98674058 -0.12286742 -0.02259912  0.04825708  0.0160776  -0.09027   ]\n",
      " [ 0.11519191  0.97768039  0.11126871  0.13309734  0.00607149 -0.0271918 ]\n",
      " [ 0.00843084 -0.12238984  0.98637535  0.0775774   0.04687678  0.06162498]\n",
      " [-0.06091089 -0.11480298 -0.09639973  0.98453564  0.0458271   0.04905784]\n",
      " [-0.01754152  0.00603381 -0.04024867 -0.04882064  0.9970849  -0.03839503]\n",
      " [ 0.09478889  0.02914197 -0.05709085 -0.04737309  0.03505414  0.99168213]]\n",
      "Nature matrix b:  [[ 0.98674058 -0.12286742 -0.02259912  0.04825708  0.0160776  -0.09027   ]\n",
      " [ 0.11519191  0.97768039  0.11126871  0.13309734  0.00607149 -0.0271918 ]\n",
      " [ 0.00843084 -0.12238984  0.98637535  0.0775774   0.04687678  0.06162498]\n",
      " [-0.06091089 -0.11480298 -0.09639973  0.98453564  0.0458271   0.04905784]\n",
      " [-0.01754152  0.00603381 -0.04024867 -0.04882064  0.9970849  -0.03839503]\n",
      " [ 0.09478889  0.02914197 -0.05709085 -0.04737309  0.03505414  0.99168213]]\n"
     ]
    },
    {
     "name": "stderr",
     "output_type": "stream",
     "text": [
      "The provided alpha-beta overlap matrix is NOT unitary! This can happen when the alpha- and beta-spin orbitals do not span the same space. To provide an example of what this means, consider an active space chosen from unrestricted-spin orbitals. Computing <S^2> within this active space may not result in the same <S^2> value as obtained on the single-reference starting point. More importantly, this implies that the inactive subspace will account for the difference between these two <S^2> values, possibly resulting in significant spin contamination in both subspaces. You should verify whether this is intentional/acceptable or whether your choice of active space can be improved. As a reference, here is the summed-absolute deviation of `S^T @ S` from the identity: 21.1094991911992\n"
     ]
    },
    {
     "name": "stdout",
     "output_type": "stream",
     "text": [
      "Rotated operator:  SparsePauliOp(['IIIIIIIIIIII', 'IIIIIIIIIIIZ', 'IIIIIIIIIIXY', 'IIIIIIIIIIYY', 'IIIIIIIIIIXX'],\n",
      "              coeffs=[-5.7689449 +0.j        ,  1.30221532+0.j        ,  0.        -0.37285057j,\n",
      "  0.18761629+0.j        ,  0.18761629+0.j        ])\n",
      "Energy evaluation returned %s - %.5f (ms), eval count: %s -10.401059560915119 134.1869831085205\n",
      "parameters:  [-0.00066813 -0.00116854 -0.00114488 -0.01905449  0.00624653 -0.03324949\n",
      " -0.03337589 -0.11749676 -0.10195244  0.00013969  0.0107509   0.02102117\n",
      " -0.11040012  0.12982996  0.13470573  0.01562265 -0.06378405  0.0903533\n",
      "  0.0357631   0.06188931  0.03482559  0.05951641 -0.02796768]\n",
      "Parameters of wavefunction are: \n",
      "%s array([-0.00066813, -0.00116854, -0.00114488, -0.01905449,  0.00624653,\n",
      "       -0.03324949, -0.03337589, -0.11749676])\n",
      "Parameters of orbital rotation are: \n",
      "%s array([-0.10195244,  0.00013969,  0.0107509 ,  0.02102117, -0.11040012,\n",
      "        0.12982996,  0.13470573,  0.01562265, -0.06378405,  0.0903533 ,\n",
      "        0.0357631 ,  0.06188931,  0.03482559,  0.05951641, -0.02796768])\n",
      "orbital_rotations:  15 \n",
      " [[0, 1], [0, 2], [0, 3], [0, 4], [0, 5], [1, 2], [1, 3], [1, 4], [1, 5], [2, 3], [2, 4], [2, 5], [3, 4], [3, 5], [4, 5]]\n",
      "self._parameters:  15 \n",
      " [-0.10195244  0.00013969  0.0107509   0.02102117 -0.11040012  0.12982996\n",
      "  0.13470573  0.01562265 -0.06378405  0.0903533   0.0357631   0.06188931\n",
      "  0.03482559  0.05951641 -0.02796768]\n",
      "Nature matrix a:  [[ 0.98846343 -0.10552211 -0.00400696  0.00642987  0.01870481 -0.10676076]\n",
      " [ 0.09673342  0.97527052  0.12405025  0.14134191  0.0203468  -0.06091023]\n",
      " [-0.00405707 -0.13277717  0.98500719  0.07839387  0.0368822   0.06788747]\n",
      " [-0.01427019 -0.12535113 -0.10070274  0.98448574  0.03260317  0.06055799]\n",
      " [-0.02300312 -0.01070095 -0.03404191 -0.0364788   0.99802635 -0.02846381]\n",
      " [ 0.11328481  0.06523261 -0.05528499 -0.05738154  0.02750039  0.98782889]]\n",
      "Nature matrix b:  [[ 0.98846343 -0.10552211 -0.00400696  0.00642987  0.01870481 -0.10676076]\n",
      " [ 0.09673342  0.97527052  0.12405025  0.14134191  0.0203468  -0.06091023]\n",
      " [-0.00405707 -0.13277717  0.98500719  0.07839387  0.0368822   0.06788747]\n",
      " [-0.01427019 -0.12535113 -0.10070274  0.98448574  0.03260317  0.06055799]\n",
      " [-0.02300312 -0.01070095 -0.03404191 -0.0364788   0.99802635 -0.02846381]\n",
      " [ 0.11328481  0.06523261 -0.05528499 -0.05738154  0.02750039  0.98782889]]\n",
      "Rotated operator:  SparsePauliOp(['IIIIIIIIIIII', 'IIIIIIIIIIIZ', 'IIIIIIIIIIXY', 'IIIIIIIIIIYY', 'IIIIIIIIIIXX'],\n",
      "              coeffs=[-5.76114736+0.j        ,  1.32463259+0.j        ,  0.        -0.37150179j,\n",
      "  0.18781658+0.j        ,  0.18781658+0.j        ])\n",
      "Energy evaluation returned %s - %.5f (ms), eval count: %s -10.49499981841671 128.96299362182617\n"
     ]
    },
    {
     "name": "stderr",
     "output_type": "stream",
     "text": [
      "The provided alpha-beta overlap matrix is NOT unitary! This can happen when the alpha- and beta-spin orbitals do not span the same space. To provide an example of what this means, consider an active space chosen from unrestricted-spin orbitals. Computing <S^2> within this active space may not result in the same <S^2> value as obtained on the single-reference starting point. More importantly, this implies that the inactive subspace will account for the difference between these two <S^2> values, possibly resulting in significant spin contamination in both subspaces. You should verify whether this is intentional/acceptable or whether your choice of active space can be improved. As a reference, here is the summed-absolute deviation of `S^T @ S` from the identity: 21.1094991911992\n"
     ]
    },
    {
     "name": "stdout",
     "output_type": "stream",
     "text": [
      "orbital_rotations:  15 \n",
      " [[0, 1], [0, 2], [0, 3], [0, 4], [0, 5], [1, 2], [1, 3], [1, 4], [1, 5], [2, 3], [2, 4], [2, 5], [3, 4], [3, 5], [4, 5]]\n",
      "self._parameters:  15 \n",
      " [-0.10194244  0.00013969  0.0107509   0.02102117 -0.11040012  0.12982996\n",
      "  0.13470573  0.01562265 -0.06378405  0.0903533   0.0357631   0.06188931\n",
      "  0.03482559  0.05951641 -0.02796768]\n",
      "orbital_rotations:  15 \n",
      " [[0, 1], [0, 2], [0, 3], [0, 4], [0, 5], [1, 2], [1, 3], [1, 4], [1, 5], [2, 3], [2, 4], [2, 5], [3, 4], [3, 5], [4, 5]]\n",
      "self._parameters:  15 \n",
      " [-0.10196244  0.00013969  0.0107509   0.02102117 -0.11040012  0.12982996\n",
      "  0.13470573  0.01562265 -0.06378405  0.0903533   0.0357631   0.06188931\n",
      "  0.03482559  0.05951641 -0.02796768]\n"
     ]
    },
    {
     "name": "stderr",
     "output_type": "stream",
     "text": [
      "The provided alpha-beta overlap matrix is NOT unitary! This can happen when the alpha- and beta-spin orbitals do not span the same space. To provide an example of what this means, consider an active space chosen from unrestricted-spin orbitals. Computing <S^2> within this active space may not result in the same <S^2> value as obtained on the single-reference starting point. More importantly, this implies that the inactive subspace will account for the difference between these two <S^2> values, possibly resulting in significant spin contamination in both subspaces. You should verify whether this is intentional/acceptable or whether your choice of active space can be improved. As a reference, here is the summed-absolute deviation of `S^T @ S` from the identity: 21.1094991911992\n",
      "The provided alpha-beta overlap matrix is NOT unitary! This can happen when the alpha- and beta-spin orbitals do not span the same space. To provide an example of what this means, consider an active space chosen from unrestricted-spin orbitals. Computing <S^2> within this active space may not result in the same <S^2> value as obtained on the single-reference starting point. More importantly, this implies that the inactive subspace will account for the difference between these two <S^2> values, possibly resulting in significant spin contamination in both subspaces. You should verify whether this is intentional/acceptable or whether your choice of active space can be improved. As a reference, here is the summed-absolute deviation of `S^T @ S` from the identity: 21.1094991911992\n"
     ]
    },
    {
     "name": "stdout",
     "output_type": "stream",
     "text": [
      "orbital_rotations:  15 \n",
      " [[0, 1], [0, 2], [0, 3], [0, 4], [0, 5], [1, 2], [1, 3], [1, 4], [1, 5], [2, 3], [2, 4], [2, 5], [3, 4], [3, 5], [4, 5]]\n",
      "self._parameters:  15 \n",
      " [-0.10195244  0.00014969  0.0107509   0.02102117 -0.11040012  0.12982996\n",
      "  0.13470573  0.01562265 -0.06378405  0.0903533   0.0357631   0.06188931\n",
      "  0.03482559  0.05951641 -0.02796768]\n",
      "orbital_rotations:  15 \n",
      " [[0, 1], [0, 2], [0, 3], [0, 4], [0, 5], [1, 2], [1, 3], [1, 4], [1, 5], [2, 3], [2, 4], [2, 5], [3, 4], [3, 5], [4, 5]]\n",
      "self._parameters:  15 \n",
      " [-1.01952436e-01  1.29687989e-04  1.07508990e-02  2.10211681e-02\n",
      " -1.10400120e-01  1.29829961e-01  1.34705727e-01  1.56226517e-02\n",
      " -6.37840542e-02  9.03532991e-02  3.57631017e-02  6.18893122e-02\n",
      "  3.48255915e-02  5.95164086e-02 -2.79676808e-02]\n"
     ]
    },
    {
     "name": "stderr",
     "output_type": "stream",
     "text": [
      "The provided alpha-beta overlap matrix is NOT unitary! This can happen when the alpha- and beta-spin orbitals do not span the same space. To provide an example of what this means, consider an active space chosen from unrestricted-spin orbitals. Computing <S^2> within this active space may not result in the same <S^2> value as obtained on the single-reference starting point. More importantly, this implies that the inactive subspace will account for the difference between these two <S^2> values, possibly resulting in significant spin contamination in both subspaces. You should verify whether this is intentional/acceptable or whether your choice of active space can be improved. As a reference, here is the summed-absolute deviation of `S^T @ S` from the identity: 21.1094991911992\n",
      "The provided alpha-beta overlap matrix is NOT unitary! This can happen when the alpha- and beta-spin orbitals do not span the same space. To provide an example of what this means, consider an active space chosen from unrestricted-spin orbitals. Computing <S^2> within this active space may not result in the same <S^2> value as obtained on the single-reference starting point. More importantly, this implies that the inactive subspace will account for the difference between these two <S^2> values, possibly resulting in significant spin contamination in both subspaces. You should verify whether this is intentional/acceptable or whether your choice of active space can be improved. As a reference, here is the summed-absolute deviation of `S^T @ S` from the identity: 21.1094991911992\n"
     ]
    },
    {
     "name": "stdout",
     "output_type": "stream",
     "text": [
      "orbital_rotations:  15 \n",
      " [[0, 1], [0, 2], [0, 3], [0, 4], [0, 5], [1, 2], [1, 3], [1, 4], [1, 5], [2, 3], [2, 4], [2, 5], [3, 4], [3, 5], [4, 5]]\n",
      "self._parameters:  15 \n",
      " [-0.10195244  0.00013969  0.0107609   0.02102117 -0.11040012  0.12982996\n",
      "  0.13470573  0.01562265 -0.06378405  0.0903533   0.0357631   0.06188931\n",
      "  0.03482559  0.05951641 -0.02796768]\n",
      "orbital_rotations:  15 \n",
      " [[0, 1], [0, 2], [0, 3], [0, 4], [0, 5], [1, 2], [1, 3], [1, 4], [1, 5], [2, 3], [2, 4], [2, 5], [3, 4], [3, 5], [4, 5]]\n",
      "self._parameters:  15 \n",
      " [-0.10195244  0.00013969  0.0107409   0.02102117 -0.11040012  0.12982996\n",
      "  0.13470573  0.01562265 -0.06378405  0.0903533   0.0357631   0.06188931\n",
      "  0.03482559  0.05951641 -0.02796768]\n"
     ]
    },
    {
     "name": "stderr",
     "output_type": "stream",
     "text": [
      "The provided alpha-beta overlap matrix is NOT unitary! This can happen when the alpha- and beta-spin orbitals do not span the same space. To provide an example of what this means, consider an active space chosen from unrestricted-spin orbitals. Computing <S^2> within this active space may not result in the same <S^2> value as obtained on the single-reference starting point. More importantly, this implies that the inactive subspace will account for the difference between these two <S^2> values, possibly resulting in significant spin contamination in both subspaces. You should verify whether this is intentional/acceptable or whether your choice of active space can be improved. As a reference, here is the summed-absolute deviation of `S^T @ S` from the identity: 21.1094991911992\n",
      "The provided alpha-beta overlap matrix is NOT unitary! This can happen when the alpha- and beta-spin orbitals do not span the same space. To provide an example of what this means, consider an active space chosen from unrestricted-spin orbitals. Computing <S^2> within this active space may not result in the same <S^2> value as obtained on the single-reference starting point. More importantly, this implies that the inactive subspace will account for the difference between these two <S^2> values, possibly resulting in significant spin contamination in both subspaces. You should verify whether this is intentional/acceptable or whether your choice of active space can be improved. As a reference, here is the summed-absolute deviation of `S^T @ S` from the identity: 21.1094991911992\n"
     ]
    },
    {
     "name": "stdout",
     "output_type": "stream",
     "text": [
      "orbital_rotations:  15 \n",
      " [[0, 1], [0, 2], [0, 3], [0, 4], [0, 5], [1, 2], [1, 3], [1, 4], [1, 5], [2, 3], [2, 4], [2, 5], [3, 4], [3, 5], [4, 5]]\n",
      "self._parameters:  15 \n",
      " [-0.10195244  0.00013969  0.0107509   0.02103117 -0.11040012  0.12982996\n",
      "  0.13470573  0.01562265 -0.06378405  0.0903533   0.0357631   0.06188931\n",
      "  0.03482559  0.05951641 -0.02796768]\n",
      "orbital_rotations:  15 \n",
      " [[0, 1], [0, 2], [0, 3], [0, 4], [0, 5], [1, 2], [1, 3], [1, 4], [1, 5], [2, 3], [2, 4], [2, 5], [3, 4], [3, 5], [4, 5]]\n",
      "self._parameters:  15 \n",
      " [-0.10195244  0.00013969  0.0107509   0.02101117 -0.11040012  0.12982996\n",
      "  0.13470573  0.01562265 -0.06378405  0.0903533   0.0357631   0.06188931\n",
      "  0.03482559  0.05951641 -0.02796768]\n"
     ]
    },
    {
     "name": "stderr",
     "output_type": "stream",
     "text": [
      "The provided alpha-beta overlap matrix is NOT unitary! This can happen when the alpha- and beta-spin orbitals do not span the same space. To provide an example of what this means, consider an active space chosen from unrestricted-spin orbitals. Computing <S^2> within this active space may not result in the same <S^2> value as obtained on the single-reference starting point. More importantly, this implies that the inactive subspace will account for the difference between these two <S^2> values, possibly resulting in significant spin contamination in both subspaces. You should verify whether this is intentional/acceptable or whether your choice of active space can be improved. As a reference, here is the summed-absolute deviation of `S^T @ S` from the identity: 21.1094991911992\n",
      "The provided alpha-beta overlap matrix is NOT unitary! This can happen when the alpha- and beta-spin orbitals do not span the same space. To provide an example of what this means, consider an active space chosen from unrestricted-spin orbitals. Computing <S^2> within this active space may not result in the same <S^2> value as obtained on the single-reference starting point. More importantly, this implies that the inactive subspace will account for the difference between these two <S^2> values, possibly resulting in significant spin contamination in both subspaces. You should verify whether this is intentional/acceptable or whether your choice of active space can be improved. As a reference, here is the summed-absolute deviation of `S^T @ S` from the identity: 21.1094991911992\n"
     ]
    },
    {
     "name": "stdout",
     "output_type": "stream",
     "text": [
      "orbital_rotations:  15 \n",
      " [[0, 1], [0, 2], [0, 3], [0, 4], [0, 5], [1, 2], [1, 3], [1, 4], [1, 5], [2, 3], [2, 4], [2, 5], [3, 4], [3, 5], [4, 5]]\n",
      "self._parameters:  15 \n",
      " [-0.10195244  0.00013969  0.0107509   0.02102117 -0.11039012  0.12982996\n",
      "  0.13470573  0.01562265 -0.06378405  0.0903533   0.0357631   0.06188931\n",
      "  0.03482559  0.05951641 -0.02796768]\n",
      "orbital_rotations:  15 \n",
      " [[0, 1], [0, 2], [0, 3], [0, 4], [0, 5], [1, 2], [1, 3], [1, 4], [1, 5], [2, 3], [2, 4], [2, 5], [3, 4], [3, 5], [4, 5]]\n",
      "self._parameters:  15 \n",
      " [-0.10195244  0.00013969  0.0107509   0.02102117 -0.11041012  0.12982996\n",
      "  0.13470573  0.01562265 -0.06378405  0.0903533   0.0357631   0.06188931\n",
      "  0.03482559  0.05951641 -0.02796768]\n"
     ]
    },
    {
     "name": "stderr",
     "output_type": "stream",
     "text": [
      "The provided alpha-beta overlap matrix is NOT unitary! This can happen when the alpha- and beta-spin orbitals do not span the same space. To provide an example of what this means, consider an active space chosen from unrestricted-spin orbitals. Computing <S^2> within this active space may not result in the same <S^2> value as obtained on the single-reference starting point. More importantly, this implies that the inactive subspace will account for the difference between these two <S^2> values, possibly resulting in significant spin contamination in both subspaces. You should verify whether this is intentional/acceptable or whether your choice of active space can be improved. As a reference, here is the summed-absolute deviation of `S^T @ S` from the identity: 21.1094991911992\n",
      "The provided alpha-beta overlap matrix is NOT unitary! This can happen when the alpha- and beta-spin orbitals do not span the same space. To provide an example of what this means, consider an active space chosen from unrestricted-spin orbitals. Computing <S^2> within this active space may not result in the same <S^2> value as obtained on the single-reference starting point. More importantly, this implies that the inactive subspace will account for the difference between these two <S^2> values, possibly resulting in significant spin contamination in both subspaces. You should verify whether this is intentional/acceptable or whether your choice of active space can be improved. As a reference, here is the summed-absolute deviation of `S^T @ S` from the identity: 21.1094991911992\n"
     ]
    },
    {
     "name": "stdout",
     "output_type": "stream",
     "text": [
      "orbital_rotations:  15 \n",
      " [[0, 1], [0, 2], [0, 3], [0, 4], [0, 5], [1, 2], [1, 3], [1, 4], [1, 5], [2, 3], [2, 4], [2, 5], [3, 4], [3, 5], [4, 5]]\n",
      "self._parameters:  15 \n",
      " [-0.10195244  0.00013969  0.0107509   0.02102117 -0.11040012  0.12983996\n",
      "  0.13470573  0.01562265 -0.06378405  0.0903533   0.0357631   0.06188931\n",
      "  0.03482559  0.05951641 -0.02796768]\n",
      "orbital_rotations:  15 \n",
      " [[0, 1], [0, 2], [0, 3], [0, 4], [0, 5], [1, 2], [1, 3], [1, 4], [1, 5], [2, 3], [2, 4], [2, 5], [3, 4], [3, 5], [4, 5]]\n",
      "self._parameters:  15 \n",
      " [-0.10195244  0.00013969  0.0107509   0.02102117 -0.11040012  0.12981996\n",
      "  0.13470573  0.01562265 -0.06378405  0.0903533   0.0357631   0.06188931\n",
      "  0.03482559  0.05951641 -0.02796768]\n"
     ]
    },
    {
     "name": "stderr",
     "output_type": "stream",
     "text": [
      "The provided alpha-beta overlap matrix is NOT unitary! This can happen when the alpha- and beta-spin orbitals do not span the same space. To provide an example of what this means, consider an active space chosen from unrestricted-spin orbitals. Computing <S^2> within this active space may not result in the same <S^2> value as obtained on the single-reference starting point. More importantly, this implies that the inactive subspace will account for the difference between these two <S^2> values, possibly resulting in significant spin contamination in both subspaces. You should verify whether this is intentional/acceptable or whether your choice of active space can be improved. As a reference, here is the summed-absolute deviation of `S^T @ S` from the identity: 21.1094991911992\n",
      "The provided alpha-beta overlap matrix is NOT unitary! This can happen when the alpha- and beta-spin orbitals do not span the same space. To provide an example of what this means, consider an active space chosen from unrestricted-spin orbitals. Computing <S^2> within this active space may not result in the same <S^2> value as obtained on the single-reference starting point. More importantly, this implies that the inactive subspace will account for the difference between these two <S^2> values, possibly resulting in significant spin contamination in both subspaces. You should verify whether this is intentional/acceptable or whether your choice of active space can be improved. As a reference, here is the summed-absolute deviation of `S^T @ S` from the identity: 21.1094991911992\n"
     ]
    },
    {
     "name": "stdout",
     "output_type": "stream",
     "text": [
      "orbital_rotations:  15 \n",
      " [[0, 1], [0, 2], [0, 3], [0, 4], [0, 5], [1, 2], [1, 3], [1, 4], [1, 5], [2, 3], [2, 4], [2, 5], [3, 4], [3, 5], [4, 5]]\n",
      "self._parameters:  15 \n",
      " [-0.10195244  0.00013969  0.0107509   0.02102117 -0.11040012  0.12982996\n",
      "  0.13471573  0.01562265 -0.06378405  0.0903533   0.0357631   0.06188931\n",
      "  0.03482559  0.05951641 -0.02796768]\n",
      "orbital_rotations:  15 \n",
      " [[0, 1], [0, 2], [0, 3], [0, 4], [0, 5], [1, 2], [1, 3], [1, 4], [1, 5], [2, 3], [2, 4], [2, 5], [3, 4], [3, 5], [4, 5]]\n",
      "self._parameters:  15 \n",
      " [-0.10195244  0.00013969  0.0107509   0.02102117 -0.11040012  0.12982996\n",
      "  0.13469573  0.01562265 -0.06378405  0.0903533   0.0357631   0.06188931\n",
      "  0.03482559  0.05951641 -0.02796768]\n"
     ]
    },
    {
     "name": "stderr",
     "output_type": "stream",
     "text": [
      "The provided alpha-beta overlap matrix is NOT unitary! This can happen when the alpha- and beta-spin orbitals do not span the same space. To provide an example of what this means, consider an active space chosen from unrestricted-spin orbitals. Computing <S^2> within this active space may not result in the same <S^2> value as obtained on the single-reference starting point. More importantly, this implies that the inactive subspace will account for the difference between these two <S^2> values, possibly resulting in significant spin contamination in both subspaces. You should verify whether this is intentional/acceptable or whether your choice of active space can be improved. As a reference, here is the summed-absolute deviation of `S^T @ S` from the identity: 21.1094991911992\n",
      "The provided alpha-beta overlap matrix is NOT unitary! This can happen when the alpha- and beta-spin orbitals do not span the same space. To provide an example of what this means, consider an active space chosen from unrestricted-spin orbitals. Computing <S^2> within this active space may not result in the same <S^2> value as obtained on the single-reference starting point. More importantly, this implies that the inactive subspace will account for the difference between these two <S^2> values, possibly resulting in significant spin contamination in both subspaces. You should verify whether this is intentional/acceptable or whether your choice of active space can be improved. As a reference, here is the summed-absolute deviation of `S^T @ S` from the identity: 21.1094991911992\n"
     ]
    },
    {
     "name": "stdout",
     "output_type": "stream",
     "text": [
      "orbital_rotations:  15 \n",
      " [[0, 1], [0, 2], [0, 3], [0, 4], [0, 5], [1, 2], [1, 3], [1, 4], [1, 5], [2, 3], [2, 4], [2, 5], [3, 4], [3, 5], [4, 5]]\n",
      "self._parameters:  15 \n",
      " [-0.10195244  0.00013969  0.0107509   0.02102117 -0.11040012  0.12982996\n",
      "  0.13470573  0.01563265 -0.06378405  0.0903533   0.0357631   0.06188931\n",
      "  0.03482559  0.05951641 -0.02796768]\n",
      "orbital_rotations:  15 \n",
      " [[0, 1], [0, 2], [0, 3], [0, 4], [0, 5], [1, 2], [1, 3], [1, 4], [1, 5], [2, 3], [2, 4], [2, 5], [3, 4], [3, 5], [4, 5]]\n",
      "self._parameters:  15 \n",
      " [-0.10195244  0.00013969  0.0107509   0.02102117 -0.11040012  0.12982996\n",
      "  0.13470573  0.01561265 -0.06378405  0.0903533   0.0357631   0.06188931\n",
      "  0.03482559  0.05951641 -0.02796768]\n"
     ]
    },
    {
     "name": "stderr",
     "output_type": "stream",
     "text": [
      "The provided alpha-beta overlap matrix is NOT unitary! This can happen when the alpha- and beta-spin orbitals do not span the same space. To provide an example of what this means, consider an active space chosen from unrestricted-spin orbitals. Computing <S^2> within this active space may not result in the same <S^2> value as obtained on the single-reference starting point. More importantly, this implies that the inactive subspace will account for the difference between these two <S^2> values, possibly resulting in significant spin contamination in both subspaces. You should verify whether this is intentional/acceptable or whether your choice of active space can be improved. As a reference, here is the summed-absolute deviation of `S^T @ S` from the identity: 21.1094991911992\n",
      "The provided alpha-beta overlap matrix is NOT unitary! This can happen when the alpha- and beta-spin orbitals do not span the same space. To provide an example of what this means, consider an active space chosen from unrestricted-spin orbitals. Computing <S^2> within this active space may not result in the same <S^2> value as obtained on the single-reference starting point. More importantly, this implies that the inactive subspace will account for the difference between these two <S^2> values, possibly resulting in significant spin contamination in both subspaces. You should verify whether this is intentional/acceptable or whether your choice of active space can be improved. As a reference, here is the summed-absolute deviation of `S^T @ S` from the identity: 21.1094991911992\n"
     ]
    },
    {
     "name": "stdout",
     "output_type": "stream",
     "text": [
      "orbital_rotations:  15 \n",
      " [[0, 1], [0, 2], [0, 3], [0, 4], [0, 5], [1, 2], [1, 3], [1, 4], [1, 5], [2, 3], [2, 4], [2, 5], [3, 4], [3, 5], [4, 5]]\n",
      "self._parameters:  15 \n",
      " [-0.10195244  0.00013969  0.0107509   0.02102117 -0.11040012  0.12982996\n",
      "  0.13470573  0.01562265 -0.06377405  0.0903533   0.0357631   0.06188931\n",
      "  0.03482559  0.05951641 -0.02796768]\n",
      "orbital_rotations:  15 \n",
      " [[0, 1], [0, 2], [0, 3], [0, 4], [0, 5], [1, 2], [1, 3], [1, 4], [1, 5], [2, 3], [2, 4], [2, 5], [3, 4], [3, 5], [4, 5]]\n",
      "self._parameters:  15 \n",
      " [-0.10195244  0.00013969  0.0107509   0.02102117 -0.11040012  0.12982996\n",
      "  0.13470573  0.01562265 -0.06379405  0.0903533   0.0357631   0.06188931\n",
      "  0.03482559  0.05951641 -0.02796768]\n"
     ]
    },
    {
     "name": "stderr",
     "output_type": "stream",
     "text": [
      "The provided alpha-beta overlap matrix is NOT unitary! This can happen when the alpha- and beta-spin orbitals do not span the same space. To provide an example of what this means, consider an active space chosen from unrestricted-spin orbitals. Computing <S^2> within this active space may not result in the same <S^2> value as obtained on the single-reference starting point. More importantly, this implies that the inactive subspace will account for the difference between these two <S^2> values, possibly resulting in significant spin contamination in both subspaces. You should verify whether this is intentional/acceptable or whether your choice of active space can be improved. As a reference, here is the summed-absolute deviation of `S^T @ S` from the identity: 21.1094991911992\n",
      "The provided alpha-beta overlap matrix is NOT unitary! This can happen when the alpha- and beta-spin orbitals do not span the same space. To provide an example of what this means, consider an active space chosen from unrestricted-spin orbitals. Computing <S^2> within this active space may not result in the same <S^2> value as obtained on the single-reference starting point. More importantly, this implies that the inactive subspace will account for the difference between these two <S^2> values, possibly resulting in significant spin contamination in both subspaces. You should verify whether this is intentional/acceptable or whether your choice of active space can be improved. As a reference, here is the summed-absolute deviation of `S^T @ S` from the identity: 21.1094991911992\n"
     ]
    },
    {
     "name": "stdout",
     "output_type": "stream",
     "text": [
      "orbital_rotations:  15 \n",
      " [[0, 1], [0, 2], [0, 3], [0, 4], [0, 5], [1, 2], [1, 3], [1, 4], [1, 5], [2, 3], [2, 4], [2, 5], [3, 4], [3, 5], [4, 5]]\n",
      "self._parameters:  15 \n",
      " [-0.10195244  0.00013969  0.0107509   0.02102117 -0.11040012  0.12982996\n",
      "  0.13470573  0.01562265 -0.06378405  0.0903633   0.0357631   0.06188931\n",
      "  0.03482559  0.05951641 -0.02796768]\n",
      "orbital_rotations:  15 \n",
      " [[0, 1], [0, 2], [0, 3], [0, 4], [0, 5], [1, 2], [1, 3], [1, 4], [1, 5], [2, 3], [2, 4], [2, 5], [3, 4], [3, 5], [4, 5]]\n",
      "self._parameters:  15 \n",
      " [-0.10195244  0.00013969  0.0107509   0.02102117 -0.11040012  0.12982996\n",
      "  0.13470573  0.01562265 -0.06378405  0.0903433   0.0357631   0.06188931\n",
      "  0.03482559  0.05951641 -0.02796768]\n"
     ]
    },
    {
     "name": "stderr",
     "output_type": "stream",
     "text": [
      "The provided alpha-beta overlap matrix is NOT unitary! This can happen when the alpha- and beta-spin orbitals do not span the same space. To provide an example of what this means, consider an active space chosen from unrestricted-spin orbitals. Computing <S^2> within this active space may not result in the same <S^2> value as obtained on the single-reference starting point. More importantly, this implies that the inactive subspace will account for the difference between these two <S^2> values, possibly resulting in significant spin contamination in both subspaces. You should verify whether this is intentional/acceptable or whether your choice of active space can be improved. As a reference, here is the summed-absolute deviation of `S^T @ S` from the identity: 21.1094991911992\n",
      "The provided alpha-beta overlap matrix is NOT unitary! This can happen when the alpha- and beta-spin orbitals do not span the same space. To provide an example of what this means, consider an active space chosen from unrestricted-spin orbitals. Computing <S^2> within this active space may not result in the same <S^2> value as obtained on the single-reference starting point. More importantly, this implies that the inactive subspace will account for the difference between these two <S^2> values, possibly resulting in significant spin contamination in both subspaces. You should verify whether this is intentional/acceptable or whether your choice of active space can be improved. As a reference, here is the summed-absolute deviation of `S^T @ S` from the identity: 21.1094991911992\n"
     ]
    },
    {
     "name": "stdout",
     "output_type": "stream",
     "text": [
      "orbital_rotations:  15 \n",
      " [[0, 1], [0, 2], [0, 3], [0, 4], [0, 5], [1, 2], [1, 3], [1, 4], [1, 5], [2, 3], [2, 4], [2, 5], [3, 4], [3, 5], [4, 5]]\n",
      "self._parameters:  15 \n",
      " [-0.10195244  0.00013969  0.0107509   0.02102117 -0.11040012  0.12982996\n",
      "  0.13470573  0.01562265 -0.06378405  0.0903533   0.0357731   0.06188931\n",
      "  0.03482559  0.05951641 -0.02796768]\n",
      "orbital_rotations:  15 \n",
      " [[0, 1], [0, 2], [0, 3], [0, 4], [0, 5], [1, 2], [1, 3], [1, 4], [1, 5], [2, 3], [2, 4], [2, 5], [3, 4], [3, 5], [4, 5]]\n",
      "self._parameters:  15 \n",
      " [-0.10195244  0.00013969  0.0107509   0.02102117 -0.11040012  0.12982996\n",
      "  0.13470573  0.01562265 -0.06378405  0.0903533   0.0357531   0.06188931\n",
      "  0.03482559  0.05951641 -0.02796768]\n"
     ]
    },
    {
     "name": "stderr",
     "output_type": "stream",
     "text": [
      "The provided alpha-beta overlap matrix is NOT unitary! This can happen when the alpha- and beta-spin orbitals do not span the same space. To provide an example of what this means, consider an active space chosen from unrestricted-spin orbitals. Computing <S^2> within this active space may not result in the same <S^2> value as obtained on the single-reference starting point. More importantly, this implies that the inactive subspace will account for the difference between these two <S^2> values, possibly resulting in significant spin contamination in both subspaces. You should verify whether this is intentional/acceptable or whether your choice of active space can be improved. As a reference, here is the summed-absolute deviation of `S^T @ S` from the identity: 21.1094991911992\n",
      "The provided alpha-beta overlap matrix is NOT unitary! This can happen when the alpha- and beta-spin orbitals do not span the same space. To provide an example of what this means, consider an active space chosen from unrestricted-spin orbitals. Computing <S^2> within this active space may not result in the same <S^2> value as obtained on the single-reference starting point. More importantly, this implies that the inactive subspace will account for the difference between these two <S^2> values, possibly resulting in significant spin contamination in both subspaces. You should verify whether this is intentional/acceptable or whether your choice of active space can be improved. As a reference, here is the summed-absolute deviation of `S^T @ S` from the identity: 21.1094991911992\n"
     ]
    },
    {
     "name": "stdout",
     "output_type": "stream",
     "text": [
      "orbital_rotations:  15 \n",
      " [[0, 1], [0, 2], [0, 3], [0, 4], [0, 5], [1, 2], [1, 3], [1, 4], [1, 5], [2, 3], [2, 4], [2, 5], [3, 4], [3, 5], [4, 5]]\n",
      "self._parameters:  15 \n",
      " [-0.10195244  0.00013969  0.0107509   0.02102117 -0.11040012  0.12982996\n",
      "  0.13470573  0.01562265 -0.06378405  0.0903533   0.0357631   0.06189931\n",
      "  0.03482559  0.05951641 -0.02796768]\n",
      "orbital_rotations:  15 \n",
      " [[0, 1], [0, 2], [0, 3], [0, 4], [0, 5], [1, 2], [1, 3], [1, 4], [1, 5], [2, 3], [2, 4], [2, 5], [3, 4], [3, 5], [4, 5]]\n",
      "self._parameters:  15 \n",
      " [-0.10195244  0.00013969  0.0107509   0.02102117 -0.11040012  0.12982996\n",
      "  0.13470573  0.01562265 -0.06378405  0.0903533   0.0357631   0.06187931\n",
      "  0.03482559  0.05951641 -0.02796768]\n"
     ]
    },
    {
     "name": "stderr",
     "output_type": "stream",
     "text": [
      "The provided alpha-beta overlap matrix is NOT unitary! This can happen when the alpha- and beta-spin orbitals do not span the same space. To provide an example of what this means, consider an active space chosen from unrestricted-spin orbitals. Computing <S^2> within this active space may not result in the same <S^2> value as obtained on the single-reference starting point. More importantly, this implies that the inactive subspace will account for the difference between these two <S^2> values, possibly resulting in significant spin contamination in both subspaces. You should verify whether this is intentional/acceptable or whether your choice of active space can be improved. As a reference, here is the summed-absolute deviation of `S^T @ S` from the identity: 21.1094991911992\n",
      "The provided alpha-beta overlap matrix is NOT unitary! This can happen when the alpha- and beta-spin orbitals do not span the same space. To provide an example of what this means, consider an active space chosen from unrestricted-spin orbitals. Computing <S^2> within this active space may not result in the same <S^2> value as obtained on the single-reference starting point. More importantly, this implies that the inactive subspace will account for the difference between these two <S^2> values, possibly resulting in significant spin contamination in both subspaces. You should verify whether this is intentional/acceptable or whether your choice of active space can be improved. As a reference, here is the summed-absolute deviation of `S^T @ S` from the identity: 21.1094991911992\n"
     ]
    },
    {
     "name": "stdout",
     "output_type": "stream",
     "text": [
      "orbital_rotations:  15 \n",
      " [[0, 1], [0, 2], [0, 3], [0, 4], [0, 5], [1, 2], [1, 3], [1, 4], [1, 5], [2, 3], [2, 4], [2, 5], [3, 4], [3, 5], [4, 5]]\n",
      "self._parameters:  15 \n",
      " [-0.10195244  0.00013969  0.0107509   0.02102117 -0.11040012  0.12982996\n",
      "  0.13470573  0.01562265 -0.06378405  0.0903533   0.0357631   0.06188931\n",
      "  0.03483559  0.05951641 -0.02796768]\n",
      "orbital_rotations:  15 \n",
      " [[0, 1], [0, 2], [0, 3], [0, 4], [0, 5], [1, 2], [1, 3], [1, 4], [1, 5], [2, 3], [2, 4], [2, 5], [3, 4], [3, 5], [4, 5]]\n",
      "self._parameters:  15 \n",
      " [-0.10195244  0.00013969  0.0107509   0.02102117 -0.11040012  0.12982996\n",
      "  0.13470573  0.01562265 -0.06378405  0.0903533   0.0357631   0.06188931\n",
      "  0.03481559  0.05951641 -0.02796768]\n"
     ]
    },
    {
     "name": "stderr",
     "output_type": "stream",
     "text": [
      "The provided alpha-beta overlap matrix is NOT unitary! This can happen when the alpha- and beta-spin orbitals do not span the same space. To provide an example of what this means, consider an active space chosen from unrestricted-spin orbitals. Computing <S^2> within this active space may not result in the same <S^2> value as obtained on the single-reference starting point. More importantly, this implies that the inactive subspace will account for the difference between these two <S^2> values, possibly resulting in significant spin contamination in both subspaces. You should verify whether this is intentional/acceptable or whether your choice of active space can be improved. As a reference, here is the summed-absolute deviation of `S^T @ S` from the identity: 21.1094991911992\n",
      "The provided alpha-beta overlap matrix is NOT unitary! This can happen when the alpha- and beta-spin orbitals do not span the same space. To provide an example of what this means, consider an active space chosen from unrestricted-spin orbitals. Computing <S^2> within this active space may not result in the same <S^2> value as obtained on the single-reference starting point. More importantly, this implies that the inactive subspace will account for the difference between these two <S^2> values, possibly resulting in significant spin contamination in both subspaces. You should verify whether this is intentional/acceptable or whether your choice of active space can be improved. As a reference, here is the summed-absolute deviation of `S^T @ S` from the identity: 21.1094991911992\n"
     ]
    },
    {
     "name": "stdout",
     "output_type": "stream",
     "text": [
      "orbital_rotations:  15 \n",
      " [[0, 1], [0, 2], [0, 3], [0, 4], [0, 5], [1, 2], [1, 3], [1, 4], [1, 5], [2, 3], [2, 4], [2, 5], [3, 4], [3, 5], [4, 5]]\n",
      "self._parameters:  15 \n",
      " [-0.10195244  0.00013969  0.0107509   0.02102117 -0.11040012  0.12982996\n",
      "  0.13470573  0.01562265 -0.06378405  0.0903533   0.0357631   0.06188931\n",
      "  0.03482559  0.05952641 -0.02796768]\n",
      "orbital_rotations:  15 \n",
      " [[0, 1], [0, 2], [0, 3], [0, 4], [0, 5], [1, 2], [1, 3], [1, 4], [1, 5], [2, 3], [2, 4], [2, 5], [3, 4], [3, 5], [4, 5]]\n",
      "self._parameters:  15 \n",
      " [-0.10195244  0.00013969  0.0107509   0.02102117 -0.11040012  0.12982996\n",
      "  0.13470573  0.01562265 -0.06378405  0.0903533   0.0357631   0.06188931\n",
      "  0.03482559  0.05950641 -0.02796768]\n"
     ]
    },
    {
     "name": "stderr",
     "output_type": "stream",
     "text": [
      "The provided alpha-beta overlap matrix is NOT unitary! This can happen when the alpha- and beta-spin orbitals do not span the same space. To provide an example of what this means, consider an active space chosen from unrestricted-spin orbitals. Computing <S^2> within this active space may not result in the same <S^2> value as obtained on the single-reference starting point. More importantly, this implies that the inactive subspace will account for the difference between these two <S^2> values, possibly resulting in significant spin contamination in both subspaces. You should verify whether this is intentional/acceptable or whether your choice of active space can be improved. As a reference, here is the summed-absolute deviation of `S^T @ S` from the identity: 21.1094991911992\n",
      "The provided alpha-beta overlap matrix is NOT unitary! This can happen when the alpha- and beta-spin orbitals do not span the same space. To provide an example of what this means, consider an active space chosen from unrestricted-spin orbitals. Computing <S^2> within this active space may not result in the same <S^2> value as obtained on the single-reference starting point. More importantly, this implies that the inactive subspace will account for the difference between these two <S^2> values, possibly resulting in significant spin contamination in both subspaces. You should verify whether this is intentional/acceptable or whether your choice of active space can be improved. As a reference, here is the summed-absolute deviation of `S^T @ S` from the identity: 21.1094991911992\n"
     ]
    },
    {
     "name": "stdout",
     "output_type": "stream",
     "text": [
      "orbital_rotations:  15 \n",
      " [[0, 1], [0, 2], [0, 3], [0, 4], [0, 5], [1, 2], [1, 3], [1, 4], [1, 5], [2, 3], [2, 4], [2, 5], [3, 4], [3, 5], [4, 5]]\n",
      "self._parameters:  15 \n",
      " [-0.10195244  0.00013969  0.0107509   0.02102117 -0.11040012  0.12982996\n",
      "  0.13470573  0.01562265 -0.06378405  0.0903533   0.0357631   0.06188931\n",
      "  0.03482559  0.05951641 -0.02795768]\n",
      "orbital_rotations:  15 \n",
      " [[0, 1], [0, 2], [0, 3], [0, 4], [0, 5], [1, 2], [1, 3], [1, 4], [1, 5], [2, 3], [2, 4], [2, 5], [3, 4], [3, 5], [4, 5]]\n",
      "self._parameters:  15 \n",
      " [-0.10195244  0.00013969  0.0107509   0.02102117 -0.11040012  0.12982996\n",
      "  0.13470573  0.01562265 -0.06378405  0.0903533   0.0357631   0.06188931\n",
      "  0.03482559  0.05951641 -0.02797768]\n"
     ]
    },
    {
     "name": "stderr",
     "output_type": "stream",
     "text": [
      "The provided alpha-beta overlap matrix is NOT unitary! This can happen when the alpha- and beta-spin orbitals do not span the same space. To provide an example of what this means, consider an active space chosen from unrestricted-spin orbitals. Computing <S^2> within this active space may not result in the same <S^2> value as obtained on the single-reference starting point. More importantly, this implies that the inactive subspace will account for the difference between these two <S^2> values, possibly resulting in significant spin contamination in both subspaces. You should verify whether this is intentional/acceptable or whether your choice of active space can be improved. As a reference, here is the summed-absolute deviation of `S^T @ S` from the identity: 21.1094991911992\n",
      "The provided alpha-beta overlap matrix is NOT unitary! This can happen when the alpha- and beta-spin orbitals do not span the same space. To provide an example of what this means, consider an active space chosen from unrestricted-spin orbitals. Computing <S^2> within this active space may not result in the same <S^2> value as obtained on the single-reference starting point. More importantly, this implies that the inactive subspace will account for the difference between these two <S^2> values, possibly resulting in significant spin contamination in both subspaces. You should verify whether this is intentional/acceptable or whether your choice of active space can be improved. As a reference, here is the summed-absolute deviation of `S^T @ S` from the identity: 21.1094991911992\n"
     ]
    },
    {
     "name": "stdout",
     "output_type": "stream",
     "text": [
      "parameters:  [ 0.01845584  0.01694399  0.01690987  0.12367674 -0.29813184 -0.57688546\n",
      " -0.57631093  0.2915231  -0.0077026   0.05799014 -0.08967335 -0.09936239\n",
      " -0.06680877  0.06515111  0.02891061 -0.07044042  0.06197424  0.07585616\n",
      "  0.09631804  0.02991339  0.12638652  0.11708698 -0.07443008]\n",
      "Parameters of wavefunction are: \n",
      "%s array([ 0.01845584,  0.01694399,  0.01690987,  0.12367674, -0.29813184,\n",
      "       -0.57688546, -0.57631093,  0.2915231 ])\n",
      "Parameters of orbital rotation are: \n",
      "%s array([-0.0077026 ,  0.05799014, -0.08967335, -0.09936239, -0.06680877,\n",
      "        0.06515111,  0.02891061, -0.07044042,  0.06197424,  0.07585616,\n",
      "        0.09631804,  0.02991339,  0.12638652,  0.11708698, -0.07443008])\n",
      "orbital_rotations:  15 \n",
      " [[0, 1], [0, 2], [0, 3], [0, 4], [0, 5], [1, 2], [1, 3], [1, 4], [1, 5], [2, 3], [2, 4], [2, 5], [3, 4], [3, 5], [4, 5]]\n",
      "self._parameters:  15 \n",
      " [-0.0077026   0.05799014 -0.08967335 -0.09936239 -0.06680877  0.06515111\n",
      "  0.02891061 -0.07044042  0.06197424  0.07585616  0.09631804  0.02991339\n",
      "  0.12638652  0.11708698 -0.07443008]\n",
      "Nature matrix a:  [[ 0.98717123 -0.01009417  0.06643576 -0.07663343 -0.10315989 -0.06680348]\n",
      " [ 0.00606679  0.99305149  0.06621113  0.03137693 -0.0630622   0.06683307]\n",
      " [-0.04868501 -0.063022    0.98829676  0.06868181  0.10638378  0.02988008]\n",
      " [ 0.1010343  -0.0255418  -0.08094582  0.97797435  0.12183011  0.1063534 ]\n",
      " [ 0.0930625   0.07676044 -0.08435467 -0.12725898  0.97732427 -0.08350995]\n",
      " [ 0.06494119 -0.05683765 -0.02835425 -0.12568583  0.06370537  0.98584626]]\n",
      "Nature matrix b:  [[ 0.98717123 -0.01009417  0.06643576 -0.07663343 -0.10315989 -0.06680348]\n",
      " [ 0.00606679  0.99305149  0.06621113  0.03137693 -0.0630622   0.06683307]\n",
      " [-0.04868501 -0.063022    0.98829676  0.06868181  0.10638378  0.02988008]\n",
      " [ 0.1010343  -0.0255418  -0.08094582  0.97797435  0.12183011  0.1063534 ]\n",
      " [ 0.0930625   0.07676044 -0.08435467 -0.12725898  0.97732427 -0.08350995]\n",
      " [ 0.06494119 -0.05683765 -0.02835425 -0.12568583  0.06370537  0.98584626]]\n"
     ]
    },
    {
     "name": "stderr",
     "output_type": "stream",
     "text": [
      "The provided alpha-beta overlap matrix is NOT unitary! This can happen when the alpha- and beta-spin orbitals do not span the same space. To provide an example of what this means, consider an active space chosen from unrestricted-spin orbitals. Computing <S^2> within this active space may not result in the same <S^2> value as obtained on the single-reference starting point. More importantly, this implies that the inactive subspace will account for the difference between these two <S^2> values, possibly resulting in significant spin contamination in both subspaces. You should verify whether this is intentional/acceptable or whether your choice of active space can be improved. As a reference, here is the summed-absolute deviation of `S^T @ S` from the identity: 21.1094991911992\n"
     ]
    },
    {
     "name": "stdout",
     "output_type": "stream",
     "text": [
      "Rotated operator:  SparsePauliOp(['IIIIIIIIIIII', 'IIIIIIIIIIIZ', 'IIIIIIIIIIXY', 'IIIIIIIIIIYY', 'IIIIIIIIIIXX'],\n",
      "              coeffs=[-5.4181743 +0.j        ,  1.13953358+0.j        ,  0.        -0.34272899j,\n",
      "  0.18977691+0.j        ,  0.18977691+0.j        ])\n",
      "Energy evaluation returned %s - %.5f (ms), eval count: %s -9.334447640658341 129.5032501220703\n",
      "parameters:  [ 0.00124426  0.00064272  0.00066059 -0.00478136 -0.02419131 -0.08761309\n",
      " -0.0876694  -0.07659477 -0.09252745  0.00592473  0.00070847  0.00898281\n",
      " -0.10604098  0.12336208  0.12412622  0.00701634 -0.05120823  0.08890358\n",
      "  0.0418186   0.05869172  0.04398168  0.06527347 -0.03261392]\n",
      "Parameters of wavefunction are: \n",
      "%s array([ 0.00124426,  0.00064272,  0.00066059, -0.00478136, -0.02419131,\n",
      "       -0.08761309, -0.0876694 , -0.07659477])\n",
      "Parameters of orbital rotation are: \n",
      "%s array([-0.09252745,  0.00592473,  0.00070847,  0.00898281, -0.10604098,\n",
      "        0.12336208,  0.12412622,  0.00701634, -0.05120823,  0.08890358,\n",
      "        0.0418186 ,  0.05869172,  0.04398168,  0.06527347, -0.03261392])\n",
      "orbital_rotations:  15 \n",
      " [[0, 1], [0, 2], [0, 3], [0, 4], [0, 5], [1, 2], [1, 3], [1, 4], [1, 5], [2, 3], [2, 4], [2, 5], [3, 4], [3, 5], [4, 5]]\n",
      "self._parameters:  15 \n",
      " [-0.09252745  0.00592473  0.00070847  0.00898281 -0.10604098  0.12336208\n",
      "  0.12412622  0.00701634 -0.05120823  0.08890358  0.0418186   0.05869172\n",
      "  0.04398168  0.06527347 -0.03261392]\n",
      "Nature matrix a:  [[ 0.99006074 -0.09510934  0.00302472 -0.00173679  0.00698596 -0.10331009]\n",
      " [ 0.08882722  0.97916124  0.11829899  0.13001652  0.0119032  -0.04808692]\n",
      " [-0.00861657 -0.12604115  0.98588664  0.07771705  0.04395629  0.06399077]\n",
      " [-0.00267362 -0.11601939 -0.09861122  0.98531049  0.04240118  0.06460303]\n",
      " [-0.01081488 -0.00216787 -0.03906836 -0.04485604  0.99756912 -0.03458028]\n",
      " [ 0.10812539  0.05334701 -0.0526614  -0.0648376   0.03058353  0.98871154]]\n",
      "Nature matrix b:  [[ 0.99006074 -0.09510934  0.00302472 -0.00173679  0.00698596 -0.10331009]\n",
      " [ 0.08882722  0.97916124  0.11829899  0.13001652  0.0119032  -0.04808692]\n",
      " [-0.00861657 -0.12604115  0.98588664  0.07771705  0.04395629  0.06399077]\n",
      " [-0.00267362 -0.11601939 -0.09861122  0.98531049  0.04240118  0.06460303]\n",
      " [-0.01081488 -0.00216787 -0.03906836 -0.04485604  0.99756912 -0.03458028]\n",
      " [ 0.10812539  0.05334701 -0.0526614  -0.0648376   0.03058353  0.98871154]]\n",
      "Rotated operator:  SparsePauliOp(['IIIIIIIIIIII', 'IIIIIIIIIIIZ', 'IIIIIIIIIIXY', 'IIIIIIIIIIYY', 'IIIIIIIIIIXX'],\n",
      "              coeffs=[-5.79516649+0.j        ,  1.32470294+0.j        ,  0.        -0.37005126j,\n",
      "  0.18727344+0.j        ,  0.18727344+0.j        ])\n",
      "Energy evaluation returned %s - %.5f (ms), eval count: %s -10.503142696561447 128.76486778259277\n"
     ]
    },
    {
     "name": "stderr",
     "output_type": "stream",
     "text": [
      "The provided alpha-beta overlap matrix is NOT unitary! This can happen when the alpha- and beta-spin orbitals do not span the same space. To provide an example of what this means, consider an active space chosen from unrestricted-spin orbitals. Computing <S^2> within this active space may not result in the same <S^2> value as obtained on the single-reference starting point. More importantly, this implies that the inactive subspace will account for the difference between these two <S^2> values, possibly resulting in significant spin contamination in both subspaces. You should verify whether this is intentional/acceptable or whether your choice of active space can be improved. As a reference, here is the summed-absolute deviation of `S^T @ S` from the identity: 21.1094991911992\n"
     ]
    },
    {
     "name": "stdout",
     "output_type": "stream",
     "text": [
      "orbital_rotations:  15 \n",
      " [[0, 1], [0, 2], [0, 3], [0, 4], [0, 5], [1, 2], [1, 3], [1, 4], [1, 5], [2, 3], [2, 4], [2, 5], [3, 4], [3, 5], [4, 5]]\n",
      "self._parameters:  15 \n",
      " [-0.09251745  0.00592473  0.00070847  0.00898281 -0.10604098  0.12336208\n",
      "  0.12412622  0.00701634 -0.05120823  0.08890358  0.0418186   0.05869172\n",
      "  0.04398168  0.06527347 -0.03261392]\n",
      "orbital_rotations:  15 \n",
      " [[0, 1], [0, 2], [0, 3], [0, 4], [0, 5], [1, 2], [1, 3], [1, 4], [1, 5], [2, 3], [2, 4], [2, 5], [3, 4], [3, 5], [4, 5]]\n",
      "self._parameters:  15 \n",
      " [-0.09253745  0.00592473  0.00070847  0.00898281 -0.10604098  0.12336208\n",
      "  0.12412622  0.00701634 -0.05120823  0.08890358  0.0418186   0.05869172\n",
      "  0.04398168  0.06527347 -0.03261392]\n"
     ]
    },
    {
     "name": "stderr",
     "output_type": "stream",
     "text": [
      "The provided alpha-beta overlap matrix is NOT unitary! This can happen when the alpha- and beta-spin orbitals do not span the same space. To provide an example of what this means, consider an active space chosen from unrestricted-spin orbitals. Computing <S^2> within this active space may not result in the same <S^2> value as obtained on the single-reference starting point. More importantly, this implies that the inactive subspace will account for the difference between these two <S^2> values, possibly resulting in significant spin contamination in both subspaces. You should verify whether this is intentional/acceptable or whether your choice of active space can be improved. As a reference, here is the summed-absolute deviation of `S^T @ S` from the identity: 21.1094991911992\n",
      "The provided alpha-beta overlap matrix is NOT unitary! This can happen when the alpha- and beta-spin orbitals do not span the same space. To provide an example of what this means, consider an active space chosen from unrestricted-spin orbitals. Computing <S^2> within this active space may not result in the same <S^2> value as obtained on the single-reference starting point. More importantly, this implies that the inactive subspace will account for the difference between these two <S^2> values, possibly resulting in significant spin contamination in both subspaces. You should verify whether this is intentional/acceptable or whether your choice of active space can be improved. As a reference, here is the summed-absolute deviation of `S^T @ S` from the identity: 21.1094991911992\n"
     ]
    },
    {
     "name": "stdout",
     "output_type": "stream",
     "text": [
      "orbital_rotations:  15 \n",
      " [[0, 1], [0, 2], [0, 3], [0, 4], [0, 5], [1, 2], [1, 3], [1, 4], [1, 5], [2, 3], [2, 4], [2, 5], [3, 4], [3, 5], [4, 5]]\n",
      "self._parameters:  15 \n",
      " [-0.09252745  0.00593473  0.00070847  0.00898281 -0.10604098  0.12336208\n",
      "  0.12412622  0.00701634 -0.05120823  0.08890358  0.0418186   0.05869172\n",
      "  0.04398168  0.06527347 -0.03261392]\n",
      "orbital_rotations:  15 \n",
      " [[0, 1], [0, 2], [0, 3], [0, 4], [0, 5], [1, 2], [1, 3], [1, 4], [1, 5], [2, 3], [2, 4], [2, 5], [3, 4], [3, 5], [4, 5]]\n",
      "self._parameters:  15 \n",
      " [-0.09252745  0.00591473  0.00070847  0.00898281 -0.10604098  0.12336208\n",
      "  0.12412622  0.00701634 -0.05120823  0.08890358  0.0418186   0.05869172\n",
      "  0.04398168  0.06527347 -0.03261392]\n"
     ]
    },
    {
     "name": "stderr",
     "output_type": "stream",
     "text": [
      "The provided alpha-beta overlap matrix is NOT unitary! This can happen when the alpha- and beta-spin orbitals do not span the same space. To provide an example of what this means, consider an active space chosen from unrestricted-spin orbitals. Computing <S^2> within this active space may not result in the same <S^2> value as obtained on the single-reference starting point. More importantly, this implies that the inactive subspace will account for the difference between these two <S^2> values, possibly resulting in significant spin contamination in both subspaces. You should verify whether this is intentional/acceptable or whether your choice of active space can be improved. As a reference, here is the summed-absolute deviation of `S^T @ S` from the identity: 21.1094991911992\n",
      "The provided alpha-beta overlap matrix is NOT unitary! This can happen when the alpha- and beta-spin orbitals do not span the same space. To provide an example of what this means, consider an active space chosen from unrestricted-spin orbitals. Computing <S^2> within this active space may not result in the same <S^2> value as obtained on the single-reference starting point. More importantly, this implies that the inactive subspace will account for the difference between these two <S^2> values, possibly resulting in significant spin contamination in both subspaces. You should verify whether this is intentional/acceptable or whether your choice of active space can be improved. As a reference, here is the summed-absolute deviation of `S^T @ S` from the identity: 21.1094991911992\n"
     ]
    },
    {
     "name": "stdout",
     "output_type": "stream",
     "text": [
      "orbital_rotations:  15 \n",
      " [[0, 1], [0, 2], [0, 3], [0, 4], [0, 5], [1, 2], [1, 3], [1, 4], [1, 5], [2, 3], [2, 4], [2, 5], [3, 4], [3, 5], [4, 5]]\n",
      "self._parameters:  15 \n",
      " [-0.09252745  0.00592473  0.00071847  0.00898281 -0.10604098  0.12336208\n",
      "  0.12412622  0.00701634 -0.05120823  0.08890358  0.0418186   0.05869172\n",
      "  0.04398168  0.06527347 -0.03261392]\n",
      "orbital_rotations:  15 \n",
      " [[0, 1], [0, 2], [0, 3], [0, 4], [0, 5], [1, 2], [1, 3], [1, 4], [1, 5], [2, 3], [2, 4], [2, 5], [3, 4], [3, 5], [4, 5]]\n",
      "self._parameters:  15 \n",
      " [-0.09252745  0.00592473  0.00069847  0.00898281 -0.10604098  0.12336208\n",
      "  0.12412622  0.00701634 -0.05120823  0.08890358  0.0418186   0.05869172\n",
      "  0.04398168  0.06527347 -0.03261392]\n"
     ]
    },
    {
     "name": "stderr",
     "output_type": "stream",
     "text": [
      "The provided alpha-beta overlap matrix is NOT unitary! This can happen when the alpha- and beta-spin orbitals do not span the same space. To provide an example of what this means, consider an active space chosen from unrestricted-spin orbitals. Computing <S^2> within this active space may not result in the same <S^2> value as obtained on the single-reference starting point. More importantly, this implies that the inactive subspace will account for the difference between these two <S^2> values, possibly resulting in significant spin contamination in both subspaces. You should verify whether this is intentional/acceptable or whether your choice of active space can be improved. As a reference, here is the summed-absolute deviation of `S^T @ S` from the identity: 21.1094991911992\n",
      "The provided alpha-beta overlap matrix is NOT unitary! This can happen when the alpha- and beta-spin orbitals do not span the same space. To provide an example of what this means, consider an active space chosen from unrestricted-spin orbitals. Computing <S^2> within this active space may not result in the same <S^2> value as obtained on the single-reference starting point. More importantly, this implies that the inactive subspace will account for the difference between these two <S^2> values, possibly resulting in significant spin contamination in both subspaces. You should verify whether this is intentional/acceptable or whether your choice of active space can be improved. As a reference, here is the summed-absolute deviation of `S^T @ S` from the identity: 21.1094991911992\n"
     ]
    },
    {
     "name": "stdout",
     "output_type": "stream",
     "text": [
      "orbital_rotations:  15 \n",
      " [[0, 1], [0, 2], [0, 3], [0, 4], [0, 5], [1, 2], [1, 3], [1, 4], [1, 5], [2, 3], [2, 4], [2, 5], [3, 4], [3, 5], [4, 5]]\n",
      "self._parameters:  15 \n",
      " [-0.09252745  0.00592473  0.00070847  0.00899281 -0.10604098  0.12336208\n",
      "  0.12412622  0.00701634 -0.05120823  0.08890358  0.0418186   0.05869172\n",
      "  0.04398168  0.06527347 -0.03261392]\n",
      "orbital_rotations:  15 \n",
      " [[0, 1], [0, 2], [0, 3], [0, 4], [0, 5], [1, 2], [1, 3], [1, 4], [1, 5], [2, 3], [2, 4], [2, 5], [3, 4], [3, 5], [4, 5]]\n",
      "self._parameters:  15 \n",
      " [-0.09252745  0.00592473  0.00070847  0.00897281 -0.10604098  0.12336208\n",
      "  0.12412622  0.00701634 -0.05120823  0.08890358  0.0418186   0.05869172\n",
      "  0.04398168  0.06527347 -0.03261392]\n"
     ]
    },
    {
     "name": "stderr",
     "output_type": "stream",
     "text": [
      "The provided alpha-beta overlap matrix is NOT unitary! This can happen when the alpha- and beta-spin orbitals do not span the same space. To provide an example of what this means, consider an active space chosen from unrestricted-spin orbitals. Computing <S^2> within this active space may not result in the same <S^2> value as obtained on the single-reference starting point. More importantly, this implies that the inactive subspace will account for the difference between these two <S^2> values, possibly resulting in significant spin contamination in both subspaces. You should verify whether this is intentional/acceptable or whether your choice of active space can be improved. As a reference, here is the summed-absolute deviation of `S^T @ S` from the identity: 21.1094991911992\n",
      "The provided alpha-beta overlap matrix is NOT unitary! This can happen when the alpha- and beta-spin orbitals do not span the same space. To provide an example of what this means, consider an active space chosen from unrestricted-spin orbitals. Computing <S^2> within this active space may not result in the same <S^2> value as obtained on the single-reference starting point. More importantly, this implies that the inactive subspace will account for the difference between these two <S^2> values, possibly resulting in significant spin contamination in both subspaces. You should verify whether this is intentional/acceptable or whether your choice of active space can be improved. As a reference, here is the summed-absolute deviation of `S^T @ S` from the identity: 21.1094991911992\n"
     ]
    },
    {
     "name": "stdout",
     "output_type": "stream",
     "text": [
      "orbital_rotations:  15 \n",
      " [[0, 1], [0, 2], [0, 3], [0, 4], [0, 5], [1, 2], [1, 3], [1, 4], [1, 5], [2, 3], [2, 4], [2, 5], [3, 4], [3, 5], [4, 5]]\n",
      "self._parameters:  15 \n",
      " [-0.09252745  0.00592473  0.00070847  0.00898281 -0.10603098  0.12336208\n",
      "  0.12412622  0.00701634 -0.05120823  0.08890358  0.0418186   0.05869172\n",
      "  0.04398168  0.06527347 -0.03261392]\n",
      "orbital_rotations:  15 \n",
      " [[0, 1], [0, 2], [0, 3], [0, 4], [0, 5], [1, 2], [1, 3], [1, 4], [1, 5], [2, 3], [2, 4], [2, 5], [3, 4], [3, 5], [4, 5]]\n",
      "self._parameters:  15 \n",
      " [-0.09252745  0.00592473  0.00070847  0.00898281 -0.10605098  0.12336208\n",
      "  0.12412622  0.00701634 -0.05120823  0.08890358  0.0418186   0.05869172\n",
      "  0.04398168  0.06527347 -0.03261392]\n"
     ]
    },
    {
     "name": "stderr",
     "output_type": "stream",
     "text": [
      "The provided alpha-beta overlap matrix is NOT unitary! This can happen when the alpha- and beta-spin orbitals do not span the same space. To provide an example of what this means, consider an active space chosen from unrestricted-spin orbitals. Computing <S^2> within this active space may not result in the same <S^2> value as obtained on the single-reference starting point. More importantly, this implies that the inactive subspace will account for the difference between these two <S^2> values, possibly resulting in significant spin contamination in both subspaces. You should verify whether this is intentional/acceptable or whether your choice of active space can be improved. As a reference, here is the summed-absolute deviation of `S^T @ S` from the identity: 21.1094991911992\n",
      "The provided alpha-beta overlap matrix is NOT unitary! This can happen when the alpha- and beta-spin orbitals do not span the same space. To provide an example of what this means, consider an active space chosen from unrestricted-spin orbitals. Computing <S^2> within this active space may not result in the same <S^2> value as obtained on the single-reference starting point. More importantly, this implies that the inactive subspace will account for the difference between these two <S^2> values, possibly resulting in significant spin contamination in both subspaces. You should verify whether this is intentional/acceptable or whether your choice of active space can be improved. As a reference, here is the summed-absolute deviation of `S^T @ S` from the identity: 21.1094991911992\n"
     ]
    },
    {
     "name": "stdout",
     "output_type": "stream",
     "text": [
      "orbital_rotations:  15 \n",
      " [[0, 1], [0, 2], [0, 3], [0, 4], [0, 5], [1, 2], [1, 3], [1, 4], [1, 5], [2, 3], [2, 4], [2, 5], [3, 4], [3, 5], [4, 5]]\n",
      "self._parameters:  15 \n",
      " [-0.09252745  0.00592473  0.00070847  0.00898281 -0.10604098  0.12337208\n",
      "  0.12412622  0.00701634 -0.05120823  0.08890358  0.0418186   0.05869172\n",
      "  0.04398168  0.06527347 -0.03261392]\n",
      "orbital_rotations:  15 \n",
      " [[0, 1], [0, 2], [0, 3], [0, 4], [0, 5], [1, 2], [1, 3], [1, 4], [1, 5], [2, 3], [2, 4], [2, 5], [3, 4], [3, 5], [4, 5]]\n",
      "self._parameters:  15 \n",
      " [-0.09252745  0.00592473  0.00070847  0.00898281 -0.10604098  0.12335208\n",
      "  0.12412622  0.00701634 -0.05120823  0.08890358  0.0418186   0.05869172\n",
      "  0.04398168  0.06527347 -0.03261392]\n"
     ]
    },
    {
     "name": "stderr",
     "output_type": "stream",
     "text": [
      "The provided alpha-beta overlap matrix is NOT unitary! This can happen when the alpha- and beta-spin orbitals do not span the same space. To provide an example of what this means, consider an active space chosen from unrestricted-spin orbitals. Computing <S^2> within this active space may not result in the same <S^2> value as obtained on the single-reference starting point. More importantly, this implies that the inactive subspace will account for the difference between these two <S^2> values, possibly resulting in significant spin contamination in both subspaces. You should verify whether this is intentional/acceptable or whether your choice of active space can be improved. As a reference, here is the summed-absolute deviation of `S^T @ S` from the identity: 21.1094991911992\n",
      "The provided alpha-beta overlap matrix is NOT unitary! This can happen when the alpha- and beta-spin orbitals do not span the same space. To provide an example of what this means, consider an active space chosen from unrestricted-spin orbitals. Computing <S^2> within this active space may not result in the same <S^2> value as obtained on the single-reference starting point. More importantly, this implies that the inactive subspace will account for the difference between these two <S^2> values, possibly resulting in significant spin contamination in both subspaces. You should verify whether this is intentional/acceptable or whether your choice of active space can be improved. As a reference, here is the summed-absolute deviation of `S^T @ S` from the identity: 21.1094991911992\n"
     ]
    },
    {
     "name": "stdout",
     "output_type": "stream",
     "text": [
      "orbital_rotations:  15 \n",
      " [[0, 1], [0, 2], [0, 3], [0, 4], [0, 5], [1, 2], [1, 3], [1, 4], [1, 5], [2, 3], [2, 4], [2, 5], [3, 4], [3, 5], [4, 5]]\n",
      "self._parameters:  15 \n",
      " [-0.09252745  0.00592473  0.00070847  0.00898281 -0.10604098  0.12336208\n",
      "  0.12413622  0.00701634 -0.05120823  0.08890358  0.0418186   0.05869172\n",
      "  0.04398168  0.06527347 -0.03261392]\n",
      "orbital_rotations:  15 \n",
      " [[0, 1], [0, 2], [0, 3], [0, 4], [0, 5], [1, 2], [1, 3], [1, 4], [1, 5], [2, 3], [2, 4], [2, 5], [3, 4], [3, 5], [4, 5]]\n",
      "self._parameters:  15 \n",
      " [-0.09252745  0.00592473  0.00070847  0.00898281 -0.10604098  0.12336208\n",
      "  0.12411622  0.00701634 -0.05120823  0.08890358  0.0418186   0.05869172\n",
      "  0.04398168  0.06527347 -0.03261392]\n"
     ]
    },
    {
     "name": "stderr",
     "output_type": "stream",
     "text": [
      "The provided alpha-beta overlap matrix is NOT unitary! This can happen when the alpha- and beta-spin orbitals do not span the same space. To provide an example of what this means, consider an active space chosen from unrestricted-spin orbitals. Computing <S^2> within this active space may not result in the same <S^2> value as obtained on the single-reference starting point. More importantly, this implies that the inactive subspace will account for the difference between these two <S^2> values, possibly resulting in significant spin contamination in both subspaces. You should verify whether this is intentional/acceptable or whether your choice of active space can be improved. As a reference, here is the summed-absolute deviation of `S^T @ S` from the identity: 21.1094991911992\n",
      "The provided alpha-beta overlap matrix is NOT unitary! This can happen when the alpha- and beta-spin orbitals do not span the same space. To provide an example of what this means, consider an active space chosen from unrestricted-spin orbitals. Computing <S^2> within this active space may not result in the same <S^2> value as obtained on the single-reference starting point. More importantly, this implies that the inactive subspace will account for the difference between these two <S^2> values, possibly resulting in significant spin contamination in both subspaces. You should verify whether this is intentional/acceptable or whether your choice of active space can be improved. As a reference, here is the summed-absolute deviation of `S^T @ S` from the identity: 21.1094991911992\n"
     ]
    },
    {
     "name": "stdout",
     "output_type": "stream",
     "text": [
      "orbital_rotations:  15 \n",
      " [[0, 1], [0, 2], [0, 3], [0, 4], [0, 5], [1, 2], [1, 3], [1, 4], [1, 5], [2, 3], [2, 4], [2, 5], [3, 4], [3, 5], [4, 5]]\n",
      "self._parameters:  15 \n",
      " [-0.09252745  0.00592473  0.00070847  0.00898281 -0.10604098  0.12336208\n",
      "  0.12412622  0.00702634 -0.05120823  0.08890358  0.0418186   0.05869172\n",
      "  0.04398168  0.06527347 -0.03261392]\n",
      "orbital_rotations:  15 \n",
      " [[0, 1], [0, 2], [0, 3], [0, 4], [0, 5], [1, 2], [1, 3], [1, 4], [1, 5], [2, 3], [2, 4], [2, 5], [3, 4], [3, 5], [4, 5]]\n",
      "self._parameters:  15 \n",
      " [-0.09252745  0.00592473  0.00070847  0.00898281 -0.10604098  0.12336208\n",
      "  0.12412622  0.00700634 -0.05120823  0.08890358  0.0418186   0.05869172\n",
      "  0.04398168  0.06527347 -0.03261392]\n"
     ]
    },
    {
     "name": "stderr",
     "output_type": "stream",
     "text": [
      "The provided alpha-beta overlap matrix is NOT unitary! This can happen when the alpha- and beta-spin orbitals do not span the same space. To provide an example of what this means, consider an active space chosen from unrestricted-spin orbitals. Computing <S^2> within this active space may not result in the same <S^2> value as obtained on the single-reference starting point. More importantly, this implies that the inactive subspace will account for the difference between these two <S^2> values, possibly resulting in significant spin contamination in both subspaces. You should verify whether this is intentional/acceptable or whether your choice of active space can be improved. As a reference, here is the summed-absolute deviation of `S^T @ S` from the identity: 21.1094991911992\n",
      "The provided alpha-beta overlap matrix is NOT unitary! This can happen when the alpha- and beta-spin orbitals do not span the same space. To provide an example of what this means, consider an active space chosen from unrestricted-spin orbitals. Computing <S^2> within this active space may not result in the same <S^2> value as obtained on the single-reference starting point. More importantly, this implies that the inactive subspace will account for the difference between these two <S^2> values, possibly resulting in significant spin contamination in both subspaces. You should verify whether this is intentional/acceptable or whether your choice of active space can be improved. As a reference, here is the summed-absolute deviation of `S^T @ S` from the identity: 21.1094991911992\n"
     ]
    },
    {
     "name": "stdout",
     "output_type": "stream",
     "text": [
      "orbital_rotations:  15 \n",
      " [[0, 1], [0, 2], [0, 3], [0, 4], [0, 5], [1, 2], [1, 3], [1, 4], [1, 5], [2, 3], [2, 4], [2, 5], [3, 4], [3, 5], [4, 5]]\n",
      "self._parameters:  15 \n",
      " [-0.09252745  0.00592473  0.00070847  0.00898281 -0.10604098  0.12336208\n",
      "  0.12412622  0.00701634 -0.05119823  0.08890358  0.0418186   0.05869172\n",
      "  0.04398168  0.06527347 -0.03261392]\n",
      "orbital_rotations:  15 \n",
      " [[0, 1], [0, 2], [0, 3], [0, 4], [0, 5], [1, 2], [1, 3], [1, 4], [1, 5], [2, 3], [2, 4], [2, 5], [3, 4], [3, 5], [4, 5]]\n",
      "self._parameters:  15 \n",
      " [-0.09252745  0.00592473  0.00070847  0.00898281 -0.10604098  0.12336208\n",
      "  0.12412622  0.00701634 -0.05121823  0.08890358  0.0418186   0.05869172\n",
      "  0.04398168  0.06527347 -0.03261392]\n"
     ]
    },
    {
     "name": "stderr",
     "output_type": "stream",
     "text": [
      "The provided alpha-beta overlap matrix is NOT unitary! This can happen when the alpha- and beta-spin orbitals do not span the same space. To provide an example of what this means, consider an active space chosen from unrestricted-spin orbitals. Computing <S^2> within this active space may not result in the same <S^2> value as obtained on the single-reference starting point. More importantly, this implies that the inactive subspace will account for the difference between these two <S^2> values, possibly resulting in significant spin contamination in both subspaces. You should verify whether this is intentional/acceptable or whether your choice of active space can be improved. As a reference, here is the summed-absolute deviation of `S^T @ S` from the identity: 21.1094991911992\n",
      "The provided alpha-beta overlap matrix is NOT unitary! This can happen when the alpha- and beta-spin orbitals do not span the same space. To provide an example of what this means, consider an active space chosen from unrestricted-spin orbitals. Computing <S^2> within this active space may not result in the same <S^2> value as obtained on the single-reference starting point. More importantly, this implies that the inactive subspace will account for the difference between these two <S^2> values, possibly resulting in significant spin contamination in both subspaces. You should verify whether this is intentional/acceptable or whether your choice of active space can be improved. As a reference, here is the summed-absolute deviation of `S^T @ S` from the identity: 21.1094991911992\n"
     ]
    },
    {
     "name": "stdout",
     "output_type": "stream",
     "text": [
      "orbital_rotations:  15 \n",
      " [[0, 1], [0, 2], [0, 3], [0, 4], [0, 5], [1, 2], [1, 3], [1, 4], [1, 5], [2, 3], [2, 4], [2, 5], [3, 4], [3, 5], [4, 5]]\n",
      "self._parameters:  15 \n",
      " [-0.09252745  0.00592473  0.00070847  0.00898281 -0.10604098  0.12336208\n",
      "  0.12412622  0.00701634 -0.05120823  0.08891358  0.0418186   0.05869172\n",
      "  0.04398168  0.06527347 -0.03261392]\n",
      "orbital_rotations:  15 \n",
      " [[0, 1], [0, 2], [0, 3], [0, 4], [0, 5], [1, 2], [1, 3], [1, 4], [1, 5], [2, 3], [2, 4], [2, 5], [3, 4], [3, 5], [4, 5]]\n",
      "self._parameters:  15 \n",
      " [-0.09252745  0.00592473  0.00070847  0.00898281 -0.10604098  0.12336208\n",
      "  0.12412622  0.00701634 -0.05120823  0.08889358  0.0418186   0.05869172\n",
      "  0.04398168  0.06527347 -0.03261392]\n"
     ]
    },
    {
     "name": "stderr",
     "output_type": "stream",
     "text": [
      "The provided alpha-beta overlap matrix is NOT unitary! This can happen when the alpha- and beta-spin orbitals do not span the same space. To provide an example of what this means, consider an active space chosen from unrestricted-spin orbitals. Computing <S^2> within this active space may not result in the same <S^2> value as obtained on the single-reference starting point. More importantly, this implies that the inactive subspace will account for the difference between these two <S^2> values, possibly resulting in significant spin contamination in both subspaces. You should verify whether this is intentional/acceptable or whether your choice of active space can be improved. As a reference, here is the summed-absolute deviation of `S^T @ S` from the identity: 21.1094991911992\n",
      "The provided alpha-beta overlap matrix is NOT unitary! This can happen when the alpha- and beta-spin orbitals do not span the same space. To provide an example of what this means, consider an active space chosen from unrestricted-spin orbitals. Computing <S^2> within this active space may not result in the same <S^2> value as obtained on the single-reference starting point. More importantly, this implies that the inactive subspace will account for the difference between these two <S^2> values, possibly resulting in significant spin contamination in both subspaces. You should verify whether this is intentional/acceptable or whether your choice of active space can be improved. As a reference, here is the summed-absolute deviation of `S^T @ S` from the identity: 21.1094991911992\n"
     ]
    },
    {
     "name": "stdout",
     "output_type": "stream",
     "text": [
      "orbital_rotations:  15 \n",
      " [[0, 1], [0, 2], [0, 3], [0, 4], [0, 5], [1, 2], [1, 3], [1, 4], [1, 5], [2, 3], [2, 4], [2, 5], [3, 4], [3, 5], [4, 5]]\n",
      "self._parameters:  15 \n",
      " [-0.09252745  0.00592473  0.00070847  0.00898281 -0.10604098  0.12336208\n",
      "  0.12412622  0.00701634 -0.05120823  0.08890358  0.0418286   0.05869172\n",
      "  0.04398168  0.06527347 -0.03261392]\n",
      "orbital_rotations:  15 \n",
      " [[0, 1], [0, 2], [0, 3], [0, 4], [0, 5], [1, 2], [1, 3], [1, 4], [1, 5], [2, 3], [2, 4], [2, 5], [3, 4], [3, 5], [4, 5]]\n",
      "self._parameters:  15 \n",
      " [-0.09252745  0.00592473  0.00070847  0.00898281 -0.10604098  0.12336208\n",
      "  0.12412622  0.00701634 -0.05120823  0.08890358  0.0418086   0.05869172\n",
      "  0.04398168  0.06527347 -0.03261392]\n"
     ]
    },
    {
     "name": "stderr",
     "output_type": "stream",
     "text": [
      "The provided alpha-beta overlap matrix is NOT unitary! This can happen when the alpha- and beta-spin orbitals do not span the same space. To provide an example of what this means, consider an active space chosen from unrestricted-spin orbitals. Computing <S^2> within this active space may not result in the same <S^2> value as obtained on the single-reference starting point. More importantly, this implies that the inactive subspace will account for the difference between these two <S^2> values, possibly resulting in significant spin contamination in both subspaces. You should verify whether this is intentional/acceptable or whether your choice of active space can be improved. As a reference, here is the summed-absolute deviation of `S^T @ S` from the identity: 21.1094991911992\n",
      "The provided alpha-beta overlap matrix is NOT unitary! This can happen when the alpha- and beta-spin orbitals do not span the same space. To provide an example of what this means, consider an active space chosen from unrestricted-spin orbitals. Computing <S^2> within this active space may not result in the same <S^2> value as obtained on the single-reference starting point. More importantly, this implies that the inactive subspace will account for the difference between these two <S^2> values, possibly resulting in significant spin contamination in both subspaces. You should verify whether this is intentional/acceptable or whether your choice of active space can be improved. As a reference, here is the summed-absolute deviation of `S^T @ S` from the identity: 21.1094991911992\n"
     ]
    },
    {
     "name": "stdout",
     "output_type": "stream",
     "text": [
      "orbital_rotations:  15 \n",
      " [[0, 1], [0, 2], [0, 3], [0, 4], [0, 5], [1, 2], [1, 3], [1, 4], [1, 5], [2, 3], [2, 4], [2, 5], [3, 4], [3, 5], [4, 5]]\n",
      "self._parameters:  15 \n",
      " [-0.09252745  0.00592473  0.00070847  0.00898281 -0.10604098  0.12336208\n",
      "  0.12412622  0.00701634 -0.05120823  0.08890358  0.0418186   0.05870172\n",
      "  0.04398168  0.06527347 -0.03261392]\n",
      "orbital_rotations:  15 \n",
      " [[0, 1], [0, 2], [0, 3], [0, 4], [0, 5], [1, 2], [1, 3], [1, 4], [1, 5], [2, 3], [2, 4], [2, 5], [3, 4], [3, 5], [4, 5]]\n",
      "self._parameters:  15 \n",
      " [-0.09252745  0.00592473  0.00070847  0.00898281 -0.10604098  0.12336208\n",
      "  0.12412622  0.00701634 -0.05120823  0.08890358  0.0418186   0.05868172\n",
      "  0.04398168  0.06527347 -0.03261392]\n"
     ]
    },
    {
     "name": "stderr",
     "output_type": "stream",
     "text": [
      "The provided alpha-beta overlap matrix is NOT unitary! This can happen when the alpha- and beta-spin orbitals do not span the same space. To provide an example of what this means, consider an active space chosen from unrestricted-spin orbitals. Computing <S^2> within this active space may not result in the same <S^2> value as obtained on the single-reference starting point. More importantly, this implies that the inactive subspace will account for the difference between these two <S^2> values, possibly resulting in significant spin contamination in both subspaces. You should verify whether this is intentional/acceptable or whether your choice of active space can be improved. As a reference, here is the summed-absolute deviation of `S^T @ S` from the identity: 21.1094991911992\n",
      "The provided alpha-beta overlap matrix is NOT unitary! This can happen when the alpha- and beta-spin orbitals do not span the same space. To provide an example of what this means, consider an active space chosen from unrestricted-spin orbitals. Computing <S^2> within this active space may not result in the same <S^2> value as obtained on the single-reference starting point. More importantly, this implies that the inactive subspace will account for the difference between these two <S^2> values, possibly resulting in significant spin contamination in both subspaces. You should verify whether this is intentional/acceptable or whether your choice of active space can be improved. As a reference, here is the summed-absolute deviation of `S^T @ S` from the identity: 21.1094991911992\n"
     ]
    },
    {
     "name": "stdout",
     "output_type": "stream",
     "text": [
      "orbital_rotations:  15 \n",
      " [[0, 1], [0, 2], [0, 3], [0, 4], [0, 5], [1, 2], [1, 3], [1, 4], [1, 5], [2, 3], [2, 4], [2, 5], [3, 4], [3, 5], [4, 5]]\n",
      "self._parameters:  15 \n",
      " [-0.09252745  0.00592473  0.00070847  0.00898281 -0.10604098  0.12336208\n",
      "  0.12412622  0.00701634 -0.05120823  0.08890358  0.0418186   0.05869172\n",
      "  0.04399168  0.06527347 -0.03261392]\n",
      "orbital_rotations:  15 \n",
      " [[0, 1], [0, 2], [0, 3], [0, 4], [0, 5], [1, 2], [1, 3], [1, 4], [1, 5], [2, 3], [2, 4], [2, 5], [3, 4], [3, 5], [4, 5]]\n",
      "self._parameters:  15 \n",
      " [-0.09252745  0.00592473  0.00070847  0.00898281 -0.10604098  0.12336208\n",
      "  0.12412622  0.00701634 -0.05120823  0.08890358  0.0418186   0.05869172\n",
      "  0.04397168  0.06527347 -0.03261392]\n"
     ]
    },
    {
     "name": "stderr",
     "output_type": "stream",
     "text": [
      "The provided alpha-beta overlap matrix is NOT unitary! This can happen when the alpha- and beta-spin orbitals do not span the same space. To provide an example of what this means, consider an active space chosen from unrestricted-spin orbitals. Computing <S^2> within this active space may not result in the same <S^2> value as obtained on the single-reference starting point. More importantly, this implies that the inactive subspace will account for the difference between these two <S^2> values, possibly resulting in significant spin contamination in both subspaces. You should verify whether this is intentional/acceptable or whether your choice of active space can be improved. As a reference, here is the summed-absolute deviation of `S^T @ S` from the identity: 21.1094991911992\n",
      "The provided alpha-beta overlap matrix is NOT unitary! This can happen when the alpha- and beta-spin orbitals do not span the same space. To provide an example of what this means, consider an active space chosen from unrestricted-spin orbitals. Computing <S^2> within this active space may not result in the same <S^2> value as obtained on the single-reference starting point. More importantly, this implies that the inactive subspace will account for the difference between these two <S^2> values, possibly resulting in significant spin contamination in both subspaces. You should verify whether this is intentional/acceptable or whether your choice of active space can be improved. As a reference, here is the summed-absolute deviation of `S^T @ S` from the identity: 21.1094991911992\n"
     ]
    },
    {
     "name": "stdout",
     "output_type": "stream",
     "text": [
      "orbital_rotations:  15 \n",
      " [[0, 1], [0, 2], [0, 3], [0, 4], [0, 5], [1, 2], [1, 3], [1, 4], [1, 5], [2, 3], [2, 4], [2, 5], [3, 4], [3, 5], [4, 5]]\n",
      "self._parameters:  15 \n",
      " [-0.09252745  0.00592473  0.00070847  0.00898281 -0.10604098  0.12336208\n",
      "  0.12412622  0.00701634 -0.05120823  0.08890358  0.0418186   0.05869172\n",
      "  0.04398168  0.06528347 -0.03261392]\n",
      "orbital_rotations:  15 \n",
      " [[0, 1], [0, 2], [0, 3], [0, 4], [0, 5], [1, 2], [1, 3], [1, 4], [1, 5], [2, 3], [2, 4], [2, 5], [3, 4], [3, 5], [4, 5]]\n",
      "self._parameters:  15 \n",
      " [-0.09252745  0.00592473  0.00070847  0.00898281 -0.10604098  0.12336208\n",
      "  0.12412622  0.00701634 -0.05120823  0.08890358  0.0418186   0.05869172\n",
      "  0.04398168  0.06526347 -0.03261392]\n"
     ]
    },
    {
     "name": "stderr",
     "output_type": "stream",
     "text": [
      "The provided alpha-beta overlap matrix is NOT unitary! This can happen when the alpha- and beta-spin orbitals do not span the same space. To provide an example of what this means, consider an active space chosen from unrestricted-spin orbitals. Computing <S^2> within this active space may not result in the same <S^2> value as obtained on the single-reference starting point. More importantly, this implies that the inactive subspace will account for the difference between these two <S^2> values, possibly resulting in significant spin contamination in both subspaces. You should verify whether this is intentional/acceptable or whether your choice of active space can be improved. As a reference, here is the summed-absolute deviation of `S^T @ S` from the identity: 21.1094991911992\n",
      "The provided alpha-beta overlap matrix is NOT unitary! This can happen when the alpha- and beta-spin orbitals do not span the same space. To provide an example of what this means, consider an active space chosen from unrestricted-spin orbitals. Computing <S^2> within this active space may not result in the same <S^2> value as obtained on the single-reference starting point. More importantly, this implies that the inactive subspace will account for the difference between these two <S^2> values, possibly resulting in significant spin contamination in both subspaces. You should verify whether this is intentional/acceptable or whether your choice of active space can be improved. As a reference, here is the summed-absolute deviation of `S^T @ S` from the identity: 21.1094991911992\n"
     ]
    },
    {
     "name": "stdout",
     "output_type": "stream",
     "text": [
      "orbital_rotations:  15 \n",
      " [[0, 1], [0, 2], [0, 3], [0, 4], [0, 5], [1, 2], [1, 3], [1, 4], [1, 5], [2, 3], [2, 4], [2, 5], [3, 4], [3, 5], [4, 5]]\n",
      "self._parameters:  15 \n",
      " [-0.09252745  0.00592473  0.00070847  0.00898281 -0.10604098  0.12336208\n",
      "  0.12412622  0.00701634 -0.05120823  0.08890358  0.0418186   0.05869172\n",
      "  0.04398168  0.06527347 -0.03260392]\n",
      "orbital_rotations:  15 \n",
      " [[0, 1], [0, 2], [0, 3], [0, 4], [0, 5], [1, 2], [1, 3], [1, 4], [1, 5], [2, 3], [2, 4], [2, 5], [3, 4], [3, 5], [4, 5]]\n",
      "self._parameters:  15 \n",
      " [-0.09252745  0.00592473  0.00070847  0.00898281 -0.10604098  0.12336208\n",
      "  0.12412622  0.00701634 -0.05120823  0.08890358  0.0418186   0.05869172\n",
      "  0.04398168  0.06527347 -0.03262392]\n"
     ]
    },
    {
     "name": "stderr",
     "output_type": "stream",
     "text": [
      "The provided alpha-beta overlap matrix is NOT unitary! This can happen when the alpha- and beta-spin orbitals do not span the same space. To provide an example of what this means, consider an active space chosen from unrestricted-spin orbitals. Computing <S^2> within this active space may not result in the same <S^2> value as obtained on the single-reference starting point. More importantly, this implies that the inactive subspace will account for the difference between these two <S^2> values, possibly resulting in significant spin contamination in both subspaces. You should verify whether this is intentional/acceptable or whether your choice of active space can be improved. As a reference, here is the summed-absolute deviation of `S^T @ S` from the identity: 21.1094991911992\n",
      "The provided alpha-beta overlap matrix is NOT unitary! This can happen when the alpha- and beta-spin orbitals do not span the same space. To provide an example of what this means, consider an active space chosen from unrestricted-spin orbitals. Computing <S^2> within this active space may not result in the same <S^2> value as obtained on the single-reference starting point. More importantly, this implies that the inactive subspace will account for the difference between these two <S^2> values, possibly resulting in significant spin contamination in both subspaces. You should verify whether this is intentional/acceptable or whether your choice of active space can be improved. As a reference, here is the summed-absolute deviation of `S^T @ S` from the identity: 21.1094991911992\n"
     ]
    },
    {
     "name": "stdout",
     "output_type": "stream",
     "text": [
      "parameters:  [-0.01870045 -0.00350374 -0.00365865 -0.01733092 -0.00736135 -0.07340723\n",
      " -0.07356135 -0.09083672 -0.08735427  0.00065408  0.00307724  0.01006136\n",
      " -0.11076893  0.10848735  0.12415223  0.00799493 -0.04502736  0.08081323\n",
      "  0.05019449  0.06437223  0.03608585  0.04883898 -0.03289376]\n",
      "Parameters of wavefunction are: \n",
      "%s array([-0.01870045, -0.00350374, -0.00365865, -0.01733092, -0.00736135,\n",
      "       -0.07340723, -0.07356135, -0.09083672])\n",
      "Parameters of orbital rotation are: \n",
      "%s array([-0.08735427,  0.00065408,  0.00307724,  0.01006136, -0.11076893,\n",
      "        0.10848735,  0.12415223,  0.00799493, -0.04502736,  0.08081323,\n",
      "        0.05019449,  0.06437223,  0.03608585,  0.04883898, -0.03289376])\n",
      "orbital_rotations:  15 \n",
      " [[0, 1], [0, 2], [0, 3], [0, 4], [0, 5], [1, 2], [1, 3], [1, 4], [1, 5], [2, 3], [2, 4], [2, 5], [3, 4], [3, 5], [4, 5]]\n",
      "self._parameters:  15 \n",
      " [-0.08735427  0.00065408  0.00307724  0.01006136 -0.11076893  0.10848735\n",
      "  0.12415223  0.00799493 -0.04502736  0.08081323  0.05019449  0.06437223\n",
      "  0.03608585  0.04883898 -0.03289376]\n",
      "Nature matrix a:  [[ 9.90015219e-01 -8.96051511e-02 -9.13728528e-04  4.43715472e-05\n",
      "   7.88389549e-03 -1.08525525e-01]\n",
      " [ 8.41046416e-02  9.81616545e-01  1.03837620e-01  1.28656329e-01\n",
      "   1.25998836e-02 -4.31498324e-02]\n",
      " [-2.16169479e-03 -1.11288172e-01  9.87563697e-01  7.10602025e-02\n",
      "   5.19739878e-02  6.76562322e-02]\n",
      " [-5.76735557e-03 -1.17755394e-01 -8.94155698e-02  9.87227618e-01\n",
      "   3.40504408e-02  4.82437339e-02]\n",
      " [-1.20780554e-02 -3.31378843e-03 -4.78261741e-02 -3.75107406e-02\n",
      "   9.97472745e-01 -3.45957276e-02]\n",
      " [ 1.12305209e-01  4.62331468e-02 -6.04348450e-02 -4.87090194e-02\n",
      "   3.10883061e-02  9.89069570e-01]]\n",
      "Nature matrix b:  [[ 9.90015219e-01 -8.96051511e-02 -9.13728528e-04  4.43715472e-05\n",
      "   7.88389549e-03 -1.08525525e-01]\n",
      " [ 8.41046416e-02  9.81616545e-01  1.03837620e-01  1.28656329e-01\n",
      "   1.25998836e-02 -4.31498324e-02]\n",
      " [-2.16169479e-03 -1.11288172e-01  9.87563697e-01  7.10602025e-02\n",
      "   5.19739878e-02  6.76562322e-02]\n",
      " [-5.76735557e-03 -1.17755394e-01 -8.94155698e-02  9.87227618e-01\n",
      "   3.40504408e-02  4.82437339e-02]\n",
      " [-1.20780554e-02 -3.31378843e-03 -4.78261741e-02 -3.75107406e-02\n",
      "   9.97472745e-01 -3.45957276e-02]\n",
      " [ 1.12305209e-01  4.62331468e-02 -6.04348450e-02 -4.87090194e-02\n",
      "   3.10883061e-02  9.89069570e-01]]\n"
     ]
    },
    {
     "name": "stderr",
     "output_type": "stream",
     "text": [
      "The provided alpha-beta overlap matrix is NOT unitary! This can happen when the alpha- and beta-spin orbitals do not span the same space. To provide an example of what this means, consider an active space chosen from unrestricted-spin orbitals. Computing <S^2> within this active space may not result in the same <S^2> value as obtained on the single-reference starting point. More importantly, this implies that the inactive subspace will account for the difference between these two <S^2> values, possibly resulting in significant spin contamination in both subspaces. You should verify whether this is intentional/acceptable or whether your choice of active space can be improved. As a reference, here is the summed-absolute deviation of `S^T @ S` from the identity: 21.1094991911992\n"
     ]
    },
    {
     "name": "stdout",
     "output_type": "stream",
     "text": [
      "Rotated operator:  SparsePauliOp(['IIIIIIIIIIII', 'IIIIIIIIIIIZ', 'IIIIIIIIIIXY', 'IIIIIIIIIIYY', 'IIIIIIIIIIXX'],\n",
      "              coeffs=[-5.83806565+0.j        ,  1.32486375+0.j        ,  0.        -0.37122006j,\n",
      "  0.18785212+0.j        ,  0.18785212+0.j        ])\n",
      "Energy evaluation returned %s - %.5f (ms), eval count: %s -10.497719446261604 141.3576602935791\n",
      "parameters:  [-0.00425857 -0.00050131 -0.00053111 -0.00824384 -0.01954785 -0.08369363\n",
      " -0.08377693 -0.08052419 -0.09110015  0.00447054  0.00136203  0.00928039\n",
      " -0.10734545  0.11925808  0.12413339  0.00728634 -0.0495029   0.08667142\n",
      "  0.04412954  0.060259    0.04180319  0.06073912 -0.03269113]\n",
      "Parameters of wavefunction are: \n",
      "%s array([-0.00425857, -0.00050131, -0.00053111, -0.00824384, -0.01954785,\n",
      "       -0.08369363, -0.08377693, -0.08052419])\n",
      "Parameters of orbital rotation are: \n",
      "%s array([-0.09110015,  0.00447054,  0.00136203,  0.00928039, -0.10734545,\n",
      "        0.11925808,  0.12413339,  0.00728634, -0.0495029 ,  0.08667142,\n",
      "        0.04412954,  0.060259  ,  0.04180319,  0.06073912, -0.03269113])\n",
      "orbital_rotations:  15 \n",
      " [[0, 1], [0, 2], [0, 3], [0, 4], [0, 5], [1, 2], [1, 3], [1, 4], [1, 5], [2, 3], [2, 4], [2, 5], [3, 4], [3, 5], [4, 5]]\n",
      "self._parameters:  15 \n",
      " [-0.09110015  0.00447054  0.00136203  0.00928039 -0.10734545  0.11925808\n",
      "  0.12413339  0.00728634 -0.0495029   0.08667142  0.04412954  0.060259\n",
      "  0.04180319  0.06073912 -0.03269113]\n",
      "Nature matrix a:  [[ 0.99005642 -0.09358774  0.00194236 -0.00124122  0.00723872 -0.10474691]\n",
      " [ 0.08753107  0.97986681  0.11431484  0.12962218  0.01210707 -0.0467224 ]\n",
      " [-0.00683217 -0.12197357  0.98639047  0.07586793  0.04615982  0.06498418]\n",
      " [-0.00352608 -0.1165219  -0.09609643  0.98587928  0.04009181  0.06008642]\n",
      " [-0.0111566  -0.00247    -0.04149294 -0.0428361   0.99755595 -0.03456807]\n",
      " [ 0.10928413  0.0513943  -0.05482702 -0.06039634  0.03074175  0.98884621]]\n",
      "Nature matrix b:  [[ 0.99005642 -0.09358774  0.00194236 -0.00124122  0.00723872 -0.10474691]\n",
      " [ 0.08753107  0.97986681  0.11431484  0.12962218  0.01210707 -0.0467224 ]\n",
      " [-0.00683217 -0.12197357  0.98639047  0.07586793  0.04615982  0.06498418]\n",
      " [-0.00352608 -0.1165219  -0.09609643  0.98587928  0.04009181  0.06008642]\n",
      " [-0.0111566  -0.00247    -0.04149294 -0.0428361   0.99755595 -0.03456807]\n",
      " [ 0.10928413  0.0513943  -0.05482702 -0.06039634  0.03074175  0.98884621]]\n",
      "Rotated operator:  SparsePauliOp(['IIIIIIIIIIII', 'IIIIIIIIIIIZ', 'IIIIIIIIIIXY', 'IIIIIIIIIIYY', 'IIIIIIIIIIXX'],\n",
      "              coeffs=[-5.80808517+0.j        ,  1.32489624+0.j        ,  0.        -0.37030977j,\n",
      "  0.18731289+0.j        ,  0.18731289+0.j        ])\n",
      "Energy evaluation returned %s - %.5f (ms), eval count: %s -10.50378078881403 141.951322555542\n"
     ]
    },
    {
     "name": "stderr",
     "output_type": "stream",
     "text": [
      "The provided alpha-beta overlap matrix is NOT unitary! This can happen when the alpha- and beta-spin orbitals do not span the same space. To provide an example of what this means, consider an active space chosen from unrestricted-spin orbitals. Computing <S^2> within this active space may not result in the same <S^2> value as obtained on the single-reference starting point. More importantly, this implies that the inactive subspace will account for the difference between these two <S^2> values, possibly resulting in significant spin contamination in both subspaces. You should verify whether this is intentional/acceptable or whether your choice of active space can be improved. As a reference, here is the summed-absolute deviation of `S^T @ S` from the identity: 21.1094991911992\n"
     ]
    },
    {
     "name": "stdout",
     "output_type": "stream",
     "text": [
      "orbital_rotations:  15 \n",
      " [[0, 1], [0, 2], [0, 3], [0, 4], [0, 5], [1, 2], [1, 3], [1, 4], [1, 5], [2, 3], [2, 4], [2, 5], [3, 4], [3, 5], [4, 5]]\n",
      "self._parameters:  15 \n",
      " [-0.09109015  0.00447054  0.00136203  0.00928039 -0.10734545  0.11925808\n",
      "  0.12413339  0.00728634 -0.0495029   0.08667142  0.04412954  0.060259\n",
      "  0.04180319  0.06073912 -0.03269113]\n",
      "orbital_rotations:  15 \n",
      " [[0, 1], [0, 2], [0, 3], [0, 4], [0, 5], [1, 2], [1, 3], [1, 4], [1, 5], [2, 3], [2, 4], [2, 5], [3, 4], [3, 5], [4, 5]]\n",
      "self._parameters:  15 \n",
      " [-0.09111015  0.00447054  0.00136203  0.00928039 -0.10734545  0.11925808\n",
      "  0.12413339  0.00728634 -0.0495029   0.08667142  0.04412954  0.060259\n",
      "  0.04180319  0.06073912 -0.03269113]\n"
     ]
    },
    {
     "name": "stderr",
     "output_type": "stream",
     "text": [
      "The provided alpha-beta overlap matrix is NOT unitary! This can happen when the alpha- and beta-spin orbitals do not span the same space. To provide an example of what this means, consider an active space chosen from unrestricted-spin orbitals. Computing <S^2> within this active space may not result in the same <S^2> value as obtained on the single-reference starting point. More importantly, this implies that the inactive subspace will account for the difference between these two <S^2> values, possibly resulting in significant spin contamination in both subspaces. You should verify whether this is intentional/acceptable or whether your choice of active space can be improved. As a reference, here is the summed-absolute deviation of `S^T @ S` from the identity: 21.1094991911992\n",
      "The provided alpha-beta overlap matrix is NOT unitary! This can happen when the alpha- and beta-spin orbitals do not span the same space. To provide an example of what this means, consider an active space chosen from unrestricted-spin orbitals. Computing <S^2> within this active space may not result in the same <S^2> value as obtained on the single-reference starting point. More importantly, this implies that the inactive subspace will account for the difference between these two <S^2> values, possibly resulting in significant spin contamination in both subspaces. You should verify whether this is intentional/acceptable or whether your choice of active space can be improved. As a reference, here is the summed-absolute deviation of `S^T @ S` from the identity: 21.1094991911992\n"
     ]
    },
    {
     "name": "stdout",
     "output_type": "stream",
     "text": [
      "orbital_rotations:  15 \n",
      " [[0, 1], [0, 2], [0, 3], [0, 4], [0, 5], [1, 2], [1, 3], [1, 4], [1, 5], [2, 3], [2, 4], [2, 5], [3, 4], [3, 5], [4, 5]]\n",
      "self._parameters:  15 \n",
      " [-0.09110015  0.00448054  0.00136203  0.00928039 -0.10734545  0.11925808\n",
      "  0.12413339  0.00728634 -0.0495029   0.08667142  0.04412954  0.060259\n",
      "  0.04180319  0.06073912 -0.03269113]\n",
      "orbital_rotations:  15 \n",
      " [[0, 1], [0, 2], [0, 3], [0, 4], [0, 5], [1, 2], [1, 3], [1, 4], [1, 5], [2, 3], [2, 4], [2, 5], [3, 4], [3, 5], [4, 5]]\n",
      "self._parameters:  15 \n",
      " [-0.09110015  0.00446054  0.00136203  0.00928039 -0.10734545  0.11925808\n",
      "  0.12413339  0.00728634 -0.0495029   0.08667142  0.04412954  0.060259\n",
      "  0.04180319  0.06073912 -0.03269113]\n"
     ]
    },
    {
     "name": "stderr",
     "output_type": "stream",
     "text": [
      "The provided alpha-beta overlap matrix is NOT unitary! This can happen when the alpha- and beta-spin orbitals do not span the same space. To provide an example of what this means, consider an active space chosen from unrestricted-spin orbitals. Computing <S^2> within this active space may not result in the same <S^2> value as obtained on the single-reference starting point. More importantly, this implies that the inactive subspace will account for the difference between these two <S^2> values, possibly resulting in significant spin contamination in both subspaces. You should verify whether this is intentional/acceptable or whether your choice of active space can be improved. As a reference, here is the summed-absolute deviation of `S^T @ S` from the identity: 21.1094991911992\n",
      "The provided alpha-beta overlap matrix is NOT unitary! This can happen when the alpha- and beta-spin orbitals do not span the same space. To provide an example of what this means, consider an active space chosen from unrestricted-spin orbitals. Computing <S^2> within this active space may not result in the same <S^2> value as obtained on the single-reference starting point. More importantly, this implies that the inactive subspace will account for the difference between these two <S^2> values, possibly resulting in significant spin contamination in both subspaces. You should verify whether this is intentional/acceptable or whether your choice of active space can be improved. As a reference, here is the summed-absolute deviation of `S^T @ S` from the identity: 21.1094991911992\n"
     ]
    },
    {
     "name": "stdout",
     "output_type": "stream",
     "text": [
      "orbital_rotations:  15 \n",
      " [[0, 1], [0, 2], [0, 3], [0, 4], [0, 5], [1, 2], [1, 3], [1, 4], [1, 5], [2, 3], [2, 4], [2, 5], [3, 4], [3, 5], [4, 5]]\n",
      "self._parameters:  15 \n",
      " [-0.09110015  0.00447054  0.00137203  0.00928039 -0.10734545  0.11925808\n",
      "  0.12413339  0.00728634 -0.0495029   0.08667142  0.04412954  0.060259\n",
      "  0.04180319  0.06073912 -0.03269113]\n",
      "orbital_rotations:  15 \n",
      " [[0, 1], [0, 2], [0, 3], [0, 4], [0, 5], [1, 2], [1, 3], [1, 4], [1, 5], [2, 3], [2, 4], [2, 5], [3, 4], [3, 5], [4, 5]]\n",
      "self._parameters:  15 \n",
      " [-0.09110015  0.00447054  0.00135203  0.00928039 -0.10734545  0.11925808\n",
      "  0.12413339  0.00728634 -0.0495029   0.08667142  0.04412954  0.060259\n",
      "  0.04180319  0.06073912 -0.03269113]\n"
     ]
    },
    {
     "name": "stderr",
     "output_type": "stream",
     "text": [
      "The provided alpha-beta overlap matrix is NOT unitary! This can happen when the alpha- and beta-spin orbitals do not span the same space. To provide an example of what this means, consider an active space chosen from unrestricted-spin orbitals. Computing <S^2> within this active space may not result in the same <S^2> value as obtained on the single-reference starting point. More importantly, this implies that the inactive subspace will account for the difference between these two <S^2> values, possibly resulting in significant spin contamination in both subspaces. You should verify whether this is intentional/acceptable or whether your choice of active space can be improved. As a reference, here is the summed-absolute deviation of `S^T @ S` from the identity: 21.1094991911992\n",
      "The provided alpha-beta overlap matrix is NOT unitary! This can happen when the alpha- and beta-spin orbitals do not span the same space. To provide an example of what this means, consider an active space chosen from unrestricted-spin orbitals. Computing <S^2> within this active space may not result in the same <S^2> value as obtained on the single-reference starting point. More importantly, this implies that the inactive subspace will account for the difference between these two <S^2> values, possibly resulting in significant spin contamination in both subspaces. You should verify whether this is intentional/acceptable or whether your choice of active space can be improved. As a reference, here is the summed-absolute deviation of `S^T @ S` from the identity: 21.1094991911992\n"
     ]
    },
    {
     "name": "stdout",
     "output_type": "stream",
     "text": [
      "orbital_rotations:  15 \n",
      " [[0, 1], [0, 2], [0, 3], [0, 4], [0, 5], [1, 2], [1, 3], [1, 4], [1, 5], [2, 3], [2, 4], [2, 5], [3, 4], [3, 5], [4, 5]]\n",
      "self._parameters:  15 \n",
      " [-0.09110015  0.00447054  0.00136203  0.00929039 -0.10734545  0.11925808\n",
      "  0.12413339  0.00728634 -0.0495029   0.08667142  0.04412954  0.060259\n",
      "  0.04180319  0.06073912 -0.03269113]\n",
      "orbital_rotations:  15 \n",
      " [[0, 1], [0, 2], [0, 3], [0, 4], [0, 5], [1, 2], [1, 3], [1, 4], [1, 5], [2, 3], [2, 4], [2, 5], [3, 4], [3, 5], [4, 5]]\n",
      "self._parameters:  15 \n",
      " [-0.09110015  0.00447054  0.00136203  0.00927039 -0.10734545  0.11925808\n",
      "  0.12413339  0.00728634 -0.0495029   0.08667142  0.04412954  0.060259\n",
      "  0.04180319  0.06073912 -0.03269113]\n"
     ]
    },
    {
     "name": "stderr",
     "output_type": "stream",
     "text": [
      "The provided alpha-beta overlap matrix is NOT unitary! This can happen when the alpha- and beta-spin orbitals do not span the same space. To provide an example of what this means, consider an active space chosen from unrestricted-spin orbitals. Computing <S^2> within this active space may not result in the same <S^2> value as obtained on the single-reference starting point. More importantly, this implies that the inactive subspace will account for the difference between these two <S^2> values, possibly resulting in significant spin contamination in both subspaces. You should verify whether this is intentional/acceptable or whether your choice of active space can be improved. As a reference, here is the summed-absolute deviation of `S^T @ S` from the identity: 21.1094991911992\n",
      "The provided alpha-beta overlap matrix is NOT unitary! This can happen when the alpha- and beta-spin orbitals do not span the same space. To provide an example of what this means, consider an active space chosen from unrestricted-spin orbitals. Computing <S^2> within this active space may not result in the same <S^2> value as obtained on the single-reference starting point. More importantly, this implies that the inactive subspace will account for the difference between these two <S^2> values, possibly resulting in significant spin contamination in both subspaces. You should verify whether this is intentional/acceptable or whether your choice of active space can be improved. As a reference, here is the summed-absolute deviation of `S^T @ S` from the identity: 21.1094991911992\n"
     ]
    },
    {
     "name": "stdout",
     "output_type": "stream",
     "text": [
      "orbital_rotations:  15 \n",
      " [[0, 1], [0, 2], [0, 3], [0, 4], [0, 5], [1, 2], [1, 3], [1, 4], [1, 5], [2, 3], [2, 4], [2, 5], [3, 4], [3, 5], [4, 5]]\n",
      "self._parameters:  15 \n",
      " [-0.09110015  0.00447054  0.00136203  0.00928039 -0.10733545  0.11925808\n",
      "  0.12413339  0.00728634 -0.0495029   0.08667142  0.04412954  0.060259\n",
      "  0.04180319  0.06073912 -0.03269113]\n",
      "orbital_rotations:  15 \n",
      " [[0, 1], [0, 2], [0, 3], [0, 4], [0, 5], [1, 2], [1, 3], [1, 4], [1, 5], [2, 3], [2, 4], [2, 5], [3, 4], [3, 5], [4, 5]]\n",
      "self._parameters:  15 \n",
      " [-0.09110015  0.00447054  0.00136203  0.00928039 -0.10735545  0.11925808\n",
      "  0.12413339  0.00728634 -0.0495029   0.08667142  0.04412954  0.060259\n",
      "  0.04180319  0.06073912 -0.03269113]\n"
     ]
    },
    {
     "name": "stderr",
     "output_type": "stream",
     "text": [
      "The provided alpha-beta overlap matrix is NOT unitary! This can happen when the alpha- and beta-spin orbitals do not span the same space. To provide an example of what this means, consider an active space chosen from unrestricted-spin orbitals. Computing <S^2> within this active space may not result in the same <S^2> value as obtained on the single-reference starting point. More importantly, this implies that the inactive subspace will account for the difference between these two <S^2> values, possibly resulting in significant spin contamination in both subspaces. You should verify whether this is intentional/acceptable or whether your choice of active space can be improved. As a reference, here is the summed-absolute deviation of `S^T @ S` from the identity: 21.1094991911992\n",
      "The provided alpha-beta overlap matrix is NOT unitary! This can happen when the alpha- and beta-spin orbitals do not span the same space. To provide an example of what this means, consider an active space chosen from unrestricted-spin orbitals. Computing <S^2> within this active space may not result in the same <S^2> value as obtained on the single-reference starting point. More importantly, this implies that the inactive subspace will account for the difference between these two <S^2> values, possibly resulting in significant spin contamination in both subspaces. You should verify whether this is intentional/acceptable or whether your choice of active space can be improved. As a reference, here is the summed-absolute deviation of `S^T @ S` from the identity: 21.1094991911992\n"
     ]
    },
    {
     "name": "stdout",
     "output_type": "stream",
     "text": [
      "orbital_rotations:  15 \n",
      " [[0, 1], [0, 2], [0, 3], [0, 4], [0, 5], [1, 2], [1, 3], [1, 4], [1, 5], [2, 3], [2, 4], [2, 5], [3, 4], [3, 5], [4, 5]]\n",
      "self._parameters:  15 \n",
      " [-0.09110015  0.00447054  0.00136203  0.00928039 -0.10734545  0.11926808\n",
      "  0.12413339  0.00728634 -0.0495029   0.08667142  0.04412954  0.060259\n",
      "  0.04180319  0.06073912 -0.03269113]\n",
      "orbital_rotations:  15 \n",
      " [[0, 1], [0, 2], [0, 3], [0, 4], [0, 5], [1, 2], [1, 3], [1, 4], [1, 5], [2, 3], [2, 4], [2, 5], [3, 4], [3, 5], [4, 5]]\n",
      "self._parameters:  15 \n",
      " [-0.09110015  0.00447054  0.00136203  0.00928039 -0.10734545  0.11924808\n",
      "  0.12413339  0.00728634 -0.0495029   0.08667142  0.04412954  0.060259\n",
      "  0.04180319  0.06073912 -0.03269113]\n"
     ]
    },
    {
     "name": "stderr",
     "output_type": "stream",
     "text": [
      "The provided alpha-beta overlap matrix is NOT unitary! This can happen when the alpha- and beta-spin orbitals do not span the same space. To provide an example of what this means, consider an active space chosen from unrestricted-spin orbitals. Computing <S^2> within this active space may not result in the same <S^2> value as obtained on the single-reference starting point. More importantly, this implies that the inactive subspace will account for the difference between these two <S^2> values, possibly resulting in significant spin contamination in both subspaces. You should verify whether this is intentional/acceptable or whether your choice of active space can be improved. As a reference, here is the summed-absolute deviation of `S^T @ S` from the identity: 21.1094991911992\n",
      "The provided alpha-beta overlap matrix is NOT unitary! This can happen when the alpha- and beta-spin orbitals do not span the same space. To provide an example of what this means, consider an active space chosen from unrestricted-spin orbitals. Computing <S^2> within this active space may not result in the same <S^2> value as obtained on the single-reference starting point. More importantly, this implies that the inactive subspace will account for the difference between these two <S^2> values, possibly resulting in significant spin contamination in both subspaces. You should verify whether this is intentional/acceptable or whether your choice of active space can be improved. As a reference, here is the summed-absolute deviation of `S^T @ S` from the identity: 21.1094991911992\n"
     ]
    },
    {
     "name": "stdout",
     "output_type": "stream",
     "text": [
      "orbital_rotations:  15 \n",
      " [[0, 1], [0, 2], [0, 3], [0, 4], [0, 5], [1, 2], [1, 3], [1, 4], [1, 5], [2, 3], [2, 4], [2, 5], [3, 4], [3, 5], [4, 5]]\n",
      "self._parameters:  15 \n",
      " [-0.09110015  0.00447054  0.00136203  0.00928039 -0.10734545  0.11925808\n",
      "  0.12414339  0.00728634 -0.0495029   0.08667142  0.04412954  0.060259\n",
      "  0.04180319  0.06073912 -0.03269113]\n",
      "orbital_rotations:  15 \n",
      " [[0, 1], [0, 2], [0, 3], [0, 4], [0, 5], [1, 2], [1, 3], [1, 4], [1, 5], [2, 3], [2, 4], [2, 5], [3, 4], [3, 5], [4, 5]]\n",
      "self._parameters:  15 \n",
      " [-0.09110015  0.00447054  0.00136203  0.00928039 -0.10734545  0.11925808\n",
      "  0.12412339  0.00728634 -0.0495029   0.08667142  0.04412954  0.060259\n",
      "  0.04180319  0.06073912 -0.03269113]\n"
     ]
    },
    {
     "name": "stderr",
     "output_type": "stream",
     "text": [
      "The provided alpha-beta overlap matrix is NOT unitary! This can happen when the alpha- and beta-spin orbitals do not span the same space. To provide an example of what this means, consider an active space chosen from unrestricted-spin orbitals. Computing <S^2> within this active space may not result in the same <S^2> value as obtained on the single-reference starting point. More importantly, this implies that the inactive subspace will account for the difference between these two <S^2> values, possibly resulting in significant spin contamination in both subspaces. You should verify whether this is intentional/acceptable or whether your choice of active space can be improved. As a reference, here is the summed-absolute deviation of `S^T @ S` from the identity: 21.1094991911992\n",
      "The provided alpha-beta overlap matrix is NOT unitary! This can happen when the alpha- and beta-spin orbitals do not span the same space. To provide an example of what this means, consider an active space chosen from unrestricted-spin orbitals. Computing <S^2> within this active space may not result in the same <S^2> value as obtained on the single-reference starting point. More importantly, this implies that the inactive subspace will account for the difference between these two <S^2> values, possibly resulting in significant spin contamination in both subspaces. You should verify whether this is intentional/acceptable or whether your choice of active space can be improved. As a reference, here is the summed-absolute deviation of `S^T @ S` from the identity: 21.1094991911992\n"
     ]
    },
    {
     "name": "stdout",
     "output_type": "stream",
     "text": [
      "orbital_rotations:  15 \n",
      " [[0, 1], [0, 2], [0, 3], [0, 4], [0, 5], [1, 2], [1, 3], [1, 4], [1, 5], [2, 3], [2, 4], [2, 5], [3, 4], [3, 5], [4, 5]]\n",
      "self._parameters:  15 \n",
      " [-0.09110015  0.00447054  0.00136203  0.00928039 -0.10734545  0.11925808\n",
      "  0.12413339  0.00729634 -0.0495029   0.08667142  0.04412954  0.060259\n",
      "  0.04180319  0.06073912 -0.03269113]\n",
      "orbital_rotations:  15 \n",
      " [[0, 1], [0, 2], [0, 3], [0, 4], [0, 5], [1, 2], [1, 3], [1, 4], [1, 5], [2, 3], [2, 4], [2, 5], [3, 4], [3, 5], [4, 5]]\n",
      "self._parameters:  15 \n",
      " [-0.09110015  0.00447054  0.00136203  0.00928039 -0.10734545  0.11925808\n",
      "  0.12413339  0.00727634 -0.0495029   0.08667142  0.04412954  0.060259\n",
      "  0.04180319  0.06073912 -0.03269113]\n"
     ]
    },
    {
     "name": "stderr",
     "output_type": "stream",
     "text": [
      "The provided alpha-beta overlap matrix is NOT unitary! This can happen when the alpha- and beta-spin orbitals do not span the same space. To provide an example of what this means, consider an active space chosen from unrestricted-spin orbitals. Computing <S^2> within this active space may not result in the same <S^2> value as obtained on the single-reference starting point. More importantly, this implies that the inactive subspace will account for the difference between these two <S^2> values, possibly resulting in significant spin contamination in both subspaces. You should verify whether this is intentional/acceptable or whether your choice of active space can be improved. As a reference, here is the summed-absolute deviation of `S^T @ S` from the identity: 21.1094991911992\n",
      "The provided alpha-beta overlap matrix is NOT unitary! This can happen when the alpha- and beta-spin orbitals do not span the same space. To provide an example of what this means, consider an active space chosen from unrestricted-spin orbitals. Computing <S^2> within this active space may not result in the same <S^2> value as obtained on the single-reference starting point. More importantly, this implies that the inactive subspace will account for the difference between these two <S^2> values, possibly resulting in significant spin contamination in both subspaces. You should verify whether this is intentional/acceptable or whether your choice of active space can be improved. As a reference, here is the summed-absolute deviation of `S^T @ S` from the identity: 21.1094991911992\n"
     ]
    },
    {
     "name": "stdout",
     "output_type": "stream",
     "text": [
      "orbital_rotations:  15 \n",
      " [[0, 1], [0, 2], [0, 3], [0, 4], [0, 5], [1, 2], [1, 3], [1, 4], [1, 5], [2, 3], [2, 4], [2, 5], [3, 4], [3, 5], [4, 5]]\n",
      "self._parameters:  15 \n",
      " [-0.09110015  0.00447054  0.00136203  0.00928039 -0.10734545  0.11925808\n",
      "  0.12413339  0.00728634 -0.0494929   0.08667142  0.04412954  0.060259\n",
      "  0.04180319  0.06073912 -0.03269113]\n",
      "orbital_rotations:  15 \n",
      " [[0, 1], [0, 2], [0, 3], [0, 4], [0, 5], [1, 2], [1, 3], [1, 4], [1, 5], [2, 3], [2, 4], [2, 5], [3, 4], [3, 5], [4, 5]]\n",
      "self._parameters:  15 \n",
      " [-0.09110015  0.00447054  0.00136203  0.00928039 -0.10734545  0.11925808\n",
      "  0.12413339  0.00728634 -0.0495129   0.08667142  0.04412954  0.060259\n",
      "  0.04180319  0.06073912 -0.03269113]\n"
     ]
    },
    {
     "name": "stderr",
     "output_type": "stream",
     "text": [
      "The provided alpha-beta overlap matrix is NOT unitary! This can happen when the alpha- and beta-spin orbitals do not span the same space. To provide an example of what this means, consider an active space chosen from unrestricted-spin orbitals. Computing <S^2> within this active space may not result in the same <S^2> value as obtained on the single-reference starting point. More importantly, this implies that the inactive subspace will account for the difference between these two <S^2> values, possibly resulting in significant spin contamination in both subspaces. You should verify whether this is intentional/acceptable or whether your choice of active space can be improved. As a reference, here is the summed-absolute deviation of `S^T @ S` from the identity: 21.1094991911992\n",
      "The provided alpha-beta overlap matrix is NOT unitary! This can happen when the alpha- and beta-spin orbitals do not span the same space. To provide an example of what this means, consider an active space chosen from unrestricted-spin orbitals. Computing <S^2> within this active space may not result in the same <S^2> value as obtained on the single-reference starting point. More importantly, this implies that the inactive subspace will account for the difference between these two <S^2> values, possibly resulting in significant spin contamination in both subspaces. You should verify whether this is intentional/acceptable or whether your choice of active space can be improved. As a reference, here is the summed-absolute deviation of `S^T @ S` from the identity: 21.1094991911992\n"
     ]
    },
    {
     "name": "stdout",
     "output_type": "stream",
     "text": [
      "orbital_rotations:  15 \n",
      " [[0, 1], [0, 2], [0, 3], [0, 4], [0, 5], [1, 2], [1, 3], [1, 4], [1, 5], [2, 3], [2, 4], [2, 5], [3, 4], [3, 5], [4, 5]]\n",
      "self._parameters:  15 \n",
      " [-0.09110015  0.00447054  0.00136203  0.00928039 -0.10734545  0.11925808\n",
      "  0.12413339  0.00728634 -0.0495029   0.08668142  0.04412954  0.060259\n",
      "  0.04180319  0.06073912 -0.03269113]\n",
      "orbital_rotations:  15 \n",
      " [[0, 1], [0, 2], [0, 3], [0, 4], [0, 5], [1, 2], [1, 3], [1, 4], [1, 5], [2, 3], [2, 4], [2, 5], [3, 4], [3, 5], [4, 5]]\n",
      "self._parameters:  15 \n",
      " [-0.09110015  0.00447054  0.00136203  0.00928039 -0.10734545  0.11925808\n",
      "  0.12413339  0.00728634 -0.0495029   0.08666142  0.04412954  0.060259\n",
      "  0.04180319  0.06073912 -0.03269113]\n"
     ]
    },
    {
     "name": "stderr",
     "output_type": "stream",
     "text": [
      "The provided alpha-beta overlap matrix is NOT unitary! This can happen when the alpha- and beta-spin orbitals do not span the same space. To provide an example of what this means, consider an active space chosen from unrestricted-spin orbitals. Computing <S^2> within this active space may not result in the same <S^2> value as obtained on the single-reference starting point. More importantly, this implies that the inactive subspace will account for the difference between these two <S^2> values, possibly resulting in significant spin contamination in both subspaces. You should verify whether this is intentional/acceptable or whether your choice of active space can be improved. As a reference, here is the summed-absolute deviation of `S^T @ S` from the identity: 21.1094991911992\n",
      "The provided alpha-beta overlap matrix is NOT unitary! This can happen when the alpha- and beta-spin orbitals do not span the same space. To provide an example of what this means, consider an active space chosen from unrestricted-spin orbitals. Computing <S^2> within this active space may not result in the same <S^2> value as obtained on the single-reference starting point. More importantly, this implies that the inactive subspace will account for the difference between these two <S^2> values, possibly resulting in significant spin contamination in both subspaces. You should verify whether this is intentional/acceptable or whether your choice of active space can be improved. As a reference, here is the summed-absolute deviation of `S^T @ S` from the identity: 21.1094991911992\n"
     ]
    },
    {
     "name": "stdout",
     "output_type": "stream",
     "text": [
      "orbital_rotations:  15 \n",
      " [[0, 1], [0, 2], [0, 3], [0, 4], [0, 5], [1, 2], [1, 3], [1, 4], [1, 5], [2, 3], [2, 4], [2, 5], [3, 4], [3, 5], [4, 5]]\n",
      "self._parameters:  15 \n",
      " [-0.09110015  0.00447054  0.00136203  0.00928039 -0.10734545  0.11925808\n",
      "  0.12413339  0.00728634 -0.0495029   0.08667142  0.04413954  0.060259\n",
      "  0.04180319  0.06073912 -0.03269113]\n",
      "orbital_rotations:  15 \n",
      " [[0, 1], [0, 2], [0, 3], [0, 4], [0, 5], [1, 2], [1, 3], [1, 4], [1, 5], [2, 3], [2, 4], [2, 5], [3, 4], [3, 5], [4, 5]]\n",
      "self._parameters:  15 \n",
      " [-0.09110015  0.00447054  0.00136203  0.00928039 -0.10734545  0.11925808\n",
      "  0.12413339  0.00728634 -0.0495029   0.08667142  0.04411954  0.060259\n",
      "  0.04180319  0.06073912 -0.03269113]\n"
     ]
    },
    {
     "name": "stderr",
     "output_type": "stream",
     "text": [
      "The provided alpha-beta overlap matrix is NOT unitary! This can happen when the alpha- and beta-spin orbitals do not span the same space. To provide an example of what this means, consider an active space chosen from unrestricted-spin orbitals. Computing <S^2> within this active space may not result in the same <S^2> value as obtained on the single-reference starting point. More importantly, this implies that the inactive subspace will account for the difference between these two <S^2> values, possibly resulting in significant spin contamination in both subspaces. You should verify whether this is intentional/acceptable or whether your choice of active space can be improved. As a reference, here is the summed-absolute deviation of `S^T @ S` from the identity: 21.1094991911992\n",
      "The provided alpha-beta overlap matrix is NOT unitary! This can happen when the alpha- and beta-spin orbitals do not span the same space. To provide an example of what this means, consider an active space chosen from unrestricted-spin orbitals. Computing <S^2> within this active space may not result in the same <S^2> value as obtained on the single-reference starting point. More importantly, this implies that the inactive subspace will account for the difference between these two <S^2> values, possibly resulting in significant spin contamination in both subspaces. You should verify whether this is intentional/acceptable or whether your choice of active space can be improved. As a reference, here is the summed-absolute deviation of `S^T @ S` from the identity: 21.1094991911992\n"
     ]
    },
    {
     "name": "stdout",
     "output_type": "stream",
     "text": [
      "orbital_rotations:  15 \n",
      " [[0, 1], [0, 2], [0, 3], [0, 4], [0, 5], [1, 2], [1, 3], [1, 4], [1, 5], [2, 3], [2, 4], [2, 5], [3, 4], [3, 5], [4, 5]]\n",
      "self._parameters:  15 \n",
      " [-0.09110015  0.00447054  0.00136203  0.00928039 -0.10734545  0.11925808\n",
      "  0.12413339  0.00728634 -0.0495029   0.08667142  0.04412954  0.060269\n",
      "  0.04180319  0.06073912 -0.03269113]\n",
      "orbital_rotations:  15 \n",
      " [[0, 1], [0, 2], [0, 3], [0, 4], [0, 5], [1, 2], [1, 3], [1, 4], [1, 5], [2, 3], [2, 4], [2, 5], [3, 4], [3, 5], [4, 5]]\n",
      "self._parameters:  15 \n",
      " [-0.09110015  0.00447054  0.00136203  0.00928039 -0.10734545  0.11925808\n",
      "  0.12413339  0.00728634 -0.0495029   0.08667142  0.04412954  0.060249\n",
      "  0.04180319  0.06073912 -0.03269113]\n"
     ]
    },
    {
     "name": "stderr",
     "output_type": "stream",
     "text": [
      "The provided alpha-beta overlap matrix is NOT unitary! This can happen when the alpha- and beta-spin orbitals do not span the same space. To provide an example of what this means, consider an active space chosen from unrestricted-spin orbitals. Computing <S^2> within this active space may not result in the same <S^2> value as obtained on the single-reference starting point. More importantly, this implies that the inactive subspace will account for the difference between these two <S^2> values, possibly resulting in significant spin contamination in both subspaces. You should verify whether this is intentional/acceptable or whether your choice of active space can be improved. As a reference, here is the summed-absolute deviation of `S^T @ S` from the identity: 21.1094991911992\n",
      "The provided alpha-beta overlap matrix is NOT unitary! This can happen when the alpha- and beta-spin orbitals do not span the same space. To provide an example of what this means, consider an active space chosen from unrestricted-spin orbitals. Computing <S^2> within this active space may not result in the same <S^2> value as obtained on the single-reference starting point. More importantly, this implies that the inactive subspace will account for the difference between these two <S^2> values, possibly resulting in significant spin contamination in both subspaces. You should verify whether this is intentional/acceptable or whether your choice of active space can be improved. As a reference, here is the summed-absolute deviation of `S^T @ S` from the identity: 21.1094991911992\n"
     ]
    },
    {
     "name": "stdout",
     "output_type": "stream",
     "text": [
      "orbital_rotations:  15 \n",
      " [[0, 1], [0, 2], [0, 3], [0, 4], [0, 5], [1, 2], [1, 3], [1, 4], [1, 5], [2, 3], [2, 4], [2, 5], [3, 4], [3, 5], [4, 5]]\n",
      "self._parameters:  15 \n",
      " [-0.09110015  0.00447054  0.00136203  0.00928039 -0.10734545  0.11925808\n",
      "  0.12413339  0.00728634 -0.0495029   0.08667142  0.04412954  0.060259\n",
      "  0.04181319  0.06073912 -0.03269113]\n",
      "orbital_rotations:  15 \n",
      " [[0, 1], [0, 2], [0, 3], [0, 4], [0, 5], [1, 2], [1, 3], [1, 4], [1, 5], [2, 3], [2, 4], [2, 5], [3, 4], [3, 5], [4, 5]]\n",
      "self._parameters:  15 \n",
      " [-0.09110015  0.00447054  0.00136203  0.00928039 -0.10734545  0.11925808\n",
      "  0.12413339  0.00728634 -0.0495029   0.08667142  0.04412954  0.060259\n",
      "  0.04179319  0.06073912 -0.03269113]\n"
     ]
    },
    {
     "name": "stderr",
     "output_type": "stream",
     "text": [
      "The provided alpha-beta overlap matrix is NOT unitary! This can happen when the alpha- and beta-spin orbitals do not span the same space. To provide an example of what this means, consider an active space chosen from unrestricted-spin orbitals. Computing <S^2> within this active space may not result in the same <S^2> value as obtained on the single-reference starting point. More importantly, this implies that the inactive subspace will account for the difference between these two <S^2> values, possibly resulting in significant spin contamination in both subspaces. You should verify whether this is intentional/acceptable or whether your choice of active space can be improved. As a reference, here is the summed-absolute deviation of `S^T @ S` from the identity: 21.1094991911992\n",
      "The provided alpha-beta overlap matrix is NOT unitary! This can happen when the alpha- and beta-spin orbitals do not span the same space. To provide an example of what this means, consider an active space chosen from unrestricted-spin orbitals. Computing <S^2> within this active space may not result in the same <S^2> value as obtained on the single-reference starting point. More importantly, this implies that the inactive subspace will account for the difference between these two <S^2> values, possibly resulting in significant spin contamination in both subspaces. You should verify whether this is intentional/acceptable or whether your choice of active space can be improved. As a reference, here is the summed-absolute deviation of `S^T @ S` from the identity: 21.1094991911992\n"
     ]
    },
    {
     "name": "stdout",
     "output_type": "stream",
     "text": [
      "orbital_rotations:  15 \n",
      " [[0, 1], [0, 2], [0, 3], [0, 4], [0, 5], [1, 2], [1, 3], [1, 4], [1, 5], [2, 3], [2, 4], [2, 5], [3, 4], [3, 5], [4, 5]]\n",
      "self._parameters:  15 \n",
      " [-0.09110015  0.00447054  0.00136203  0.00928039 -0.10734545  0.11925808\n",
      "  0.12413339  0.00728634 -0.0495029   0.08667142  0.04412954  0.060259\n",
      "  0.04180319  0.06074912 -0.03269113]\n",
      "orbital_rotations:  15 \n",
      " [[0, 1], [0, 2], [0, 3], [0, 4], [0, 5], [1, 2], [1, 3], [1, 4], [1, 5], [2, 3], [2, 4], [2, 5], [3, 4], [3, 5], [4, 5]]\n",
      "self._parameters:  15 \n",
      " [-0.09110015  0.00447054  0.00136203  0.00928039 -0.10734545  0.11925808\n",
      "  0.12413339  0.00728634 -0.0495029   0.08667142  0.04412954  0.060259\n",
      "  0.04180319  0.06072912 -0.03269113]\n"
     ]
    },
    {
     "name": "stderr",
     "output_type": "stream",
     "text": [
      "The provided alpha-beta overlap matrix is NOT unitary! This can happen when the alpha- and beta-spin orbitals do not span the same space. To provide an example of what this means, consider an active space chosen from unrestricted-spin orbitals. Computing <S^2> within this active space may not result in the same <S^2> value as obtained on the single-reference starting point. More importantly, this implies that the inactive subspace will account for the difference between these two <S^2> values, possibly resulting in significant spin contamination in both subspaces. You should verify whether this is intentional/acceptable or whether your choice of active space can be improved. As a reference, here is the summed-absolute deviation of `S^T @ S` from the identity: 21.1094991911992\n",
      "The provided alpha-beta overlap matrix is NOT unitary! This can happen when the alpha- and beta-spin orbitals do not span the same space. To provide an example of what this means, consider an active space chosen from unrestricted-spin orbitals. Computing <S^2> within this active space may not result in the same <S^2> value as obtained on the single-reference starting point. More importantly, this implies that the inactive subspace will account for the difference between these two <S^2> values, possibly resulting in significant spin contamination in both subspaces. You should verify whether this is intentional/acceptable or whether your choice of active space can be improved. As a reference, here is the summed-absolute deviation of `S^T @ S` from the identity: 21.1094991911992\n"
     ]
    },
    {
     "name": "stdout",
     "output_type": "stream",
     "text": [
      "orbital_rotations:  15 \n",
      " [[0, 1], [0, 2], [0, 3], [0, 4], [0, 5], [1, 2], [1, 3], [1, 4], [1, 5], [2, 3], [2, 4], [2, 5], [3, 4], [3, 5], [4, 5]]\n",
      "self._parameters:  15 \n",
      " [-0.09110015  0.00447054  0.00136203  0.00928039 -0.10734545  0.11925808\n",
      "  0.12413339  0.00728634 -0.0495029   0.08667142  0.04412954  0.060259\n",
      "  0.04180319  0.06073912 -0.03268113]\n",
      "orbital_rotations:  15 \n",
      " [[0, 1], [0, 2], [0, 3], [0, 4], [0, 5], [1, 2], [1, 3], [1, 4], [1, 5], [2, 3], [2, 4], [2, 5], [3, 4], [3, 5], [4, 5]]\n",
      "self._parameters:  15 \n",
      " [-0.09110015  0.00447054  0.00136203  0.00928039 -0.10734545  0.11925808\n",
      "  0.12413339  0.00728634 -0.0495029   0.08667142  0.04412954  0.060259\n",
      "  0.04180319  0.06073912 -0.03270113]\n"
     ]
    },
    {
     "name": "stderr",
     "output_type": "stream",
     "text": [
      "The provided alpha-beta overlap matrix is NOT unitary! This can happen when the alpha- and beta-spin orbitals do not span the same space. To provide an example of what this means, consider an active space chosen from unrestricted-spin orbitals. Computing <S^2> within this active space may not result in the same <S^2> value as obtained on the single-reference starting point. More importantly, this implies that the inactive subspace will account for the difference between these two <S^2> values, possibly resulting in significant spin contamination in both subspaces. You should verify whether this is intentional/acceptable or whether your choice of active space can be improved. As a reference, here is the summed-absolute deviation of `S^T @ S` from the identity: 21.1094991911992\n"
     ]
    },
    {
     "name": "stdout",
     "output_type": "stream",
     "text": [
      "result:  {   'aux_operator_eigenvalues': {   'AngularMomentum': (np.float64(0.0), {}),\n",
      "                                    'Magnetization': (np.float64(0.0), {}),\n",
      "                                    'ParticleNumber': (   np.float64(3.999999999999912),\n",
      "                                                          {}),\n",
      "                                    'XDipole': (np.float64(0.0), {}),\n",
      "                                    'YDipole': (np.float64(0.0), {}),\n",
      "                                    'ZDipole': (   np.float64(3.2071328461409556),\n",
      "                                                   {})},\n",
      "    'aux_operators_evaluated': None,\n",
      "    'cost_function_evals': 25,\n",
      "    'eigenvalue': np.complex128(-10.50378078881403+0j),\n",
      "    'optimal_circuit': None,\n",
      "    'optimal_parameters': {   ParameterVectorElement(t[5]): np.float64(-0.08369363153872576),\n",
      "                              ParameterVectorElement(t[2]): np.float64(-0.000531105278839553),\n",
      "                              ParameterVectorElement(t[3]): np.float64(-0.008243841214923229),\n",
      "                              ParameterVectorElement(t[1]): np.float64(-0.0005013086577736463),\n",
      "                              ParameterVectorElement(t[6]): np.float64(-0.08377692702215082),\n",
      "                              ParameterVectorElement(t[0]): np.float64(-0.00425856758109699),\n",
      "                              ParameterVectorElement(t[7]): np.float64(-0.08052418787325402),\n",
      "                              ParameterVectorElement(t[4]): np.float64(-0.019547850378033027)},\n",
      "    'optimal_point': array([-0.00425857, -0.00050131, -0.00053111, -0.00824384, -0.01954785,\n",
      "       -0.08369363, -0.08377693, -0.08052419, -0.09110015,  0.00447054,\n",
      "        0.00136203,  0.00928039, -0.10734545,  0.11925808,  0.12413339,\n",
      "        0.00728634, -0.0495029 ,  0.08667142,  0.04412954,  0.060259  ,\n",
      "        0.04180319,  0.06073912, -0.03269113]),\n",
      "    'optimal_value': np.float64(-10.50378078881403),\n",
      "    'optimizer_evals': None,\n",
      "    'optimizer_result': None,\n",
      "    'optimizer_time': 284.69003891944885}\n",
      "[  1  ] -------------------------------------------------------------------------------------------------- \n",
      "=== GROUND STATE ENERGY ===\n",
      " \n",
      "* Electronic ground state energy (Hartree): -10.503780788814\n",
      "  - computed part:      -10.503780788814\n",
      "~ Nuclear repulsion energy (Hartree): 2.6458860546\n",
      "> Total ground state energy (Hartree): -7.857894734214\n",
      " \n",
      "=== MEASURED OBSERVABLES ===\n",
      " \n",
      " \n",
      "=== DIPOLE MOMENTS ===\n",
      " \n",
      "~ Nuclear dipole moment (a.u.): [0.0  0.0  1.13383567]\n",
      " \n"
     ]
    }
   ],
   "source": [
    "oovqe_result = ooVQE_solver.solve(driver, problem)\n",
    "\n",
    "print(oovqe_result) # 4min 46s per una sola distanza!"
   ]
  },
  {
   "cell_type": "code",
   "execution_count": 10,
   "metadata": {},
   "outputs": [
    {
     "name": "stdout",
     "output_type": "stream",
     "text": [
      "1:  -7.85789473421403\n"
     ]
    }
   ],
   "source": [
    "total = oovqe_result.groundenergy + oovqe_result.nuclear_repulsion_energy \n",
    "print ('1: ', total)\n"
   ]
  },
  {
   "cell_type": "code",
   "execution_count": null,
   "metadata": {},
   "outputs": [],
   "source": []
  }
 ],
 "metadata": {
  "kernelspec": {
   "display_name": "cwq",
   "language": "python",
   "name": "python3"
  },
  "language_info": {
   "codemirror_mode": {
    "name": "ipython",
    "version": 3
   },
   "file_extension": ".py",
   "mimetype": "text/x-python",
   "name": "python",
   "nbconvert_exporter": "python",
   "pygments_lexer": "ipython3",
   "version": "3.12.5"
  }
 },
 "nbformat": 4,
 "nbformat_minor": 2
}
